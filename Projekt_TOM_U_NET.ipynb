{
  "nbformat": 4,
  "nbformat_minor": 0,
  "metadata": {
    "colab": {
      "name": "Projekt_TOM_U-NET",
      "provenance": [],
      "collapsed_sections": [],
      "include_colab_link": true
    },
    "kernelspec": {
      "name": "python3",
      "display_name": "Python 3"
    }
  },
  "cells": [
    {
      "cell_type": "markdown",
      "metadata": {
        "id": "view-in-github",
        "colab_type": "text"
      },
      "source": [
        "<a href=\"https://colab.research.google.com/github/kowalski-k/projekt_TOM/blob/master/Projekt_TOM_U_NET.ipynb\" target=\"_parent\"><img src=\"https://colab.research.google.com/assets/colab-badge.svg\" alt=\"Open In Colab\"/></a>"
      ]
    },
    {
      "cell_type": "markdown",
      "metadata": {
        "id": "x1Ev303FnCAf",
        "colab_type": "text"
      },
      "source": [
        "# Importowanie używanych bibliotek"
      ]
    },
    {
      "cell_type": "code",
      "metadata": {
        "id": "Tv7KTSPQnIvY",
        "colab_type": "code",
        "colab": {}
      },
      "source": [
        "import tensorflow as tf\n",
        "import matplotlib.pyplot as plt\n",
        "import numpy as np\n",
        "import os\n",
        "\n",
        "#sprawdzenie używanej wersji tensorflow\n",
        "print(tf.__version__)"
      ],
      "execution_count": 0,
      "outputs": []
    },
    {
      "cell_type": "markdown",
      "metadata": {
        "id": "NXfSC5DqnRoC",
        "colab_type": "text"
      },
      "source": [
        "# Pobranie danych i zapoznanie się z nimi"
      ]
    },
    {
      "cell_type": "code",
      "metadata": {
        "id": "iut9Qm7qna5J",
        "colab_type": "code",
        "colab": {}
      },
      "source": [
        "#pobieranie danych\n",
        "! curl -s https://packagecloud.io/install/repositories/github/git-lfs/script.deb.sh | sudo bash\n",
        "! sudo apt-get install git-lfs\n",
        "! git lfs install\n",
        "! git clone https://github.com/neheller/kits19.git \n",
        "%cd kits19\n",
        "! python -m starter_code.get_imaging\n",
        "!git checkout feature/google-colab\n",
        "!make"
      ],
      "execution_count": 0,
      "outputs": []
    },
    {
      "cell_type": "code",
      "metadata": {
        "id": "WEd6A1Nqne_z",
        "colab_type": "code",
        "colab": {}
      },
      "source": [
        "#wczytanie danych dla jednego wybranego pacjenta\n",
        "from starter_code.utils import load_case\n",
        "volume, segmentation = load_case(\"case_00113\")"
      ],
      "execution_count": 0,
      "outputs": []
    },
    {
      "cell_type": "code",
      "metadata": {
        "id": "hVzuLPc9n8SM",
        "colab_type": "code",
        "colab": {}
      },
      "source": [
        "#wizualizacja nowotworów i nerek na tle obrazu CT (zobaczyć jedynie jak działa, przyda się na końcu)\n",
        "'''\n",
        "visualize(\"case_00113\", \"case_113\")\n",
        "''' "
      ],
      "execution_count": 0,
      "outputs": []
    },
    {
      "cell_type": "code",
      "metadata": {
        "id": "IJW8gCsYoNBU",
        "colab_type": "code",
        "colab": {}
      },
      "source": [
        "#wyodrębnienie i obrazowanie segementation\n",
        "segmentation = segmentation.get_fdata()\n",
        "(a,x,y) = segmentation.shape\n",
        "for i in range(0,a,1):\n",
        "  plt.figure()\n",
        "  plt.imshow(segmentation[i],'gray')\n",
        "  plt.title(i)"
      ],
      "execution_count": 0,
      "outputs": []
    },
    {
      "cell_type": "code",
      "metadata": {
        "id": "sRQA8-Myoojr",
        "colab_type": "code",
        "colab": {}
      },
      "source": [
        "#wyodrębnienie i wczytywanie \"czystych\" obrazow bez zaznaczen (volume)\n",
        "volume = volume.get_fdata()\n",
        "(a,x,y) = volume.shape\n",
        "for i in range(0,a,1):\n",
        "  plt.figure()\n",
        "  plt.imshow(volume[i],'gray')\n",
        "  plt.title(i)"
      ],
      "execution_count": 0,
      "outputs": []
    },
    {
      "cell_type": "code",
      "metadata": {
        "id": "Xbx9QZf0oyYs",
        "colab_type": "code",
        "colab": {}
      },
      "source": [
        "#zdobycie przydatnych w późniejszej części informacji o segmentation\n",
        "i = 19\n",
        "print(segmentation.shape)\n",
        "print(type(segmentation[i]))\n",
        "print(np.amax(segmentation[i]))\n",
        "print(np.amin(segmentation[i]))\n",
        "print(segmentation[i])\n",
        "plt.imshow(segmentation[i],'gray')"
      ],
      "execution_count": 0,
      "outputs": []
    },
    {
      "cell_type": "code",
      "metadata": {
        "id": "vysiC0WFpGp6",
        "colab_type": "code",
        "colab": {}
      },
      "source": [
        "#zdobycie przydatnych w późniejszej części informacji o volume\n",
        "print(volume.shape)\n",
        "print(type(volume[0]))\n",
        "print(np.amax(volume[0]))\n",
        "print(np.amin(volume[0]))\n",
        "print(volume[0])\n",
        "plt.imshow(volume[0],'gray')"
      ],
      "execution_count": 0,
      "outputs": []
    },
    {
      "cell_type": "markdown",
      "metadata": {
        "id": "-pTcoGSarU9t",
        "colab_type": "text"
      },
      "source": [
        "# Przygotowanie danych do trenowania\n"
      ]
    },
    {
      "cell_type": "code",
      "metadata": {
        "id": "GLq7Cv-1zxYp",
        "colab_type": "code",
        "colab": {}
      },
      "source": [
        "#pierwsze 210 pacjentow ma posegmentowane nerki i nowotwory. Do trenowania uzyjemy jedynie 5 case'ów ze względu na to,\n",
        "#że przy próbie wczytania większej ilości występuje błąd związany z brakiem odpowiedniej ilości pamięci RAM\n",
        "\n",
        "all_volumes = []\n",
        "all_segmentations = []\n",
        "\n",
        "for i in range(5):\n",
        "  volume, segmentation = load_case(i+5)\n",
        "  segmentation = segmentation.get_fdata()\n",
        "  volume = volume.get_fdata()\n",
        "  all_volumes.append(volume)\n",
        "  all_segmentations.append(segmentation)"
      ],
      "execution_count": 0,
      "outputs": []
    },
    {
      "cell_type": "code",
      "metadata": {
        "id": "rUOUXBDp0KAo",
        "colab_type": "code",
        "colab": {}
      },
      "source": [
        "#wczytanie obrazow bez oznaczen do jednej listy\n",
        "volumes = []\n",
        "\n",
        "for one_volume in all_volumes:\n",
        "  (a,y,x) = one_volume.shape\n",
        "  for i in range(0,a,1):\n",
        "    volumes.append(one_volume[i])"
      ],
      "execution_count": 0,
      "outputs": []
    },
    {
      "cell_type": "code",
      "metadata": {
        "id": "x1mlait20Y6n",
        "colab_type": "code",
        "colab": {}
      },
      "source": [
        "#wczytanie masek dla nowotworow do jednej listy \n",
        "\n",
        "kidney = []\n",
        "tumor = []\n",
        "\n",
        "numbers_of_slice_kidney = []\n",
        "numbers_of_slice_tumor = []\n",
        "\n",
        "\n",
        "\n",
        "for one_segmentation in all_segmentations:\n",
        "  (a,y,x) = one_segmentation.shape\n",
        "  for i in range(0,a,1):\n",
        "    for y_col in range(0,y,1):\n",
        "      for x_row in range(0,x,1):\n",
        "        if (one_segmentation[i][y_col][x_row] == 2):\n",
        "          tumor.append(one_segmentation[i])\n",
        "          numbers_of_slice_tumor.append(i)\n",
        "          break\n",
        "      else:\n",
        "        continue\n",
        "      break"
      ],
      "execution_count": 0,
      "outputs": []
    },
    {
      "cell_type": "code",
      "metadata": {
        "id": "lD_tFyXS0dJN",
        "colab_type": "code",
        "colab": {}
      },
      "source": [
        "#wczytanie masek dla nerek do jednej\n",
        "\n",
        "for one_segmentation in all_segmentations:\n",
        "  (a,y,x) = one_segmentation.shape\n",
        "  for i in range(0,a,1):\n",
        "    for y_col in range(0,y,1):\n",
        "      for x_row in range(0,x,1):\n",
        "        if (one_segmentation[i][y_col][x_row] == 1):\n",
        "          kidney.append(one_segmentation[i])\n",
        "          numbers_of_slice_kidney.append(i)\n",
        "          break\n",
        "      else:\n",
        "        continue\n",
        "      break"
      ],
      "execution_count": 0,
      "outputs": []
    },
    {
      "cell_type": "code",
      "metadata": {
        "id": "5yeEcLMm0_sR",
        "colab_type": "code",
        "colab": {}
      },
      "source": [
        "#wyznaczenie masek tylko dla wartosci nerek albo tylko wartosci nowotworow\n",
        "#usunieto wartosci dla nerki w masce nowotworow i odwrotnie dla maski nerek \n",
        "\n",
        "for i in range(len(kidney)):\n",
        "  for y_col in range(len(kidney[i])):\n",
        "    for x_row in range(len(kidney[i][y_col])):\n",
        "      if (kidney[i][y_col][x_row] == 2):\n",
        "        kidney[i][y_col][x_row] = 0\n",
        "\n",
        "\n",
        "for i in range(len(tumor)):\n",
        "  for y_col in range(len(tumor[i])):\n",
        "    for x_row in range(len(tumor[i][y_col])):\n",
        "      if (tumor[i][y_col][x_row] == 1):\n",
        "        tumor[i][y_col][x_row] = 0\n",
        "      elif (tumor[i][y_col][x_row] == 2):\n",
        "        tumor[i][y_col][x_row] = 1"
      ],
      "execution_count": 0,
      "outputs": []
    },
    {
      "cell_type": "code",
      "metadata": {
        "id": "QQYLTp361fU9",
        "colab_type": "code",
        "colab": {}
      },
      "source": [
        "#przygotowanie macierzy na trening\n",
        "X_train = []\n",
        "Y_train = []\n",
        "\n",
        "#uzupełenie macierzy obrazami + zamiana rozmiaru obrazów z (512,512) na (512,512,1)\n",
        "for i in range(len(kidney)):\n",
        "  #volume\n",
        "  img_volume = volumes[numbers_of_slice_kidney[i]]\n",
        "  img_volume_new_shape = np.expand_dims(img_volume,axis=-1)\n",
        "  X_train.append(img_volume_new_shape)\n",
        "  #kidney\n",
        "  img_kindey = kidney[i]\n",
        "  img_kidney_new_shape = np.expand_dims(img_kindey,axis=-1)\n",
        "  Y_train.append(img_kidney_new_shape)\n",
        "\n",
        "#bez normalizacji\n",
        "X_train = np.asarray(X_train)\n",
        "\n",
        "#wybrane przekroje (volume) należy znormalizować do wartości [0,1]\n",
        "for i in range(len(X_train)):\n",
        "  X_train[i] = (X_train[i]-np.amin(X_train[i]))/(np.amax(X_train[i])-np.amin(X_train[i]))\n",
        "\n",
        "#finalne przygotowane macierze do treningu\n",
        "X_train = np.asarray(X_train)\n",
        "Y_train = np.asarray(Y_train)\n",
        "\n",
        "#informacje\n",
        "print(X_train.shape)\n",
        "print(Y_train.shape)\n",
        "print(numbers_of_slice_kidney)\n",
        "print(numbers_of_slice_tumor)"
      ],
      "execution_count": 0,
      "outputs": []
    },
    {
      "cell_type": "markdown",
      "metadata": {
        "id": "hTwLjBj3-OOj",
        "colab_type": "text"
      },
      "source": [
        "# Architektura U-Net"
      ]
    },
    {
      "cell_type": "code",
      "metadata": {
        "id": "lJsHxwHx-Zri",
        "colab_type": "code",
        "colab": {}
      },
      "source": [
        "#obraz wejsciowy \n",
        "image_width = 512\n",
        "image_height = 512\n",
        "image_channels = 1 \n",
        "inputs = tf.keras.layers.Input((image_width,image_height,image_channels))\n",
        "\n",
        "#sciezka skurczu\n",
        "#1\n",
        "convolution1 = tf.keras.layers.Conv2D(64, (3,3), padding='same', activation='relu', kernel_initializer='he_normal')(inputs)\n",
        "convolution1 = tf.keras.layers.Dropout(0.1)(convolution1)\n",
        "convolution1 = tf.keras.layers.Conv2D(64, (3,3), padding='same', activation='relu', kernel_initializer='he_normal')(convolution1)\n",
        "max_pooling1 = tf.keras.layers.MaxPooling2D((2,2))(convolution1)\n",
        "#2\n",
        "convolution2 = tf.keras.layers.Conv2D(128, (3,3), padding='same', activation='relu', kernel_initializer='he_normal')(max_pooling1)\n",
        "convolution2 = tf.keras.layers.Dropout(0.1)(convolution2)\n",
        "convolution2 = tf.keras.layers.Conv2D(128, (3,3), padding='same', activation='relu', kernel_initializer='he_normal')(convolution2)\n",
        "max_pooling2 = tf.keras.layers.MaxPooling2D((2,2))(convolution2)\n",
        "#3\n",
        "convolution3 = tf.keras.layers.Conv2D(256, (3,3), padding='same', activation='relu', kernel_initializer='he_normal')(max_pooling2)\n",
        "convolution3 = tf.keras.layers.Dropout(0.1)(convolution3)\n",
        "convolution3 = tf.keras.layers.Conv2D(256, (3,3), padding='same', activation='relu', kernel_initializer='he_normal')(convolution3)\n",
        "max_pooling3 = tf.keras.layers.MaxPooling2D((2,2))(convolution3)\n",
        "#4\n",
        "convolution4 = tf.keras.layers.Conv2D(512, (3,3), padding='same', activation='relu', kernel_initializer='he_normal')(max_pooling3)\n",
        "convolution4 = tf.keras.layers.Dropout(0.1)(convolution4)\n",
        "convolution4 = tf.keras.layers.Conv2D(512, (3,3), padding='same', activation='relu', kernel_initializer='he_normal')(convolution4)\n",
        "max_pooling4 = tf.keras.layers.MaxPooling2D((2,2))(convolution4)\n",
        "#5 - ostatnia (bez MaxPooling)\n",
        "convolution5 = tf.keras.layers.Conv2D(1024, (3,3), padding='same', activation='relu', kernel_initializer='he_normal')(max_pooling4)\n",
        "convolution5 = tf.keras.layers.Dropout(0.1)(convolution5)\n",
        "convolution5 = tf.keras.layers.Conv2D(1024, (3,3), padding='same', activation='relu', kernel_initializer='he_normal')(convolution5)\n",
        "\n",
        "#sciezka ekspansji\n",
        "#6 \n",
        "up_convolution6 = tf.keras.layers.Conv2DTranspose(512, (3,3), strides=(2,2), padding='same')(convolution5)\n",
        "up_convolution6 = tf.keras.layers.concatenate([up_convolution6, convolution4])\n",
        "convolution6 = tf.keras.layers.Conv2D(512, (3,3), padding='same', activation='relu', kernel_initializer='he_normal')(up_convolution6)\n",
        "convolution6 = tf.keras.layers.Dropout(0.1)(convolution6)\n",
        "convolution6 = tf.keras.layers.Conv2D(512, (3,3), padding='same', activation='relu', kernel_initializer='he_normal')(convolution6)\n",
        "#7\n",
        "up_convolution7 = tf.keras.layers.Conv2DTranspose(256, (3,3), strides=(2,2), padding='same')(convolution6)\n",
        "up_convolution7 = tf.keras.layers.concatenate([up_convolution7, convolution3])\n",
        "convolution7 = tf.keras.layers.Conv2D(256, (3,3), padding='same', activation='relu', kernel_initializer='he_normal')(up_convolution7)\n",
        "convolution7 = tf.keras.layers.Dropout(0.1)(convolution7)\n",
        "convolution7 = tf.keras.layers.Conv2D(256, (3,3), padding='same', activation='relu', kernel_initializer='he_normal')(convolution7)\n",
        "#8\n",
        "up_convolution8 = tf.keras.layers.Conv2DTranspose(128, (3,3), strides=(2,2), padding='same')(convolution7)\n",
        "up_convolution8 = tf.keras.layers.concatenate([up_convolution8, convolution2])\n",
        "convolution8 = tf.keras.layers.Conv2D(128, (3,3), padding='same', activation='relu', kernel_initializer='he_normal')(up_convolution8)\n",
        "convolution8 = tf.keras.layers.Dropout(0.1)(convolution8)\n",
        "convolution8 = tf.keras.layers.Conv2D(128, (3,3), padding='same', activation='relu', kernel_initializer='he_normal')(convolution8)\n",
        "#9\n",
        "up_convolution9 = tf.keras.layers.Conv2DTranspose(64, (3,3), strides=(2,2), padding='same')(convolution8)\n",
        "up_convolution9 = tf.keras.layers.concatenate([up_convolution9, convolution1], axis=3)\n",
        "convolution9 = tf.keras.layers.Conv2D(64, (3,3), padding='same', activation='relu', kernel_initializer='he_normal')(up_convolution9)\n",
        "convolution9 = tf.keras.layers.Dropout(0.1)(convolution9)\n",
        "convolution9 = tf.keras.layers.Conv2D(64, (3,3), padding='same', activation='relu', kernel_initializer='he_normal')(convolution9)\n",
        "\n",
        "outputs = tf.keras.layers.Conv2D(1, (1,1), activation='sigmoid')(convolution9)"
      ],
      "execution_count": 0,
      "outputs": []
    },
    {
      "cell_type": "code",
      "metadata": {
        "id": "FlUqpcyb_PpJ",
        "colab_type": "code",
        "colab": {}
      },
      "source": [
        "#optymalizacja\n",
        "model = tf.keras.Model(inputs=[inputs], outputs=[outputs])\n",
        "model.compile(optimizer='adam', loss='binary_crossentropy', metrics='accuracy')\n",
        "model.summary()"
      ],
      "execution_count": 0,
      "outputs": []
    },
    {
      "cell_type": "markdown",
      "metadata": {
        "id": "dCt2AGz8ESs8",
        "colab_type": "text"
      },
      "source": [
        "# Trenowanie sieci do wykrywania nerek"
      ]
    },
    {
      "cell_type": "code",
      "metadata": {
        "id": "ZW8iiqurEXsJ",
        "colab_type": "code",
        "colab": {}
      },
      "source": [
        "#dodatkowe paramtery do szybszego kończenia uczenia\n",
        "callbacks = [\n",
        "             tf.keras.callbacks.EarlyStopping(patience=2, monitor='val_loss', mode='min'),\n",
        "             tf.keras.callbacks.TensorBoard(log_dir='logs'),\n",
        "             tf.keras.callbacks.ModelCheckpoint('model.h5', verbose=1, save_best_only=True)\n",
        "             ]"
      ],
      "execution_count": 0,
      "outputs": []
    },
    {
      "cell_type": "code",
      "metadata": {
        "id": "an7Bzfb3Ehf6",
        "colab_type": "code",
        "colab": {}
      },
      "source": [
        "#nauka (batch_size tylko 1, bo na więcej nie staracza RAMu)\n",
        "results = model.fit(X_train , Y_train, validation_split=0.1, verbose=1, epochs=5, batch_size = 1, callbacks = callbacks)"
      ],
      "execution_count": 0,
      "outputs": []
    },
    {
      "cell_type": "markdown",
      "metadata": {
        "id": "Ryka38K_E4m6",
        "colab_type": "text"
      },
      "source": [
        "# Testowanie sieci"
      ]
    },
    {
      "cell_type": "code",
      "metadata": {
        "id": "gq1U__abFA-b",
        "colab_type": "code",
        "colab": {}
      },
      "source": [
        "#załadowanie obrazów testowych - X_test"
      ],
      "execution_count": 0,
      "outputs": []
    },
    {
      "cell_type": "code",
      "metadata": {
        "id": "GDrqYrrFFXgt",
        "colab_type": "code",
        "colab": {}
      },
      "source": [
        "#przewidywanie\n",
        "#prediction = model.predict(X_test, batch_size=1 , verbose=1)\n",
        "#zakładamy, że prawdopodobieństwo powyżej 50% pozwala na dopasowanie piksela do klasy\n",
        "#prediction_bin = (preds_val > 0.5)"
      ],
      "execution_count": 0,
      "outputs": []
    },
    {
      "cell_type": "code",
      "metadata": {
        "id": "TycRJH5sFruS",
        "colab_type": "code",
        "colab": {}
      },
      "source": [
        "#wizualizacja \n",
        "#przywrócenie do wejściowego kształtu\n",
        "#prediction_reshaped = np.reshape(prediction_bin,(512,512))\n",
        "#zobrazowwanie prediction\n",
        "#plt.figure()\n",
        "#plt.imshow(prediction_reshaped,'gray')\n",
        "\n",
        "#obecnie za małe prawdopodobieństwa (max.10%), trzeba popracować, żeby sieć była mądrzejsza "
      ],
      "execution_count": 0,
      "outputs": []
    }
  ]
}