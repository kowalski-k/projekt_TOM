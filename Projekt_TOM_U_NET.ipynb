{
  "nbformat": 4,
  "nbformat_minor": 0,
  "metadata": {
    "colab": {
      "name": "Projekt_TOM_U-NET",
      "provenance": [],
      "collapsed_sections": [],
      "include_colab_link": true
    },
    "kernelspec": {
      "name": "python3",
      "display_name": "Python 3"
    }
  },
  "cells": [
    {
      "cell_type": "markdown",
      "metadata": {
        "id": "view-in-github",
        "colab_type": "text"
      },
      "source": [
        "<a href=\"https://colab.research.google.com/github/kowalski-k/projekt_TOM/blob/master/Projekt_TOM_U_NET.ipynb\" target=\"_parent\"><img src=\"https://colab.research.google.com/assets/colab-badge.svg\" alt=\"Open In Colab\"/></a>"
      ]
    },
    {
      "cell_type": "markdown",
      "metadata": {
        "id": "x1Ev303FnCAf",
        "colab_type": "text"
      },
      "source": [
        "# Importowanie używanych bibliotek"
      ]
    },
    {
      "cell_type": "code",
      "metadata": {
        "id": "Tv7KTSPQnIvY",
        "colab_type": "code",
        "colab": {}
      },
      "source": [
        "import tensorflow as tf\n",
        "import matplotlib.pyplot as plt\n",
        "import numpy as np\n",
        "import os\n",
        "\n",
        "#sprawdzenie używanej wersji tensorflow\n",
        "print(tf.__version__)"
      ],
      "execution_count": 0,
      "outputs": []
    },
    {
      "cell_type": "markdown",
      "metadata": {
        "id": "NXfSC5DqnRoC",
        "colab_type": "text"
      },
      "source": [
        "# Pobranie danych i zapoznanie się z nimi"
      ]
    },
    {
      "cell_type": "code",
      "metadata": {
        "id": "iut9Qm7qna5J",
        "colab_type": "code",
        "colab": {}
      },
      "source": [
        "#pobieranie danych\n",
        "! curl -s https://packagecloud.io/install/repositories/github/git-lfs/script.deb.sh | sudo bash\n",
        "! sudo apt-get install git-lfs\n",
        "! git lfs install\n",
        "! git clone https://github.com/neheller/kits19.git \n",
        "%cd kits19\n",
        "! python -m starter_code.get_imaging\n",
        "!git checkout feature/google-colab\n",
        "!make"
      ],
      "execution_count": 0,
      "outputs": []
    },
    {
      "cell_type": "code",
      "metadata": {
        "id": "WEd6A1Nqne_z",
        "colab_type": "code",
        "colab": {}
      },
      "source": [
        "#wczytanie danych dla jednego wybranego pacjenta\n",
        "from starter_code.utils import load_case\n",
        "volume, segmentation = load_case(\"case_00113\")"
      ],
      "execution_count": 0,
      "outputs": []
    },
    {
      "cell_type": "code",
      "metadata": {
        "id": "hVzuLPc9n8SM",
        "colab_type": "code",
        "colab": {}
      },
      "source": [
        "#wizualizacja nowotworów i nerek na tle obrazu CT (zobaczyć jedynie jak działa, przyda się na końcu)\n",
        "'''\n",
        "visualize(\"case_00113\", \"case_113\")\n",
        "''' "
      ],
      "execution_count": 0,
      "outputs": []
    },
    {
      "cell_type": "code",
      "metadata": {
        "id": "IJW8gCsYoNBU",
        "colab_type": "code",
        "colab": {}
      },
      "source": [
        "#wyodrębnienie i obrazowanie segementation\n",
        "segmentation = segmentation.get_fdata()\n",
        "(a,x,y) = segmentation.shape\n",
        "for i in range(0,a,1):\n",
        "  plt.figure()\n",
        "  plt.imshow(segmentation[i],'gray')\n",
        "  plt.title(i)"
      ],
      "execution_count": 0,
      "outputs": []
    },
    {
      "cell_type": "code",
      "metadata": {
        "id": "sRQA8-Myoojr",
        "colab_type": "code",
        "colab": {}
      },
      "source": [
        "#wyodrębnienie i wczytywanie \"czystych\" obrazow bez zaznaczen (volume)\n",
        "volume = volume.get_fdata()\n",
        "(a,x,y) = volume.shape\n",
        "for i in range(0,a,1):\n",
        "  plt.figure()\n",
        "  plt.imshow(volume[i],'gray')\n",
        "  plt.title(i)"
      ],
      "execution_count": 0,
      "outputs": []
    },
    {
      "cell_type": "code",
      "metadata": {
        "id": "Xbx9QZf0oyYs",
        "colab_type": "code",
        "colab": {}
      },
      "source": [
        "#zdobycie przydatnych w późniejszej części informacji o segmentation\n",
        "i = 19\n",
        "print(segmentation.shape)\n",
        "print(type(segmentation[i]))\n",
        "print(np.amax(segmentation[i]))\n",
        "print(np.amin(segmentation[i]))\n",
        "print(segmentation[i])\n",
        "plt.imshow(segmentation[i],'gray')"
      ],
      "execution_count": 0,
      "outputs": []
    },
    {
      "cell_type": "code",
      "metadata": {
        "id": "vysiC0WFpGp6",
        "colab_type": "code",
        "colab": {}
      },
      "source": [
        "#zdobycie przydatnych w późniejszej części informacji o volume\n",
        "print(volume.shape)\n",
        "print(type(volume[0]))\n",
        "print(np.amax(volume[0]))\n",
        "print(np.amin(volume[0]))\n",
        "print(volume[0])\n",
        "plt.imshow(volume[0],'gray')"
      ],
      "execution_count": 0,
      "outputs": []
    },
    {
      "cell_type": "markdown",
      "metadata": {
        "id": "-pTcoGSarU9t",
        "colab_type": "text"
      },
      "source": [
        "# Przygotowanie danych do trenowania\n"
      ]
    },
    {
      "cell_type": "code",
      "metadata": {
        "id": "GLq7Cv-1zxYp",
        "colab_type": "code",
        "colab": {}
      },
      "source": [
        "#pierwsze 210 pacjentow ma posegmentowane nerki i nowotwory. Do trenowania uzyjemy jedynie 5 case'ów ze względu na to,\n",
        "#że przy próbie wczytania większej ilości występuje błąd związany z brakiem odpowiedniej ilości pamięci RAM\n",
        "\n",
        "all_volumes = []\n",
        "all_segmentations = []\n",
        "\n",
        "for i in range(5):\n",
        "  volume, segmentation = load_case(i+5)\n",
        "  segmentation = segmentation.get_fdata()\n",
        "  volume = volume.get_fdata()\n",
        "  all_volumes.append(volume)\n",
        "  all_segmentations.append(segmentation)"
      ],
      "execution_count": 0,
      "outputs": []
    },
    {
      "cell_type": "code",
      "metadata": {
        "id": "rUOUXBDp0KAo",
        "colab_type": "code",
        "colab": {}
      },
      "source": [
        "#wczytanie obrazow bez oznaczen do jednej listy\n",
        "volumes = []\n",
        "\n",
        "for one_volume in all_volumes:\n",
        "  (a,y,x) = one_volume.shape\n",
        "  for i in range(0,a,1):\n",
        "    volumes.append(one_volume[i])"
      ],
      "execution_count": 0,
      "outputs": []
    },
    {
      "cell_type": "code",
      "metadata": {
        "id": "x1mlait20Y6n",
        "colab_type": "code",
        "colab": {}
      },
      "source": [
        "#wczytanie masek dla nowotworow do jednej listy \n",
        "\n",
        "kidney = []\n",
        "tumor = []\n",
        "\n",
        "numbers_of_slice_kidney = []\n",
        "numbers_of_slice_tumor = []\n",
        "\n",
        "\n",
        "\n",
        "for one_segmentation in all_segmentations:\n",
        "  (a,y,x) = one_segmentation.shape\n",
        "  for i in range(0,a,1):\n",
        "    for y_col in range(0,y,1):\n",
        "      for x_row in range(0,x,1):\n",
        "        if (one_segmentation[i][y_col][x_row] == 2):\n",
        "          tumor.append(one_segmentation[i])\n",
        "          numbers_of_slice_tumor.append(i)\n",
        "          break\n",
        "      else:\n",
        "        continue\n",
        "      break"
      ],
      "execution_count": 0,
      "outputs": []
    },
    {
      "cell_type": "code",
      "metadata": {
        "id": "lD_tFyXS0dJN",
        "colab_type": "code",
        "colab": {}
      },
      "source": [
        "#wczytanie masek dla nerek do jednej\n",
        "\n",
        "for one_segmentation in all_segmentations:\n",
        "  (a,y,x) = one_segmentation.shape\n",
        "  for i in range(0,a,1):\n",
        "    for y_col in range(0,y,1):\n",
        "      for x_row in range(0,x,1):\n",
        "        if (one_segmentation[i][y_col][x_row] == 1):\n",
        "          kidney.append(one_segmentation[i])\n",
        "          numbers_of_slice_kidney.append(i)\n",
        "          break\n",
        "      else:\n",
        "        continue\n",
        "      break"
      ],
      "execution_count": 0,
      "outputs": []
    },
    {
      "cell_type": "code",
      "metadata": {
        "id": "5yeEcLMm0_sR",
        "colab_type": "code",
        "colab": {}
      },
      "source": [
        "#wyznaczenie masek tylko dla wartosci nerek albo tylko wartosci nowotworow\n",
        "#usunieto wartosci dla nerki w masce nowotworow i odwrotnie dla maski nerek \n",
        "\n",
        "for i in range(len(kidney)):\n",
        "  for y_col in range(len(kidney[i])):\n",
        "    for x_row in range(len(kidney[i][y_col])):\n",
        "      if (kidney[i][y_col][x_row] == 2):\n",
        "        kidney[i][y_col][x_row] = 0\n",
        "\n",
        "\n",
        "for i in range(len(tumor)):\n",
        "  for y_col in range(len(tumor[i])):\n",
        "    for x_row in range(len(tumor[i][y_col])):\n",
        "      if (tumor[i][y_col][x_row] == 1):\n",
        "        tumor[i][y_col][x_row] = 0\n",
        "      elif (tumor[i][y_col][x_row] == 2):\n",
        "        tumor[i][y_col][x_row] = 1"
      ],
      "execution_count": 0,
      "outputs": []
    },
    {
      "cell_type": "code",
      "metadata": {
        "id": "QQYLTp361fU9",
        "colab_type": "code",
        "colab": {}
      },
      "source": [
        "#przygotowanie macierzy na trening\n",
        "X_train = []\n",
        "Y_train = []\n",
        "\n",
        "#uzupełenie macierzy obrazami + zamiana rozmiaru obrazów z (512,512) na (512,512,1)\n",
        "for i in range(len(kidney)):\n",
        "  #volume\n",
        "  img_volume = volumes[numbers_of_slice_kidney[i]]\n",
        "  img_volume_new_shape = np.expand_dims(img_volume,axis=-1)\n",
        "  X_train.append(img_volume_new_shape)\n",
        "  #kidney\n",
        "  img_kindey = kidney[i]\n",
        "  img_kidney_new_shape = np.expand_dims(img_kindey,axis=-1)\n",
        "  Y_train.append(img_kidney_new_shape)\n",
        "\n",
        "#bez normalizacji\n",
        "X_train = np.asarray(X_train)\n",
        "\n",
        "#wybrane przekroje (volume) należy znormalizować do wartości [0,1]\n",
        "for i in range(len(X_train)):\n",
        "  X_train[i] = (X_train[i]-np.amin(X_train[i]))/(np.amax(X_train[i])-np.amin(X_train[i]))\n",
        "\n",
        "#finalne przygotowane macierze do treningu\n",
        "X_train = np.asarray(X_train)\n",
        "Y_train = np.asarray(Y_train)\n",
        "\n",
        "#informacje\n",
        "print(X_train.shape)\n",
        "print(Y_train.shape)\n",
        "print(numbers_of_slice_kidney)\n",
        "print(numbers_of_slice_tumor)"
      ],
      "execution_count": 0,
      "outputs": []
    }
  ]
}