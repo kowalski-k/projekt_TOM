{
  "nbformat": 4,
  "nbformat_minor": 0,
  "metadata": {
    "colab": {
      "name": "Projekt_TOM_U-NET",
      "provenance": [],
      "collapsed_sections": [],
      "include_colab_link": true
    },
    "kernelspec": {
      "name": "python3",
      "display_name": "Python 3"
    }
  },
  "cells": [
    {
      "cell_type": "markdown",
      "metadata": {
        "id": "view-in-github",
        "colab_type": "text"
      },
      "source": [
        "<a href=\"https://colab.research.google.com/github/kowalski-k/projekt_TOM/blob/master/Projekt_TOM_U_NET.ipynb\" target=\"_parent\"><img src=\"https://colab.research.google.com/assets/colab-badge.svg\" alt=\"Open In Colab\"/></a>"
      ]
    },
    {
      "cell_type": "markdown",
      "metadata": {
        "id": "x1Ev303FnCAf",
        "colab_type": "text"
      },
      "source": [
        "# Importowanie używanych bibliotek"
      ]
    },
    {
      "cell_type": "code",
      "metadata": {
        "id": "Tv7KTSPQnIvY",
        "colab_type": "code",
        "colab": {}
      },
      "source": [
        "import tensorflow as tf\n",
        "import matplotlib.pyplot as plt\n",
        "import numpy as np\n",
        "import os\n",
        "\n",
        "#sprawdzenie używanej wersji tensorflow\n",
        "print(tf.__version__)"
      ],
      "execution_count": 0,
      "outputs": []
    },
    {
      "cell_type": "markdown",
      "metadata": {
        "id": "NXfSC5DqnRoC",
        "colab_type": "text"
      },
      "source": [
        "# Pobranie danych i zapoznanie się z nimi"
      ]
    },
    {
      "cell_type": "code",
      "metadata": {
        "id": "iut9Qm7qna5J",
        "colab_type": "code",
        "colab": {}
      },
      "source": [
        "#pobieranie danych\n",
        "! curl -s https://packagecloud.io/install/repositories/github/git-lfs/script.deb.sh | sudo bash\n",
        "! sudo apt-get install git-lfs\n",
        "! git lfs install\n",
        "! git clone https://github.com/neheller/kits19.git \n",
        "%cd kits19\n",
        "! python -m starter_code.get_imaging\n",
        "!git checkout feature/google-colab\n",
        "!make"
      ],
      "execution_count": 0,
      "outputs": []
    },
    {
      "cell_type": "code",
      "metadata": {
        "id": "WEd6A1Nqne_z",
        "colab_type": "code",
        "colab": {}
      },
      "source": [
        "#wczytanie danych dla jednego wybranego pacjenta\n",
        "from starter_code.utils import load_case\n",
        "volume, segmentation = load_case(\"case_00113\")"
      ],
      "execution_count": 0,
      "outputs": []
    },
    {
      "cell_type": "code",
      "metadata": {
        "id": "hVzuLPc9n8SM",
        "colab_type": "code",
        "colab": {}
      },
      "source": [
        "#wizualizacja nowotworów i nerek na tle obrazu CT (zobaczyć jedynie jak działa, przyda się na końcu)\n",
        "'''\n",
        "visualize(\"case_00113\", \"case_113\")\n",
        "''' "
      ],
      "execution_count": 0,
      "outputs": []
    },
    {
      "cell_type": "code",
      "metadata": {
        "id": "IJW8gCsYoNBU",
        "colab_type": "code",
        "colab": {}
      },
      "source": [
        "#wyodrębnienie i obrazowanie segementation\n",
        "segmentation = segmentation.get_fdata()\n",
        "(a,x,y) = segmentation.shape\n",
        "for i in range(0,a,1):\n",
        "  plt.figure()\n",
        "  plt.imshow(segmentation[i],'gray')\n",
        "  plt.title(i)"
      ],
      "execution_count": 0,
      "outputs": []
    },
    {
      "cell_type": "code",
      "metadata": {
        "id": "sRQA8-Myoojr",
        "colab_type": "code",
        "colab": {}
      },
      "source": [
        "#wyodrębnienie i wczytywanie \"czystych\" obrazow bez zaznaczen (volume)\n",
        "volume = volume.get_fdata()\n",
        "(a,x,y) = volume.shape\n",
        "for i in range(0,a,1):\n",
        "  plt.figure()\n",
        "  plt.imshow(volume[i],'gray')\n",
        "  plt.title(i)"
      ],
      "execution_count": 0,
      "outputs": []
    },
    {
      "cell_type": "code",
      "metadata": {
        "id": "Xbx9QZf0oyYs",
        "colab_type": "code",
        "colab": {}
      },
      "source": [
        "#zdobycie przydatnych w późniejszej części informacji o segmentation\n",
        "i = 19\n",
        "print(segmentation.shape)\n",
        "print(type(segmentation[i]))\n",
        "print(np.amax(segmentation[i]))\n",
        "print(np.amin(segmentation[i]))\n",
        "print(segmentation[i])\n",
        "plt.imshow(segmentation[i],'gray')"
      ],
      "execution_count": 0,
      "outputs": []
    },
    {
      "cell_type": "code",
      "metadata": {
        "id": "vysiC0WFpGp6",
        "colab_type": "code",
        "colab": {}
      },
      "source": [
        "#zdobycie przydatnych w późniejszej części informacji o volume\n",
        "print(volume.shape)\n",
        "print(type(volume[0]))\n",
        "print(np.amax(volume[0]))\n",
        "print(np.amin(volume[0]))\n",
        "print(volume[0])\n",
        "plt.imshow(volume[0],'gray')"
      ],
      "execution_count": 0,
      "outputs": []
    }
  ]
}