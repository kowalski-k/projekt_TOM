{
  "nbformat": 4,
  "nbformat_minor": 0,
  "metadata": {
    "colab": {
      "name": "U-net",
      "provenance": [],
      "collapsed_sections": [],
      "authorship_tag": "ABX9TyNP2o4qW6D8llSXYpBdIzrC",
      "include_colab_link": true
    },
    "kernelspec": {
      "name": "python3",
      "display_name": "Python 3"
    }
  },
  "cells": [
    {
      "cell_type": "markdown",
      "metadata": {
        "id": "view-in-github",
        "colab_type": "text"
      },
      "source": [
        "<a href=\"https://colab.research.google.com/github/kowalski-k/projekt_TOM/blob/master/U_net.ipynb\" target=\"_parent\"><img src=\"https://colab.research.google.com/assets/colab-badge.svg\" alt=\"Open In Colab\"/></a>"
      ]
    },
    {
      "cell_type": "code",
      "metadata": {
        "id": "4I9Ct80RmIeL",
        "colab_type": "code",
        "colab": {}
      },
      "source": [
        "import tensorflow as tf"
      ],
      "execution_count": 0,
      "outputs": []
    },
    {
      "cell_type": "code",
      "metadata": {
        "id": "A0yBtRDVmKwJ",
        "colab_type": "code",
        "colab": {}
      },
      "source": [
        "###architektura sieci\n",
        "\n",
        "#obraz wejsciowy \n",
        "image_width = 512\n",
        "image_height = 512\n",
        "image_channels = 3\n",
        "inputs = tf.keras.layers.Input((image_width,image_height,image_channels))\n",
        "\n",
        "##warstwy skurcz\n",
        "#1\n",
        "convolution1 = tf.keras.layers.Conv2D(64, (3,3), padding='same', activation='relu', kernel_initializer='he_normal')(inputs)\n",
        "convolution1 = tf.keras.layers.Dropout(0.1)(convolution1)\n",
        "convolution1 = tf.keras.layers.Conv2D(64, (3,3), padding='same', activation='relu', kernel_initializer='he_normal')(convolution1)\n",
        "max_pooling1 = tf.keras.layers.MaxPooling2D((2,2))(convolution1)\n",
        "#2\n",
        "convolution2 = tf.keras.layers.Conv2D(128, (3,3), padding='same', activation='relu', kernel_initializer='he_normal')(max_pooling1)\n",
        "convolution2 = tf.keras.layers.Dropout(0.1)(convolution2)\n",
        "convolution2 = tf.keras.layers.Conv2D(128, (3,3), padding='same', activation='relu', kernel_initializer='he_normal')(convolution2)\n",
        "max_pooling2 = tf.keras.layers.MaxPooling2D((2,2))(convolution2)\n",
        "#3\n",
        "convolution3 = tf.keras.layers.Conv2D(256, (3,3), padding='same', activation='relu', kernel_initializer='he_normal')(max_pooling2)\n",
        "convolution3 = tf.keras.layers.Dropout(0.1)(convolution3)\n",
        "convolution3 = tf.keras.layers.Conv2D(256, (3,3), padding='same', activation='relu', kernel_initializer='he_normal')(convolution3)\n",
        "max_pooling3 = tf.keras.layers.MaxPooling2D((2,2))(convolution3)\n",
        "#4\n",
        "convolution4 = tf.keras.layers.Conv2D(512, (3,3), padding='same', activation='relu', kernel_initializer='he_normal')(max_pooling3)\n",
        "convolution4 = tf.keras.layers.Dropout(0.1)(convolution4)\n",
        "convolution4 = tf.keras.layers.Conv2D(512, (3,3), padding='same', activation='relu', kernel_initializer='he_normal')(convolution4)\n",
        "max_pooling4 = tf.keras.layers.MaxPooling2D((2,2))(convolution4)\n",
        "#5 - ostatnia (bez MaxPooling)\n",
        "convolution5 = tf.keras.layers.Conv2D(1024, (3,3), padding='same', activation='relu', kernel_initializer='he_normal')(max_pooling4)\n",
        "convolution5 = tf.keras.layers.Dropout(0.1)(convolution5)\n",
        "convolution5 = tf.keras.layers.Conv2D(1024, (3,3), padding='same', activation='relu', kernel_initializer='he_normal')(convolution5)\n"
      ],
      "execution_count": 0,
      "outputs": []
    },
    {
      "cell_type": "code",
      "metadata": {
        "id": "W-sYuwyYmToH",
        "colab_type": "code",
        "colab": {}
      },
      "source": [
        "##warstwy ekspansja\n",
        "#6 \n",
        "up_convolution6 = tf.keras.layers.Conv2DTranspose(512, (3,3), strides=(2,2), padding='same')(convolution5)\n",
        "up_convolution6 = tf.keras.layers.concatenate([up_convolution6, convolution4])\n",
        "convolution6 = tf.keras.layers.Conv2D(512, (3,3), padding='same', activation='relu', kernel_initializer='he_normal')(up_convolution6)\n",
        "convolution6 = tf.keras.layers.Dropout(0.1)(convolution6)\n",
        "convolution6 = tf.keras.layers.Conv2D(512, (3,3), padding='same', activation='relu', kernel_initializer='he_normal')(convolution6)\n",
        "#7\n",
        "up_convolution7 = tf.keras.layers.Conv2DTranspose(256, (3,3), strides=(2,2), padding='same')(convolution6)\n",
        "up_convolution7 = tf.keras.layers.concatenate([up_convolution7, convolution3])\n",
        "convolution7 = tf.keras.layers.Conv2D(256, (3,3), padding='same', activation='relu', kernel_initializer='he_normal')(up_convolution7)\n",
        "convolution7 = tf.keras.layers.Dropout(0.1)(convolution7)\n",
        "convolution7 = tf.keras.layers.Conv2D(256, (3,3), padding='same', activation='relu', kernel_initializer='he_normal')(convolution7)\n",
        "#8\n",
        "up_convolution8 = tf.keras.layers.Conv2DTranspose(128, (3,3), strides=(2,2), padding='same')(convolution7)\n",
        "up_convolution8 = tf.keras.layers.concatenate([up_convolution8, convolution2])\n",
        "convolution8 = tf.keras.layers.Conv2D(128, (3,3), padding='same', activation='relu', kernel_initializer='he_normal')(up_convolution8)\n",
        "convolution8 = tf.keras.layers.Dropout(0.1)(convolution8)\n",
        "convolution8 = tf.keras.layers.Conv2D(128, (3,3), padding='same', activation='relu', kernel_initializer='he_normal')(convolution8)\n",
        "#9\n",
        "up_convolution9 = tf.keras.layers.Conv2DTranspose(64, (3,3), strides=(2,2), padding='same')(convolution8)\n",
        "up_convolution9 = tf.keras.layers.concatenate([up_convolution9, convolution1], axis=3)\n",
        "convolution9 = tf.keras.layers.Conv2D(64, (3,3), padding='same', activation='relu', kernel_initializer='he_normal')(up_convolution9)\n",
        "convolution9 = tf.keras.layers.Dropout(0.1)(convolution9)\n",
        "convolution9 = tf.keras.layers.Conv2D(64, (3,3), padding='same', activation='relu', kernel_initializer='he_normal')(convolution9)\n"
      ],
      "execution_count": 0,
      "outputs": []
    },
    {
      "cell_type": "code",
      "metadata": {
        "id": "I0YN9lCEmcUL",
        "colab_type": "code",
        "colab": {}
      },
      "source": [
        "outputs = tf.keras.layers.Conv2D(1, (1,1), activation='sigmoid')(convolution9)"
      ],
      "execution_count": 0,
      "outputs": []
    }
  ]
}