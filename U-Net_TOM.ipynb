{
 "cells": [
  {
   "cell_type": "code",
   "execution_count": null,
   "metadata": {},
   "outputs": [],
   "source": [
    "#importowanie bibliotek\n",
    "import tensorflow as tf\n",
    "import matplotlib.pyplot as plt"
   ]
  },
  {
   "cell_type": "code",
   "execution_count": null,
   "metadata": {},
   "outputs": [],
   "source": [
    "#pobieranie danych\n",
    "! curl -s https://packagecloud.io/install/repositories/github/git-lfs/script.deb.sh | sudo bash\n",
    "! sudo apt-get install git-lfs\n",
    "! git lfs install\n",
    "! git clone https://github.com/neheller/kits19.git \n",
    "%cd kits19\n",
    "! python -m starter_code.get_imaging\n",
    "!git checkout feature/google-colab\n",
    "!make"
   ]
  },
  {
   "cell_type": "code",
   "execution_count": null,
   "metadata": {},
   "outputs": [],
   "source": [
    "#wizualizacja wszystkiego\n",
    "from starter_code.utils import load_case\n",
    "from starter_code.visualize import visualize\n",
    "\n",
    "volume, segmentation = load_case(\"case_00048\")\n",
    "visualize(\"case_00048\", \"case_48\")"
   ]
  },
  {
   "cell_type": "code",
   "execution_count": null,
   "metadata": {},
   "outputs": [],
   "source": [
    "#wczytywanie samych nerek i nowotowrow\n",
    "from starter_code.utils import load_case\n",
    "volume, segmentation = load_case(\"case_00113\")\n",
    "#segmentation\n",
    "segmentation = segmentation.get_fdata()\n",
    "(a,x,y) = segmentation.shape\n",
    "for i in range(0,a,1):\n",
    "  plt.figure()\n",
    "  plt.imshow(segmentation[i],'gray')\n",
    "  plt.title(i)"
   ]
  },
  {
   "cell_type": "code",
   "execution_count": null,
   "metadata": {},
   "outputs": [],
   "source": [
    "#wczytywanie \"czystych\" obrazow bez zaznaczen\n",
    "#volume\n",
    "volume = volume.get_fdata()\n",
    "(a,x,y) = volume.shape\n",
    "for i in range(0,a,1):\n",
    "  plt.figure()\n",
    "  plt.imshow(volume[i],'gray')\n",
    "  plt.title(i)"
   ]
  },
  {
   "cell_type": "code",
   "execution_count": null,
   "metadata": {},
   "outputs": [],
   "source": [
    "#selekcja obrazow\n",
    "#nie wiem czy powinnismy zrobic seleksje wsrod obrazow na te co zawieraja w sobie nerki i nowotowr i na te\n",
    "#co nie zawiera? te poczatkowe i koncowe zawieraja jedynie obraz, ktory traktujemy jako tlo, wiec moze powinnsmy\n",
    "#odrzucic te obrazy co nie maja nic uzytecznego bo w sumie nie wiem czego ma sie uczyc z nich nasz algorytm?\n",
    "#bo tutaj trzeba wybrac czy outputem w naszym modelu beda obiekty: tlo, nerka, nowotwor czy tylko nerka i nowotwor \n",
    "#mozemy sprobowac z tlem, mniej do roboty takto chyba bedzie a moze i madrzejsze bedzie przez to \n",
    "class_names = ['background', 'kidney', 'tumour'] #odpowiednik liczbowy: [0,1,2]"
   ]
  },
  {
   "cell_type": "code",
   "execution_count": null,
   "metadata": {},
   "outputs": [],
   "source": [
    "#podzial masek na nerki i nowotwory\n",
    "#druga sprawa to taka, ze nerki i nowotowry dali nam na jednym obrazie nie wiem czy przypadkiem nie powinnismy \n",
    "#rozdzielić ich tak żeby były oddzielne maski na nowotowry i oddzielne na nerki"
   ]
  }
 ],
 "metadata": {
  "kernelspec": {
   "display_name": "Python 3",
   "language": "python",
   "name": "python3"
  },
  "language_info": {
   "codemirror_mode": {
    "name": "ipython",
    "version": 3
   },
   "file_extension": ".py",
   "mimetype": "text/x-python",
   "name": "python",
   "nbconvert_exporter": "python",
   "pygments_lexer": "ipython3",
   "version": "3.7.0"
  }
 },
 "nbformat": 4,
 "nbformat_minor": 2
}
