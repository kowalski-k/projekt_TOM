{
  "nbformat": 4,
  "nbformat_minor": 0,
  "metadata": {
    "colab": {
      "name": "nauka_tumor.ipynb",
      "provenance": [],
      "collapsed_sections": [
        "TOOeSh6wmY8-",
        "h9aCokJzmnme",
        "kNEfj0iim2P-",
        "pTcVnG8LnE5e",
        "60_iqHVdnTjA",
        "jVEXLWcRniMf",
        "pb7qolSBnw2Z",
        "k61jIM__n_fh",
        "THlcXDFsoOJC",
        "5nfv0P4Docyl",
        "HgM4InnJorcH",
        "bHYEb9C2o6Fj",
        "vWlxwlLJpIvD",
        "tBbz_O0MpXYk",
        "br6IcmCIpmCE",
        "C7mD7Knqp0rk",
        "1Gr7gMaoqDVI",
        "G6chM2KOqR-p",
        "gZD85zv9qgoG",
        "8faqfdmnqvRn",
        "_OJQazBoq97N",
        "u9Y0g2o3rMko",
        "STnymnqprbOI",
        "sr3d3KFarp3n",
        "y6PdpVQrr4hI",
        "snVNFzd4sHKp",
        "P26FpWpxsV03",
        "Sh483YNmskdu",
        "_t88PbLfszHL",
        "_cv_KL18tBws",
        "PuqA8R21tQaM",
        "DXwgo3FBtfDt",
        "pYRxvfgrtttO",
        "kGbapUvbt8Wt",
        "3Ckn7VGGuLAO",
        "XpUy92NnuZpv",
        "c2lab2jBuoTP",
        "3eXzCO4Hu28v",
        "dUzBaTj7vFmP",
        "A_p1ifpnvUPw",
        "Qi1D2NWsvi5R",
        "b3H7ozzqvxix",
        "EzbsUGeZwAMS",
        "d2_IjjQDwO11",
        "Z5VJTwZSwdfS",
        "ycg9-fBTwsIy",
        "MiSZl4diw6yT",
        "wCydTKmdxJbz",
        "3lDOBtSfxYFY",
        "oophwbUQxmu1",
        "dE_UJuODx1YV",
        "iVSAxR-cyEB2",
        "8eXNnNFmySrY",
        "unNVAXY_yhU2",
        "jbX4jBrryv-X",
        "CP4DhLf7y-n4",
        "RA5RYXgTzNRw",
        "NbIUzOBxzb65",
        "HCV3owdnzqkZ",
        "kcwEawl1z5N6",
        "c1aZA-7P0H3Z",
        "7BEj4s6G0Wg5",
        "O7sTaWv30lKb",
        "XUodLCHu0zz7",
        "eePqgZ_31Cdf",
        "MQTPla4I1RG9",
        "w7Di9OU01fwd",
        "ibz45_O31uZ9",
        "PwUXLb-l19Db",
        "spOgZjDp2Ls-",
        "nzuG8IU-2aWf",
        "7KMbHc042o__",
        "J8lcGuro23pj",
        "28VTB7353GTA",
        "V7iQ7ACE3U8h",
        "jzMWmaah3jmB",
        "6q9ZwO3G3yPg",
        "f4QUUgiY4A5B",
        "swMDUQad4Pii",
        "XP-Nfycn4eMC",
        "Og5ejD5m4s1n",
        "ktNpYbYY47fF",
        "7mZYK7Pm5KIl",
        "tYPzXWBW5YyF",
        "4RZfsOI45nbq",
        "JAAvv9Nb52FH",
        "areh5hdU6EvH",
        "umqxZebK6TYH",
        "ugZd_yKL6iBo",
        "hP4PY3ZK6wrI",
        "FmZULBC36_Uo",
        "1-rIjbo87N-I",
        "Xk5aCrbD7cno",
        "t4HS23Hu7rRJ",
        "8LQmB8-g756q",
        "HpU-dvMD8IkL",
        "kmCgfSb18XNt",
        "U8Xj9v0Z8l3L",
        "kQfbUh3G80gs",
        "kBKseHGZ9DKM",
        "5M13A60H9Rzw",
        "HDW8EvMh9gdN",
        "5-Xjbhdx9vGu",
        "SIxpMFza99wO",
        "PTnIoSkh-MZu",
        "V9BreFb2-bDP",
        "fRqNLTPy-psw",
        "j-tY1flW-4WQ",
        "sOjLY3-4_G_1",
        "fllKdmZ3_VpR",
        "n6DvCWMg_kTB",
        "YCctGCNU_y8S",
        "BR4Y4QlhABmL",
        "LtIeJAzcAQPU",
        "FaAmUnpPAe45",
        "iM7KCGa1AtiT",
        "Hca8EhckA8L2",
        "FmS54osqBK1V",
        "wop0_lQ_BZe2",
        "Aeomwo2LBoIW",
        "nD8Sc36bB2x6",
        "-QnUpd0VCFbX",
        "9IRpIYwQCUE3",
        "BsmSQHgYCiuY",
        "wFQp93vZCxX4",
        "qfL8f5qhDABY",
        "74V-Qga9DOq_",
        "lHfezi9pDdUZ",
        "ZkgHGeYODr96",
        "FzmlWBplD6na",
        "3Na9VYsXEJQ6",
        "xqmC4mONEX6b",
        "wz0l67-8Emj8",
        "bblNRJTfE1bv",
        "Hc4YIMbxFD29",
        "F_7PJiOVFSgm",
        "6YoHv6tzFhKD",
        "p1ZuI6OiFvze",
        "YQMAb6WuF-c_",
        "0AQvbRQxGNGe",
        "PhEN5eOsGbwq",
        "sCe56SN6GqZi",
        "BP6st2bzG5DA",
        "MstCqks2HHsi",
        "66uVP8yZHWWB",
        "NOKg6vVcHk_l",
        "zT1xLujoHzpw",
        "ykY8LxFuICSl",
        "TvlWotf3IQ8E",
        "Ja0fIdUFIflk",
        "N1wm8hqmIuPE",
        "NONVs0eKI9G2",
        "OksDyAiXJLkW",
        "XTUFymm3JaY9",
        "oelCCUv2JpDe",
        "a7ibvGUVJ3s6",
        "mdcx9NeEKGWb",
        "K9oMRlvzKUyJ",
        "xaTy5Nu9Kjbd",
        "TBHc5GAuKyEp",
        "dcozPoJfLAuK",
        "_kJ8aI3TLPXq",
        "_tlt0CiaLeBL",
        "fp-k8wjKLsqr",
        "gJUvKynrL7UM",
        "z9jJ8ZOjMJ9q",
        "SBK_XShgMYnP",
        "DIe3nA-rMnQt",
        "OXPt6BaKM16N",
        "umhQ_eLaNEj2",
        "v49tHX9TNTNN",
        "MhXgP_rGNh2v",
        "OXCoFlugNwgS",
        "_he-U2s4N_Jv",
        "FnFa753HONzP",
        "wxDT7l2IOccv",
        "rb-8eY2DOrGQ",
        "WA245tM0O5vx",
        "dkVODAhIPIZR",
        "ybEzEj9YPXCy",
        "mFO6i0CnPlsT",
        "g9B9Bw4cP0Vz",
        "1TZmze74QC_U",
        "oBHCZyBeQRo1",
        "Ro-LHhHCQgSV",
        "9NCUTPF1Qu72",
        "Ir14j-wpQ9lW",
        "mMAXGKjcRMO3",
        "aWClGFnJRa4X",
        "e25f-IVoRph4",
        "l_Io5HKwR4LY",
        "krb3_KORSG04",
        "-OHyry8ASVeZ",
        "pgIMdX7XSkH5",
        "3-v-RLS8Syxa",
        "EAX0G0D2TBa3",
        "kymlgTjQTQEa",
        "lMwl2PzITet6",
        "iAhgmmmpTtXj",
        "DivF3AIBT8A7",
        "6qZ6yKWXUKqc",
        "wJSybHBLUZT8",
        "H6MsSCw4Un9d",
        "PY6F2D5JU2m-",
        "i80V3aDgVFQf",
        "CMPGa91tVT6C",
        "ezDsjo05Vijg",
        "5mivfpwfVxM_",
        "_HJjYMcXV_2h",
        "aPEErEwGWOgA",
        "8siCBsg0WdJi",
        "fhaUwAKEWrzC",
        "bUIgdfFEW6ch",
        "Mk62iPY9XJGD",
        "dEbE8DW8XXvj",
        "UQ2rv48VXmZD",
        "sl0-0tH3X1Cj",
        "uPUu89ojYDsE",
        "nhCHrfIqYSVk",
        "rUwo09m0Yg_J",
        "Jt7nyGy0Yvom",
        "LCP6aSNmY-SF",
        "e1DU2TSMZM7n",
        "V2g0K0_zZblH",
        "a2nYDaRyZqOl",
        "LAmwnh6-Z44I",
        "7z5Lad49aHiA",
        "7loRKhRSaWLJ",
        "oj8l8ONlak0p",
        "2odQHz9XazeN",
        "Pry99xUdbCHr",
        "X77whAQ1bQxL",
        "vKa_xXS7bfas",
        "CrVulTYfbuEP",
        "PEVgTD5Ab8uU",
        "ZsYz7K0VcLXN",
        "higBkq5DcaAx",
        "2NSlAO0RcoqO",
        "uD57sq8Rc3Tt",
        "zIFBNcbUdF9R",
        "GkO9nxBudUmv",
        "uNgInxNwdjQO",
        "TetH7BLsdx5w",
        "5bieVYAzeAjR",
        "ZlgjEMCAePMx",
        "Ox9ILE-ked2V",
        "geSuu_TTesfw",
        "3f-2AU71e7JS",
        "o088jMfHfJy0",
        "6WCpiSnzfYcR",
        "ECz_f7QKfnF0",
        "nOtHnr-Af1vU",
        "fwp5CLSTgEY0",
        "IMO4AcT5gTCY",
        "_jAiwqp4ghr0",
        "6HHm9fj2gwVU",
        "ADQwm7x6g--4",
        "mwa_4aLIhNoZ",
        "csJQ7_MIhcR4",
        "QqQrXt_ehq7X",
        "97bT3v55h5k3",
        "dah4_KHSiIOX",
        "05fJfsH-iW36",
        "6KVt-L5milhb",
        "sXcQhKCti0K5",
        "xxEY7_gBjC0b",
        "MLnZncELjRd8",
        "lDn9xr7sjgHc",
        "1-HsFd8Mjuw8",
        "C8Ini2bFj9af",
        "owjOiNt-kMD8",
        "jkv-AOoVkate",
        "e0H1lk1tkpW-",
        "kOH_eiNuk4Ah",
        "nRLmJcuzlGp_",
        "YUHw2dJXlVTn",
        "PYR-JTqqlj8-",
        "iBxRGKHJlymj",
        "5J8eTq7emBQX",
        "4fud7W9emP5h",
        "9xDRAtmMmejD",
        "bREhQG7nmtMi",
        "SLGQ0aJVm72D",
        "CFkAJToWnKfy",
        "J2l4e-4xnZJF",
        "z9ZHMNx-nnyo",
        "5-1HfxK3n2cD",
        "DrBT__i2oFGB",
        "oTD3Ov1RoTvJ",
        "v5fIUTH6oiYq",
        "8TuKs75koxCH",
        "B1lHLTaYo_rl",
        "dPmMOFWWpOVI",
        "OkboUgtrpc-m",
        "ruCabZmiproI",
        "rw1vzaHip6Ro",
        "Pi6Lg-HZqI7H",
        "aJkVWafuqXko",
        "mIp2FYASqmOf",
        "d7Qcarf8q03s",
        "c2ngbDzzrDhK",
        "mjzlM8_VrSKr",
        "peSXrd-Trg0L",
        "O0RmL9Uqrvds",
        "pQpIxJPJr-HO",
        "-zS8nzILsMww",
        "riqKOuQzsbae",
        "6yK7o7nZsqEF",
        "HhOFGm65s4tY",
        "pMvinx60tHWu",
        "iRxxFZyrtWAO",
        "XsHP-Mq_tkpz",
        "s6Y2YsPItzTd",
        "kQ3lq1gxuB81",
        "mBhcUO4ruQmi",
        "iuB6SWcWufP3",
        "q64-duXAut5y",
        "PzKyFWMBu8i5",
        "6y5yjqqevLMW",
        "5p0oYQ0zvZ10",
        "ki0RWsQPvofU",
        "uuuK_DYtv3I0",
        "D3WdZ9JfwFyU",
        "rSy_QSYIwUb1",
        "CqCvgo8MwjFf",
        "XWqUsh-Ewxu7",
        "V47PEOc9xAYi",
        "CAl9TBt5xPCW",
        "KTVz5tEuxdrh",
        "bHbtP6EKxsVM",
        "2D7Poh90x6-a",
        "VAS0vXuWyJoA",
        "sOObgIWsyYRk",
        "xj1s9vnQym64",
        "WCxMpEI0y1ka",
        "SIl1HHVFzEOK",
        "3wmWael_zS3i",
        "36jHwNsvzhg-",
        "H-qcEU8EzwKu",
        "xNrwVDjMz-0B",
        "4dYPp3b40Nd5",
        "4e9SDxOE0cG-",
        "Ha5URxIv0qw0",
        "DHmkjqN805aH",
        "5PEeslfo1IDg",
        "YyYyV21X1WtX",
        "Lv513pgt1lWi",
        "BYulguXA10AD",
        "Hl1TkbdN2CqA",
        "JgcYFsT52RTD",
        "M-NIX6rO2f9C",
        "zq5d3wxL2umG",
        "cZY_mPa-29Pn",
        "qXxp8or03L5J",
        "_7bRC92y3aim",
        "iZRRYaF-3pMF",
        "fstn6pNH331z",
        "QVioLjZZ4Gff",
        "61-TFckM4VIo",
        "OLZZyu7F4jyG",
        "unyC9VcP4ybr",
        "did5HG935BFM",
        "BNHXopYi5Pu_",
        "CylqZ2IJ5eYL",
        "yvwcSl8y5tBq",
        "qEk_QaC357rK",
        "TsbZ-ghh6KUq",
        "DNA8i9Kt6Y-L",
        "5evnEP8d6nnr",
        "tMxGZoCd62RN",
        "bpIAX6wc7E6v",
        "OFIzBbGm7TkO",
        "7gvSv9ll7iNy",
        "O5pnOzkv7w3P",
        "p0mXVPkK7_gw",
        "AHg73SQP8OKO",
        "mWcM_xzW8czy",
        "iMGxTNwS8rdV",
        "XEd0dEzZ86Gz",
        "Oq8dNDWa9IwT",
        "EbIYYL0t9XZx",
        "dYk9jW8v9mDU",
        "ibv4mZ4890s2",
        "gPR7rQDV-DW2",
        "kM9hXyBE-R_2",
        "hTB2_DGJ-gpT",
        "1ukk4X_e-vSy",
        "MjfTeECo-982",
        "e6D7YCd1_Ml0",
        "PHiEmC5x_bPZ",
        "SwowKZ03_p44",
        "jfwy3wz6_4iV",
        "xp0PObztAHL4",
        "B5iWOXCFAV1b",
        "mtsFOvwsAke5",
        "pN2V-_uSAzIZ",
        "f2ZaODCJBBx5",
        "P_oO9-Z_BQba",
        "xB0Nf6YEBfE9",
        "StrFfCTrBtud",
        "gPhyxFSvB8X-",
        "-EaUslh3CLBg",
        "j7SmKsQ9CZq_",
        "csckkEgnCoUd",
        "4jal1kg7C298",
        "UkEwDP3IDFnf",
        "eT1S3Vv8DURA",
        "EwRM-hbnDi6e",
        "i_VOkcmfDxkB",
        "wadWHOwfEANf",
        "SMvZMtynEO3C",
        "XD9Wtt47Edgh",
        "5aOq_cIhEsKB",
        "0icyjG9ZE6z5",
        "uXvSzObyFJdE",
        "WwvtS2tSFYGj",
        "VuUGMjqiFmwD",
        "ZW6lRFESF1Zk",
        "6oN9VaC-GEDH",
        "5UbI6-sCGSsl",
        "MVn85g5MGhWF",
        "N7_YyldNGv_l",
        "NWgYBHGNG-pG",
        "0PHDuOuOHNSp",
        "os5DdE08Hb8I",
        "YFs9u_7ZHqlr",
        "rW0DdChYH5PI",
        "Ly4XSGfAIH4o",
        "FqqNpw3AIWiI",
        "I6uQO6HVIlLs",
        "8krnLmzSIz1J",
        "NUsJ9J_fJCeu",
        "YGGXE4N8JRIK",
        "Rgq0gdcnJfxw",
        "VuTnU2cHJubO",
        "Bre1ap9NJ9Es",
        "dNn02tytKLuL",
        "v2XqS0cpKaXt",
        "v15ElJKfKpBQ",
        "3Vygq9nTK3qu",
        "DEbq4CTvLGUQ",
        "jQNpGyJVLU9y",
        "HN_cs6NvLjnS",
        "P3Nf85F5LyQz",
        "uksZTvMOMA6Q",
        "gFHsubs4MPjx",
        "pCxoP8RpMeNq",
        "CSJlmvJfMs2x",
        "Fgv3MfDkM7gP",
        "Vvbl-1LrNKJy",
        "Pn4GY2ZCNYzS",
        "41ZZy120Nncz",
        "xiHY2L2VN2GS",
        "PwjwJ9DoOEv0",
        "9CCEArZrOTZX",
        "i2IW4GZ2OiC2",
        "phY_dwfZOwsy",
        "oCpGg6kkO_V3",
        "qCjcRRPtPN_b",
        "QRy8DWo_Pco6",
        "AVg_FWTmPrSY",
        "2vywnPY3P578",
        "yGnDTYPuQIlc",
        "fusOhAtGQXO6",
        "YjVNc-T2Ql4Z",
        "o6-aofSdQ0h7",
        "Il0WY2pARDLc",
        "XzMwMf-iRR07",
        "MBqoY5j6Rgec",
        "rL7e076kRvH8",
        "M5TG96dfR9xi",
        "m8wGD64xSMa_",
        "HcgfvH0ySbEe",
        "bx6zh8LJSpt-",
        "4zBmi-64S4Xi",
        "slAzg84VTHA_",
        "IX8MGroSTVqi",
        "9Cu7VVMoTkUB",
        "W4DIJAu1Ty9i",
        "Y-4Z-wYYUBnE",
        "wso9eo6PUQQi",
        "EVbQuenjUe6C",
        "NNpDWZ3RUtjm",
        "aaexY8bqU8NE",
        "CZGTactvVK2m",
        "Tm9nEn1bVZgE",
        "oqejpZJgVoJn",
        "dq8EoJxCV2zH",
        "ZMEVkYz2WFco",
        "cctO_YQyWUGG",
        "4t_wH6sQWivp",
        "QuoZpiREWxZH",
        "kYEbdjvcXACq",
        "_2S-HbRKXOsR",
        "BeZy8W3pXdVr",
        "oXyAasIJXr_J",
        "hsKPf3_NX6oq",
        "rmRfcFBnYJSK",
        "9ilsYezqYX7v",
        "0nuktJqnYmlL",
        "yvTo-aecY1Ov",
        "C6QI2Cf1ZD4Q",
        "r2_ygxWEZShs",
        "AID22nojZhLN",
        "i9FGuCEhZv0w",
        "qrNO_J_6Z-eP",
        "qXp3a3iCaNHx",
        "7niM8h4ZabxR",
        "7xxvtQAPaqay",
        "NHneL0_5a5EP",
        "Hs2fFVmmbHtz",
        "N9XGYJU8bWXR",
        "187KaZKsblAx",
        "SkU2PqbHbzqS",
        "TihLFlh-cCTy",
        "_jjTuc9scQ9V",
        "dMSrUfklcfm1",
        "6CNhjodecuQW",
        "4bQV-vzqc85w",
        "4G_GfFovdLjV",
        "j6SLW30KdaM1",
        "Jji0gCEWdo2V",
        "tqnLKVTdd3f3",
        "m9NPXkeFeGJa",
        "zcThQ8wPeUy6",
        "PrlVYAxYejcc",
        "RfkHqLy3eyF4",
        "S8aXd6iffAve",
        "gnYreW_PfPY5",
        "DnmZFgXQfeCX",
        "ZVE1hJPefsr6",
        "_GUPzusDf7Vd",
        "vm1JnmixgJ-8",
        "BmsVyPK1gYoj",
        "7OoyvrdAgnR-",
        "6drxaq-1g17h",
        "GC1HXCqDhEk8",
        "5oLxAeSHhTOc",
        "EQvxHw16hh4A",
        "HEZx8twdhwhb",
        "7VD_lOXvh_K_",
        "FUEjbXU4iN0i",
        "5qjMY5RriceA",
        "_J7jI8IyirHf",
        "Qg6Vryyoi5xC",
        "H8Vdg6O_jIan",
        "59_sw2EDjXED",
        "mC9HBtOajlti",
        "0IYduhjQj0lU",
        "KR82dd3NkDO1",
        "-BtIRaegkR4b"
      ],
      "toc_visible": true,
      "include_colab_link": true
    },
    "kernelspec": {
      "name": "python3",
      "display_name": "Python 3"
    }
  },
  "cells": [
    {
      "cell_type": "markdown",
      "metadata": {
        "id": "view-in-github",
        "colab_type": "text"
      },
      "source": [
        "<a href=\"https://colab.research.google.com/github/kowalski-k/projekt_TOM/blob/master/nauka_tumor.ipynb\" target=\"_parent\"><img src=\"https://colab.research.google.com/assets/colab-badge.svg\" alt=\"Open In Colab\"/></a>"
      ]
    },
    {
      "cell_type": "code",
      "metadata": {
        "id": "aiA16laeT3Rs",
        "colab_type": "code",
        "colab": {
          "base_uri": "https://localhost:8080/",
          "height": 35
        },
        "outputId": "4f0c283b-66ee-4fea-81e6-054cb14f1851"
      },
      "source": [
        "#importowanie bibliotek\n",
        "import tensorflow as tf\n",
        "import matplotlib.pyplot as plt\n",
        "import numpy as np\n",
        "import os\n",
        "from pathlib import Path\n",
        "print(tf.__version__)"
      ],
      "execution_count": 1,
      "outputs": [
        {
          "output_type": "stream",
          "text": [
            "2.2.0\n"
          ],
          "name": "stdout"
        }
      ]
    },
    {
      "cell_type": "code",
      "metadata": {
        "id": "PQAlwAS4HOtD",
        "colab_type": "code",
        "colab": {}
      },
      "source": [
        "#kod do usuwania całych ścieżek (w razie co)\n",
        "\n",
        "!rm -rf /content/training\n",
        "!rm -rf /content/validation\n",
        "!rm -rf /content/test\n"
      ],
      "execution_count": null,
      "outputs": []
    },
    {
      "cell_type": "code",
      "metadata": {
        "id": "_W7c6OiB1b0H",
        "colab_type": "code",
        "colab": {
          "base_uri": "https://localhost:8080/",
          "height": 1000
        },
        "outputId": "60a34a71-8503-4a48-be4d-3e56bbe49761"
      },
      "source": [
        "#pobieranie danych\n",
        "! curl -s https://packagecloud.io/install/repositories/github/git-lfs/script.deb.sh | sudo bash\n",
        "! sudo apt-get install git-lfs\n",
        "! git lfs install\n",
        "! git clone https://github.com/neheller/kits19.git \n",
        "%cd kits19\n",
        "! python -m starter_code.get_imaging\n",
        "!git checkout feature/google-colab\n",
        "!make"
      ],
      "execution_count": 2,
      "outputs": [
        {
          "output_type": "stream",
          "text": [
            "Detected operating system as Ubuntu/bionic.\n",
            "Checking for curl...\n",
            "Detected curl...\n",
            "Checking for gpg...\n",
            "Detected gpg...\n",
            "Running apt-get update... done.\n",
            "Installing apt-transport-https... done.\n",
            "Installing /etc/apt/sources.list.d/github_git-lfs.list...done.\n",
            "Importing packagecloud gpg key... done.\n",
            "Running apt-get update... done.\n",
            "\n",
            "The repository is setup! You can now install packages.\n",
            "Reading package lists... Done\n",
            "Building dependency tree       \n",
            "Reading state information... Done\n",
            "The following package was automatically installed and is no longer required:\n",
            "  libnvidia-common-440\n",
            "Use 'sudo apt autoremove' to remove it.\n",
            "The following NEW packages will be installed:\n",
            "  git-lfs\n",
            "0 upgraded, 1 newly installed, 0 to remove and 49 not upgraded.\n",
            "Need to get 6,877 kB of archives.\n",
            "After this operation, 16.4 MB of additional disk space will be used.\n",
            "Get:1 https://packagecloud.io/github/git-lfs/ubuntu bionic/main amd64 git-lfs amd64 2.11.0 [6,877 kB]\n",
            "Fetched 6,877 kB in 1s (7,795 kB/s)\n",
            "debconf: unable to initialize frontend: Dialog\n",
            "debconf: (No usable dialog-like program is installed, so the dialog based frontend cannot be used. at /usr/share/perl5/Debconf/FrontEnd/Dialog.pm line 76, <> line 1.)\n",
            "debconf: falling back to frontend: Readline\n",
            "debconf: unable to initialize frontend: Readline\n",
            "debconf: (This frontend requires a controlling tty.)\n",
            "debconf: falling back to frontend: Teletype\n",
            "dpkg-preconfigure: unable to re-open stdin: \n",
            "Selecting previously unselected package git-lfs.\n",
            "(Reading database ... 144332 files and directories currently installed.)\n",
            "Preparing to unpack .../git-lfs_2.11.0_amd64.deb ...\n",
            "Unpacking git-lfs (2.11.0) ...\n",
            "Setting up git-lfs (2.11.0) ...\n",
            "Git LFS initialized.\n",
            "Processing triggers for man-db (2.8.3-2ubuntu0.1) ...\n",
            "Git LFS initialized.\n",
            "Cloning into 'kits19'...\n",
            "remote: Enumerating objects: 954, done.\u001b[K\n",
            "remote: Counting objects: 100% (954/954), done.\u001b[K\n",
            "remote: Compressing objects: 100% (124/124), done.\u001b[K\n",
            "remote: Total 991 (delta 433), reused 927 (delta 408), pack-reused 37\u001b[K\n",
            "Receiving objects: 100% (991/991), 29.70 MiB | 23.88 MiB/s, done.\n",
            "Resolving deltas: 100% (451/451), done.\n",
            "/content/kits19\n",
            "300 cases to download...\n",
            "Download 1/300: \n",
            "case_00000: 100% 225959/225960 [00:15<00:00, 14727.89KB/s]\n",
            "Download 2/300: \n",
            "case_00001: 100% 276387/276388 [00:15<00:00, 17682.84KB/s]\n",
            "Download 3/300: \n",
            "case_00002: 100% 101967/101968 [00:07<00:00, 13149.04KB/s]\n",
            "Download 4/300: \n",
            "case_00003: 100% 118681/118682 [00:08<00:00, 14750.57KB/s]\n",
            "Download 5/300: \n",
            "case_00004: 100% 25269/25270 [00:02<00:00, 10058.14KB/s]\n",
            "Download 6/300: \n",
            "case_00005: 100% 313477/313478 [00:21<00:00, 14442.88KB/s]\n",
            "Download 7/300: \n",
            "case_00006: 100% 78010/78011 [00:05<00:00, 13717.53KB/s]\n",
            "Download 8/300: \n",
            "case_00007: 100% 25826/25827 [00:02<00:00, 10281.54KB/s]\n",
            "Download 9/300: \n",
            "case_00008: 100% 107068/107069 [00:07<00:00, 13781.28KB/s]\n",
            "Download 10/300: \n",
            "case_00009: 100% 34134/34135 [00:03<00:00, 10730.86KB/s]\n",
            "Download 11/300: \n",
            "case_00010: 100% 23541/23542 [00:02<00:00, 9937.44KB/s] \n",
            "Download 12/300: \n",
            "case_00011: 100% 41268/41269 [00:03<00:00, 12138.23KB/s]\n",
            "Download 13/300: \n",
            "case_00012: 100% 43185/43186 [00:03<00:00, 11565.79KB/s]\n",
            "Download 14/300: \n",
            "case_00013: 100% 44485/44486 [00:03<00:00, 11844.27KB/s]\n",
            "Download 15/300: \n",
            "case_00014: 100% 192486/192487 [00:12<00:00, 15128.21KB/s]\n",
            "Download 16/300: \n",
            "case_00015: 100% 23795/23796 [00:02<00:00, 9282.10KB/s]\n",
            "Download 17/300: \n",
            "case_00016: 100% 86929/86930 [00:05<00:00, 14578.67KB/s]\n",
            "Download 18/300: \n",
            "case_00017: 100% 49940/49941 [00:04<00:00, 12383.20KB/s]\n",
            "Download 19/300: \n",
            "case_00018: 100% 49984/49985 [00:04<00:00, 12428.61KB/s]\n",
            "Download 20/300: \n",
            "case_00019: 100% 51644/51645 [00:04<00:00, 11961.35KB/s]\n",
            "Download 21/300: \n",
            "case_00020: 100% 43148/43149 [00:03<00:00, 11980.16KB/s]\n",
            "Download 22/300: \n",
            "case_00021: 100% 17267/17268 [00:01<00:00, 8808.08KB/s]\n",
            "Download 23/300: \n",
            "case_00022: 100% 235518/235519 [00:14<00:00, 15884.93KB/s]\n",
            "Download 24/300: \n",
            "case_00023: 100% 45338/45339 [00:03<00:00, 12089.59KB/s]\n",
            "Download 25/300: \n",
            "case_00024: 100% 43319/43320 [00:03<00:00, 11895.22KB/s]\n",
            "Download 26/300: \n",
            "case_00025: 100% 42608/42609 [00:03<00:00, 12239.96KB/s]\n",
            "Download 27/300: \n",
            "case_00026: 100% 128953/128954 [00:08<00:00, 15290.94KB/s]\n",
            "Download 28/300: \n",
            "case_00027: 100% 300960/300961 [00:19<00:00, 15138.44KB/s]\n",
            "Download 29/300: \n",
            "case_00028: 100% 45001/45002 [00:03<00:00, 11602.38KB/s]\n",
            "Download 30/300: \n",
            "case_00029: 100% 62472/62473 [00:04<00:00, 14033.82KB/s]\n",
            "Download 31/300: \n",
            "case_00030: 100% 18676/18677 [00:02<00:00, 9003.57KB/s]\n",
            "Download 32/300: \n",
            "case_00031: 100% 50504/50505 [00:04<00:00, 11775.91KB/s]\n",
            "Download 33/300: \n",
            "case_00032: 100% 75286/75287 [00:05<00:00, 12928.11KB/s]\n",
            "Download 34/300: \n",
            "case_00033: 100% 191873/191874 [00:13<00:00, 14114.92KB/s]\n",
            "Download 35/300: \n",
            "case_00034: 100% 52752/52753 [00:04<00:00, 12612.72KB/s]\n",
            "Download 36/300: \n",
            "case_00035: 100% 39633/39634 [00:03<00:00, 11005.08KB/s]\n",
            "Download 37/300: \n",
            "case_00036: 100% 78614/78615 [00:05<00:00, 13825.90KB/s]\n",
            "Download 38/300: \n",
            "case_00037: 100% 40424/40425 [00:03<00:00, 11196.40KB/s]\n",
            "Download 39/300: \n",
            "case_00038: 100% 15415/15416 [00:01<00:00, 8477.31KB/s]\n",
            "Download 40/300: \n",
            "case_00039: 100% 44953/44954 [00:03<00:00, 12027.40KB/s]\n",
            "Download 41/300: \n",
            "case_00040: 100% 81954/81955 [00:06<00:00, 13076.56KB/s]\n",
            "Download 42/300: \n",
            "case_00041: 100% 25224/25225 [00:02<00:00, 10018.10KB/s]\n",
            "Download 43/300: \n",
            "case_00042: 100% 136618/136619 [00:09<00:00, 14906.38KB/s]\n",
            "Download 44/300: \n",
            "case_00043: 100% 70644/70645 [00:05<00:00, 13094.35KB/s]\n",
            "Download 45/300: \n",
            "case_00044: 100% 38419/38420 [00:03<00:00, 11488.48KB/s]\n",
            "Download 46/300: \n",
            "case_00045: 100% 25584/25585 [00:02<00:00, 10204.51KB/s]\n",
            "Download 47/300: \n",
            "case_00046: 100% 59261/59262 [00:04<00:00, 12224.08KB/s]\n",
            "Download 48/300: \n",
            "case_00047: 100% 63514/63515 [00:04<00:00, 12719.53KB/s]\n",
            "Download 49/300: \n",
            "case_00048: 100% 30867/30868 [00:02<00:00, 10588.37KB/s]\n",
            "Download 50/300: \n",
            "case_00049: 100% 289194/289195 [00:15<00:00, 18110.27KB/s]\n",
            "Download 51/300: \n",
            "case_00050: 100% 40193/40194 [00:03<00:00, 12534.07KB/s]\n",
            "Download 52/300: \n",
            "case_00051: 100% 25645/25646 [00:02<00:00, 10822.76KB/s]\n",
            "Download 53/300: \n",
            "case_00052: 100% 256991/256992 [00:17<00:00, 14494.58KB/s]\n",
            "Download 54/300: \n",
            "case_00053: 100% 251298/251299 [00:15<00:00, 16111.15KB/s]\n",
            "Download 55/300: \n",
            "case_00054: 100% 41865/41866 [00:03<00:00, 12100.31KB/s]\n",
            "Download 56/300: \n",
            "case_00055: 100% 43342/43343 [00:03<00:00, 11500.33KB/s]\n",
            "Download 57/300: \n",
            "case_00056: 100% 45668/45669 [00:03<00:00, 12111.58KB/s]\n",
            "Download 58/300: \n",
            "case_00057: 100% 37609/37610 [00:03<00:00, 11257.65KB/s]\n",
            "Download 59/300: \n",
            "case_00058: 100% 43100/43101 [00:03<00:00, 11220.09KB/s]\n",
            "Download 60/300: \n",
            "case_00059: 100% 324407/324408 [00:21<00:00, 15040.30KB/s]\n",
            "Download 61/300: \n",
            "case_00060: 100% 62615/62616 [00:05<00:00, 12485.71KB/s]\n",
            "Download 62/300: \n",
            "case_00061: 100% 11577/11578 [00:01<00:00, 7468.92KB/s]\n",
            "Download 63/300: \n",
            "case_00062: 100% 32540/32541 [00:03<00:00, 10628.51KB/s]\n",
            "Download 64/300: \n",
            "case_00063: 100% 231715/231716 [00:15<00:00, 15075.31KB/s]\n",
            "Download 65/300: \n",
            "case_00064: 100% 21721/21722 [00:02<00:00, 9480.41KB/s]\n",
            "Download 66/300: \n",
            "case_00065: 100% 48274/48275 [00:03<00:00, 12344.67KB/s]\n",
            "Download 67/300: \n",
            "case_00066: 100% 186603/186604 [00:12<00:00, 15274.23KB/s]\n",
            "Download 68/300: \n",
            "case_00067: 100% 134477/134478 [00:09<00:00, 14055.03KB/s]\n",
            "Download 69/300: \n",
            "case_00068: 100% 300829/300830 [00:16<00:00, 18199.24KB/s]\n",
            "Download 70/300: \n",
            "case_00069: 100% 46183/46184 [00:03<00:00, 12318.42KB/s]\n",
            "Download 71/300: \n",
            "case_00070: 100% 29478/29479 [00:02<00:00, 10572.12KB/s]\n",
            "Download 72/300: \n",
            "case_00071: 100% 268825/268826 [00:17<00:00, 15781.08KB/s]\n",
            "Download 73/300: \n",
            "case_00072: 100% 79384/79385 [00:05<00:00, 14323.10KB/s]\n",
            "Download 74/300: \n",
            "case_00073: 100% 66227/66228 [00:05<00:00, 12593.33KB/s]\n",
            "Download 75/300: \n",
            "case_00074: 100% 39078/39079 [00:03<00:00, 11252.17KB/s]\n",
            "Download 76/300: \n",
            "case_00075: 100% 44705/44706 [00:03<00:00, 11443.55KB/s]\n",
            "Download 77/300: \n",
            "case_00076: 100% 32585/32586 [00:03<00:00, 10698.20KB/s]\n",
            "Download 78/300: \n",
            "case_00077: 100% 42628/42629 [00:03<00:00, 11796.81KB/s]\n",
            "Download 79/300: \n",
            "case_00078: 100% 132219/132220 [00:09<00:00, 14071.98KB/s]\n",
            "Download 80/300: \n",
            "case_00079: 100% 60760/60761 [00:04<00:00, 12876.13KB/s]\n",
            "Download 81/300: \n",
            "case_00080: 100% 43158/43159 [00:03<00:00, 11545.80KB/s]\n",
            "Download 82/300: \n",
            "case_00081: 100% 60350/60351 [00:04<00:00, 12428.79KB/s]\n",
            "Download 83/300: \n",
            "case_00082: 100% 57346/57347 [00:04<00:00, 12892.28KB/s]\n",
            "Download 84/300: \n",
            "case_00083: 100% 38295/38296 [00:03<00:00, 11056.29KB/s]\n",
            "Download 85/300: \n",
            "case_00084: 100% 112681/112682 [00:06<00:00, 16174.85KB/s]\n",
            "Download 86/300: \n",
            "case_00085: 100% 36294/36295 [00:03<00:00, 10904.40KB/s]\n",
            "Download 87/300: \n",
            "case_00086: 100% 81962/81963 [00:06<00:00, 13466.72KB/s]\n",
            "Download 88/300: \n",
            "case_00087: 100% 25303/25304 [00:02<00:00, 10094.99KB/s]\n",
            "Download 89/300: \n",
            "case_00088: 100% 47969/47970 [00:04<00:00, 11631.93KB/s]\n",
            "Download 90/300: \n",
            "case_00089: 100% 24690/24691 [00:02<00:00, 10438.86KB/s]\n",
            "Download 91/300: \n",
            "case_00090: 100% 35861/35862 [00:03<00:00, 11174.12KB/s]\n",
            "Download 92/300: \n",
            "case_00091: 100% 320735/320736 [00:20<00:00, 15774.16KB/s]\n",
            "Download 93/300: \n",
            "case_00092: 100% 51076/51077 [00:04<00:00, 12210.14KB/s]\n",
            "Download 94/300: \n",
            "case_00093: 100% 324309/324310 [00:20<00:00, 15587.58KB/s]\n",
            "Download 95/300: \n",
            "case_00094: 100% 17428/17429 [00:02<00:00, 8329.16KB/s]\n",
            "Download 96/300: \n",
            "case_00095: 100% 127649/127650 [00:09<00:00, 13973.32KB/s]\n",
            "Download 97/300: \n",
            "case_00096: 100% 303181/303182 [00:19<00:00, 15759.68KB/s]\n",
            "Download 98/300: \n",
            "case_00097: 100% 35994/35995 [00:03<00:00, 11250.18KB/s]\n",
            "Download 99/300: \n",
            "case_00098: 100% 113065/113066 [00:07<00:00, 15956.52KB/s]\n",
            "Download 100/300: \n",
            "case_00099: 100% 44531/44532 [00:03<00:00, 11415.91KB/s]\n",
            "Download 101/300: \n",
            "case_00100: 100% 217447/217448 [00:14<00:00, 15089.73KB/s]\n",
            "Download 102/300: \n",
            "case_00101: 100% 222646/222647 [00:14<00:00, 15589.31KB/s]\n",
            "Download 103/300: \n",
            "case_00102: 100% 139727/139728 [00:09<00:00, 14026.26KB/s]\n",
            "Download 104/300: \n",
            "case_00103: 100% 286971/286972 [00:19<00:00, 14691.19KB/s]\n",
            "Download 105/300: \n",
            "case_00104: 100% 58853/58854 [00:04<00:00, 12526.50KB/s]\n",
            "Download 106/300: \n",
            "case_00105: 100% 60940/60941 [00:04<00:00, 12199.40KB/s]\n",
            "Download 107/300: \n",
            "case_00106: 100% 47144/47145 [00:03<00:00, 12125.23KB/s]\n",
            "Download 108/300: \n",
            "case_00107: 100% 34804/34805 [00:03<00:00, 11413.07KB/s]\n",
            "Download 109/300: \n",
            "case_00108: 100% 23687/23688 [00:02<00:00, 9509.30KB/s]\n",
            "Download 110/300: \n",
            "case_00109: 100% 32402/32403 [00:03<00:00, 10654.40KB/s]\n",
            "Download 111/300: \n",
            "case_00110: 100% 16481/16482 [00:01<00:00, 8409.81KB/s]\n",
            "Download 112/300: \n",
            "case_00111: 100% 78705/78706 [00:05<00:00, 13510.69KB/s]\n",
            "Download 113/300: \n",
            "case_00112: 100% 55840/55841 [00:04<00:00, 12224.40KB/s]\n",
            "Download 114/300: \n",
            "case_00113: 100% 22107/22108 [00:02<00:00, 9281.80KB/s]\n",
            "Download 115/300: \n",
            "case_00114: 100% 147217/147218 [00:09<00:00, 15394.88KB/s]\n",
            "Download 116/300: \n",
            "case_00115: 100% 147301/147302 [00:09<00:00, 16356.68KB/s]\n",
            "Download 117/300: \n",
            "case_00116: 100% 196707/196708 [00:12<00:00, 16302.36KB/s]\n",
            "Download 118/300: \n",
            "case_00117: 100% 30684/30685 [00:02<00:00, 10934.19KB/s]\n",
            "Download 119/300: \n",
            "case_00118: 100% 303939/303940 [00:20<00:00, 14899.21KB/s]\n",
            "Download 120/300: \n",
            "case_00119: 100% 44352/44353 [00:03<00:00, 11839.47KB/s]\n",
            "Download 121/300: \n",
            "case_00120: 100% 135413/135414 [00:09<00:00, 14002.48KB/s]\n",
            "Download 122/300: \n",
            "case_00121: 100% 35289/35290 [00:03<00:00, 11037.89KB/s]\n",
            "Download 123/300: \n",
            "case_00122: 100% 25550/25551 [00:02<00:00, 10246.98KB/s]\n",
            "Download 124/300: \n",
            "case_00123: 100% 150859/150860 [00:09<00:00, 15738.03KB/s]\n",
            "Download 125/300: \n",
            "case_00124: 100% 113055/113056 [00:08<00:00, 13814.06KB/s]\n",
            "Download 126/300: \n",
            "case_00125: 100% 64037/64038 [00:04<00:00, 13604.90KB/s]\n",
            "Download 127/300: \n",
            "case_00126: 100% 46555/46556 [00:03<00:00, 12017.06KB/s]\n",
            "Download 128/300: \n",
            "case_00127: 100% 41530/41531 [00:03<00:00, 12799.24KB/s]\n",
            "Download 129/300: \n",
            "case_00128: 100% 87078/87079 [00:06<00:00, 13959.66KB/s]\n",
            "Download 130/300: \n",
            "case_00129: 100% 24054/24055 [00:02<00:00, 10147.56KB/s]\n",
            "Download 131/300: \n",
            "case_00130: 100% 26677/26678 [00:02<00:00, 10572.63KB/s]\n",
            "Download 132/300: \n",
            "case_00131: 100% 66542/66543 [00:05<00:00, 12969.86KB/s]\n",
            "Download 133/300: \n",
            "case_00132: 100% 240243/240244 [00:15<00:00, 15922.95KB/s]\n",
            "Download 134/300: \n",
            "case_00133: 100% 73000/73001 [00:05<00:00, 13151.88KB/s]\n",
            "Download 135/300: \n",
            "case_00134: 100% 24422/24423 [00:02<00:00, 10298.52KB/s]\n",
            "Download 136/300: \n",
            "case_00135: 100% 269658/269659 [00:17<00:00, 15480.69KB/s]\n",
            "Download 137/300: \n",
            "case_00136: 100% 51986/51987 [00:04<00:00, 12516.31KB/s]\n",
            "Download 138/300: \n",
            "case_00137: 100% 47700/47701 [00:03<00:00, 13140.62KB/s]\n",
            "Download 139/300: \n",
            "case_00138: 100% 40601/40602 [00:03<00:00, 12131.12KB/s]\n",
            "Download 140/300: \n",
            "case_00139: 100% 48587/48588 [00:04<00:00, 11754.28KB/s]\n",
            "Download 141/300: \n",
            "case_00140: 100% 129580/129581 [00:08<00:00, 15338.39KB/s]\n",
            "Download 142/300: \n",
            "case_00141: 100% 271847/271848 [00:16<00:00, 16659.38KB/s]\n",
            "Download 143/300: \n",
            "case_00142: 100% 119786/119787 [00:07<00:00, 15448.08KB/s]\n",
            "Download 144/300: \n",
            "case_00143: 100% 39109/39110 [00:03<00:00, 11274.45KB/s]\n",
            "Download 145/300: \n",
            "case_00144: 100% 86697/86698 [00:06<00:00, 13036.94KB/s]\n",
            "Download 146/300: \n",
            "case_00145: 100% 32713/32714 [00:03<00:00, 10900.18KB/s]\n",
            "Download 147/300: \n",
            "case_00146: 100% 281605/281606 [00:19<00:00, 14318.10KB/s]\n",
            "Download 148/300: \n",
            "case_00147: 100% 28532/28533 [00:02<00:00, 10281.46KB/s]\n",
            "Download 149/300: \n",
            "case_00148: 100% 15411/15412 [00:01<00:00, 7921.57KB/s]\n",
            "Download 150/300: \n",
            "case_00149: 100% 47822/47823 [00:03<00:00, 12295.17KB/s]\n",
            "Download 151/300: \n",
            "case_00150: 100% 43249/43250 [00:03<00:00, 11146.56KB/s]\n",
            "Download 152/300: \n",
            "case_00151: 100% 495993/495994 [00:27<00:00, 17941.82KB/s]\n",
            "Download 153/300: \n",
            "case_00152: 100% 19368/19369 [00:02<00:00, 9219.63KB/s]\n",
            "Download 154/300: \n",
            "case_00153: 100% 35727/35728 [00:03<00:00, 11197.84KB/s]\n",
            "Download 155/300: \n",
            "case_00154: 100% 185019/185020 [00:12<00:00, 15328.96KB/s]\n",
            "Download 156/300: \n",
            "case_00155: 100% 235923/235924 [00:14<00:00, 16697.84KB/s]\n",
            "Download 157/300: \n",
            "case_00156: 100% 363352/363353 [00:21<00:00, 16813.70KB/s]\n",
            "Download 158/300: \n",
            "case_00157: 100% 231036/231037 [00:16<00:00, 14292.81KB/s]\n",
            "Download 159/300: \n",
            "case_00158: 100% 345812/345813 [00:22<00:00, 15596.79KB/s]\n",
            "Download 160/300: \n",
            "case_00159: 100% 321877/321878 [00:21<00:00, 14991.64KB/s]\n",
            "Download 161/300: \n",
            "case_00160: 100% 196732/196733 [00:12<00:00, 15260.39KB/s]\n",
            "Download 162/300: \n",
            "case_00161: 100% 25615/25616 [00:02<00:00, 9721.75KB/s]\n",
            "Download 163/300: \n",
            "case_00162: 100% 45384/45385 [00:03<00:00, 12133.51KB/s]\n",
            "Download 164/300: \n",
            "case_00163: 100% 40205/40206 [00:03<00:00, 11131.40KB/s]\n",
            "Download 165/300: \n",
            "case_00164: 100% 44482/44483 [00:03<00:00, 12371.44KB/s]\n",
            "Download 166/300: \n",
            "case_00165: 100% 283401/283402 [00:17<00:00, 16508.78KB/s]\n",
            "Download 167/300: \n",
            "case_00166: 100% 41559/41560 [00:03<00:00, 11710.63KB/s]\n",
            "Download 168/300: \n",
            "case_00167: 100% 41129/41130 [00:03<00:00, 11848.61KB/s]\n",
            "Download 169/300: \n",
            "case_00168: 100% 32048/32049 [00:02<00:00, 10997.11KB/s]\n",
            "Download 170/300: \n",
            "case_00169: 100% 42056/42057 [00:03<00:00, 11241.69KB/s]\n",
            "Download 171/300: \n",
            "case_00170: 100% 130206/130207 [00:09<00:00, 14066.68KB/s]\n",
            "Download 172/300: \n",
            "case_00171: 100% 63813/63814 [00:04<00:00, 13119.70KB/s]\n",
            "Download 173/300: \n",
            "case_00172: 100% 37626/37627 [00:03<00:00, 11757.21KB/s]\n",
            "Download 174/300: \n",
            "case_00173: 100% 45244/45245 [00:04<00:00, 11264.90KB/s]\n",
            "Download 175/300: \n",
            "case_00174: 100% 31894/31895 [00:02<00:00, 10940.41KB/s]\n",
            "Download 176/300: \n",
            "case_00175: 100% 54239/54240 [00:04<00:00, 13019.56KB/s]\n",
            "Download 177/300: \n",
            "case_00176: 100% 41461/41462 [00:03<00:00, 11412.13KB/s]\n",
            "Download 178/300: \n",
            "case_00177: 100% 42626/42627 [00:03<00:00, 11376.53KB/s]\n",
            "Download 179/300: \n",
            "case_00178: 100% 35857/35858 [00:03<00:00, 11745.35KB/s]\n",
            "Download 180/300: \n",
            "case_00179: 100% 49463/49464 [00:04<00:00, 11857.63KB/s]\n",
            "Download 181/300: \n",
            "case_00180: 100% 66993/66994 [00:05<00:00, 13008.68KB/s]\n",
            "Download 182/300: \n",
            "case_00181: 100% 49292/49293 [00:03<00:00, 12636.12KB/s]\n",
            "Download 183/300: \n",
            "case_00182: 100% 38436/38437 [00:03<00:00, 11510.58KB/s]\n",
            "Download 184/300: \n",
            "case_00183: 100% 99950/99951 [00:07<00:00, 13358.35KB/s]\n",
            "Download 185/300: \n",
            "case_00184: 100% 70271/70272 [00:05<00:00, 13336.08KB/s]\n",
            "Download 186/300: \n",
            "case_00185: 100% 99730/99731 [00:07<00:00, 13339.87KB/s]\n",
            "Download 187/300: \n",
            "case_00186: 100% 68574/68575 [00:05<00:00, 13037.29KB/s]\n",
            "Download 188/300: \n",
            "case_00187: 100% 41465/41466 [00:03<00:00, 12416.62KB/s]\n",
            "Download 189/300: \n",
            "case_00188: 100% 173648/173649 [00:12<00:00, 14076.49KB/s]\n",
            "Download 190/300: \n",
            "case_00189: 100% 69794/69795 [00:05<00:00, 13585.50KB/s]\n",
            "Download 191/300: \n",
            "case_00190: 100% 80969/80970 [00:05<00:00, 13617.33KB/s]\n",
            "Download 192/300: \n",
            "case_00191: 100% 146751/146752 [00:10<00:00, 13829.60KB/s]\n",
            "Download 193/300: \n",
            "case_00192: 100% 56112/56113 [00:04<00:00, 12590.64KB/s]\n",
            "Download 194/300: \n",
            "case_00193: 100% 94515/94516 [00:06<00:00, 14469.50KB/s]\n",
            "Download 195/300: \n",
            "case_00194: 100% 56502/56503 [00:04<00:00, 12390.58KB/s]\n",
            "Download 196/300: \n",
            "case_00195: 100% 47638/47639 [00:03<00:00, 13172.08KB/s]\n",
            "Download 197/300: \n",
            "case_00196: 100% 80043/80044 [00:06<00:00, 13132.06KB/s]\n",
            "Download 198/300: \n",
            "case_00197: 100% 71480/71481 [00:05<00:00, 12909.94KB/s]\n",
            "Download 199/300: \n",
            "case_00198: 100% 130795/130796 [00:09<00:00, 13963.46KB/s]\n",
            "Download 200/300: \n",
            "case_00199: 100% 48897/48898 [00:04<00:00, 12081.95KB/s]\n",
            "Download 201/300: \n",
            "case_00200: 100% 51449/51450 [00:04<00:00, 12353.67KB/s]\n",
            "Download 202/300: \n",
            "case_00201: 100% 47090/47091 [00:03<00:00, 12290.15KB/s]\n",
            "Download 203/300: \n",
            "case_00202: 100% 145466/145467 [00:09<00:00, 14578.29KB/s]\n",
            "Download 204/300: \n",
            "case_00203: 100% 295206/295207 [00:18<00:00, 15792.05KB/s]\n",
            "Download 205/300: \n",
            "case_00204: 100% 31576/31577 [00:02<00:00, 10785.22KB/s]\n",
            "Download 206/300: \n",
            "case_00205: 100% 44138/44139 [00:03<00:00, 12251.42KB/s]\n",
            "Download 207/300: \n",
            "case_00206: 100% 22988/22989 [00:02<00:00, 9201.38KB/s]\n",
            "Download 208/300: \n",
            "case_00207: 100% 68719/68720 [00:04<00:00, 14532.06KB/s]\n",
            "Download 209/300: \n",
            "case_00208: 100% 39898/39899 [00:03<00:00, 11984.37KB/s]\n",
            "Download 210/300: \n",
            "case_00209: 100% 50270/50271 [00:04<00:00, 11701.19KB/s]\n",
            "Download 211/300: \n",
            "case_00210: 100% 18415/18416 [00:02<00:00, 8857.89KB/s]\n",
            "Download 212/300: \n",
            "case_00211: 100% 42867/42868 [00:03<00:00, 11848.31KB/s]\n",
            "Download 213/300: \n",
            "case_00212: 100% 42084/42085 [00:03<00:00, 12105.79KB/s]\n",
            "Download 214/300: \n",
            "case_00213: 100% 290128/290129 [00:19<00:00, 14679.53KB/s]\n",
            "Download 215/300: \n",
            "case_00214: 100% 197325/197326 [00:13<00:00, 14670.01KB/s]\n",
            "Download 216/300: \n",
            "case_00215: 100% 32360/32361 [00:03<00:00, 10576.05KB/s]\n",
            "Download 217/300: \n",
            "case_00216: 100% 318160/318161 [00:18<00:00, 17265.32KB/s]\n",
            "Download 218/300: \n",
            "case_00217: 100% 66593/66594 [00:04<00:00, 14582.35KB/s]\n",
            "Download 219/300: \n",
            "case_00218: 100% 73150/73151 [00:05<00:00, 12890.98KB/s]\n",
            "Download 220/300: \n",
            "case_00219: 100% 74788/74789 [00:05<00:00, 13840.12KB/s]\n",
            "Download 221/300: \n",
            "case_00220: 100% 86327/86328 [00:06<00:00, 13281.99KB/s]\n",
            "Download 222/300: \n",
            "case_00221: 100% 68228/68229 [00:05<00:00, 12913.44KB/s]\n",
            "Download 223/300: \n",
            "case_00222: 100% 44420/44421 [00:03<00:00, 12309.05KB/s]\n",
            "Download 224/300: \n",
            "case_00223: 100% 175070/175071 [00:12<00:00, 14511.73KB/s]\n",
            "Download 225/300: \n",
            "case_00224: 100% 41716/41717 [00:03<00:00, 12026.34KB/s]\n",
            "Download 226/300: \n",
            "case_00225: 100% 51437/51438 [00:04<00:00, 12356.60KB/s]\n",
            "Download 227/300: \n",
            "case_00226: 100% 62450/62451 [00:04<00:00, 12496.77KB/s]\n",
            "Download 228/300: \n",
            "case_00227: 100% 66362/66363 [00:04<00:00, 13315.75KB/s]\n",
            "Download 229/300: \n",
            "case_00228: 100% 42517/42518 [00:03<00:00, 11748.46KB/s]\n",
            "Download 230/300: \n",
            "case_00229: 100% 124090/124091 [00:09<00:00, 13584.10KB/s]\n",
            "Download 231/300: \n",
            "case_00230: 100% 46409/46410 [00:03<00:00, 12369.08KB/s]\n",
            "Download 232/300: \n",
            "case_00231: 100% 72366/72367 [00:05<00:00, 13030.04KB/s]\n",
            "Download 233/300: \n",
            "case_00232: 100% 44837/44838 [00:03<00:00, 12073.68KB/s]\n",
            "Download 234/300: \n",
            "case_00233: 100% 41518/41519 [00:03<00:00, 11519.12KB/s]\n",
            "Download 235/300: \n",
            "case_00234: 100% 69470/69471 [00:05<00:00, 12827.88KB/s]\n",
            "Download 236/300: \n",
            "case_00235: 100% 79819/79820 [00:06<00:00, 13090.57KB/s]\n",
            "Download 237/300: \n",
            "case_00236: 100% 28360/28361 [00:02<00:00, 10175.74KB/s]\n",
            "Download 238/300: \n",
            "case_00237: 100% 67799/67800 [00:05<00:00, 12886.78KB/s]\n",
            "Download 239/300: \n",
            "case_00238: 100% 46579/46580 [00:03<00:00, 12479.03KB/s]\n",
            "Download 240/300: \n",
            "case_00239: 100% 42971/42972 [00:03<00:00, 11488.56KB/s]\n",
            "Download 241/300: \n",
            "case_00240: 100% 80533/80534 [00:05<00:00, 13545.86KB/s]\n",
            "Download 242/300: \n",
            "case_00241: 100% 47966/47967 [00:03<00:00, 13233.13KB/s]\n",
            "Download 243/300: \n",
            "case_00242: 100% 39443/39444 [00:03<00:00, 11334.77KB/s]\n",
            "Download 244/300: \n",
            "case_00243: 100% 41461/41462 [00:03<00:00, 11967.95KB/s]\n",
            "Download 245/300: \n",
            "case_00244: 100% 35423/35424 [00:03<00:00, 11087.85KB/s]\n",
            "Download 246/300: \n",
            "case_00245: 100% 59856/59857 [00:04<00:00, 12079.11KB/s]\n",
            "Download 247/300: \n",
            "case_00246: 100% 283908/283909 [00:17<00:00, 16314.82KB/s]\n",
            "Download 248/300: \n",
            "case_00247: 100% 106016/106017 [00:06<00:00, 15654.37KB/s]\n",
            "Download 249/300: \n",
            "case_00248: 100% 26495/26496 [00:02<00:00, 10090.92KB/s]\n",
            "Download 250/300: \n",
            "case_00249: 100% 118824/118825 [00:08<00:00, 14738.43KB/s]\n",
            "Download 251/300: \n",
            "case_00250: 100% 97097/97098 [00:07<00:00, 13403.28KB/s]\n",
            "Download 252/300: \n",
            "case_00251: 100% 22695/22696 [00:02<00:00, 10130.29KB/s]\n",
            "Download 253/300: \n",
            "case_00252: 100% 22888/22889 [00:02<00:00, 9717.60KB/s]\n",
            "Download 254/300: \n",
            "case_00253: 100% 220845/220846 [00:14<00:00, 15429.58KB/s]\n",
            "Download 255/300: \n",
            "case_00254: 100% 121347/121348 [00:08<00:00, 14146.86KB/s]\n",
            "Download 256/300: \n",
            "case_00255: 100% 73537/73538 [00:05<00:00, 13584.84KB/s]\n",
            "Download 257/300: \n",
            "case_00256: 100% 30832/30833 [00:02<00:00, 10519.95KB/s]\n",
            "Download 258/300: \n",
            "case_00257: 100% 15440/15441 [00:01<00:00, 7967.79KB/s]\n",
            "Download 259/300: \n",
            "case_00258: 100% 44551/44552 [00:03<00:00, 11480.99KB/s]\n",
            "Download 260/300: \n",
            "case_00259: 100% 38176/38177 [00:03<00:00, 11892.12KB/s]\n",
            "Download 261/300: \n",
            "case_00260: 100% 25637/25638 [00:02<00:00, 9655.22KB/s]\n",
            "Download 262/300: \n",
            "case_00261: 100% 255984/255985 [00:14<00:00, 17781.68KB/s]\n",
            "Download 263/300: \n",
            "case_00262: 100% 31776/31777 [00:02<00:00, 10950.08KB/s]\n",
            "Download 264/300: \n",
            "case_00263: 100% 310741/310742 [00:19<00:00, 15714.77KB/s]\n",
            "Download 265/300: \n",
            "case_00264: 100% 189605/189606 [00:10<00:00, 17370.56KB/s]\n",
            "Download 266/300: \n",
            "case_00265: 100% 45731/45732 [00:03<00:00, 12248.32KB/s]\n",
            "Download 267/300: \n",
            "case_00266: 100% 42291/42292 [00:03<00:00, 11728.36KB/s]\n",
            "Download 268/300: \n",
            "case_00267: 100% 23594/23595 [00:02<00:00, 9930.39KB/s]\n",
            "Download 269/300: \n",
            "case_00268: 100% 80600/80601 [00:06<00:00, 12913.89KB/s]\n",
            "Download 270/300: \n",
            "case_00269: 100% 45354/45355 [00:03<00:00, 12523.91KB/s]\n",
            "Download 271/300: \n",
            "case_00270: 100% 47591/47592 [00:03<00:00, 12712.62KB/s]\n",
            "Download 272/300: \n",
            "case_00271: 100% 216019/216020 [00:14<00:00, 14741.96KB/s]\n",
            "Download 273/300: \n",
            "case_00272: 100% 271071/271072 [00:14<00:00, 18268.90KB/s]\n",
            "Download 274/300: \n",
            "case_00273: 100% 110309/110310 [00:07<00:00, 13959.75KB/s]\n",
            "Download 275/300: \n",
            "case_00274: 100% 54524/54525 [00:04<00:00, 12339.64KB/s]\n",
            "Download 276/300: \n",
            "case_00275: 100% 38690/38691 [00:03<00:00, 12103.86KB/s]\n",
            "Download 277/300: \n",
            "case_00276: 100% 305614/305615 [00:20<00:00, 15138.83KB/s]\n",
            "Download 278/300: \n",
            "case_00277: 100% 40912/40913 [00:03<00:00, 11311.33KB/s]\n",
            "Download 279/300: \n",
            "case_00278: 100% 82590/82591 [00:06<00:00, 13557.33KB/s]\n",
            "Download 280/300: \n",
            "case_00279: 100% 26124/26125 [00:02<00:00, 10170.29KB/s]\n",
            "Download 281/300: \n",
            "case_00280: 100% 38398/38399 [00:03<00:00, 11553.33KB/s]\n",
            "Download 282/300: \n",
            "case_00281: 100% 123692/123693 [00:07<00:00, 16480.52KB/s]\n",
            "Download 283/300: \n",
            "case_00282: 100% 42431/42432 [00:03<00:00, 11721.54KB/s]\n",
            "Download 284/300: \n",
            "case_00283: 100% 158916/158917 [00:09<00:00, 15936.52KB/s]\n",
            "Download 285/300: \n",
            "case_00284: 100% 113572/113573 [00:07<00:00, 14854.55KB/s]\n",
            "Download 286/300: \n",
            "case_00285: 100% 21479/21480 [00:02<00:00, 9648.87KB/s]\n",
            "Download 287/300: \n",
            "case_00286: 100% 54689/54690 [00:04<00:00, 12667.93KB/s]\n",
            "Download 288/300: \n",
            "case_00287: 100% 26272/26273 [00:02<00:00, 11061.97KB/s]\n",
            "Download 289/300: \n",
            "case_00288: 100% 118662/118663 [00:08<00:00, 14169.57KB/s]\n",
            "Download 290/300: \n",
            "case_00289: 100% 43012/43013 [00:03<00:00, 11931.96KB/s]\n",
            "Download 291/300: \n",
            "case_00290: 100% 276552/276553 [00:14<00:00, 19033.08KB/s]\n",
            "Download 292/300: \n",
            "case_00291: 100% 63322/63323 [00:05<00:00, 12645.07KB/s]\n",
            "Download 293/300: \n",
            "case_00292: 100% 42335/42336 [00:03<00:00, 11253.48KB/s]\n",
            "Download 294/300: \n",
            "case_00293: 100% 264217/264218 [00:15<00:00, 16623.74KB/s]\n",
            "Download 295/300: \n",
            "case_00294: 100% 286098/286099 [00:17<00:00, 16363.30KB/s]\n",
            "Download 296/300: \n",
            "case_00295: 100% 239083/239084 [00:15<00:00, 15165.53KB/s]\n",
            "Download 297/300: \n",
            "case_00296: 100% 40041/40042 [00:03<00:00, 11690.32KB/s]\n",
            "Download 298/300: \n",
            "case_00297: 100% 42888/42889 [00:03<00:00, 12298.78KB/s]\n",
            "Download 299/300: \n",
            "case_00298: 100% 282478/282479 [00:17<00:00, 16335.94KB/s]\n",
            "Download 300/300: \n",
            "case_00299: 100% 280551/280552 [00:19<00:00, 14239.85KB/s]\n",
            "error: pathspec 'feature/google-colab' did not match any file(s) known to git.\n",
            "make: *** No targets specified and no makefile found.  Stop.\n"
          ],
          "name": "stdout"
        }
      ]
    },
    {
      "cell_type": "code",
      "metadata": {
        "id": "DicHej7R1egm",
        "colab_type": "code",
        "colab": {}
      },
      "source": [
        "NUMBER_OF_CASES_TRAINING = 100\n",
        "NUMBER_OF_CASES_TEST = 10\n",
        "NUMBER_OF_CASES_VALIDATION = 10"
      ],
      "execution_count": 3,
      "outputs": []
    },
    {
      "cell_type": "code",
      "metadata": {
        "id": "DbS071dd1iO2",
        "colab_type": "code",
        "colab": {
          "base_uri": "https://localhost:8080/",
          "height": 87
        },
        "outputId": "e62e297f-c5b4-4a1e-da9b-a8c69e1be7cf"
      },
      "source": [
        "#przeliczenie wybranych wartości na konkretne id case'ów\n",
        "start_training = 0\n",
        "stop_training = NUMBER_OF_CASES_TRAINING\n",
        "\n",
        "start_validation = stop_training\n",
        "stop_validation = NUMBER_OF_CASES_TRAINING + NUMBER_OF_CASES_VALIDATION\n",
        "\n",
        "start_test = stop_validation\n",
        "stop_test = start_test + NUMBER_OF_CASES_TEST\n",
        "\n",
        "print(\"Przedziały poszczególnych zbiorów:\")\n",
        "print(\"Trening: [\",start_training,\",\",stop_training,\")\")\n",
        "print(\"Walidacja: [\",start_validation,\",\",stop_validation,\")\")\n",
        "print(\"Test: [\",start_test,\",\",stop_test,\")\")"
      ],
      "execution_count": 4,
      "outputs": [
        {
          "output_type": "stream",
          "text": [
            "Przedziały poszczególnych zbiorów:\n",
            "Trening: [ 0 , 100 )\n",
            "Walidacja: [ 100 , 110 )\n",
            "Test: [ 110 , 120 )\n"
          ],
          "name": "stdout"
        }
      ]
    },
    {
      "cell_type": "code",
      "metadata": {
        "id": "i0okEYlf1jFu",
        "colab_type": "code",
        "colab": {}
      },
      "source": [
        "####tworzenie ścieżek dla treningu,walidacji oraz testu\n",
        "\n",
        "###nowy folder dla training data\n",
        "os.mkdir('/content/training')\n",
        "##foldery dla: 1)masek nowotworów i nerek  2)volume\n",
        "os.mkdir('/content/training/volume')\n",
        "os.mkdir('/content/training/kidney')\n",
        "os.mkdir('/content/training/tumor')\n",
        "#folder dla każdego id w każdym podfolderze\n",
        "for id in range(start_training,stop_training,1):\n",
        "  os.mkdir('/content/training/volume/{:05d}'.format(id))\n",
        "  os.mkdir('/content/training/kidney/{:05d}'.format(id))\n",
        "  os.mkdir('/content/training/tumor/{:05d}'.format(id))\n",
        "\n",
        "###nowy folder dla validation data\n",
        "os.mkdir('/content/validation')\n",
        "##foldery dla: 1)masek nowotworów i nerek  2)volume\n",
        "os.mkdir('/content/validation/volume')\n",
        "os.mkdir('/content/validation/kidney')\n",
        "os.mkdir('/content/validation/tumor')\n",
        "#folder dla każdego id w każdym podfolderze\n",
        "for id in range(start_validation,stop_validation,1):\n",
        "  os.mkdir('/content/validation/volume/{:05d}'.format(id))\n",
        "  os.mkdir('/content/validation/kidney/{:05d}'.format(id))\n",
        "  os.mkdir('/content/validation/tumor/{:05d}'.format(id))\n",
        "\n",
        "###nowy folder dla test data\n",
        "os.mkdir('/content/test')\n",
        "##foldery dla: 1)masek nowotworów i nerek  2)volume\n",
        "os.mkdir('/content/test/volume')\n",
        "os.mkdir('/content/test/kidney')\n",
        "os.mkdir('/content/test/tumor')\n",
        "#folder dla każdego id w każdym podfolderze\n",
        "for id in range(start_test,stop_test,1):\n",
        "  os.mkdir('/content/test/volume/{:05d}'.format(id))\n",
        "  os.mkdir('/content/test/kidney/{:05d}'.format(id))\n",
        "  os.mkdir('/content/test/tumor/{:05d}'.format(id))"
      ],
      "execution_count": 5,
      "outputs": []
    },
    {
      "cell_type": "code",
      "metadata": {
        "id": "7ZroD2cy1lxW",
        "colab_type": "code",
        "colab": {
          "base_uri": "https://localhost:8080/",
          "height": 51
        },
        "outputId": "5c82e222-f01e-402a-8ef7-038ba27eb111"
      },
      "source": [
        "#wczytanie obrazów do treningu do odpowiednich ścieżek\n",
        "from starter_code.utils import load_case\n",
        "import time \n",
        "\n",
        "#zmienna do przechowywania liczby obrazów (potrzebna do steps_per_epoch)\n",
        "number_of_training_pictures = 0\n",
        "\n",
        "#start czas\n",
        "start=time.time()\n",
        "\n",
        "for id in range(start_training,stop_training,1):\n",
        "  #załadowanie danych i przypisanie zbiorów przekrojów do zmiennych\n",
        "  volume, segmentation = load_case(id)\n",
        "  segmentation = segmentation.get_fdata()\n",
        "  volume = volume.get_fdata()\n",
        "  (a,y,x) = segmentation.shape\n",
        "  #aktualizacja liczby obrazów\n",
        "  number_of_training_pictures = number_of_training_pictures + a\n",
        "  #konwertowanie na format png i zapis w odpowiednich folderach\n",
        "  for indeks in range(0,a,1):\n",
        "    #tworzenie masek nowotworu i guza\n",
        "    kidney = (segmentation[indeks]==1).astype(np.int8)\n",
        "    tumor = (segmentation[indeks]==2).astype(np.int8)\n",
        "\n",
        "    #tworzenie miejsca do przypisania obrazu\n",
        "    path_tumor = Path('/content/training/tumor/{:05d}'.format(id)) \n",
        "    picture_tumor = path_tumor/'{:05d}.png'.format(indeks)\n",
        "\n",
        "    path_volume = Path('/content/training/volume/{:05d}'.format(id)) \n",
        "    picture_volume = path_volume/'{:05d}.png'.format(indeks)\n",
        "\n",
        "    path_kidney = Path('/content/training/kidney/{:05d}'.format(id))\n",
        "    picture_kidney = path_kidney/'{:05d}.png'.format(indeks) \n",
        "\n",
        "    #zapis\n",
        "    plt.imsave(fname=str(picture_tumor), arr=tumor, format='png', cmap='gray')\n",
        "    plt.imsave(fname=str(picture_volume), arr=volume[indeks], format='png', cmap='gray')\n",
        "    plt.imsave(fname=str(picture_kidney), arr=kidney, format='png', cmap='gray')\n",
        "\n",
        "#stop czas\n",
        "stop = time.time()\n",
        "print(\"Czas ładowania: \", (int) (stop-start), \" sekund\")\n",
        "print(\"Liczba obrazów do treningu: \", number_of_training_pictures)"
      ],
      "execution_count": null,
      "outputs": [
        {
          "output_type": "stream",
          "text": [
            "Czas ładowania:  4829  sekund\n",
            "Liczba obrazów do treningu:  21178\n"
          ],
          "name": "stdout"
        }
      ]
    },
    {
      "cell_type": "code",
      "metadata": {
        "id": "Dqm97Urg1sVm",
        "colab_type": "code",
        "colab": {
          "base_uri": "https://localhost:8080/",
          "height": 51
        },
        "outputId": "bf59ce78-6efa-4086-a0f8-c3d54f7c1430"
      },
      "source": [
        "#wczytanie obrazów do walidacji do odpowiednich ścieżek\n",
        "from starter_code.utils import load_case\n",
        "import time\n",
        "\n",
        "#zmienna do przechowywania liczby obrazów (potrzebna do steps_per_epoch)\n",
        "number_of_validation_pictures = 0\n",
        "\n",
        "#start czas\n",
        "start=time.time()\n",
        "\n",
        "for id in range(start_validation,stop_validation,1):\n",
        "  #załadowanie danych i przypisanie zbiorów przekrojów do zmiennych\n",
        "  volume, segmentation = load_case(id)\n",
        "  segmentation = segmentation.get_fdata()\n",
        "  volume = volume.get_fdata()\n",
        "  (a,y,x) = segmentation.shape\n",
        "  number_of_validation_pictures = number_of_validation_pictures + a\n",
        "  #konwertowanie na format png i zapis w odpowiednich folderach\n",
        "  for indeks in range(0,a,1):\n",
        "    #tworzenie masek nowotworu i guza\n",
        "    kidney = (segmentation[indeks]==1).astype(np.int8)\n",
        "    tumor = (segmentation[indeks]==2).astype(np.int8)\n",
        "\n",
        "    #tworzenie miejsca do przypisania obrazu\n",
        "    path_tumor = Path('/content/validation/tumor/{:05d}'.format(id)) \n",
        "    picture_tumor = path_tumor/'{:05d}.png'.format(indeks)\n",
        "\n",
        "    path_volume = Path('/content/validation/volume/{:05d}'.format(id)) \n",
        "    picture_volume = path_volume/'{:05d}.png'.format(indeks)\n",
        "\n",
        "    path_kidney = Path('/content/validation/kidney/{:05d}'.format(id))\n",
        "    picture_kidney = path_kidney/'{:05d}.png'.format(indeks) \n",
        "\n",
        "    #zapis\n",
        "    plt.imsave(fname=str(picture_tumor), arr=tumor, format='png', cmap='gray')\n",
        "    plt.imsave(fname=str(picture_volume), arr=volume[indeks], format='png', cmap='gray')\n",
        "    plt.imsave(fname=str(picture_kidney), arr=kidney, format='png', cmap='gray')\n",
        "\n",
        "#stop czas\n",
        "stop = time.time()\n",
        "print(\"Czas ładowania: \", (int) (stop-start), \" sekund\")\n",
        "print(\"Liczba obrazów do walidacji: \", number_of_validation_pictures)"
      ],
      "execution_count": null,
      "outputs": [
        {
          "output_type": "stream",
          "text": [
            "Czas ładowania:  568  sekund\n",
            "Liczba obrazów do walidacji:  2543\n"
          ],
          "name": "stdout"
        }
      ]
    },
    {
      "cell_type": "code",
      "metadata": {
        "id": "OGf1ShHU1tBS",
        "colab_type": "code",
        "colab": {
          "base_uri": "https://localhost:8080/",
          "height": 52
        },
        "outputId": "33deb310-edf2-4243-b398-bf25fbd1d587"
      },
      "source": [
        "#wczytanie obrazów do testowania do odpowiednich ścieżek\n",
        "from starter_code.utils import load_case\n",
        "from starter_code.utils import load_volume\n",
        "import time\n",
        "\n",
        "#start czas\n",
        "start=time.time()\n",
        "\n",
        "#ilość obrazów do nauki\n",
        "number_of_test_pictures = 0\n",
        "\n",
        "for id in range(start_test,stop_test,1):\n",
        "  #załadowanie danych i przypisanie zbiorów przekrojów do zmiennych\n",
        "  volume, segmentation = load_case(id)\n",
        "  segmentation = segmentation.get_fdata()\n",
        "  volume = volume.get_fdata()\n",
        "  (a,y,x) = segmentation.shape\n",
        "  number_of_test_pictures = number_of_test_pictures + a\n",
        "  #konwertowanie na format png i zapis w odpowiednich folderach\n",
        "  for indeks in range(0,a,1):\n",
        "    #tworzenie masek nowotworu i guza\n",
        "    kidney = (segmentation[indeks]==1).astype(np.int8)\n",
        "    tumor = (segmentation[indeks]==2).astype(np.int8)\n",
        "\n",
        "    #tworzenie miejsca do przypisania obrazu\n",
        "    path_tumor = Path('/content/test/tumor/{:05d}'.format(id)) \n",
        "    picture_tumor = path_tumor/'{:05d}.png'.format(indeks)\n",
        "\n",
        "    path_volume = Path('/content/test/volume/{:05d}'.format(id)) \n",
        "    picture_volume = path_volume/'{:05d}.png'.format(indeks)\n",
        "\n",
        "    path_kidney = Path('/content/test/kidney/{:05d}'.format(id))\n",
        "    picture_kidney = path_kidney/'{:05d}.png'.format(indeks) \n",
        "\n",
        "    #zapis\n",
        "    plt.imsave(fname=str(picture_tumor), arr=tumor, format='png', cmap='gray')\n",
        "    plt.imsave(fname=str(picture_volume), arr=volume[indeks], format='png', cmap='gray')\n",
        "    plt.imsave(fname=str(picture_kidney), arr=kidney, format='png', cmap='gray')\n",
        "\n",
        "#stop czas\n",
        "stop = time.time()\n",
        "print(\"Czas ładowania: \", (int) (stop-start), \" sekund\")\n",
        "print(\"Liczba obrazów do testu: \", number_of_test_pictures)"
      ],
      "execution_count": 6,
      "outputs": [
        {
          "output_type": "stream",
          "text": [
            "Czas ładowania:  570  sekund\n",
            "Liczba obrazów do testu:  2271\n"
          ],
          "name": "stdout"
        }
      ]
    },
    {
      "cell_type": "code",
      "metadata": {
        "id": "Sd6jSWLu1yfX",
        "colab_type": "code",
        "colab": {}
      },
      "source": [
        "#definicja rozmiaru obrazów używanych w architekturze (zamieniamy 512 na 256, aby zwolnić nieco RAMu)\n",
        "image_width = 256\n",
        "image_height = 256\n",
        "tuple_sizes = (image_height,image_width)"
      ],
      "execution_count": 7,
      "outputs": []
    },
    {
      "cell_type": "code",
      "metadata": {
        "id": "ZIRPNGtk13n3",
        "colab_type": "code",
        "colab": {
          "base_uri": "https://localhost:8080/",
          "height": 243
        },
        "outputId": "feaa5bfa-07e4-4d58-8426-4a99682c8949"
      },
      "source": [
        "#Image Data Generator (wykorzystujemy kod z oficjalnej strony tensorflow)\n",
        "#do pliku: .npy za dużo pamieci zajmowało, zdecydowaliśmy sie na png bo o wiele mniej i dodatkowo daje możliwości\n",
        "\n",
        "from keras.preprocessing.image import ImageDataGenerator\n",
        "\n",
        "##normalizacja [0,1], dtype=float16 bo najlepszy dla TPU, którego bedziemy uzywac\n",
        "#seed i batch\n",
        "seed = 1\n",
        "batch_size = 128\n",
        "\n",
        "\n",
        "############## VOLUME\n",
        "#training \n",
        "print(\"Volume:\")\n",
        "\n",
        "#training \n",
        "volume_datagen_training = ImageDataGenerator(rescale=1./255)\n",
        "\n",
        "volume_generator_training = volume_datagen_training.flow_from_directory(\n",
        "    directory='/content/training',\n",
        "    classes=['volume'],\n",
        "    target_size=tuple_sizes,\n",
        "    color_mode='grayscale',\n",
        "    batch_size=batch_size,\n",
        "    class_mode=None,\n",
        "    seed=seed)\n",
        "\n",
        "#validation\n",
        "volume_datagen_validation = ImageDataGenerator(rescale=1./255)\n",
        "\n",
        "volume_generator_validation = volume_datagen_validation.flow_from_directory(\n",
        "    directory='/content/validation',\n",
        "    classes=['volume'],\n",
        "    target_size=tuple_sizes,\n",
        "    color_mode='grayscale',\n",
        "    batch_size=batch_size,\n",
        "    class_mode=None,\n",
        "    seed=seed)\n",
        "\n",
        "#test\n",
        "volume_datagen_test = ImageDataGenerator(rescale=1./255)\n",
        "\n",
        "volume_generator_test = volume_datagen_test.flow_from_directory(\n",
        "    directory='/content/test',\n",
        "    classes=['volume'],\n",
        "    target_size=tuple_sizes,\n",
        "    color_mode='grayscale',\n",
        "    batch_size=1,\n",
        "    shuffle=False,\n",
        "    class_mode=None,\n",
        "    seed=None)\n",
        "\n",
        "\n",
        "############## KIDNEY\n",
        "\n",
        "print(\"Kidney:\")\n",
        "\n",
        "#training \n",
        "kidney_datagen_training = ImageDataGenerator(rescale=1./255)\n",
        "\n",
        "kidney_generator_training = kidney_datagen_training.flow_from_directory(\n",
        "    directory='/content/training',\n",
        "    classes=['kidney'],\n",
        "    target_size=tuple_sizes,\n",
        "    color_mode='grayscale',\n",
        "    batch_size=batch_size,\n",
        "    class_mode=None,\n",
        "    seed=seed)\n",
        "\n",
        "#validation\n",
        "kidney_datagen_validation = ImageDataGenerator(rescale=1./255)\n",
        "kidney_generator_validation = kidney_datagen_validation.flow_from_directory(\n",
        "    directory='/content/validation',\n",
        "    classes=['kidney'],\n",
        "    target_size=tuple_sizes,\n",
        "    color_mode='grayscale',\n",
        "    batch_size=batch_size,\n",
        "    class_mode=None,\n",
        "    seed=seed)\n",
        "\n",
        "#test\n",
        "kidney_datagen_test = ImageDataGenerator(rescale=1./255)\n",
        "\n",
        "kidney_generator_test = kidney_datagen_test.flow_from_directory(\n",
        "    directory='/content/test',\n",
        "    classes=['kidney'],\n",
        "    target_size=tuple_sizes,\n",
        "    color_mode='grayscale',\n",
        "    batch_size=1,\n",
        "    shuffle=False,\n",
        "    class_mode=None,\n",
        "    seed=None)\n",
        "\n",
        "\n",
        "############## TUMOR\n",
        "\n",
        "print(\"Tumor:\")\n",
        "\n",
        "#training\n",
        "tumor_datagen_training = ImageDataGenerator(rescale=1./255)\n",
        "\n",
        "tumor_generator_training = tumor_datagen_training.flow_from_directory(\n",
        "    directory='/content/training',\n",
        "    classes=['tumor'],\n",
        "    target_size=tuple_sizes,\n",
        "    color_mode='grayscale',\n",
        "    batch_size=batch_size,\n",
        "    class_mode=None,\n",
        "    seed=seed)\n",
        "\n",
        "#validation\n",
        "tumor_datagen_validation = ImageDataGenerator(rescale=1./255)\n",
        "\n",
        "tumor_generator_validation = tumor_datagen_validation.flow_from_directory(\n",
        "    directory='/content/validation',\n",
        "    classes=['tumor'],\n",
        "    target_size=tuple_sizes,\n",
        "    color_mode='grayscale',\n",
        "    batch_size=batch_size,\n",
        "    class_mode=None,\n",
        "    seed=seed)\n",
        "\n",
        "#test \n",
        "tumor_datagen_test = ImageDataGenerator(rescale=1./255)\n",
        "\n",
        "tumor_generator_test = tumor_datagen_test.flow_from_directory(\n",
        "    directory='/content/test',\n",
        "    classes=['tumor'],\n",
        "    target_size=tuple_sizes,\n",
        "    color_mode='grayscale',\n",
        "    batch_size=1,\n",
        "    shuffle=False,\n",
        "    class_mode=None,\n",
        "    seed=None)"
      ],
      "execution_count": 8,
      "outputs": [
        {
          "output_type": "stream",
          "text": [
            "Using TensorFlow backend.\n"
          ],
          "name": "stderr"
        },
        {
          "output_type": "stream",
          "text": [
            "Volume:\n",
            "Found 0 images belonging to 1 classes.\n",
            "Found 0 images belonging to 1 classes.\n",
            "Found 2271 images belonging to 1 classes.\n",
            "Kidney:\n",
            "Found 0 images belonging to 1 classes.\n",
            "Found 0 images belonging to 1 classes.\n",
            "Found 2271 images belonging to 1 classes.\n",
            "Tumor:\n",
            "Found 0 images belonging to 1 classes.\n",
            "Found 0 images belonging to 1 classes.\n",
            "Found 2271 images belonging to 1 classes.\n"
          ],
          "name": "stdout"
        }
      ]
    },
    {
      "cell_type": "code",
      "metadata": {
        "id": "Upfrkdb214U3",
        "colab_type": "code",
        "colab": {}
      },
      "source": [
        "#połączenie generatorów do treningu \n",
        "kidney_training = zip(volume_generator_training,kidney_generator_training)\n",
        "tumor_training = zip(volume_generator_training,tumor_generator_training)\n",
        "\n",
        "#połączenie generatorów do walidacji\n",
        "kidney_validation = zip(volume_generator_validation,kidney_generator_validation)\n",
        "tumor_validation = zip(volume_generator_validation,tumor_generator_validation)"
      ],
      "execution_count": null,
      "outputs": []
    },
    {
      "cell_type": "code",
      "metadata": {
        "id": "8Z2lV-Yg18sG",
        "colab_type": "code",
        "colab": {}
      },
      "source": [
        "###architektura sieci\n",
        "\n",
        "#obraz wejsciowy \n",
        "image_width = image_width\n",
        "image_height = image_height\n",
        "image_channels = 1 \n",
        "inputs = tf.keras.layers.Input((image_width,image_height,image_channels))\n",
        "\n",
        "##warstwy skurcz\n",
        "#1\n",
        "convolution1 = tf.keras.layers.Conv2D(16, (3,3), padding='same', activation='relu', kernel_initializer='he_normal')(inputs)\n",
        "convolution1 = tf.keras.layers.Dropout(0.1)(convolution1)\n",
        "convolution1 = tf.keras.layers.Conv2D(16, (3,3), padding='same', activation='relu', kernel_initializer='he_normal')(convolution1)\n",
        "max_pooling1 = tf.keras.layers.MaxPooling2D((2,2))(convolution1)\n",
        "#2\n",
        "convolution2 = tf.keras.layers.Conv2D(32, (3,3), padding='same', activation='relu', kernel_initializer='he_normal')(max_pooling1)\n",
        "convolution2 = tf.keras.layers.Dropout(0.1)(convolution2)\n",
        "convolution2 = tf.keras.layers.Conv2D(32, (3,3), padding='same', activation='relu', kernel_initializer='he_normal')(convolution2)\n",
        "max_pooling2 = tf.keras.layers.MaxPooling2D((2,2))(convolution2)\n",
        "#3\n",
        "convolution3 = tf.keras.layers.Conv2D(64, (3,3), padding='same', activation='relu', kernel_initializer='he_normal')(max_pooling2)\n",
        "convolution3 = tf.keras.layers.Dropout(0.1)(convolution3)\n",
        "convolution3 = tf.keras.layers.Conv2D(64, (3,3), padding='same', activation='relu', kernel_initializer='he_normal')(convolution3)\n",
        "max_pooling3 = tf.keras.layers.MaxPooling2D((2,2))(convolution3)\n",
        "#4\n",
        "convolution4 = tf.keras.layers.Conv2D(128, (3,3), padding='same', activation='relu', kernel_initializer='he_normal')(max_pooling3)\n",
        "convolution4 = tf.keras.layers.Dropout(0.1)(convolution4)\n",
        "convolution4 = tf.keras.layers.Conv2D(128, (3,3), padding='same', activation='relu', kernel_initializer='he_normal')(convolution4)\n",
        "max_pooling4 = tf.keras.layers.MaxPooling2D((2,2))(convolution4)\n",
        "#5 - ostatnia (bez MaxPooling)\n",
        "convolution5 = tf.keras.layers.Conv2D(256, (3,3), padding='same', activation='relu', kernel_initializer='he_normal')(max_pooling4)\n",
        "convolution5 = tf.keras.layers.Dropout(0.1)(convolution5)\n",
        "convolution5 = tf.keras.layers.Conv2D(256, (3,3), padding='same', activation='relu', kernel_initializer='he_normal')(convolution5)\n",
        "\n",
        "##warstwy ekspansja\n",
        "#6 \n",
        "up_convolution6 = tf.keras.layers.Conv2DTranspose(128, (3,3), strides=(2,2), padding='same')(convolution5)\n",
        "up_convolution6 = tf.keras.layers.concatenate([up_convolution6, convolution4])\n",
        "convolution6 = tf.keras.layers.Conv2D(128, (3,3), padding='same', activation='relu', kernel_initializer='he_normal')(up_convolution6)\n",
        "convolution6 = tf.keras.layers.Dropout(0.1)(convolution6)\n",
        "convolution6 = tf.keras.layers.Conv2D(128, (3,3), padding='same', activation='relu', kernel_initializer='he_normal')(convolution6)\n",
        "#7\n",
        "up_convolution7 = tf.keras.layers.Conv2DTranspose(64, (3,3), strides=(2,2), padding='same')(convolution6)\n",
        "up_convolution7 = tf.keras.layers.concatenate([up_convolution7, convolution3])\n",
        "convolution7 = tf.keras.layers.Conv2D(64, (3,3), padding='same', activation='relu', kernel_initializer='he_normal')(up_convolution7)\n",
        "convolution7 = tf.keras.layers.Dropout(0.1)(convolution7)\n",
        "convolution7 = tf.keras.layers.Conv2D(64, (3,3), padding='same', activation='relu', kernel_initializer='he_normal')(convolution7)\n",
        "#8\n",
        "up_convolution8 = tf.keras.layers.Conv2DTranspose(32, (3,3), strides=(2,2), padding='same')(convolution7)\n",
        "up_convolution8 = tf.keras.layers.concatenate([up_convolution8, convolution2])\n",
        "convolution8 = tf.keras.layers.Conv2D(32, (3,3), padding='same', activation='relu', kernel_initializer='he_normal')(up_convolution8)\n",
        "convolution8 = tf.keras.layers.Dropout(0.1)(convolution8)\n",
        "convolution8 = tf.keras.layers.Conv2D(32, (3,3), padding='same', activation='relu', kernel_initializer='he_normal')(convolution8)\n",
        "#9\n",
        "up_convolution9 = tf.keras.layers.Conv2DTranspose(16, (3,3), strides=(2,2), padding='same')(convolution8)\n",
        "up_convolution9 = tf.keras.layers.concatenate([up_convolution9, convolution1], axis=3)\n",
        "convolution9 = tf.keras.layers.Conv2D(16, (3,3), padding='same', activation='relu', kernel_initializer='he_normal')(up_convolution9)\n",
        "convolution9 = tf.keras.layers.Dropout(0.1)(convolution9)\n",
        "convolution9 = tf.keras.layers.Conv2D(16, (3,3), padding='same', activation='relu', kernel_initializer='he_normal')(convolution9)\n",
        "\n",
        "outputs = tf.keras.layers.Conv2D(1, (1,1), activation='sigmoid')(convolution9)"
      ],
      "execution_count": 9,
      "outputs": []
    },
    {
      "cell_type": "code",
      "metadata": {
        "id": "mSmX4H151_T2",
        "colab_type": "code",
        "colab": {
          "base_uri": "https://localhost:8080/",
          "height": 1000
        },
        "outputId": "64c28cec-e436-4ebf-9e86-19b392af2ec3"
      },
      "source": [
        "model = tf.keras.Model(inputs=[inputs], outputs=[outputs])\n",
        "model.compile(optimizer='adam', loss='binary_crossentropy', metrics='accuracy')\n",
        "model.summary()"
      ],
      "execution_count": 10,
      "outputs": [
        {
          "output_type": "stream",
          "text": [
            "Model: \"model\"\n",
            "__________________________________________________________________________________________________\n",
            "Layer (type)                    Output Shape         Param #     Connected to                     \n",
            "==================================================================================================\n",
            "input_1 (InputLayer)            [(None, 256, 256, 1) 0                                            \n",
            "__________________________________________________________________________________________________\n",
            "conv2d (Conv2D)                 (None, 256, 256, 16) 160         input_1[0][0]                    \n",
            "__________________________________________________________________________________________________\n",
            "dropout (Dropout)               (None, 256, 256, 16) 0           conv2d[0][0]                     \n",
            "__________________________________________________________________________________________________\n",
            "conv2d_1 (Conv2D)               (None, 256, 256, 16) 2320        dropout[0][0]                    \n",
            "__________________________________________________________________________________________________\n",
            "max_pooling2d (MaxPooling2D)    (None, 128, 128, 16) 0           conv2d_1[0][0]                   \n",
            "__________________________________________________________________________________________________\n",
            "conv2d_2 (Conv2D)               (None, 128, 128, 32) 4640        max_pooling2d[0][0]              \n",
            "__________________________________________________________________________________________________\n",
            "dropout_1 (Dropout)             (None, 128, 128, 32) 0           conv2d_2[0][0]                   \n",
            "__________________________________________________________________________________________________\n",
            "conv2d_3 (Conv2D)               (None, 128, 128, 32) 9248        dropout_1[0][0]                  \n",
            "__________________________________________________________________________________________________\n",
            "max_pooling2d_1 (MaxPooling2D)  (None, 64, 64, 32)   0           conv2d_3[0][0]                   \n",
            "__________________________________________________________________________________________________\n",
            "conv2d_4 (Conv2D)               (None, 64, 64, 64)   18496       max_pooling2d_1[0][0]            \n",
            "__________________________________________________________________________________________________\n",
            "dropout_2 (Dropout)             (None, 64, 64, 64)   0           conv2d_4[0][0]                   \n",
            "__________________________________________________________________________________________________\n",
            "conv2d_5 (Conv2D)               (None, 64, 64, 64)   36928       dropout_2[0][0]                  \n",
            "__________________________________________________________________________________________________\n",
            "max_pooling2d_2 (MaxPooling2D)  (None, 32, 32, 64)   0           conv2d_5[0][0]                   \n",
            "__________________________________________________________________________________________________\n",
            "conv2d_6 (Conv2D)               (None, 32, 32, 128)  73856       max_pooling2d_2[0][0]            \n",
            "__________________________________________________________________________________________________\n",
            "dropout_3 (Dropout)             (None, 32, 32, 128)  0           conv2d_6[0][0]                   \n",
            "__________________________________________________________________________________________________\n",
            "conv2d_7 (Conv2D)               (None, 32, 32, 128)  147584      dropout_3[0][0]                  \n",
            "__________________________________________________________________________________________________\n",
            "max_pooling2d_3 (MaxPooling2D)  (None, 16, 16, 128)  0           conv2d_7[0][0]                   \n",
            "__________________________________________________________________________________________________\n",
            "conv2d_8 (Conv2D)               (None, 16, 16, 256)  295168      max_pooling2d_3[0][0]            \n",
            "__________________________________________________________________________________________________\n",
            "dropout_4 (Dropout)             (None, 16, 16, 256)  0           conv2d_8[0][0]                   \n",
            "__________________________________________________________________________________________________\n",
            "conv2d_9 (Conv2D)               (None, 16, 16, 256)  590080      dropout_4[0][0]                  \n",
            "__________________________________________________________________________________________________\n",
            "conv2d_transpose (Conv2DTranspo (None, 32, 32, 128)  295040      conv2d_9[0][0]                   \n",
            "__________________________________________________________________________________________________\n",
            "concatenate (Concatenate)       (None, 32, 32, 256)  0           conv2d_transpose[0][0]           \n",
            "                                                                 conv2d_7[0][0]                   \n",
            "__________________________________________________________________________________________________\n",
            "conv2d_10 (Conv2D)              (None, 32, 32, 128)  295040      concatenate[0][0]                \n",
            "__________________________________________________________________________________________________\n",
            "dropout_5 (Dropout)             (None, 32, 32, 128)  0           conv2d_10[0][0]                  \n",
            "__________________________________________________________________________________________________\n",
            "conv2d_11 (Conv2D)              (None, 32, 32, 128)  147584      dropout_5[0][0]                  \n",
            "__________________________________________________________________________________________________\n",
            "conv2d_transpose_1 (Conv2DTrans (None, 64, 64, 64)   73792       conv2d_11[0][0]                  \n",
            "__________________________________________________________________________________________________\n",
            "concatenate_1 (Concatenate)     (None, 64, 64, 128)  0           conv2d_transpose_1[0][0]         \n",
            "                                                                 conv2d_5[0][0]                   \n",
            "__________________________________________________________________________________________________\n",
            "conv2d_12 (Conv2D)              (None, 64, 64, 64)   73792       concatenate_1[0][0]              \n",
            "__________________________________________________________________________________________________\n",
            "dropout_6 (Dropout)             (None, 64, 64, 64)   0           conv2d_12[0][0]                  \n",
            "__________________________________________________________________________________________________\n",
            "conv2d_13 (Conv2D)              (None, 64, 64, 64)   36928       dropout_6[0][0]                  \n",
            "__________________________________________________________________________________________________\n",
            "conv2d_transpose_2 (Conv2DTrans (None, 128, 128, 32) 18464       conv2d_13[0][0]                  \n",
            "__________________________________________________________________________________________________\n",
            "concatenate_2 (Concatenate)     (None, 128, 128, 64) 0           conv2d_transpose_2[0][0]         \n",
            "                                                                 conv2d_3[0][0]                   \n",
            "__________________________________________________________________________________________________\n",
            "conv2d_14 (Conv2D)              (None, 128, 128, 32) 18464       concatenate_2[0][0]              \n",
            "__________________________________________________________________________________________________\n",
            "dropout_7 (Dropout)             (None, 128, 128, 32) 0           conv2d_14[0][0]                  \n",
            "__________________________________________________________________________________________________\n",
            "conv2d_15 (Conv2D)              (None, 128, 128, 32) 9248        dropout_7[0][0]                  \n",
            "__________________________________________________________________________________________________\n",
            "conv2d_transpose_3 (Conv2DTrans (None, 256, 256, 16) 4624        conv2d_15[0][0]                  \n",
            "__________________________________________________________________________________________________\n",
            "concatenate_3 (Concatenate)     (None, 256, 256, 32) 0           conv2d_transpose_3[0][0]         \n",
            "                                                                 conv2d_1[0][0]                   \n",
            "__________________________________________________________________________________________________\n",
            "conv2d_16 (Conv2D)              (None, 256, 256, 16) 4624        concatenate_3[0][0]              \n",
            "__________________________________________________________________________________________________\n",
            "dropout_8 (Dropout)             (None, 256, 256, 16) 0           conv2d_16[0][0]                  \n",
            "__________________________________________________________________________________________________\n",
            "conv2d_17 (Conv2D)              (None, 256, 256, 16) 2320        dropout_8[0][0]                  \n",
            "__________________________________________________________________________________________________\n",
            "conv2d_18 (Conv2D)              (None, 256, 256, 1)  17          conv2d_17[0][0]                  \n",
            "==================================================================================================\n",
            "Total params: 2,158,417\n",
            "Trainable params: 2,158,417\n",
            "Non-trainable params: 0\n",
            "__________________________________________________________________________________________________\n"
          ],
          "name": "stdout"
        }
      ]
    },
    {
      "cell_type": "code",
      "metadata": {
        "id": "i6ovruNo2DE2",
        "colab_type": "code",
        "colab": {}
      },
      "source": [
        "##callbacks\n",
        "filepath=\"/content/drive/My Drive/UNET_tumor/epochs:{epoch:03d}-val_loss:{val_loss:.3f}.hdf5\"\n",
        "callbacks = [\n",
        "             tf.keras.callbacks.EarlyStopping(patience=2, monitor='val_loss'),\n",
        "             tf.keras.callbacks.ModelCheckpoint(filepath, verbose=1, save_best_only=True)\n",
        "             ]"
      ],
      "execution_count": null,
      "outputs": []
    },
    {
      "cell_type": "code",
      "metadata": {
        "id": "74YEl2A02E42",
        "colab_type": "code",
        "colab": {}
      },
      "source": [
        "number_of_training_pictures = 21718\n",
        "number_of_validation_pictures = 2543"
      ],
      "execution_count": null,
      "outputs": []
    },
    {
      "cell_type": "code",
      "metadata": {
        "id": "PYVT1xej2G83",
        "colab_type": "code",
        "colab": {
          "base_uri": "https://localhost:8080/",
          "height": 190
        },
        "outputId": "361ea46f-9902-48b0-faf5-e3ba831cab46"
      },
      "source": [
        "#uczenie modelu nerki z użyciem zdefiniowanych generatorów\n",
        "result_kidney = model.fit_generator(\n",
        "    tumor_training,\n",
        "    steps_per_epoch=(number_of_training_pictures//batch_size), \n",
        "    epochs=2, \n",
        "    validation_data=tumor_validation,\n",
        "    validation_steps=(number_of_validation_pictures//batch_size),\n",
        "    verbose=1,\n",
        "    callbacks=callbacks\n",
        "    )"
      ],
      "execution_count": null,
      "outputs": [
        {
          "output_type": "stream",
          "text": [
            "WARNING:tensorflow:From <ipython-input-15-566deeb25b77>:9: Model.fit_generator (from tensorflow.python.keras.engine.training) is deprecated and will be removed in a future version.\n",
            "Instructions for updating:\n",
            "Please use Model.fit, which supports generators.\n",
            "Epoch 1/2\n",
            "165/165 [==============================] - ETA: 0s - loss: 0.0230 - accuracy: 0.9919  \n",
            "Epoch 00001: val_loss improved from inf to 0.01217, saving model to /content/drive/My Drive/UNET_tumor/epochs:001-val_loss:0.012.hdf5\n",
            "165/165 [==============================] - 15041s 91s/step - loss: 0.0230 - accuracy: 0.9919 - val_loss: 0.0122 - val_accuracy: 0.9978\n",
            "Epoch 2/2\n",
            " 35/165 [=====>........................] - ETA: 3:07:17 - loss: 0.0089 - accuracy: 0.9984"
          ],
          "name": "stdout"
        }
      ]
    },
    {
      "cell_type": "code",
      "metadata": {
        "id": "MyJNR1TaeFJ-",
        "colab_type": "code",
        "colab": {}
      },
      "source": [
        "model.load_weights('/content/drive/My Drive/UNET_tumor/epochs:003-val_loss:0.009.hdf5')"
      ],
      "execution_count": null,
      "outputs": []
    },
    {
      "cell_type": "code",
      "metadata": {
        "id": "WOrY6zdTeTx-",
        "colab_type": "code",
        "colab": {
          "base_uri": "https://localhost:8080/",
          "height": 156
        },
        "outputId": "e520bc70-eddd-4270-d695-0fceaca024a9"
      },
      "source": [
        "result_kidney = model.fit_generator(\n",
        "    tumor_training,\n",
        "    steps_per_epoch=(number_of_training_pictures//batch_size), \n",
        "    initial_epoch = 3,\n",
        "    epochs=4, \n",
        "    validation_data=tumor_validation,\n",
        "    validation_steps=(number_of_validation_pictures//batch_size),\n",
        "    verbose=1,\n",
        "    callbacks=callbacks\n",
        "    )\n",
        "    "
      ],
      "execution_count": null,
      "outputs": [
        {
          "output_type": "stream",
          "text": [
            "WARNING:tensorflow:From <ipython-input-25-1935c87cda75>:9: Model.fit_generator (from tensorflow.python.keras.engine.training) is deprecated and will be removed in a future version.\n",
            "Instructions for updating:\n",
            "Please use Model.fit, which supports generators.\n",
            "Epoch 4/4\n",
            "165/165 [==============================] - ETA: 0s - loss: 0.0043 - accuracy: 0.9990  \n",
            "Epoch 00004: val_loss improved from inf to 0.00690, saving model to /content/drive/My Drive/UNET_tumor/epochs:004-val_loss:0.007.hdf5\n",
            "165/165 [==============================] - 15259s 92s/step - loss: 0.0043 - accuracy: 0.9990 - val_loss: 0.0069 - val_accuracy: 0.9982\n"
          ],
          "name": "stdout"
        }
      ]
    },
    {
      "cell_type": "markdown",
      "metadata": {
        "id": "rEx83p6u5cy_",
        "colab_type": "text"
      },
      "source": [
        "# Predict"
      ]
    },
    {
      "cell_type": "code",
      "metadata": {
        "id": "0HqABfVIcWPM",
        "colab_type": "code",
        "colab": {
          "base_uri": "https://localhost:8080/",
          "height": 124
        },
        "outputId": "ce8cb81c-0b63-4e76-d7f1-fa693e4cb2ba"
      },
      "source": [
        "from google.colab import drive\n",
        "drive.mount('/content/gdrive')"
      ],
      "execution_count": 12,
      "outputs": [
        {
          "output_type": "stream",
          "text": [
            "Go to this URL in a browser: https://accounts.google.com/o/oauth2/auth?client_id=947318989803-6bn6qk8qdgf4n4g3pfee6491hc0brc4i.apps.googleusercontent.com&redirect_uri=urn%3aietf%3awg%3aoauth%3a2.0%3aoob&response_type=code&scope=email%20https%3a%2f%2fwww.googleapis.com%2fauth%2fdocs.test%20https%3a%2f%2fwww.googleapis.com%2fauth%2fdrive%20https%3a%2f%2fwww.googleapis.com%2fauth%2fdrive.photos.readonly%20https%3a%2f%2fwww.googleapis.com%2fauth%2fpeopleapi.readonly\n",
            "\n",
            "Enter your authorization code:\n",
            "··········\n",
            "Mounted at /content/gdrive\n"
          ],
          "name": "stdout"
        }
      ]
    },
    {
      "cell_type": "code",
      "metadata": {
        "id": "8E_2ncBGofPz",
        "colab_type": "code",
        "colab": {}
      },
      "source": [
        "#załadowanie modelu\n",
        "model.load_weights('/content/gdrive/My Drive/colab_model/epochs_004-val_loss_0.007.hdf5')"
      ],
      "execution_count": 13,
      "outputs": []
    },
    {
      "cell_type": "code",
      "metadata": {
        "id": "hpAvnoe6is7g",
        "colab_type": "code",
        "colab": {}
      },
      "source": [
        "predict = model.predict_generator(volume_generator_test)#, steps = 34)"
      ],
      "execution_count": 15,
      "outputs": []
    },
    {
      "cell_type": "code",
      "metadata": {
        "id": "eyWN4yqrjji0",
        "colab_type": "code",
        "colab": {
          "base_uri": "https://localhost:8080/",
          "height": 35
        },
        "outputId": "e0d3e666-c975-47ea-8e4f-50e03dae7735"
      },
      "source": [
        "print(predict.shape)\n",
        "a,x,y,z = predict.shape\n",
        "prob_masks = []\n",
        "real_masks = []"
      ],
      "execution_count": 17,
      "outputs": [
        {
          "output_type": "stream",
          "text": [
            "(2271, 256, 256, 1)\n"
          ],
          "name": "stdout"
        }
      ]
    },
    {
      "cell_type": "code",
      "metadata": {
        "id": "FUgi7bv7jn4z",
        "colab_type": "code",
        "colab": {
          "base_uri": "https://localhost:8080/",
          "height": 1000
        },
        "outputId": "b3925f06-bb22-4d65-f780-7a029c41356b"
      },
      "source": [
        "for indeks in range(0,10,1):\n",
        "  #odczytanie przypuszczenia\n",
        "  raw_prob_mask = predict[indeks]\n",
        "  reshaped_prob_mask = np.squeeze(raw_prob_mask)\n",
        "  prob_mask = (reshaped_prob_mask > 0.5).astype(np.uint8)\n",
        "  prob_masks.append(prob_mask)\n",
        "  #odczytanie prawidłowej maski\n",
        "  raw_real_mask = next(tumor_generator_test)\n",
        "  real_mask = np.squeeze(raw_real_mask)\n",
        "  real_masks.append(real_mask)\n",
        "  #odczytywanie CT\n",
        "  raw_CT = next(volume_generator_test)\n",
        "  CT = np.squeeze(raw_CT)\n",
        "  #wizualizacja\n",
        "\n",
        "  plt.figure()\n",
        "  plt.subplot(1,3,1)\n",
        "  plt.imshow(prob_mask,cmap='gray')\n",
        "  plt.title('Predict nr: {:d}'.format(indeks))\n",
        "  plt.subplot(1,3,2)\n",
        "  plt.imshow(real_mask,cmap='gray')\n",
        "  plt.title('Mask nr: {:d}'.format(indeks))\n",
        "  plt.subplot(1,3,3)\n",
        "  plt.imshow(CT,cmap='gray')\n",
        "  plt.title('CT nr: {:d}'.format(indeks))\n",
        "  \"\"\"\n",
        "  plt.figure()\n",
        "  plt.subplot(1,3,1)\n",
        "  plt.imshow(prob_mask,cmap='gray')\n",
        "  plt.axis('off')\n",
        "  plt.title('Dopasowana maska')\n",
        "  plt.subplot(1,3,2)\n",
        "  plt.imshow(real_mask,cmap='gray')\n",
        "  plt.title('Prawidłowa maska')\n",
        "  plt.axis('off')\n",
        "  plt.subplot(1,3,3)\n",
        "  plt.imshow(CT,cmap='gray')\n",
        "  plt.title('CT')\n",
        "  plt.axis('off')\n",
        "  \"\"\""
      ],
      "execution_count": 36,
      "outputs": [
        {
          "output_type": "display_data",
          "data": {
            "image/png": "[encoded data removed]",
            "text/plain": [
              "<Figure size 432x288 with 3 Axes>"
            ]
          },
          "metadata": {
            "tags": [],
            "needs_background": "light"
          }
        },
        {
          "output_type": "display_data",
          "data": {
            "image/png": "[encoded data removed]",
            "text/plain": [
              "<Figure size 432x288 with 3 Axes>"
            ]
          },
          "metadata": {
            "tags": [],
            "needs_background": "light"
          }
        },
        {
          "output_type": "display_data",
          "data": {
            "image/png": "[encoded data removed]",
            "text/plain": [
              "<Figure size 432x288 with 3 Axes>"
            ]
          },
          "metadata": {
            "tags": [],
            "needs_background": "light"
          }
        },
        {
          "output_type": "display_data",
          "data": {
            "image/png": "[encoded data removed]",
            "text/plain": [
              "<Figure size 432x288 with 3 Axes>"
            ]
          },
          "metadata": {
            "tags": [],
            "needs_background": "light"
          }
        },
        {
          "output_type": "display_data",
          "data": {
            "image/png": "[encoded data removed]",
            "text/plain": [
              "<Figure size 432x288 with 3 Axes>"
            ]
          },
          "metadata": {
            "tags": [],
            "needs_background": "light"
          }
        },
        {
          "output_type": "display_data",
          "data": {
            "image/png": "[encoded data removed]",
            "text/plain": [
              "<Figure size 432x288 with 3 Axes>"
            ]
          },
          "metadata": {
            "tags": [],
            "needs_background": "light"
          }
        },
        {
          "output_type": "display_data",
          "data": {
            "image/png": "[encoded data removed]",
            "text/plain": [
              "<Figure size 432x288 with 3 Axes>"
            ]
          },
          "metadata": {
            "tags": [],
            "needs_background": "light"
          }
        },
        {
          "output_type": "display_data",
          "data": {
            "image/png": "[encoded data removed]",
            "text/plain": [
              "<Figure size 432x288 with 3 Axes>"
            ]
          },
          "metadata": {
            "tags": [],
            "needs_background": "light"
          }
        },
        {
          "output_type": "display_data",
          "data": {
            "image/png": "[encoded data removed]",
            "text/plain": [
              "<Figure size 432x288 with 3 Axes>"
            ]
          },
          "metadata": {
            "tags": [],
            "needs_background": "light"
          }
        },
        {
          "output_type": "display_data",
          "data": {
            "image/png": "[encoded data removed]",
            "text/plain": [
              "<Figure size 432x288 with 3 Axes>"
            ]
          },
          "metadata": {
            "tags": [],
            "needs_background": "light"
          }
        }
      ]
    },
    {
      "cell_type": "code",
      "metadata": {
        "id": "-ZHwTsSQc__G",
        "colab_type": "code",
        "colab": {
          "base_uri": "https://localhost:8080/",
          "height": 297
        },
        "outputId": "17383095-993a-4485-bf8e-ae9c8e64dca6"
      },
      "source": [
        "max_probabilities = []\n",
        "min_probabilities = []\n",
        "\n",
        "for indeks in range(0,2271,1):\n",
        "  max_probabilities.append(np.max(predict[indeks]))\n",
        "  min_probabilities.append(np.min(predict[indeks]))\n",
        "\n",
        "num_bins = np.linspace(0, 1.1, 11, endpoint=False)\n",
        "percentage = np.linspace(0, 110, 11, endpoint=False)\n",
        "plt.hist(max_probabilities, num_bins)\n",
        "plt.xticks(num_bins, percentage)\n",
        "plt.xlabel(\"Prawdopodobieństwo [%]\")\n",
        "plt.ylabel(\"Liczba obrazów\")"
      ],
      "execution_count": 20,
      "outputs": [
        {
          "output_type": "execute_result",
          "data": {
            "text/plain": [
              "Text(0, 0.5, 'Liczba obrazów')"
            ]
          },
          "metadata": {
            "tags": []
          },
          "execution_count": 20
        },
        {
          "output_type": "display_data",
          "data": {
            "image/png": "[encoded data removed]",
            "text/plain": [
              "<Figure size 432x288 with 1 Axes>"
            ]
          },
          "metadata": {
            "tags": [],
            "needs_background": "light"
          }
        }
      ]
    },
    {
      "cell_type": "code",
      "metadata": {
        "id": "XMf2DsbodC4-",
        "colab_type": "code",
        "colab": {}
      },
      "source": [
        "def getSimilarityOfMasks(prob_mask, real_mask):\n",
        "  flatten_prob_mask = np.ravel(prob_mask)\n",
        "  flatten_real_mask = np.ravel(real_mask)\n",
        "\n",
        "  part1 = flatten_prob_mask[flatten_real_mask == 1]\n",
        "  part2 = part1[part1 == 1]\n",
        "\n",
        "  number_of_same_elements = np.sum(part2)\n",
        "  number_of_real_elements = np.sum(flatten_real_mask[flatten_real_mask == 1])\n",
        "\n",
        "  good_fit = 100*number_of_same_elements/number_of_real_elements\n",
        "  if good_fit >= 50:\n",
        "    result = \"good\"\n",
        "  elif good_fit > 10 and good_fit < 50:\n",
        "    result = \"average\"\n",
        "  else:\n",
        "    result = \"bad\"\n",
        "  return result "
      ],
      "execution_count": 30,
      "outputs": []
    },
    {
      "cell_type": "code",
      "metadata": {
        "id": "IgS2aTG9dIQU",
        "colab_type": "code",
        "colab": {
          "base_uri": "https://localhost:8080/",
          "height": 72
        },
        "outputId": "d4b07da9-fb31-48ff-97e7-897d70266b10"
      },
      "source": [
        "bad = 0\n",
        "average = 0\n",
        "good = 0\n",
        "for indeks in range(0,2271,1):\n",
        "  result = getSimilarityOfMasks(prob_masks[indeks], real_masks[indeks])\n",
        "  if result is \"bad\":\n",
        "    bad = bad + 1\n",
        "  elif result is \"average\":\n",
        "    average = average + 1\n",
        "  else:\n",
        "    good = good + 1"
      ],
      "execution_count": 31,
      "outputs": [
        {
          "output_type": "stream",
          "text": [
            "/usr/local/lib/python3.6/dist-packages/ipykernel_launcher.py:11: RuntimeWarning: invalid value encountered in double_scalars\n",
            "  # This is added back by InteractiveShellApp.init_path()\n"
          ],
          "name": "stderr"
        }
      ]
    },
    {
      "cell_type": "code",
      "metadata": {
        "id": "6TxP91NcdLrH",
        "colab_type": "code",
        "colab": {
          "base_uri": "https://localhost:8080/",
          "height": 297
        },
        "outputId": "80bbec99-3018-4323-af03-f9d468482de0"
      },
      "source": [
        "x = range(3)\n",
        "x_labels = ['źle', 'średnio', 'dobrze']\n",
        "\n",
        "y = [bad, average, good]\n",
        "\n",
        "plt.bar(x, y)\n",
        "plt.xticks(x, x_labels)\n",
        "plt.xlabel(\"Ocena dopasowania maski\")\n",
        "plt.ylabel(\"Liczba obrazów\")"
      ],
      "execution_count": 32,
      "outputs": [
        {
          "output_type": "execute_result",
          "data": {
            "text/plain": [
              "Text(0, 0.5, 'Liczba obrazów')"
            ]
          },
          "metadata": {
            "tags": []
          },
          "execution_count": 32
        },
        {
          "output_type": "display_data",
          "data": {
            "image/png": "[encoded data removed]",
            "text/plain": [
              "<Figure size 432x288 with 1 Axes>"
            ]
          },
          "metadata": {
            "tags": [],
            "needs_background": "light"
          }
        }
      ]
    },
    {
      "cell_type": "markdown",
      "metadata": {
        "id": "5gb3xEM65rcd",
        "colab_type": "text"
      },
      "source": [
        "# New Section"
      ]
    },
    {
      "cell_type": "markdown",
      "metadata": {
        "id": "yM7DMFf556GC",
        "colab_type": "text"
      },
      "source": [
        "# New Section"
      ]
    },
    {
      "cell_type": "markdown",
      "metadata": {
        "id": "nqU7roS66Ivc",
        "colab_type": "text"
      },
      "source": [
        "# New Section"
      ]
    },
    {
      "cell_type": "markdown",
      "metadata": {
        "id": "E5DuJOkh6XZY",
        "colab_type": "text"
      },
      "source": [
        "# New Section"
      ]
    },
    {
      "cell_type": "markdown",
      "metadata": {
        "id": "b2X2J5Uc6mCu",
        "colab_type": "text"
      },
      "source": [
        "# New Section"
      ]
    },
    {
      "cell_type": "markdown",
      "metadata": {
        "id": "YpVRWjH_60sP",
        "colab_type": "text"
      },
      "source": [
        "# New Section"
      ]
    },
    {
      "cell_type": "markdown",
      "metadata": {
        "id": "q8yabwnA7DVd",
        "colab_type": "text"
      },
      "source": [
        "# New Section"
      ]
    },
    {
      "cell_type": "markdown",
      "metadata": {
        "id": "SYAT_CmL7R-9",
        "colab_type": "text"
      },
      "source": [
        "# New Section"
      ]
    },
    {
      "cell_type": "markdown",
      "metadata": {
        "id": "-Xyc6L-y7god",
        "colab_type": "text"
      },
      "source": [
        "# New Section"
      ]
    },
    {
      "cell_type": "markdown",
      "metadata": {
        "id": "zyDEs0-d7vSD",
        "colab_type": "text"
      },
      "source": [
        "# New Section"
      ]
    },
    {
      "cell_type": "markdown",
      "metadata": {
        "id": "t6g6WrSe797d",
        "colab_type": "text"
      },
      "source": [
        "# New Section"
      ]
    },
    {
      "cell_type": "markdown",
      "metadata": {
        "id": "12L0gP9j8Mle",
        "colab_type": "text"
      },
      "source": [
        "# New Section"
      ]
    },
    {
      "cell_type": "markdown",
      "metadata": {
        "id": "KCXwZEaz8bO5",
        "colab_type": "text"
      },
      "source": [
        "# New Section"
      ]
    },
    {
      "cell_type": "markdown",
      "metadata": {
        "id": "fBWLgFEq8p3-",
        "colab_type": "text"
      },
      "source": [
        "# New Section"
      ]
    },
    {
      "cell_type": "markdown",
      "metadata": {
        "id": "tNrn3T6l84hd",
        "colab_type": "text"
      },
      "source": [
        "# New Section"
      ]
    },
    {
      "cell_type": "markdown",
      "metadata": {
        "id": "kyQcXdGA9HLj",
        "colab_type": "text"
      },
      "source": [
        "# New Section"
      ]
    },
    {
      "cell_type": "markdown",
      "metadata": {
        "id": "ayfBHtRL9V05",
        "colab_type": "text"
      },
      "source": [
        "# New Section"
      ]
    },
    {
      "cell_type": "markdown",
      "metadata": {
        "id": "rnrc9BEK9keA",
        "colab_type": "text"
      },
      "source": [
        "# New Section"
      ]
    },
    {
      "cell_type": "markdown",
      "metadata": {
        "id": "mk4i13qz9zH3",
        "colab_type": "text"
      },
      "source": [
        "# New Section"
      ]
    },
    {
      "cell_type": "markdown",
      "metadata": {
        "id": "mVlfLz09-Bxb",
        "colab_type": "text"
      },
      "source": [
        "# New Section"
      ]
    },
    {
      "cell_type": "markdown",
      "metadata": {
        "id": "y4q-N_yY-Qas",
        "colab_type": "text"
      },
      "source": [
        "# New Section"
      ]
    },
    {
      "cell_type": "markdown",
      "metadata": {
        "id": "8hrohYQH-fEA",
        "colab_type": "text"
      },
      "source": [
        "# New Section"
      ]
    },
    {
      "cell_type": "markdown",
      "metadata": {
        "id": "0UsnEo0N-tte",
        "colab_type": "text"
      },
      "source": [
        "# New Section"
      ]
    },
    {
      "cell_type": "markdown",
      "metadata": {
        "id": "AXql0JEC-8W9",
        "colab_type": "text"
      },
      "source": [
        "# New Section"
      ]
    },
    {
      "cell_type": "markdown",
      "metadata": {
        "id": "0cWuYJzE_LAe",
        "colab_type": "text"
      },
      "source": [
        "# New Section"
      ]
    },
    {
      "cell_type": "markdown",
      "metadata": {
        "id": "fdwBhzZU_Zqb",
        "colab_type": "text"
      },
      "source": [
        "# New Section"
      ]
    },
    {
      "cell_type": "markdown",
      "metadata": {
        "id": "S394eQfe_oTg",
        "colab_type": "text"
      },
      "source": [
        "# New Section"
      ]
    },
    {
      "cell_type": "markdown",
      "metadata": {
        "id": "xhdBkYTg_29X",
        "colab_type": "text"
      },
      "source": [
        "# New Section"
      ]
    },
    {
      "cell_type": "markdown",
      "metadata": {
        "id": "NXZIJrqZAFnC",
        "colab_type": "text"
      },
      "source": [
        "# New Section"
      ]
    },
    {
      "cell_type": "markdown",
      "metadata": {
        "id": "Bt04XKYLAUQc",
        "colab_type": "text"
      },
      "source": [
        "# New Section"
      ]
    },
    {
      "cell_type": "markdown",
      "metadata": {
        "id": "38cW6XA-Ai5g",
        "colab_type": "text"
      },
      "source": [
        "# New Section"
      ]
    },
    {
      "cell_type": "markdown",
      "metadata": {
        "id": "F6PJUT6BAxjB",
        "colab_type": "text"
      },
      "source": [
        "# New Section"
      ]
    },
    {
      "cell_type": "markdown",
      "metadata": {
        "id": "rlpR-w0eBANE",
        "colab_type": "text"
      },
      "source": [
        "# New Section"
      ]
    },
    {
      "cell_type": "markdown",
      "metadata": {
        "id": "NpQdQ7O7BO2B",
        "colab_type": "text"
      },
      "source": [
        "# New Section"
      ]
    },
    {
      "cell_type": "markdown",
      "metadata": {
        "id": "Eq-cJiUoBdf7",
        "colab_type": "text"
      },
      "source": [
        "# New Section"
      ]
    },
    {
      "cell_type": "markdown",
      "metadata": {
        "id": "sILvauR6BsI_",
        "colab_type": "text"
      },
      "source": [
        "# New Section"
      ]
    },
    {
      "cell_type": "markdown",
      "metadata": {
        "id": "MECZEphKB64_",
        "colab_type": "text"
      },
      "source": [
        "# New Section"
      ]
    },
    {
      "cell_type": "markdown",
      "metadata": {
        "id": "c3Jl4FMSCJie",
        "colab_type": "text"
      },
      "source": [
        "# New Section"
      ]
    },
    {
      "cell_type": "markdown",
      "metadata": {
        "id": "hnp1CQiBCYMB",
        "colab_type": "text"
      },
      "source": [
        "# New Section"
      ]
    },
    {
      "cell_type": "markdown",
      "metadata": {
        "id": "HotAA8ZWCm14",
        "colab_type": "text"
      },
      "source": [
        "# New Section"
      ]
    },
    {
      "cell_type": "markdown",
      "metadata": {
        "id": "aAL7gledC1e_",
        "colab_type": "text"
      },
      "source": [
        "# New Section"
      ]
    },
    {
      "cell_type": "markdown",
      "metadata": {
        "id": "K2iRe-1GDEIh",
        "colab_type": "text"
      },
      "source": [
        "# New Section"
      ]
    },
    {
      "cell_type": "markdown",
      "metadata": {
        "id": "PFMVVsMPDSyB",
        "colab_type": "text"
      },
      "source": [
        "# New Section"
      ]
    },
    {
      "cell_type": "markdown",
      "metadata": {
        "id": "-kldjQmUDhb6",
        "colab_type": "text"
      },
      "source": [
        "# New Section"
      ]
    },
    {
      "cell_type": "markdown",
      "metadata": {
        "id": "5ACjn3OwDwFG",
        "colab_type": "text"
      },
      "source": [
        "# New Section"
      ]
    },
    {
      "cell_type": "markdown",
      "metadata": {
        "id": "Gn4b0cKmD-uf",
        "colab_type": "text"
      },
      "source": [
        "# New Section"
      ]
    },
    {
      "cell_type": "markdown",
      "metadata": {
        "id": "Q1Y4QwvPENYh",
        "colab_type": "text"
      },
      "source": [
        "# New Section"
      ]
    },
    {
      "cell_type": "markdown",
      "metadata": {
        "id": "dotVZHPTEcBg",
        "colab_type": "text"
      },
      "source": [
        "# New Section"
      ]
    },
    {
      "cell_type": "markdown",
      "metadata": {
        "id": "5QLFnXHREqrF",
        "colab_type": "text"
      },
      "source": [
        "# New Section"
      ]
    },
    {
      "cell_type": "markdown",
      "metadata": {
        "id": "LWzGbAoRE5Um",
        "colab_type": "text"
      },
      "source": [
        "# New Section"
      ]
    },
    {
      "cell_type": "markdown",
      "metadata": {
        "id": "raWjTQ_aFH-G",
        "colab_type": "text"
      },
      "source": [
        "# New Section"
      ]
    },
    {
      "cell_type": "markdown",
      "metadata": {
        "id": "OWMoJw1eFWnl",
        "colab_type": "text"
      },
      "source": [
        "# New Section"
      ]
    },
    {
      "cell_type": "markdown",
      "metadata": {
        "id": "jP7gDIhsFlRF",
        "colab_type": "text"
      },
      "source": [
        "# New Section"
      ]
    },
    {
      "cell_type": "markdown",
      "metadata": {
        "id": "gPf_IJ2vFz6i",
        "colab_type": "text"
      },
      "source": [
        "# New Section"
      ]
    },
    {
      "cell_type": "markdown",
      "metadata": {
        "id": "0lHWuNDbGCkD",
        "colab_type": "text"
      },
      "source": [
        "# New Section"
      ]
    },
    {
      "cell_type": "markdown",
      "metadata": {
        "id": "IrGwcG-VGRNh",
        "colab_type": "text"
      },
      "source": [
        "# New Section"
      ]
    },
    {
      "cell_type": "markdown",
      "metadata": {
        "id": "xINFmYmSGf3E",
        "colab_type": "text"
      },
      "source": [
        "# New Section"
      ]
    },
    {
      "cell_type": "markdown",
      "metadata": {
        "id": "QiWauZXrGugn",
        "colab_type": "text"
      },
      "source": [
        "# New Section"
      ]
    },
    {
      "cell_type": "markdown",
      "metadata": {
        "id": "nqtE4qzRG9KI",
        "colab_type": "text"
      },
      "source": [
        "# New Section"
      ]
    },
    {
      "cell_type": "markdown",
      "metadata": {
        "id": "YGG0911oHLzn",
        "colab_type": "text"
      },
      "source": [
        "# New Section"
      ]
    },
    {
      "cell_type": "markdown",
      "metadata": {
        "id": "iJz75tL4HadD",
        "colab_type": "text"
      },
      "source": [
        "# New Section"
      ]
    },
    {
      "cell_type": "markdown",
      "metadata": {
        "id": "sC1n1_ynHpGj",
        "colab_type": "text"
      },
      "source": [
        "# New Section"
      ]
    },
    {
      "cell_type": "markdown",
      "metadata": {
        "id": "xR1lKTe_H3wF",
        "colab_type": "text"
      },
      "source": [
        "# New Section"
      ]
    },
    {
      "cell_type": "markdown",
      "metadata": {
        "id": "Jctg8VfgIGZo",
        "colab_type": "text"
      },
      "source": [
        "# New Section"
      ]
    },
    {
      "cell_type": "markdown",
      "metadata": {
        "id": "M0SclO6bIVDI",
        "colab_type": "text"
      },
      "source": [
        "# New Section"
      ]
    },
    {
      "cell_type": "markdown",
      "metadata": {
        "id": "OBS7OrGvIjmQ",
        "colab_type": "text"
      },
      "source": [
        "# New Section"
      ]
    },
    {
      "cell_type": "markdown",
      "metadata": {
        "id": "uP3f2M1AIyPk",
        "colab_type": "text"
      },
      "source": [
        "# New Section"
      ]
    },
    {
      "cell_type": "markdown",
      "metadata": {
        "id": "x_9-igogJA5G",
        "colab_type": "text"
      },
      "source": [
        "# New Section"
      ]
    },
    {
      "cell_type": "markdown",
      "metadata": {
        "id": "0I5VGIxNJPik",
        "colab_type": "text"
      },
      "source": [
        "# New Section"
      ]
    },
    {
      "cell_type": "markdown",
      "metadata": {
        "id": "5d_JFib9JeMF",
        "colab_type": "text"
      },
      "source": [
        "# New Section"
      ]
    },
    {
      "cell_type": "markdown",
      "metadata": {
        "id": "C2YlypWGJs1l",
        "colab_type": "text"
      },
      "source": [
        "# New Section"
      ]
    },
    {
      "cell_type": "markdown",
      "metadata": {
        "id": "p55Z9Ng0J7ln",
        "colab_type": "text"
      },
      "source": [
        "# New Section"
      ]
    },
    {
      "cell_type": "markdown",
      "metadata": {
        "id": "3mroWUKQKKPI",
        "colab_type": "text"
      },
      "source": [
        "# New Section"
      ]
    },
    {
      "cell_type": "markdown",
      "metadata": {
        "id": "-YCEMSJ1KY4l",
        "colab_type": "text"
      },
      "source": [
        "# New Section"
      ]
    },
    {
      "cell_type": "markdown",
      "metadata": {
        "id": "1TSCj7nTKniW",
        "colab_type": "text"
      },
      "source": [
        "# New Section"
      ]
    },
    {
      "cell_type": "markdown",
      "metadata": {
        "id": "PTIqI428K4YU",
        "colab_type": "text"
      },
      "source": [
        "# New Section"
      ]
    },
    {
      "cell_type": "markdown",
      "metadata": {
        "id": "NcCwOn57LHRU",
        "colab_type": "text"
      },
      "source": [
        "# New Section"
      ]
    },
    {
      "cell_type": "markdown",
      "metadata": {
        "id": "kBPQfY02LTY4",
        "colab_type": "text"
      },
      "source": [
        "# New Section"
      ]
    },
    {
      "cell_type": "markdown",
      "metadata": {
        "id": "mXT4kfAoLiBq",
        "colab_type": "text"
      },
      "source": [
        "# New Section"
      ]
    },
    {
      "cell_type": "markdown",
      "metadata": {
        "id": "9EuWi_VJLwrO",
        "colab_type": "text"
      },
      "source": [
        "# New Section"
      ]
    },
    {
      "cell_type": "markdown",
      "metadata": {
        "id": "-q-iaF9AL_Um",
        "colab_type": "text"
      },
      "source": [
        "# New Section"
      ]
    },
    {
      "cell_type": "markdown",
      "metadata": {
        "id": "sOoWKeJHMN-L",
        "colab_type": "text"
      },
      "source": [
        "# New Section"
      ]
    },
    {
      "cell_type": "markdown",
      "metadata": {
        "id": "3kRFKZIsMcnp",
        "colab_type": "text"
      },
      "source": [
        "# New Section"
      ]
    },
    {
      "cell_type": "markdown",
      "metadata": {
        "id": "yTvyHIq9MrRN",
        "colab_type": "text"
      },
      "source": [
        "# New Section"
      ]
    },
    {
      "cell_type": "markdown",
      "metadata": {
        "id": "eQde_oe3M56p",
        "colab_type": "text"
      },
      "source": [
        "# New Section"
      ]
    },
    {
      "cell_type": "markdown",
      "metadata": {
        "id": "4O6GJx-4NIkI",
        "colab_type": "text"
      },
      "source": [
        "# New Section"
      ]
    },
    {
      "cell_type": "markdown",
      "metadata": {
        "id": "vQ9s88kINXNp",
        "colab_type": "text"
      },
      "source": [
        "# New Section"
      ]
    },
    {
      "cell_type": "markdown",
      "metadata": {
        "id": "e0wDwy6pNl9p",
        "colab_type": "text"
      },
      "source": [
        "# New Section"
      ]
    },
    {
      "cell_type": "markdown",
      "metadata": {
        "id": "JGjZm5oIN0gq",
        "colab_type": "text"
      },
      "source": [
        "# New Section"
      ]
    },
    {
      "cell_type": "markdown",
      "metadata": {
        "id": "PDLy7fXrODKK",
        "colab_type": "text"
      },
      "source": [
        "# New Section"
      ]
    },
    {
      "cell_type": "markdown",
      "metadata": {
        "id": "-4bhp3rnORzq",
        "colab_type": "text"
      },
      "source": [
        "# New Section"
      ]
    },
    {
      "cell_type": "markdown",
      "metadata": {
        "id": "hnFcp9VvOgdK",
        "colab_type": "text"
      },
      "source": [
        "# New Section"
      ]
    },
    {
      "cell_type": "markdown",
      "metadata": {
        "id": "AF83kbZ_OvGr",
        "colab_type": "text"
      },
      "source": [
        "# New Section"
      ]
    },
    {
      "cell_type": "markdown",
      "metadata": {
        "id": "8oiWP_NFO9wK",
        "colab_type": "text"
      },
      "source": [
        "# New Section"
      ]
    },
    {
      "cell_type": "markdown",
      "metadata": {
        "id": "q5TWCOErPMZt",
        "colab_type": "text"
      },
      "source": [
        "# New Section"
      ]
    },
    {
      "cell_type": "markdown",
      "metadata": {
        "id": "F1MLhHfSPbDK",
        "colab_type": "text"
      },
      "source": [
        "# New Section"
      ]
    },
    {
      "cell_type": "markdown",
      "metadata": {
        "id": "JPbG4fPcPpsr",
        "colab_type": "text"
      },
      "source": [
        "# New Section"
      ]
    },
    {
      "cell_type": "markdown",
      "metadata": {
        "id": "AuMFCFWHP4WJ",
        "colab_type": "text"
      },
      "source": [
        "# New Section"
      ]
    },
    {
      "cell_type": "markdown",
      "metadata": {
        "id": "sLJ2--mCQG_r",
        "colab_type": "text"
      },
      "source": [
        "# New Section"
      ]
    },
    {
      "cell_type": "markdown",
      "metadata": {
        "id": "hbevmt5bQVpS",
        "colab_type": "text"
      },
      "source": [
        "# New Section"
      ]
    },
    {
      "cell_type": "markdown",
      "metadata": {
        "id": "A8Zlf6IhQkSu",
        "colab_type": "text"
      },
      "source": [
        "# New Section"
      ]
    },
    {
      "cell_type": "markdown",
      "metadata": {
        "id": "pdDOUqKmQy8L",
        "colab_type": "text"
      },
      "source": [
        "# New Section"
      ]
    },
    {
      "cell_type": "markdown",
      "metadata": {
        "id": "ybrU4TReRBlr",
        "colab_type": "text"
      },
      "source": [
        "# New Section"
      ]
    },
    {
      "cell_type": "markdown",
      "metadata": {
        "id": "WNDf2_wbRQPK",
        "colab_type": "text"
      },
      "source": [
        "# New Section"
      ]
    },
    {
      "cell_type": "markdown",
      "metadata": {
        "id": "U5UtC4HeRe4r",
        "colab_type": "text"
      },
      "source": [
        "# New Section"
      ]
    },
    {
      "cell_type": "markdown",
      "metadata": {
        "id": "kpltrY7cRtiQ",
        "colab_type": "text"
      },
      "source": [
        "# New Section"
      ]
    },
    {
      "cell_type": "markdown",
      "metadata": {
        "id": "-EHfXsLpR8Lt",
        "colab_type": "text"
      },
      "source": [
        "# New Section"
      ]
    },
    {
      "cell_type": "markdown",
      "metadata": {
        "id": "x_PNv7tlSK1P",
        "colab_type": "text"
      },
      "source": [
        "# New Section"
      ]
    },
    {
      "cell_type": "markdown",
      "metadata": {
        "id": "-9irdOxDSZer",
        "colab_type": "text"
      },
      "source": [
        "# New Section"
      ]
    },
    {
      "cell_type": "markdown",
      "metadata": {
        "id": "m5Pe_pHrSoIL",
        "colab_type": "text"
      },
      "source": [
        "# New Section"
      ]
    },
    {
      "cell_type": "markdown",
      "metadata": {
        "id": "vqdnA50JS2xr",
        "colab_type": "text"
      },
      "source": [
        "# New Section"
      ]
    },
    {
      "cell_type": "markdown",
      "metadata": {
        "id": "ADTVMyovTFbL",
        "colab_type": "text"
      },
      "source": [
        "# New Section"
      ]
    },
    {
      "cell_type": "markdown",
      "metadata": {
        "id": "ZIj7kjSWTUEs",
        "colab_type": "text"
      },
      "source": [
        "# New Section"
      ]
    },
    {
      "cell_type": "markdown",
      "metadata": {
        "id": "11xRADr1TiuM",
        "colab_type": "text"
      },
      "source": [
        "# New Section"
      ]
    },
    {
      "cell_type": "markdown",
      "metadata": {
        "id": "uN30Y8SNTxXr",
        "colab_type": "text"
      },
      "source": [
        "# New Section"
      ]
    },
    {
      "cell_type": "markdown",
      "metadata": {
        "id": "bG7fRxI5UABM",
        "colab_type": "text"
      },
      "source": [
        "# New Section"
      ]
    },
    {
      "cell_type": "markdown",
      "metadata": {
        "id": "ca-QYgc_UOqs",
        "colab_type": "text"
      },
      "source": [
        "# New Section"
      ]
    },
    {
      "cell_type": "markdown",
      "metadata": {
        "id": "_Qe_mx6kUdUM",
        "colab_type": "text"
      },
      "source": [
        "# New Section"
      ]
    },
    {
      "cell_type": "markdown",
      "metadata": {
        "id": "zTzE__3bUr9t",
        "colab_type": "text"
      },
      "source": [
        "# New Section"
      ]
    },
    {
      "cell_type": "markdown",
      "metadata": {
        "id": "cyjakh-KU6nl",
        "colab_type": "text"
      },
      "source": [
        "# New Section"
      ]
    },
    {
      "cell_type": "markdown",
      "metadata": {
        "id": "ttWSpXXeVJQt",
        "colab_type": "text"
      },
      "source": [
        "# New Section"
      ]
    },
    {
      "cell_type": "markdown",
      "metadata": {
        "id": "WezFYAXuVX6N",
        "colab_type": "text"
      },
      "source": [
        "# New Section"
      ]
    },
    {
      "cell_type": "markdown",
      "metadata": {
        "id": "GQQj77oYVmjs",
        "colab_type": "text"
      },
      "source": [
        "# New Section"
      ]
    },
    {
      "cell_type": "markdown",
      "metadata": {
        "id": "fAuE5VMRV1NM",
        "colab_type": "text"
      },
      "source": [
        "# New Section"
      ]
    },
    {
      "cell_type": "markdown",
      "metadata": {
        "id": "gv-iA5w9WD2r",
        "colab_type": "text"
      },
      "source": [
        "# New Section"
      ]
    },
    {
      "cell_type": "markdown",
      "metadata": {
        "id": "BqN2SyZtWSgN",
        "colab_type": "text"
      },
      "source": [
        "# New Section"
      ]
    },
    {
      "cell_type": "markdown",
      "metadata": {
        "id": "LaR10u6SWhJs",
        "colab_type": "text"
      },
      "source": [
        "# New Section"
      ]
    },
    {
      "cell_type": "markdown",
      "metadata": {
        "id": "XefLKOjaWvzV",
        "colab_type": "text"
      },
      "source": [
        "# New Section"
      ]
    },
    {
      "cell_type": "markdown",
      "metadata": {
        "id": "G0wyMXusW-cs",
        "colab_type": "text"
      },
      "source": [
        "# New Section"
      ]
    },
    {
      "cell_type": "markdown",
      "metadata": {
        "id": "wbuutVflXNGM",
        "colab_type": "text"
      },
      "source": [
        "# New Section"
      ]
    },
    {
      "cell_type": "markdown",
      "metadata": {
        "id": "cFL2VxS3Xbvu",
        "colab_type": "text"
      },
      "source": [
        "# New Section"
      ]
    },
    {
      "cell_type": "markdown",
      "metadata": {
        "id": "EdrJeSseXqZN",
        "colab_type": "text"
      },
      "source": [
        "# New Section"
      ]
    },
    {
      "cell_type": "markdown",
      "metadata": {
        "id": "Za8l395zX5Cv",
        "colab_type": "text"
      },
      "source": [
        "# New Section"
      ]
    },
    {
      "cell_type": "markdown",
      "metadata": {
        "id": "JyqDUN90YHsQ",
        "colab_type": "text"
      },
      "source": [
        "# New Section"
      ]
    },
    {
      "cell_type": "markdown",
      "metadata": {
        "id": "UCuyzCcWYWVu",
        "colab_type": "text"
      },
      "source": [
        "# New Section"
      ]
    },
    {
      "cell_type": "markdown",
      "metadata": {
        "id": "c8xTnVByYk_O",
        "colab_type": "text"
      },
      "source": [
        "# New Section"
      ]
    },
    {
      "cell_type": "markdown",
      "metadata": {
        "id": "Ba8efFz0Yzou",
        "colab_type": "text"
      },
      "source": [
        "# New Section"
      ]
    },
    {
      "cell_type": "markdown",
      "metadata": {
        "id": "snNzqcMmZCSN",
        "colab_type": "text"
      },
      "source": [
        "# New Section"
      ]
    },
    {
      "cell_type": "markdown",
      "metadata": {
        "id": "sxXoaXEOZQ7t",
        "colab_type": "text"
      },
      "source": [
        "# New Section"
      ]
    },
    {
      "cell_type": "markdown",
      "metadata": {
        "id": "Tzi1K1I0ZflS",
        "colab_type": "text"
      },
      "source": [
        "# New Section"
      ]
    },
    {
      "cell_type": "markdown",
      "metadata": {
        "id": "y5u5MokUZuOx",
        "colab_type": "text"
      },
      "source": [
        "# New Section"
      ]
    },
    {
      "cell_type": "markdown",
      "metadata": {
        "id": "Kffy3hanZ84O",
        "colab_type": "text"
      },
      "source": [
        "# New Section"
      ]
    },
    {
      "cell_type": "markdown",
      "metadata": {
        "id": "co5NnfysaLht",
        "colab_type": "text"
      },
      "source": [
        "# New Section"
      ]
    },
    {
      "cell_type": "markdown",
      "metadata": {
        "id": "TMZ7FrysaaLO",
        "colab_type": "text"
      },
      "source": [
        "# New Section"
      ]
    },
    {
      "cell_type": "markdown",
      "metadata": {
        "id": "_yYEu0kPao0u",
        "colab_type": "text"
      },
      "source": [
        "# New Section"
      ]
    },
    {
      "cell_type": "markdown",
      "metadata": {
        "id": "hWuLVOz-a3eP",
        "colab_type": "text"
      },
      "source": [
        "# New Section"
      ]
    },
    {
      "cell_type": "markdown",
      "metadata": {
        "id": "u0MFOdDybGHv",
        "colab_type": "text"
      },
      "source": [
        "# New Section"
      ]
    },
    {
      "cell_type": "markdown",
      "metadata": {
        "id": "vN7a_j4EbUxP",
        "colab_type": "text"
      },
      "source": [
        "# New Section"
      ]
    },
    {
      "cell_type": "markdown",
      "metadata": {
        "id": "nrG37Kd7bjax",
        "colab_type": "text"
      },
      "source": [
        "# New Section"
      ]
    },
    {
      "cell_type": "markdown",
      "metadata": {
        "id": "zqWYeJvMbyEP",
        "colab_type": "text"
      },
      "source": [
        "# New Section"
      ]
    },
    {
      "cell_type": "markdown",
      "metadata": {
        "id": "L6OPFYIIcAtv",
        "colab_type": "text"
      },
      "source": [
        "# New Section"
      ]
    },
    {
      "cell_type": "markdown",
      "metadata": {
        "id": "S7KJpvTAcPYH",
        "colab_type": "text"
      },
      "source": [
        "# New Section"
      ]
    },
    {
      "cell_type": "markdown",
      "metadata": {
        "id": "eXXJWVqVceAv",
        "colab_type": "text"
      },
      "source": [
        "# New Section"
      ]
    },
    {
      "cell_type": "markdown",
      "metadata": {
        "id": "I2hG9HUtcsqP",
        "colab_type": "text"
      },
      "source": [
        "# New Section"
      ]
    },
    {
      "cell_type": "markdown",
      "metadata": {
        "id": "0_A8-7Ikc7Tv",
        "colab_type": "text"
      },
      "source": [
        "# New Section"
      ]
    },
    {
      "cell_type": "markdown",
      "metadata": {
        "id": "mcUUkAcMdJ9P",
        "colab_type": "text"
      },
      "source": [
        "# New Section"
      ]
    },
    {
      "cell_type": "markdown",
      "metadata": {
        "id": "x1eHbxnLdYmv",
        "colab_type": "text"
      },
      "source": [
        "# New Section"
      ]
    },
    {
      "cell_type": "markdown",
      "metadata": {
        "id": "_d_dGYNTdnQP",
        "colab_type": "text"
      },
      "source": [
        "# New Section"
      ]
    },
    {
      "cell_type": "markdown",
      "metadata": {
        "id": "m6Z2i5Vgd15w",
        "colab_type": "text"
      },
      "source": [
        "# New Section"
      ]
    },
    {
      "cell_type": "markdown",
      "metadata": {
        "id": "K4rhy7OueEjQ",
        "colab_type": "text"
      },
      "source": [
        "# New Section"
      ]
    },
    {
      "cell_type": "markdown",
      "metadata": {
        "id": "nVxT0xxFeTNu",
        "colab_type": "text"
      },
      "source": [
        "# New Section"
      ]
    },
    {
      "cell_type": "markdown",
      "metadata": {
        "id": "Pao1NL29eh2P",
        "colab_type": "text"
      },
      "source": [
        "# New Section"
      ]
    },
    {
      "cell_type": "markdown",
      "metadata": {
        "id": "8IWgQFlfewf0",
        "colab_type": "text"
      },
      "source": [
        "# New Section"
      ]
    },
    {
      "cell_type": "markdown",
      "metadata": {
        "id": "ri682RpJe_JQ",
        "colab_type": "text"
      },
      "source": [
        "# New Section"
      ]
    },
    {
      "cell_type": "markdown",
      "metadata": {
        "id": "og9CCJGhfNyw",
        "colab_type": "text"
      },
      "source": [
        "# New Section"
      ]
    },
    {
      "cell_type": "markdown",
      "metadata": {
        "id": "FCkGdnARfccR",
        "colab_type": "text"
      },
      "source": [
        "# New Section"
      ]
    },
    {
      "cell_type": "markdown",
      "metadata": {
        "id": "S6wnT_0JfrF2",
        "colab_type": "text"
      },
      "source": [
        "# New Section"
      ]
    },
    {
      "cell_type": "markdown",
      "metadata": {
        "id": "r28aX5lzf5vU",
        "colab_type": "text"
      },
      "source": [
        "# New Section"
      ]
    },
    {
      "cell_type": "markdown",
      "metadata": {
        "id": "hlVLZ8OPgIYy",
        "colab_type": "text"
      },
      "source": [
        "# New Section"
      ]
    },
    {
      "cell_type": "markdown",
      "metadata": {
        "id": "XrzduYYygXCS",
        "colab_type": "text"
      },
      "source": [
        "# New Section"
      ]
    },
    {
      "cell_type": "markdown",
      "metadata": {
        "id": "qVelxPJFglr1",
        "colab_type": "text"
      },
      "source": [
        "# New Section"
      ]
    },
    {
      "cell_type": "markdown",
      "metadata": {
        "id": "gC_Ure_Kg0VS",
        "colab_type": "text"
      },
      "source": [
        "# New Section"
      ]
    },
    {
      "cell_type": "markdown",
      "metadata": {
        "id": "OFjwqQM0hC-x",
        "colab_type": "text"
      },
      "source": [
        "# New Section"
      ]
    },
    {
      "cell_type": "markdown",
      "metadata": {
        "id": "jgujiE9LhRoR",
        "colab_type": "text"
      },
      "source": [
        "# New Section"
      ]
    },
    {
      "cell_type": "markdown",
      "metadata": {
        "id": "bMDlC50MhgSY",
        "colab_type": "text"
      },
      "source": [
        "# New Section"
      ]
    },
    {
      "cell_type": "markdown",
      "metadata": {
        "id": "Fs4gS6--hu7R",
        "colab_type": "text"
      },
      "source": [
        "# New Section"
      ]
    },
    {
      "cell_type": "markdown",
      "metadata": {
        "id": "liMPXoRph9ky",
        "colab_type": "text"
      },
      "source": [
        "# New Section"
      ]
    },
    {
      "cell_type": "markdown",
      "metadata": {
        "id": "ibk_-QawiMOV",
        "colab_type": "text"
      },
      "source": [
        "# New Section"
      ]
    },
    {
      "cell_type": "markdown",
      "metadata": {
        "id": "YG3kEndtia3x",
        "colab_type": "text"
      },
      "source": [
        "# New Section"
      ]
    },
    {
      "cell_type": "markdown",
      "metadata": {
        "id": "ynZpIeuripiO",
        "colab_type": "text"
      },
      "source": [
        "# New Section"
      ]
    },
    {
      "cell_type": "markdown",
      "metadata": {
        "id": "yt39ThEEi4Kz",
        "colab_type": "text"
      },
      "source": [
        "# New Section"
      ]
    },
    {
      "cell_type": "markdown",
      "metadata": {
        "id": "fsrN2OnljG0T",
        "colab_type": "text"
      },
      "source": [
        "# New Section"
      ]
    },
    {
      "cell_type": "markdown",
      "metadata": {
        "id": "Yr_VC3scjVdz",
        "colab_type": "text"
      },
      "source": [
        "# New Section"
      ]
    },
    {
      "cell_type": "markdown",
      "metadata": {
        "id": "WpN1sRVnjkHS",
        "colab_type": "text"
      },
      "source": [
        "# New Section"
      ]
    },
    {
      "cell_type": "markdown",
      "metadata": {
        "id": "ZUpBu5ksjyw0",
        "colab_type": "text"
      },
      "source": [
        "# New Section"
      ]
    },
    {
      "cell_type": "markdown",
      "metadata": {
        "id": "M9uH0_ODkBaw",
        "colab_type": "text"
      },
      "source": [
        "# New Section"
      ]
    },
    {
      "cell_type": "markdown",
      "metadata": {
        "id": "CQGZJD8ckQKQ",
        "colab_type": "text"
      },
      "source": [
        "# New Section"
      ]
    },
    {
      "cell_type": "markdown",
      "metadata": {
        "id": "CQT34aN_kev2",
        "colab_type": "text"
      },
      "source": [
        "# New Section"
      ]
    },
    {
      "cell_type": "markdown",
      "metadata": {
        "id": "tNmFmDgrktWz",
        "colab_type": "text"
      },
      "source": [
        "# New Section"
      ]
    },
    {
      "cell_type": "markdown",
      "metadata": {
        "id": "og3jKyL-k8AU",
        "colab_type": "text"
      },
      "source": [
        "# New Section"
      ]
    },
    {
      "cell_type": "markdown",
      "metadata": {
        "id": "h4gl2cX_lKp9",
        "colab_type": "text"
      },
      "source": [
        "# New Section"
      ]
    },
    {
      "cell_type": "markdown",
      "metadata": {
        "id": "OrQPp_oklZTT",
        "colab_type": "text"
      },
      "source": [
        "# New Section"
      ]
    },
    {
      "cell_type": "markdown",
      "metadata": {
        "id": "ZSBhY1otln8z",
        "colab_type": "text"
      },
      "source": [
        "# New Section"
      ]
    },
    {
      "cell_type": "markdown",
      "metadata": {
        "id": "881NQ5W3l2mW",
        "colab_type": "text"
      },
      "source": [
        "# New Section"
      ]
    },
    {
      "cell_type": "markdown",
      "metadata": {
        "id": "g1SPxNUlmFP2",
        "colab_type": "text"
      },
      "source": [
        "# New Section"
      ]
    },
    {
      "cell_type": "markdown",
      "metadata": {
        "id": "ZXCmzm3RmT5T",
        "colab_type": "text"
      },
      "source": [
        "# New Section"
      ]
    },
    {
      "cell_type": "markdown",
      "metadata": {
        "id": "ofYvweKFmii0",
        "colab_type": "text"
      },
      "source": [
        "# New Section"
      ]
    },
    {
      "cell_type": "markdown",
      "metadata": {
        "id": "y631xKiomxMt",
        "colab_type": "text"
      },
      "source": [
        "# New Section"
      ]
    },
    {
      "cell_type": "markdown",
      "metadata": {
        "id": "qZLWSfcEm_10",
        "colab_type": "text"
      },
      "source": [
        "# New Section"
      ]
    },
    {
      "cell_type": "markdown",
      "metadata": {
        "id": "AEheHL-lnOfV",
        "colab_type": "text"
      },
      "source": [
        "# New Section"
      ]
    },
    {
      "cell_type": "markdown",
      "metadata": {
        "id": "G2TRS-EZndI0",
        "colab_type": "text"
      },
      "source": [
        "# New Section"
      ]
    },
    {
      "cell_type": "markdown",
      "metadata": {
        "id": "mVaeAjwinryW",
        "colab_type": "text"
      },
      "source": [
        "# New Section"
      ]
    },
    {
      "cell_type": "markdown",
      "metadata": {
        "id": "kJ6COwZFn6by",
        "colab_type": "text"
      },
      "source": [
        "# New Section"
      ]
    },
    {
      "cell_type": "markdown",
      "metadata": {
        "id": "gNPz0VuNoJFU",
        "colab_type": "text"
      },
      "source": [
        "# New Section"
      ]
    },
    {
      "cell_type": "markdown",
      "metadata": {
        "id": "3fXxOc7ioXu1",
        "colab_type": "text"
      },
      "source": [
        "# New Section"
      ]
    },
    {
      "cell_type": "markdown",
      "metadata": {
        "id": "P12uz4PlomYV",
        "colab_type": "text"
      },
      "source": [
        "# New Section"
      ]
    },
    {
      "cell_type": "markdown",
      "metadata": {
        "id": "6hxL35rao1B1",
        "colab_type": "text"
      },
      "source": [
        "# New Section"
      ]
    },
    {
      "cell_type": "markdown",
      "metadata": {
        "id": "HviyC8XApDrY",
        "colab_type": "text"
      },
      "source": [
        "# New Section"
      ]
    },
    {
      "cell_type": "markdown",
      "metadata": {
        "id": "H7tgsvKnpSU1",
        "colab_type": "text"
      },
      "source": [
        "# New Section"
      ]
    },
    {
      "cell_type": "markdown",
      "metadata": {
        "id": "nY83jLkopg-V",
        "colab_type": "text"
      },
      "source": [
        "# New Section"
      ]
    },
    {
      "cell_type": "markdown",
      "metadata": {
        "id": "Mx9Chig4pvn1",
        "colab_type": "text"
      },
      "source": [
        "# New Section"
      ]
    },
    {
      "cell_type": "markdown",
      "metadata": {
        "id": "UkmRrKlep-Ra",
        "colab_type": "text"
      },
      "source": [
        "# New Section"
      ]
    },
    {
      "cell_type": "markdown",
      "metadata": {
        "id": "pQRgdhILqM61",
        "colab_type": "text"
      },
      "source": [
        "# New Section"
      ]
    },
    {
      "cell_type": "markdown",
      "metadata": {
        "id": "199jUw6rqbkW",
        "colab_type": "text"
      },
      "source": [
        "# New Section"
      ]
    },
    {
      "cell_type": "markdown",
      "metadata": {
        "id": "L2YwfFcNqqN6",
        "colab_type": "text"
      },
      "source": [
        "# New Section"
      ]
    },
    {
      "cell_type": "markdown",
      "metadata": {
        "id": "OeWmeJkZq43V",
        "colab_type": "text"
      },
      "source": [
        "# New Section"
      ]
    },
    {
      "cell_type": "markdown",
      "metadata": {
        "id": "jUe3_1pmrHg1",
        "colab_type": "text"
      },
      "source": [
        "# New Section"
      ]
    },
    {
      "cell_type": "markdown",
      "metadata": {
        "id": "k3roCU9frWK6",
        "colab_type": "text"
      },
      "source": [
        "# New Section"
      ]
    },
    {
      "cell_type": "markdown",
      "metadata": {
        "id": "6otXsUlKrkz0",
        "colab_type": "text"
      },
      "source": [
        "# New Section"
      ]
    },
    {
      "cell_type": "markdown",
      "metadata": {
        "id": "6XhrrPtUrzdv",
        "colab_type": "text"
      },
      "source": [
        "# New Section"
      ]
    },
    {
      "cell_type": "markdown",
      "metadata": {
        "id": "8HoegROVsCG3",
        "colab_type": "text"
      },
      "source": [
        "# New Section"
      ]
    },
    {
      "cell_type": "markdown",
      "metadata": {
        "id": "BIDoJ8OGsQwY",
        "colab_type": "text"
      },
      "source": [
        "# New Section"
      ]
    },
    {
      "cell_type": "markdown",
      "metadata": {
        "id": "a14f6aPjsfZ2",
        "colab_type": "text"
      },
      "source": [
        "# New Section"
      ]
    },
    {
      "cell_type": "markdown",
      "metadata": {
        "id": "CS5fmcLnsuDX",
        "colab_type": "text"
      },
      "source": [
        "# New Section"
      ]
    },
    {
      "cell_type": "markdown",
      "metadata": {
        "id": "uX6gTHArs8s7",
        "colab_type": "text"
      },
      "source": [
        "# New Section"
      ]
    },
    {
      "cell_type": "markdown",
      "metadata": {
        "id": "y6QREcgTtLWa",
        "colab_type": "text"
      },
      "source": [
        "# New Section"
      ]
    },
    {
      "cell_type": "markdown",
      "metadata": {
        "id": "qRSy0XmItZ_3",
        "colab_type": "text"
      },
      "source": [
        "# New Section"
      ]
    },
    {
      "cell_type": "markdown",
      "metadata": {
        "id": "PUfYM8MStov2",
        "colab_type": "text"
      },
      "source": [
        "# New Section"
      ]
    },
    {
      "cell_type": "markdown",
      "metadata": {
        "id": "ICcFtR075OJu",
        "colab_type": "text"
      },
      "source": [
        "# New Section"
      ]
    },
    {
      "cell_type": "markdown",
      "metadata": {
        "id": "nBZx-aX4MqZe",
        "colab_type": "text"
      },
      "source": [
        "# New Section"
      ]
    },
    {
      "cell_type": "markdown",
      "metadata": {
        "id": "yOiLMuKhM5C_",
        "colab_type": "text"
      },
      "source": [
        "# New Section"
      ]
    },
    {
      "cell_type": "markdown",
      "metadata": {
        "id": "3F04GQiXNHsf",
        "colab_type": "text"
      },
      "source": [
        "# New Section"
      ]
    },
    {
      "cell_type": "markdown",
      "metadata": {
        "id": "MRvQx8a3NWV-",
        "colab_type": "text"
      },
      "source": [
        "# New Section"
      ]
    },
    {
      "cell_type": "markdown",
      "metadata": {
        "id": "XTbzY8NfNk_f",
        "colab_type": "text"
      },
      "source": [
        "# New Section"
      ]
    },
    {
      "cell_type": "markdown",
      "metadata": {
        "id": "-FfhgX3gNzpA",
        "colab_type": "text"
      },
      "source": [
        "# New Section"
      ]
    },
    {
      "cell_type": "markdown",
      "metadata": {
        "id": "2cAAaukpOCSf",
        "colab_type": "text"
      },
      "source": [
        "# New Section"
      ]
    },
    {
      "cell_type": "markdown",
      "metadata": {
        "id": "QWxjgB_fOQ7_",
        "colab_type": "text"
      },
      "source": [
        "# New Section"
      ]
    },
    {
      "cell_type": "markdown",
      "metadata": {
        "id": "H_qv6MnFOflf",
        "colab_type": "text"
      },
      "source": [
        "# New Section"
      ]
    },
    {
      "cell_type": "markdown",
      "metadata": {
        "id": "YKe_4JXYOuPA",
        "colab_type": "text"
      },
      "source": [
        "# New Section"
      ]
    },
    {
      "cell_type": "markdown",
      "metadata": {
        "id": "stmxGJssO84f",
        "colab_type": "text"
      },
      "source": [
        "# New Section"
      ]
    },
    {
      "cell_type": "markdown",
      "metadata": {
        "id": "AbkpJ3sBPLh_",
        "colab_type": "text"
      },
      "source": [
        "# New Section"
      ]
    },
    {
      "cell_type": "markdown",
      "metadata": {
        "id": "eXiL_jMvPaLe",
        "colab_type": "text"
      },
      "source": [
        "# New Section"
      ]
    },
    {
      "cell_type": "markdown",
      "metadata": {
        "id": "vexWBQtfPo1A",
        "colab_type": "text"
      },
      "source": [
        "# New Section"
      ]
    },
    {
      "cell_type": "markdown",
      "metadata": {
        "id": "zXOKffnpP3eg",
        "colab_type": "text"
      },
      "source": [
        "# New Section"
      ]
    },
    {
      "cell_type": "markdown",
      "metadata": {
        "id": "P661BV91QGIA",
        "colab_type": "text"
      },
      "source": [
        "# New Section"
      ]
    },
    {
      "cell_type": "markdown",
      "metadata": {
        "id": "D26R8k3qQUxe",
        "colab_type": "text"
      },
      "source": [
        "# New Section"
      ]
    },
    {
      "cell_type": "markdown",
      "metadata": {
        "id": "SBptrV7bQjbD",
        "colab_type": "text"
      },
      "source": [
        "# New Section"
      ]
    },
    {
      "cell_type": "markdown",
      "metadata": {
        "id": "_ovTBOT7QyEg",
        "colab_type": "text"
      },
      "source": [
        "# New Section"
      ]
    },
    {
      "cell_type": "markdown",
      "metadata": {
        "id": "5WAzMNMaRAt_",
        "colab_type": "text"
      },
      "source": [
        "# New Section"
      ]
    },
    {
      "cell_type": "markdown",
      "metadata": {
        "id": "TIM7Ro2qRPXg",
        "colab_type": "text"
      },
      "source": [
        "# New Section"
      ]
    },
    {
      "cell_type": "markdown",
      "metadata": {
        "id": "ACjC7GKtReBA",
        "colab_type": "text"
      },
      "source": [
        "# New Section"
      ]
    },
    {
      "cell_type": "markdown",
      "metadata": {
        "id": "Qs6n9hiKRsqg",
        "colab_type": "text"
      },
      "source": [
        "# New Section"
      ]
    },
    {
      "cell_type": "markdown",
      "metadata": {
        "id": "YED15qWxR7UB",
        "colab_type": "text"
      },
      "source": [
        "# New Section"
      ]
    },
    {
      "cell_type": "markdown",
      "metadata": {
        "id": "S3lnhAbxSJ9g",
        "colab_type": "text"
      },
      "source": [
        "# New Section"
      ]
    },
    {
      "cell_type": "markdown",
      "metadata": {
        "id": "mz3U0gUiSYnA",
        "colab_type": "text"
      },
      "source": [
        "# New Section"
      ]
    },
    {
      "cell_type": "markdown",
      "metadata": {
        "id": "ENfw0LQmSnQf",
        "colab_type": "text"
      },
      "source": [
        "# New Section"
      ]
    },
    {
      "cell_type": "markdown",
      "metadata": {
        "id": "sg3jpAFLS16B",
        "colab_type": "text"
      },
      "source": [
        "# New Section"
      ]
    },
    {
      "cell_type": "markdown",
      "metadata": {
        "id": "7whzrgx2TEjf",
        "colab_type": "text"
      },
      "source": [
        "# New Section"
      ]
    },
    {
      "cell_type": "markdown",
      "metadata": {
        "id": "9Yza-n7mTTM-",
        "colab_type": "text"
      },
      "source": [
        "# New Section"
      ]
    },
    {
      "cell_type": "markdown",
      "metadata": {
        "id": "H1XhTqjsTh2g",
        "colab_type": "text"
      },
      "source": [
        "# New Section"
      ]
    },
    {
      "cell_type": "markdown",
      "metadata": {
        "id": "trCsT143Twf_",
        "colab_type": "text"
      },
      "source": [
        "# New Section"
      ]
    },
    {
      "cell_type": "markdown",
      "metadata": {
        "id": "U7eKAjGST_Jj",
        "colab_type": "text"
      },
      "source": [
        "# New Section"
      ]
    },
    {
      "cell_type": "markdown",
      "metadata": {
        "id": "-JuHZDTdUNzA",
        "colab_type": "text"
      },
      "source": [
        "# New Section"
      ]
    },
    {
      "cell_type": "markdown",
      "metadata": {
        "id": "lrna1qGZUccg",
        "colab_type": "text"
      },
      "source": [
        "# New Section"
      ]
    },
    {
      "cell_type": "markdown",
      "metadata": {
        "id": "7XVrSvC1UrGA",
        "colab_type": "text"
      },
      "source": [
        "# New Section"
      ]
    },
    {
      "cell_type": "markdown",
      "metadata": {
        "id": "G9q-pl_wU5wJ",
        "colab_type": "text"
      },
      "source": [
        "# New Section"
      ]
    },
    {
      "cell_type": "markdown",
      "metadata": {
        "id": "xiwv3aOrVIY_",
        "colab_type": "text"
      },
      "source": [
        "# New Section"
      ]
    },
    {
      "cell_type": "markdown",
      "metadata": {
        "id": "ly31byA_VXCg",
        "colab_type": "text"
      },
      "source": [
        "# New Section"
      ]
    },
    {
      "cell_type": "markdown",
      "metadata": {
        "id": "3TbQzcyGVlsA",
        "colab_type": "text"
      },
      "source": [
        "# New Section"
      ]
    },
    {
      "cell_type": "markdown",
      "metadata": {
        "id": "y0pYMDfcV0Vg",
        "colab_type": "text"
      },
      "source": [
        "# New Section"
      ]
    },
    {
      "cell_type": "markdown",
      "metadata": {
        "id": "OIs8s5HGWC_B",
        "colab_type": "text"
      },
      "source": [
        "# New Section"
      ]
    },
    {
      "cell_type": "markdown",
      "metadata": {
        "id": "B-xvjxqXWRoh",
        "colab_type": "text"
      },
      "source": [
        "# New Section"
      ]
    },
    {
      "cell_type": "markdown",
      "metadata": {
        "id": "AV-NFR3RWgR_",
        "colab_type": "text"
      },
      "source": [
        "# New Section"
      ]
    },
    {
      "cell_type": "markdown",
      "metadata": {
        "id": "rwVpzQktWu7h",
        "colab_type": "text"
      },
      "source": [
        "# New Section"
      ]
    },
    {
      "cell_type": "markdown",
      "metadata": {
        "id": "k68HUrO3W9k_",
        "colab_type": "text"
      },
      "source": [
        "# New Section"
      ]
    },
    {
      "cell_type": "markdown",
      "metadata": {
        "id": "LOtooUppXMOg",
        "colab_type": "text"
      },
      "source": [
        "# New Section"
      ]
    },
    {
      "cell_type": "markdown",
      "metadata": {
        "id": "UALM_BFcXa4B",
        "colab_type": "text"
      },
      "source": [
        "# New Section"
      ]
    },
    {
      "cell_type": "markdown",
      "metadata": {
        "id": "Jl7vCN6EXphf",
        "colab_type": "text"
      },
      "source": [
        "# New Section"
      ]
    },
    {
      "cell_type": "markdown",
      "metadata": {
        "id": "fRbddvr9X4K_",
        "colab_type": "text"
      },
      "source": [
        "# New Section"
      ]
    },
    {
      "cell_type": "markdown",
      "metadata": {
        "id": "QpGHbBexYG0i",
        "colab_type": "text"
      },
      "source": [
        "# New Section"
      ]
    },
    {
      "cell_type": "markdown",
      "metadata": {
        "id": "ATjQDj_vYVeB",
        "colab_type": "text"
      },
      "source": [
        "# New Section"
      ]
    },
    {
      "cell_type": "markdown",
      "metadata": {
        "id": "QTSAH6_aYkHh",
        "colab_type": "text"
      },
      "source": [
        "# New Section"
      ]
    },
    {
      "cell_type": "markdown",
      "metadata": {
        "id": "W_5Uu1MpYyxA",
        "colab_type": "text"
      },
      "source": [
        "# New Section"
      ]
    },
    {
      "cell_type": "markdown",
      "metadata": {
        "id": "CUw9zAdlZBag",
        "colab_type": "text"
      },
      "source": [
        "# New Section"
      ]
    },
    {
      "cell_type": "markdown",
      "metadata": {
        "id": "F_b042xsZQEC",
        "colab_type": "text"
      },
      "source": [
        "# New Section"
      ]
    },
    {
      "cell_type": "markdown",
      "metadata": {
        "id": "neATP8LhZetg",
        "colab_type": "text"
      },
      "source": [
        "# New Section"
      ]
    },
    {
      "cell_type": "markdown",
      "metadata": {
        "id": "c66hPQXbZtXB",
        "colab_type": "text"
      },
      "source": [
        "# New Section"
      ]
    },
    {
      "cell_type": "markdown",
      "metadata": {
        "id": "2V9Mlz1AZ8Ag",
        "colab_type": "text"
      },
      "source": [
        "# New Section"
      ]
    },
    {
      "cell_type": "markdown",
      "metadata": {
        "id": "KaAn5LOoaKqE",
        "colab_type": "text"
      },
      "source": [
        "# New Section"
      ]
    },
    {
      "cell_type": "markdown",
      "metadata": {
        "id": "BMmImszhaZTf",
        "colab_type": "text"
      },
      "source": [
        "# New Section"
      ]
    },
    {
      "cell_type": "markdown",
      "metadata": {
        "id": "T9sFD9MFan9F",
        "colab_type": "text"
      },
      "source": [
        "# New Section"
      ]
    },
    {
      "cell_type": "markdown",
      "metadata": {
        "id": "3F01SdYFa2mh",
        "colab_type": "text"
      },
      "source": [
        "# New Section"
      ]
    },
    {
      "cell_type": "markdown",
      "metadata": {
        "id": "ma_U-W16bFQE",
        "colab_type": "text"
      },
      "source": [
        "# New Section"
      ]
    },
    {
      "cell_type": "markdown",
      "metadata": {
        "id": "3PxbG_LWbT5h",
        "colab_type": "text"
      },
      "source": [
        "# New Section"
      ]
    },
    {
      "cell_type": "markdown",
      "metadata": {
        "id": "ABCfdULZbijB",
        "colab_type": "text"
      },
      "source": [
        "# New Section"
      ]
    },
    {
      "cell_type": "markdown",
      "metadata": {
        "id": "fq8vdZfqbxMg",
        "colab_type": "text"
      },
      "source": [
        "# New Section"
      ]
    },
    {
      "cell_type": "markdown",
      "metadata": {
        "id": "QjheOXu6b_2B",
        "colab_type": "text"
      },
      "source": [
        "# New Section"
      ]
    },
    {
      "cell_type": "markdown",
      "metadata": {
        "id": "uiv5ASHCcOfe",
        "colab_type": "text"
      },
      "source": [
        "# New Section"
      ]
    },
    {
      "cell_type": "markdown",
      "metadata": {
        "id": "k7vy1eVRcdJB",
        "colab_type": "text"
      },
      "source": [
        "# New Section"
      ]
    },
    {
      "cell_type": "markdown",
      "metadata": {
        "id": "o-aSwMfkcryh",
        "colab_type": "text"
      },
      "source": [
        "# New Section"
      ]
    },
    {
      "cell_type": "markdown",
      "metadata": {
        "id": "iIpDk6zzc6cA",
        "colab_type": "text"
      },
      "source": [
        "# New Section"
      ]
    },
    {
      "cell_type": "markdown",
      "metadata": {
        "id": "7EdlFEGtdJFh",
        "colab_type": "text"
      },
      "source": [
        "# New Section"
      ]
    },
    {
      "cell_type": "markdown",
      "metadata": {
        "id": "RAfkI8gSdXvB",
        "colab_type": "text"
      },
      "source": [
        "# New Section"
      ]
    },
    {
      "cell_type": "markdown",
      "metadata": {
        "id": "29y4icnQdmYh",
        "colab_type": "text"
      },
      "source": [
        "# New Section"
      ]
    },
    {
      "cell_type": "markdown",
      "metadata": {
        "id": "34sTogeLd1CA",
        "colab_type": "text"
      },
      "source": [
        "# New Section"
      ]
    },
    {
      "cell_type": "markdown",
      "metadata": {
        "id": "niod13EAeDrv",
        "colab_type": "text"
      },
      "source": [
        "# New Section"
      ]
    },
    {
      "cell_type": "markdown",
      "metadata": {
        "id": "BeN2uiIKeSU_",
        "colab_type": "text"
      },
      "source": [
        "# New Section"
      ]
    },
    {
      "cell_type": "markdown",
      "metadata": {
        "id": "lr5hiAcseg-j",
        "colab_type": "text"
      },
      "source": [
        "# New Section"
      ]
    },
    {
      "cell_type": "markdown",
      "metadata": {
        "id": "-Za8dswsevoB",
        "colab_type": "text"
      },
      "source": [
        "# New Section"
      ]
    },
    {
      "cell_type": "markdown",
      "metadata": {
        "id": "8WPvefAJe-Rh",
        "colab_type": "text"
      },
      "source": [
        "# New Section"
      ]
    },
    {
      "cell_type": "markdown",
      "metadata": {
        "id": "deepZlqPfM7X",
        "colab_type": "text"
      },
      "source": [
        "# New Section"
      ]
    },
    {
      "cell_type": "markdown",
      "metadata": {
        "id": "Wkbe_rv4fbki",
        "colab_type": "text"
      },
      "source": [
        "# New Section"
      ]
    },
    {
      "cell_type": "markdown",
      "metadata": {
        "id": "mLo_qW8IfqN_",
        "colab_type": "text"
      },
      "source": [
        "# New Section"
      ]
    },
    {
      "cell_type": "markdown",
      "metadata": {
        "id": "hYr-nZMOf43i",
        "colab_type": "text"
      },
      "source": [
        "# New Section"
      ]
    },
    {
      "cell_type": "markdown",
      "metadata": {
        "id": "aDrAA51ZgHhE",
        "colab_type": "text"
      },
      "source": [
        "# New Section"
      ]
    },
    {
      "cell_type": "markdown",
      "metadata": {
        "id": "7_pXuOfAgWKg",
        "colab_type": "text"
      },
      "source": [
        "# New Section"
      ]
    },
    {
      "cell_type": "markdown",
      "metadata": {
        "id": "GJYrTJImgk0C",
        "colab_type": "text"
      },
      "source": [
        "# New Section"
      ]
    },
    {
      "cell_type": "markdown",
      "metadata": {
        "id": "dzafCAnFgzdg",
        "colab_type": "text"
      },
      "source": [
        "# New Section"
      ]
    },
    {
      "cell_type": "markdown",
      "metadata": {
        "id": "qv2DiF7DhCHF",
        "colab_type": "text"
      },
      "source": [
        "# New Section"
      ]
    },
    {
      "cell_type": "markdown",
      "metadata": {
        "id": "GKVfwY3lhQwh",
        "colab_type": "text"
      },
      "source": [
        "# New Section"
      ]
    },
    {
      "cell_type": "markdown",
      "metadata": {
        "id": "YAnQ6uhNhfaC",
        "colab_type": "text"
      },
      "source": [
        "# New Section"
      ]
    },
    {
      "cell_type": "markdown",
      "metadata": {
        "id": "E8eCbhNchuDs",
        "colab_type": "text"
      },
      "source": [
        "# New Section"
      ]
    },
    {
      "cell_type": "markdown",
      "metadata": {
        "id": "-AyYNJQmh8tB",
        "colab_type": "text"
      },
      "source": [
        "# New Section"
      ]
    },
    {
      "cell_type": "markdown",
      "metadata": {
        "id": "vI43EEKtiLWk",
        "colab_type": "text"
      },
      "source": [
        "# New Section"
      ]
    },
    {
      "cell_type": "markdown",
      "metadata": {
        "id": "Hu5kbhFziaAE",
        "colab_type": "text"
      },
      "source": [
        "# New Section"
      ]
    },
    {
      "cell_type": "markdown",
      "metadata": {
        "id": "m3pDNxVeiopw",
        "colab_type": "text"
      },
      "source": [
        "# New Section"
      ]
    },
    {
      "cell_type": "markdown",
      "metadata": {
        "id": "LTw5rfJRi3TL",
        "colab_type": "text"
      },
      "source": [
        "# New Section"
      ]
    },
    {
      "cell_type": "markdown",
      "metadata": {
        "id": "DKjuaIQHjF8i",
        "colab_type": "text"
      },
      "source": [
        "# New Section"
      ]
    },
    {
      "cell_type": "markdown",
      "metadata": {
        "id": "-9kYB-R5jUmF",
        "colab_type": "text"
      },
      "source": [
        "# New Section"
      ]
    },
    {
      "cell_type": "markdown",
      "metadata": {
        "id": "7eTlHASejjPj",
        "colab_type": "text"
      },
      "source": [
        "# New Section"
      ]
    },
    {
      "cell_type": "markdown",
      "metadata": {
        "id": "gLmgpZyIjx5D",
        "colab_type": "text"
      },
      "source": [
        "# New Section"
      ]
    },
    {
      "cell_type": "markdown",
      "metadata": {
        "id": "4PZmcW8KkAik",
        "colab_type": "text"
      },
      "source": [
        "# New Section"
      ]
    },
    {
      "cell_type": "markdown",
      "metadata": {
        "id": "IjjbfR8UkPML",
        "colab_type": "text"
      },
      "source": [
        "# New Section"
      ]
    },
    {
      "cell_type": "markdown",
      "metadata": {
        "id": "CQ00L4y5kd1m",
        "colab_type": "text"
      },
      "source": [
        "# New Section"
      ]
    },
    {
      "cell_type": "markdown",
      "metadata": {
        "id": "b0QCrEvpksfL",
        "colab_type": "text"
      },
      "source": [
        "# New Section"
      ]
    },
    {
      "cell_type": "markdown",
      "metadata": {
        "id": "H89QfaOik7In",
        "colab_type": "text"
      },
      "source": [
        "# New Section"
      ]
    },
    {
      "cell_type": "markdown",
      "metadata": {
        "id": "B0Yp1p3FlJyE",
        "colab_type": "text"
      },
      "source": [
        "# New Section"
      ]
    },
    {
      "cell_type": "markdown",
      "metadata": {
        "id": "v4FS3Zs4lYbm",
        "colab_type": "text"
      },
      "source": [
        "# New Section"
      ]
    },
    {
      "cell_type": "markdown",
      "metadata": {
        "id": "46YVoEuQlnFF",
        "colab_type": "text"
      },
      "source": [
        "# New Section"
      ]
    },
    {
      "cell_type": "markdown",
      "metadata": {
        "id": "fGdC1vFRl1ul",
        "colab_type": "text"
      },
      "source": [
        "# New Section"
      ]
    },
    {
      "cell_type": "markdown",
      "metadata": {
        "id": "J9MQCtfQmEYI",
        "colab_type": "text"
      },
      "source": [
        "# New Section"
      ]
    },
    {
      "cell_type": "markdown",
      "metadata": {
        "id": "odGpMi3smTBl",
        "colab_type": "text"
      },
      "source": [
        "# New Section"
      ]
    },
    {
      "cell_type": "markdown",
      "metadata": {
        "id": "qZlTriVUmhrG",
        "colab_type": "text"
      },
      "source": [
        "# New Section"
      ]
    },
    {
      "cell_type": "markdown",
      "metadata": {
        "id": "H3ZfAMYumwUn",
        "colab_type": "text"
      },
      "source": [
        "# New Section"
      ]
    },
    {
      "cell_type": "markdown",
      "metadata": {
        "id": "x3I23K5cm--J",
        "colab_type": "text"
      },
      "source": [
        "# New Section"
      ]
    },
    {
      "cell_type": "markdown",
      "metadata": {
        "id": "2yJ_rKrJnNnq",
        "colab_type": "text"
      },
      "source": [
        "# New Section"
      ]
    },
    {
      "cell_type": "markdown",
      "metadata": {
        "id": "ZN69953qncRH",
        "colab_type": "text"
      },
      "source": [
        "# New Section"
      ]
    },
    {
      "cell_type": "markdown",
      "metadata": {
        "id": "CuktHMIBnq6n",
        "colab_type": "text"
      },
      "source": [
        "# New Section"
      ]
    },
    {
      "cell_type": "markdown",
      "metadata": {
        "id": "0SCQ1P_fn5kJ",
        "colab_type": "text"
      },
      "source": [
        "# New Section"
      ]
    },
    {
      "cell_type": "markdown",
      "metadata": {
        "id": "Ka_wCVjAoINu",
        "colab_type": "text"
      },
      "source": [
        "# New Section"
      ]
    },
    {
      "cell_type": "markdown",
      "metadata": {
        "id": "UnVXvgkdoW3O",
        "colab_type": "text"
      },
      "source": [
        "# New Section"
      ]
    },
    {
      "cell_type": "markdown",
      "metadata": {
        "id": "HZ3uKj9solg4",
        "colab_type": "text"
      },
      "source": [
        "# New Section"
      ]
    },
    {
      "cell_type": "markdown",
      "metadata": {
        "id": "C8ixA018o0KK",
        "colab_type": "text"
      },
      "source": [
        "# New Section"
      ]
    },
    {
      "cell_type": "markdown",
      "metadata": {
        "id": "ExnzQlKvpCzv",
        "colab_type": "text"
      },
      "source": [
        "# New Section"
      ]
    },
    {
      "cell_type": "markdown",
      "metadata": {
        "id": "JQHJPOLypRdK",
        "colab_type": "text"
      },
      "source": [
        "# New Section"
      ]
    },
    {
      "cell_type": "markdown",
      "metadata": {
        "id": "qs9gNiBDpgGq",
        "colab_type": "text"
      },
      "source": [
        "# New Section"
      ]
    },
    {
      "cell_type": "markdown",
      "metadata": {
        "id": "0OrxFO26puwJ",
        "colab_type": "text"
      },
      "source": [
        "# New Section"
      ]
    },
    {
      "cell_type": "markdown",
      "metadata": {
        "id": "wnLH5fANp9Zr",
        "colab_type": "text"
      },
      "source": [
        "# New Section"
      ]
    },
    {
      "cell_type": "markdown",
      "metadata": {
        "id": "SZrX6wXAqMDM",
        "colab_type": "text"
      },
      "source": [
        "# New Section"
      ]
    },
    {
      "cell_type": "markdown",
      "metadata": {
        "id": "azgRSEN9qasp",
        "colab_type": "text"
      },
      "source": [
        "# New Section"
      ]
    },
    {
      "cell_type": "markdown",
      "metadata": {
        "id": "0R7TnsfWqpWQ",
        "colab_type": "text"
      },
      "source": [
        "# New Section"
      ]
    },
    {
      "cell_type": "markdown",
      "metadata": {
        "id": "LHib3c18q3_u",
        "colab_type": "text"
      },
      "source": [
        "# New Section"
      ]
    },
    {
      "cell_type": "markdown",
      "metadata": {
        "id": "_HdMOU69rGpM",
        "colab_type": "text"
      },
      "source": [
        "# New Section"
      ]
    },
    {
      "cell_type": "markdown",
      "metadata": {
        "id": "x95Ehv92rVSp",
        "colab_type": "text"
      },
      "source": [
        "# New Section"
      ]
    },
    {
      "cell_type": "markdown",
      "metadata": {
        "id": "_z9Q5Ft_rj8K",
        "colab_type": "text"
      },
      "source": [
        "# New Section"
      ]
    },
    {
      "cell_type": "markdown",
      "metadata": {
        "id": "t1OY4oIcrylr",
        "colab_type": "text"
      },
      "source": [
        "# New Section"
      ]
    },
    {
      "cell_type": "markdown",
      "metadata": {
        "id": "QLCDC1sgsBPm",
        "colab_type": "text"
      },
      "source": [
        "# New Section"
      ]
    },
    {
      "cell_type": "markdown",
      "metadata": {
        "id": "H1JCsxhfsP4r",
        "colab_type": "text"
      },
      "source": [
        "# New Section"
      ]
    },
    {
      "cell_type": "markdown",
      "metadata": {
        "id": "VcVR3VO1seiO",
        "colab_type": "text"
      },
      "source": [
        "# New Section"
      ]
    },
    {
      "cell_type": "markdown",
      "metadata": {
        "id": "tpdMYEzOstLr",
        "colab_type": "text"
      },
      "source": [
        "# New Section"
      ]
    },
    {
      "cell_type": "markdown",
      "metadata": {
        "id": "xa9-eR4Gs71M",
        "colab_type": "text"
      },
      "source": [
        "# New Section"
      ]
    },
    {
      "cell_type": "markdown",
      "metadata": {
        "id": "qwnR8G6ctKes",
        "colab_type": "text"
      },
      "source": [
        "# New Section"
      ]
    },
    {
      "cell_type": "markdown",
      "metadata": {
        "id": "UwvtWOrstZIP",
        "colab_type": "text"
      },
      "source": [
        "# New Section"
      ]
    },
    {
      "cell_type": "markdown",
      "metadata": {
        "id": "I2umQggStnxx",
        "colab_type": "text"
      },
      "source": [
        "# New Section"
      ]
    },
    {
      "cell_type": "markdown",
      "metadata": {
        "id": "UgRHvQI_t2bP",
        "colab_type": "text"
      },
      "source": [
        "# New Section"
      ]
    },
    {
      "cell_type": "markdown",
      "metadata": {
        "id": "EQES-ayHuFEv",
        "colab_type": "text"
      },
      "source": [
        "# New Section"
      ]
    },
    {
      "cell_type": "markdown",
      "metadata": {
        "id": "cRrtryC6uTuO",
        "colab_type": "text"
      },
      "source": [
        "# New Section"
      ]
    },
    {
      "cell_type": "markdown",
      "metadata": {
        "id": "_YZuC5CRuiXv",
        "colab_type": "text"
      },
      "source": [
        "# New Section"
      ]
    },
    {
      "cell_type": "markdown",
      "metadata": {
        "id": "R_Jjqx-euxBP",
        "colab_type": "text"
      },
      "source": [
        "# New Section"
      ]
    },
    {
      "cell_type": "markdown",
      "metadata": {
        "id": "6B7OE_rYu_q3",
        "colab_type": "text"
      },
      "source": [
        "# New Section"
      ]
    },
    {
      "cell_type": "markdown",
      "metadata": {
        "id": "GEpG47ufvOUP",
        "colab_type": "text"
      },
      "source": [
        "# New Section"
      ]
    },
    {
      "cell_type": "markdown",
      "metadata": {
        "id": "x6ISgWpFvc9x",
        "colab_type": "text"
      },
      "source": [
        "# New Section"
      ]
    },
    {
      "cell_type": "markdown",
      "metadata": {
        "id": "UNfiko7EvrnQ",
        "colab_type": "text"
      },
      "source": [
        "# New Section"
      ]
    },
    {
      "cell_type": "markdown",
      "metadata": {
        "id": "1KqH53Srv6Qz",
        "colab_type": "text"
      },
      "source": [
        "# New Section"
      ]
    },
    {
      "cell_type": "markdown",
      "metadata": {
        "id": "kvFe922UwI6S",
        "colab_type": "text"
      },
      "source": [
        "# New Section"
      ]
    },
    {
      "cell_type": "markdown",
      "metadata": {
        "id": "kmqZzWsuwXkO",
        "colab_type": "text"
      },
      "source": [
        "# New Section"
      ]
    },
    {
      "cell_type": "markdown",
      "metadata": {
        "id": "de_awUBDwmNR",
        "colab_type": "text"
      },
      "source": [
        "# New Section"
      ]
    },
    {
      "cell_type": "markdown",
      "metadata": {
        "id": "V2Otmy10w02y",
        "colab_type": "text"
      },
      "source": [
        "# New Section"
      ]
    },
    {
      "cell_type": "markdown",
      "metadata": {
        "id": "XIev6dEAxDgR",
        "colab_type": "text"
      },
      "source": [
        "# New Section"
      ]
    },
    {
      "cell_type": "markdown",
      "metadata": {
        "id": "BkH-OUJLxSJz",
        "colab_type": "text"
      },
      "source": [
        "# New Section"
      ]
    },
    {
      "cell_type": "markdown",
      "metadata": {
        "id": "V7NrjWGuxgzT",
        "colab_type": "text"
      },
      "source": [
        "# New Section"
      ]
    },
    {
      "cell_type": "markdown",
      "metadata": {
        "id": "4M6DG1E5xvcz",
        "colab_type": "text"
      },
      "source": [
        "# New Section"
      ]
    },
    {
      "cell_type": "markdown",
      "metadata": {
        "id": "NvbwwP8zx-GT",
        "colab_type": "text"
      },
      "source": [
        "# New Section"
      ]
    },
    {
      "cell_type": "markdown",
      "metadata": {
        "id": "iOhsiZSCyMvz",
        "colab_type": "text"
      },
      "source": [
        "# New Section"
      ]
    },
    {
      "cell_type": "markdown",
      "metadata": {
        "id": "0Z3V3Ut8ybZQ",
        "colab_type": "text"
      },
      "source": [
        "# New Section"
      ]
    },
    {
      "cell_type": "markdown",
      "metadata": {
        "id": "fauKl9iayqCx",
        "colab_type": "text"
      },
      "source": [
        "# New Section"
      ]
    },
    {
      "cell_type": "markdown",
      "metadata": {
        "id": "-GaIcspey4sT",
        "colab_type": "text"
      },
      "source": [
        "# New Section"
      ]
    },
    {
      "cell_type": "markdown",
      "metadata": {
        "id": "VdBh-vgJzHV3",
        "colab_type": "text"
      },
      "source": [
        "# New Section"
      ]
    },
    {
      "cell_type": "markdown",
      "metadata": {
        "id": "ZIwk7zVmzV_S",
        "colab_type": "text"
      },
      "source": [
        "# New Section"
      ]
    },
    {
      "cell_type": "markdown",
      "metadata": {
        "id": "QfGGILOtzko-",
        "colab_type": "text"
      },
      "source": [
        "# New Section"
      ]
    },
    {
      "cell_type": "markdown",
      "metadata": {
        "id": "Jb7FvBtUzzSR",
        "colab_type": "text"
      },
      "source": [
        "# New Section"
      ]
    },
    {
      "cell_type": "markdown",
      "metadata": {
        "id": "x06TYWyH0B7y",
        "colab_type": "text"
      },
      "source": [
        "# New Section"
      ]
    },
    {
      "cell_type": "markdown",
      "metadata": {
        "id": "-4CC2WJK0QlT",
        "colab_type": "text"
      },
      "source": [
        "# New Section"
      ]
    },
    {
      "cell_type": "markdown",
      "metadata": {
        "id": "meini1jV0fO5",
        "colab_type": "text"
      },
      "source": [
        "# New Section"
      ]
    },
    {
      "cell_type": "markdown",
      "metadata": {
        "id": "ZGit_TuD0t4S",
        "colab_type": "text"
      },
      "source": [
        "# New Section"
      ]
    },
    {
      "cell_type": "markdown",
      "metadata": {
        "id": "iAAwsfqm08hz",
        "colab_type": "text"
      },
      "source": [
        "# New Section"
      ]
    },
    {
      "cell_type": "markdown",
      "metadata": {
        "id": "upt9loo71LL5",
        "colab_type": "text"
      },
      "source": [
        "# New Section"
      ]
    },
    {
      "cell_type": "markdown",
      "metadata": {
        "id": "Fof66Lke1Z00",
        "colab_type": "text"
      },
      "source": [
        "# New Section"
      ]
    },
    {
      "cell_type": "markdown",
      "metadata": {
        "id": "FsYDuUZ41oeU",
        "colab_type": "text"
      },
      "source": [
        "# New Section"
      ]
    },
    {
      "cell_type": "markdown",
      "metadata": {
        "id": "rPJ53jBf13H0",
        "colab_type": "text"
      },
      "source": [
        "# New Section"
      ]
    },
    {
      "cell_type": "markdown",
      "metadata": {
        "id": "YZddx7Cl2FxV",
        "colab_type": "text"
      },
      "source": [
        "# New Section"
      ]
    },
    {
      "cell_type": "markdown",
      "metadata": {
        "id": "hqphkEq_2Ua1",
        "colab_type": "text"
      },
      "source": [
        "# New Section"
      ]
    },
    {
      "cell_type": "markdown",
      "metadata": {
        "id": "7Hl6i2Qk2jEb",
        "colab_type": "text"
      },
      "source": [
        "# New Section"
      ]
    },
    {
      "cell_type": "markdown",
      "metadata": {
        "id": "p1vOjxnB2xt2",
        "colab_type": "text"
      },
      "source": [
        "# New Section"
      ]
    },
    {
      "cell_type": "markdown",
      "metadata": {
        "id": "w93SPnJ-3AXX",
        "colab_type": "text"
      },
      "source": [
        "# New Section"
      ]
    },
    {
      "cell_type": "markdown",
      "metadata": {
        "id": "N2wZeWLa3PA5",
        "colab_type": "text"
      },
      "source": [
        "# New Section"
      ]
    },
    {
      "cell_type": "markdown",
      "metadata": {
        "id": "AdMGGjIx3dqW",
        "colab_type": "text"
      },
      "source": [
        "# New Section"
      ]
    },
    {
      "cell_type": "markdown",
      "metadata": {
        "id": "w2sYWVAe3sT5",
        "colab_type": "text"
      },
      "source": [
        "# New Section"
      ]
    },
    {
      "cell_type": "markdown",
      "metadata": {
        "id": "oWBKdZ63369Y",
        "colab_type": "text"
      },
      "source": [
        "# New Section"
      ]
    },
    {
      "cell_type": "markdown",
      "metadata": {
        "id": "cO5qesYG4Jm2",
        "colab_type": "text"
      },
      "source": [
        "# New Section"
      ]
    },
    {
      "cell_type": "markdown",
      "metadata": {
        "id": "xXemZuPR4YQr",
        "colab_type": "text"
      },
      "source": [
        "# New Section"
      ]
    },
    {
      "cell_type": "markdown",
      "metadata": {
        "id": "cCM-8xGV4m52",
        "colab_type": "text"
      },
      "source": [
        "# New Section"
      ]
    },
    {
      "cell_type": "markdown",
      "metadata": {
        "id": "Gwu9dYi341jZ",
        "colab_type": "text"
      },
      "source": [
        "# New Section"
      ]
    },
    {
      "cell_type": "markdown",
      "metadata": {
        "id": "Xt8krdym5ENb",
        "colab_type": "text"
      },
      "source": [
        "# New Section"
      ]
    },
    {
      "cell_type": "markdown",
      "metadata": {
        "id": "5TP5v4mS5S2Y",
        "colab_type": "text"
      },
      "source": [
        "# New Section"
      ]
    },
    {
      "cell_type": "markdown",
      "metadata": {
        "id": "cLI4d8iC5hf5",
        "colab_type": "text"
      },
      "source": [
        "# New Section"
      ]
    },
    {
      "cell_type": "markdown",
      "metadata": {
        "id": "bvqeVcjy5wJY",
        "colab_type": "text"
      },
      "source": [
        "# New Section"
      ]
    },
    {
      "cell_type": "markdown",
      "metadata": {
        "id": "Urjkypf05-y7",
        "colab_type": "text"
      },
      "source": [
        "# New Section"
      ]
    },
    {
      "cell_type": "markdown",
      "metadata": {
        "id": "znr_MFWJ6NcY",
        "colab_type": "text"
      },
      "source": [
        "# New Section"
      ]
    },
    {
      "cell_type": "markdown",
      "metadata": {
        "id": "-8QXGmHb6cGX",
        "colab_type": "text"
      },
      "source": [
        "# New Section"
      ]
    },
    {
      "cell_type": "markdown",
      "metadata": {
        "id": "wzZPmHGB6qva",
        "colab_type": "text"
      },
      "source": [
        "# New Section"
      ]
    },
    {
      "cell_type": "markdown",
      "metadata": {
        "id": "Y25jptOb65ZG",
        "colab_type": "text"
      },
      "source": [
        "# New Section"
      ]
    },
    {
      "cell_type": "markdown",
      "metadata": {
        "id": "XpT5KX-t7ICc",
        "colab_type": "text"
      },
      "source": [
        "# New Section"
      ]
    },
    {
      "cell_type": "markdown",
      "metadata": {
        "id": "DHrTmwyY7Wr6",
        "colab_type": "text"
      },
      "source": [
        "# New Section"
      ]
    },
    {
      "cell_type": "markdown",
      "metadata": {
        "id": "ZCrLJTqT7lVb",
        "colab_type": "text"
      },
      "source": [
        "# New Section"
      ]
    },
    {
      "cell_type": "markdown",
      "metadata": {
        "id": "n-7kXTCW7z_N",
        "colab_type": "text"
      },
      "source": [
        "# New Section"
      ]
    },
    {
      "cell_type": "markdown",
      "metadata": {
        "id": "hEQnpHmD8Coq",
        "colab_type": "text"
      },
      "source": [
        "# New Section"
      ]
    },
    {
      "cell_type": "markdown",
      "metadata": {
        "id": "LWAr5Uc38RSJ",
        "colab_type": "text"
      },
      "source": [
        "# New Section"
      ]
    },
    {
      "cell_type": "markdown",
      "metadata": {
        "id": "8ERoubl68f7e",
        "colab_type": "text"
      },
      "source": [
        "# New Section"
      ]
    },
    {
      "cell_type": "markdown",
      "metadata": {
        "id": "0-NnsyuS8uk8",
        "colab_type": "text"
      },
      "source": [
        "# New Section"
      ]
    },
    {
      "cell_type": "markdown",
      "metadata": {
        "id": "J8EHg-QD89Od",
        "colab_type": "text"
      },
      "source": [
        "# New Section"
      ]
    },
    {
      "cell_type": "markdown",
      "metadata": {
        "id": "hl4pR3rZ9L4C",
        "colab_type": "text"
      },
      "source": [
        "# New Section"
      ]
    },
    {
      "cell_type": "markdown",
      "metadata": {
        "id": "jU6LrLbb9ahx",
        "colab_type": "text"
      },
      "source": [
        "# New Section"
      ]
    },
    {
      "cell_type": "markdown",
      "metadata": {
        "id": "zvgSm3OF9pLE",
        "colab_type": "text"
      },
      "source": [
        "# New Section"
      ]
    },
    {
      "cell_type": "markdown",
      "metadata": {
        "id": "XboXR8N1930g",
        "colab_type": "text"
      },
      "source": [
        "# New Section"
      ]
    },
    {
      "cell_type": "markdown",
      "metadata": {
        "id": "l5onHH_o-GeI",
        "colab_type": "text"
      },
      "source": [
        "# New Section"
      ]
    },
    {
      "cell_type": "markdown",
      "metadata": {
        "id": "6P9mIQJw-VHj",
        "colab_type": "text"
      },
      "source": [
        "# New Section"
      ]
    },
    {
      "cell_type": "markdown",
      "metadata": {
        "id": "Lf-JTTjI-jxR",
        "colab_type": "text"
      },
      "source": [
        "# New Section"
      ]
    },
    {
      "cell_type": "markdown",
      "metadata": {
        "id": "Ad18_LUZ-yay",
        "colab_type": "text"
      },
      "source": [
        "# New Section"
      ]
    },
    {
      "cell_type": "markdown",
      "metadata": {
        "id": "ckomq610_BEU",
        "colab_type": "text"
      },
      "source": [
        "# New Section"
      ]
    },
    {
      "cell_type": "markdown",
      "metadata": {
        "id": "OhD3h2LC_Ptj",
        "colab_type": "text"
      },
      "source": [
        "# New Section"
      ]
    },
    {
      "cell_type": "markdown",
      "metadata": {
        "id": "ed2qVcn3_eW_",
        "colab_type": "text"
      },
      "source": [
        "# New Section"
      ]
    },
    {
      "cell_type": "markdown",
      "metadata": {
        "id": "IQfHZo5t_tAf",
        "colab_type": "text"
      },
      "source": [
        "# New Section"
      ]
    },
    {
      "cell_type": "markdown",
      "metadata": {
        "id": "RxPS5vTR_7qA",
        "colab_type": "text"
      },
      "source": [
        "# New Section"
      ]
    },
    {
      "cell_type": "markdown",
      "metadata": {
        "id": "5BQpqGM_AKTh",
        "colab_type": "text"
      },
      "source": [
        "# New Section"
      ]
    },
    {
      "cell_type": "markdown",
      "metadata": {
        "id": "rr_WvEDQAY9g",
        "colab_type": "text"
      },
      "source": [
        "# New Section"
      ]
    },
    {
      "cell_type": "markdown",
      "metadata": {
        "id": "8tSkgOxqAnmj",
        "colab_type": "text"
      },
      "source": [
        "# New Section"
      ]
    },
    {
      "cell_type": "markdown",
      "metadata": {
        "id": "V1k_O4kpA2Qc",
        "colab_type": "text"
      },
      "source": [
        "# New Section"
      ]
    },
    {
      "cell_type": "markdown",
      "metadata": {
        "id": "ZlnQDiiYBE53",
        "colab_type": "text"
      },
      "source": [
        "# New Section"
      ]
    },
    {
      "cell_type": "markdown",
      "metadata": {
        "id": "varfu3URBTjT",
        "colab_type": "text"
      },
      "source": [
        "# New Section"
      ]
    },
    {
      "cell_type": "markdown",
      "metadata": {
        "id": "JMjJC-gqBiMq",
        "colab_type": "text"
      },
      "source": [
        "# New Section"
      ]
    },
    {
      "cell_type": "markdown",
      "metadata": {
        "id": "inE4IriLBw2B",
        "colab_type": "text"
      },
      "source": [
        "# New Section"
      ]
    },
    {
      "cell_type": "markdown",
      "metadata": {
        "id": "X0qu69lTB_gE",
        "colab_type": "text"
      },
      "source": [
        "# New Section"
      ]
    },
    {
      "cell_type": "markdown",
      "metadata": {
        "id": "ajfjgFfpCOJB",
        "colab_type": "text"
      },
      "source": [
        "# New Section"
      ]
    },
    {
      "cell_type": "markdown",
      "metadata": {
        "id": "f4MZnOq-Ccyx",
        "colab_type": "text"
      },
      "source": [
        "# New Section"
      ]
    },
    {
      "cell_type": "markdown",
      "metadata": {
        "id": "rFOlNSefCrb_",
        "colab_type": "text"
      },
      "source": [
        "# New Section"
      ]
    },
    {
      "cell_type": "markdown",
      "metadata": {
        "id": "FTwRKsPgC6Fe",
        "colab_type": "text"
      },
      "source": [
        "# New Section"
      ]
    },
    {
      "cell_type": "markdown",
      "metadata": {
        "id": "-bnT5eqlDIu-",
        "colab_type": "text"
      },
      "source": [
        "# New Section"
      ]
    },
    {
      "cell_type": "markdown",
      "metadata": {
        "id": "9kMbEGtGDXYe",
        "colab_type": "text"
      },
      "source": [
        "# New Section"
      ]
    },
    {
      "cell_type": "markdown",
      "metadata": {
        "id": "b93e5JTWDmCo",
        "colab_type": "text"
      },
      "source": [
        "# New Section"
      ]
    },
    {
      "cell_type": "markdown",
      "metadata": {
        "id": "_0gGweTpD0r_",
        "colab_type": "text"
      },
      "source": [
        "# New Section"
      ]
    },
    {
      "cell_type": "markdown",
      "metadata": {
        "id": "X9mznsNdEDVB",
        "colab_type": "text"
      },
      "source": [
        "# New Section"
      ]
    },
    {
      "cell_type": "markdown",
      "metadata": {
        "id": "QJ88oK-RER-i",
        "colab_type": "text"
      },
      "source": [
        "# New Section"
      ]
    },
    {
      "cell_type": "markdown",
      "metadata": {
        "id": "2lzWnK6FEgoP",
        "colab_type": "text"
      },
      "source": [
        "# New Section"
      ]
    },
    {
      "cell_type": "markdown",
      "metadata": {
        "id": "F_jYaGNGEvRl",
        "colab_type": "text"
      },
      "source": [
        "# New Section"
      ]
    },
    {
      "cell_type": "markdown",
      "metadata": {
        "id": "-5BNC8y2E97v",
        "colab_type": "text"
      },
      "source": [
        "# New Section"
      ]
    },
    {
      "cell_type": "markdown",
      "metadata": {
        "id": "84lsw8XZFMlO",
        "colab_type": "text"
      },
      "source": [
        "# New Section"
      ]
    },
    {
      "cell_type": "markdown",
      "metadata": {
        "id": "uO_Hh291FbOB",
        "colab_type": "text"
      },
      "source": [
        "# New Section"
      ]
    },
    {
      "cell_type": "markdown",
      "metadata": {
        "id": "87X9--k3Fp4B",
        "colab_type": "text"
      },
      "source": [
        "# New Section"
      ]
    },
    {
      "cell_type": "markdown",
      "metadata": {
        "id": "x9ZGVkh3F4hW",
        "colab_type": "text"
      },
      "source": [
        "# New Section"
      ]
    },
    {
      "cell_type": "markdown",
      "metadata": {
        "id": "Vg-cgZwAGHK5",
        "colab_type": "text"
      },
      "source": [
        "# New Section"
      ]
    },
    {
      "cell_type": "markdown",
      "metadata": {
        "id": "P7XmqGfnGV0B",
        "colab_type": "text"
      },
      "source": [
        "# New Section"
      ]
    },
    {
      "cell_type": "markdown",
      "metadata": {
        "id": "PW2WtgEGGkeQ",
        "colab_type": "text"
      },
      "source": [
        "# New Section"
      ]
    },
    {
      "cell_type": "markdown",
      "metadata": {
        "id": "GAsdzn0cGzHD",
        "colab_type": "text"
      },
      "source": [
        "# New Section"
      ]
    },
    {
      "cell_type": "markdown",
      "metadata": {
        "id": "mA5_Cd8XHBw4",
        "colab_type": "text"
      },
      "source": [
        "# New Section"
      ]
    },
    {
      "cell_type": "markdown",
      "metadata": {
        "id": "PiEm1nj-HQaC",
        "colab_type": "text"
      },
      "source": [
        "# New Section"
      ]
    },
    {
      "cell_type": "markdown",
      "metadata": {
        "id": "QjGq59BBHfEM",
        "colab_type": "text"
      },
      "source": [
        "# New Section"
      ]
    },
    {
      "cell_type": "markdown",
      "metadata": {
        "id": "dHntzhmmHttC",
        "colab_type": "text"
      },
      "source": [
        "# New Section"
      ]
    },
    {
      "cell_type": "markdown",
      "metadata": {
        "id": "HpNDCL-FH8Wi",
        "colab_type": "text"
      },
      "source": [
        "# New Section"
      ]
    },
    {
      "cell_type": "markdown",
      "metadata": {
        "id": "WC_qInS1ILAB",
        "colab_type": "text"
      },
      "source": [
        "# New Section"
      ]
    },
    {
      "cell_type": "markdown",
      "metadata": {
        "id": "G91xOk-QIZpi",
        "colab_type": "text"
      },
      "source": [
        "# New Section"
      ]
    },
    {
      "cell_type": "markdown",
      "metadata": {
        "id": "4oVIgwrrIoTk",
        "colab_type": "text"
      },
      "source": [
        "# New Section"
      ]
    },
    {
      "cell_type": "markdown",
      "metadata": {
        "id": "6CMTGyZAI28k",
        "colab_type": "text"
      },
      "source": [
        "# New Section"
      ]
    },
    {
      "cell_type": "markdown",
      "metadata": {
        "id": "CCAJiEZNJFmD",
        "colab_type": "text"
      },
      "source": [
        "# New Section"
      ]
    },
    {
      "cell_type": "markdown",
      "metadata": {
        "id": "1JqfP8QQJUQR",
        "colab_type": "text"
      },
      "source": [
        "# New Section"
      ]
    },
    {
      "cell_type": "markdown",
      "metadata": {
        "id": "TYJvaUSiJi5C",
        "colab_type": "text"
      },
      "source": [
        "# New Section"
      ]
    },
    {
      "cell_type": "markdown",
      "metadata": {
        "id": "rnUiL0XyJxjB",
        "colab_type": "text"
      },
      "source": [
        "# New Section"
      ]
    },
    {
      "cell_type": "markdown",
      "metadata": {
        "id": "o4VmXGQUKAMX",
        "colab_type": "text"
      },
      "source": [
        "# New Section"
      ]
    },
    {
      "cell_type": "markdown",
      "metadata": {
        "id": "NmrbzIF-KO1i",
        "colab_type": "text"
      },
      "source": [
        "# New Section"
      ]
    },
    {
      "cell_type": "markdown",
      "metadata": {
        "id": "W4TOyzxmKdfC",
        "colab_type": "text"
      },
      "source": [
        "# New Section"
      ]
    },
    {
      "cell_type": "markdown",
      "metadata": {
        "id": "TRU6s6UYKsIj",
        "colab_type": "text"
      },
      "source": [
        "# New Section"
      ]
    },
    {
      "cell_type": "markdown",
      "metadata": {
        "id": "Q3znX1-eK6yD",
        "colab_type": "text"
      },
      "source": [
        "# New Section"
      ]
    },
    {
      "cell_type": "markdown",
      "metadata": {
        "id": "A1CNWLnVLJcU",
        "colab_type": "text"
      },
      "source": [
        "# New Section"
      ]
    },
    {
      "cell_type": "markdown",
      "metadata": {
        "id": "gfCzKtw3LYFD",
        "colab_type": "text"
      },
      "source": [
        "# New Section"
      ]
    },
    {
      "cell_type": "markdown",
      "metadata": {
        "id": "nY6AD7pWLmui",
        "colab_type": "text"
      },
      "source": [
        "# New Section"
      ]
    },
    {
      "cell_type": "markdown",
      "metadata": {
        "id": "AH4OWRJeL1Yd",
        "colab_type": "text"
      },
      "source": [
        "# New Section"
      ]
    },
    {
      "cell_type": "markdown",
      "metadata": {
        "id": "nL-XWkKcMEBi",
        "colab_type": "text"
      },
      "source": [
        "# New Section"
      ]
    },
    {
      "cell_type": "markdown",
      "metadata": {
        "id": "wjsCp6LHMSrD",
        "colab_type": "text"
      },
      "source": [
        "# New Section"
      ]
    },
    {
      "cell_type": "markdown",
      "metadata": {
        "id": "7pXV6kvzMhUj",
        "colab_type": "text"
      },
      "source": [
        "# New Section"
      ]
    },
    {
      "cell_type": "markdown",
      "metadata": {
        "id": "8mJQX38eMv-D",
        "colab_type": "text"
      },
      "source": [
        "# New Section"
      ]
    },
    {
      "cell_type": "markdown",
      "metadata": {
        "id": "YWFwyAieM-nl",
        "colab_type": "text"
      },
      "source": [
        "# New Section"
      ]
    },
    {
      "cell_type": "markdown",
      "metadata": {
        "id": "wybxrq3BNNRE",
        "colab_type": "text"
      },
      "source": [
        "# New Section"
      ]
    },
    {
      "cell_type": "markdown",
      "metadata": {
        "id": "z-49gI7iNb6i",
        "colab_type": "text"
      },
      "source": [
        "# New Section"
      ]
    },
    {
      "cell_type": "markdown",
      "metadata": {
        "id": "1zTpKZ6uNqkD",
        "colab_type": "text"
      },
      "source": [
        "# New Section"
      ]
    },
    {
      "cell_type": "markdown",
      "metadata": {
        "id": "bvpnim0NN5Nn",
        "colab_type": "text"
      },
      "source": [
        "# New Section"
      ]
    },
    {
      "cell_type": "markdown",
      "metadata": {
        "id": "9XhIHMjhOH3D",
        "colab_type": "text"
      },
      "source": [
        "# New Section"
      ]
    },
    {
      "cell_type": "markdown",
      "metadata": {
        "id": "h_B_Iy2nOWg9",
        "colab_type": "text"
      },
      "source": [
        "# New Section"
      ]
    },
    {
      "cell_type": "markdown",
      "metadata": {
        "id": "dfVRjocYOlKD",
        "colab_type": "text"
      },
      "source": [
        "# New Section"
      ]
    },
    {
      "cell_type": "markdown",
      "metadata": {
        "id": "uWR_UOJhOzzj",
        "colab_type": "text"
      },
      "source": [
        "# New Section"
      ]
    },
    {
      "cell_type": "markdown",
      "metadata": {
        "id": "oCDUH4tjPCdD",
        "colab_type": "text"
      },
      "source": [
        "# New Section"
      ]
    },
    {
      "cell_type": "markdown",
      "metadata": {
        "id": "4M4dszVwPRGj",
        "colab_type": "text"
      },
      "source": [
        "# New Section"
      ]
    },
    {
      "cell_type": "markdown",
      "metadata": {
        "id": "xHA7TRamPfwE",
        "colab_type": "text"
      },
      "source": [
        "# New Section"
      ]
    },
    {
      "cell_type": "markdown",
      "metadata": {
        "id": "UnBPQqUkPuZk",
        "colab_type": "text"
      },
      "source": [
        "# New Section"
      ]
    },
    {
      "cell_type": "markdown",
      "metadata": {
        "id": "Js8CvxECP9DI",
        "colab_type": "text"
      },
      "source": [
        "# New Section"
      ]
    },
    {
      "cell_type": "markdown",
      "metadata": {
        "id": "DJnzmtEmQLsk",
        "colab_type": "text"
      },
      "source": [
        "# New Section"
      ]
    },
    {
      "cell_type": "markdown",
      "metadata": {
        "id": "eOseBNvAQaWJ",
        "colab_type": "text"
      },
      "source": [
        "# New Section"
      ]
    },
    {
      "cell_type": "markdown",
      "metadata": {
        "id": "1689f2dBQo_j",
        "colab_type": "text"
      },
      "source": [
        "# New Section"
      ]
    },
    {
      "cell_type": "markdown",
      "metadata": {
        "id": "TiHUO5IiQ3pD",
        "colab_type": "text"
      },
      "source": [
        "# New Section"
      ]
    },
    {
      "cell_type": "markdown",
      "metadata": {
        "id": "OoaRlgxKRGSk",
        "colab_type": "text"
      },
      "source": [
        "# New Section"
      ]
    },
    {
      "cell_type": "markdown",
      "metadata": {
        "id": "vf2Wt_P6RU8E",
        "colab_type": "text"
      },
      "source": [
        "# New Section"
      ]
    },
    {
      "cell_type": "markdown",
      "metadata": {
        "id": "qzQyl7C4Rjll",
        "colab_type": "text"
      },
      "source": [
        "# New Section"
      ]
    },
    {
      "cell_type": "markdown",
      "metadata": {
        "id": "IkSQcRTPRyPE",
        "colab_type": "text"
      },
      "source": [
        "# New Section"
      ]
    },
    {
      "cell_type": "markdown",
      "metadata": {
        "id": "Tq9GyQIISA4o",
        "colab_type": "text"
      },
      "source": [
        "# New Section"
      ]
    },
    {
      "cell_type": "markdown",
      "metadata": {
        "id": "hRKnyqzASPiE",
        "colab_type": "text"
      },
      "source": [
        "# New Section"
      ]
    },
    {
      "cell_type": "markdown",
      "metadata": {
        "id": "ncuUo5LlSeLl",
        "colab_type": "text"
      },
      "source": [
        "# New Section"
      ]
    },
    {
      "cell_type": "markdown",
      "metadata": {
        "id": "DA5kAxC3Ss1E",
        "colab_type": "text"
      },
      "source": [
        "# New Section"
      ]
    },
    {
      "cell_type": "markdown",
      "metadata": {
        "id": "8qyvXDMfS7el",
        "colab_type": "text"
      },
      "source": [
        "# New Section"
      ]
    },
    {
      "cell_type": "markdown",
      "metadata": {
        "id": "Z0SISO3QTKIE",
        "colab_type": "text"
      },
      "source": [
        "# New Section"
      ]
    },
    {
      "cell_type": "markdown",
      "metadata": {
        "id": "X9quHJ3GTYxk",
        "colab_type": "text"
      },
      "source": [
        "# New Section"
      ]
    },
    {
      "cell_type": "markdown",
      "metadata": {
        "id": "SnvNn5GvTnbF",
        "colab_type": "text"
      },
      "source": [
        "# New Section"
      ]
    },
    {
      "cell_type": "markdown",
      "metadata": {
        "id": "f-C-2jUkT2El",
        "colab_type": "text"
      },
      "source": [
        "# New Section"
      ]
    },
    {
      "cell_type": "markdown",
      "metadata": {
        "id": "DGOf2PFKUEuF",
        "colab_type": "text"
      },
      "source": [
        "# New Section"
      ]
    },
    {
      "cell_type": "markdown",
      "metadata": {
        "id": "uPG3I1PDUTXm",
        "colab_type": "text"
      },
      "source": [
        "# New Section"
      ]
    },
    {
      "cell_type": "markdown",
      "metadata": {
        "id": "uyqvFIPjUiBF",
        "colab_type": "text"
      },
      "source": [
        "# New Section"
      ]
    },
    {
      "cell_type": "markdown",
      "metadata": {
        "id": "WVg1n4muUwql",
        "colab_type": "text"
      },
      "source": [
        "# New Section"
      ]
    },
    {
      "cell_type": "markdown",
      "metadata": {
        "id": "2UPGR04WU_UF",
        "colab_type": "text"
      },
      "source": [
        "# New Section"
      ]
    },
    {
      "cell_type": "markdown",
      "metadata": {
        "id": "saBm626xVN9m",
        "colab_type": "text"
      },
      "source": [
        "# New Section"
      ]
    },
    {
      "cell_type": "markdown",
      "metadata": {
        "id": "rSAQGhnpVcnF",
        "colab_type": "text"
      },
      "source": [
        "# New Section"
      ]
    },
    {
      "cell_type": "markdown",
      "metadata": {
        "id": "O1MhyMVdVrQl",
        "colab_type": "text"
      },
      "source": [
        "# New Section"
      ]
    },
    {
      "cell_type": "markdown",
      "metadata": {
        "id": "n4EJXMA8V56H",
        "colab_type": "text"
      },
      "source": [
        "# New Section"
      ]
    },
    {
      "cell_type": "markdown",
      "metadata": {
        "id": "Hut5jD3hWIjp",
        "colab_type": "text"
      },
      "source": [
        "# New Section"
      ]
    },
    {
      "cell_type": "markdown",
      "metadata": {
        "id": "8mwykv69WXNG",
        "colab_type": "text"
      },
      "source": [
        "# New Section"
      ]
    },
    {
      "cell_type": "markdown",
      "metadata": {
        "id": "MYfSoR94Wl2m",
        "colab_type": "text"
      },
      "source": [
        "# New Section"
      ]
    },
    {
      "cell_type": "markdown",
      "metadata": {
        "id": "tWe2xC1IW0gY",
        "colab_type": "text"
      },
      "source": [
        "# New Section"
      ]
    },
    {
      "cell_type": "markdown",
      "metadata": {
        "id": "V_oc1DG0XDJm",
        "colab_type": "text"
      },
      "source": [
        "# New Section"
      ]
    },
    {
      "cell_type": "markdown",
      "metadata": {
        "id": "p8uyHkNnXRzG",
        "colab_type": "text"
      },
      "source": [
        "# New Section"
      ]
    },
    {
      "cell_type": "markdown",
      "metadata": {
        "id": "6OtvNYrXXgcl",
        "colab_type": "text"
      },
      "source": [
        "# New Section"
      ]
    },
    {
      "cell_type": "markdown",
      "metadata": {
        "id": "h7eRahdGXvGE",
        "colab_type": "text"
      },
      "source": [
        "# New Section"
      ]
    },
    {
      "cell_type": "markdown",
      "metadata": {
        "id": "awxR4OHZX9vm",
        "colab_type": "text"
      },
      "source": [
        "# New Section"
      ]
    },
    {
      "cell_type": "markdown",
      "metadata": {
        "id": "-W_iidwkYMZK",
        "colab_type": "text"
      },
      "source": [
        "# New Section"
      ]
    },
    {
      "cell_type": "markdown",
      "metadata": {
        "id": "GqDtavvhYbCs",
        "colab_type": "text"
      },
      "source": [
        "# New Section"
      ]
    },
    {
      "cell_type": "markdown",
      "metadata": {
        "id": "k_ChrDcgYpsF",
        "colab_type": "text"
      },
      "source": [
        "# New Section"
      ]
    },
    {
      "cell_type": "markdown",
      "metadata": {
        "id": "C9kgLEXvY4Vn",
        "colab_type": "text"
      },
      "source": [
        "# New Section"
      ]
    },
    {
      "cell_type": "markdown",
      "metadata": {
        "id": "pq5pLvCIZG_F",
        "colab_type": "text"
      },
      "source": [
        "# New Section"
      ]
    },
    {
      "cell_type": "markdown",
      "metadata": {
        "id": "9kiIGNdiZVom",
        "colab_type": "text"
      },
      "source": [
        "# New Section"
      ]
    },
    {
      "cell_type": "markdown",
      "metadata": {
        "id": "04f4QjtcZkSf",
        "colab_type": "text"
      },
      "source": [
        "# New Section"
      ]
    },
    {
      "cell_type": "markdown",
      "metadata": {
        "id": "7n15V_ipZy7m",
        "colab_type": "text"
      },
      "source": [
        "# New Section"
      ]
    },
    {
      "cell_type": "markdown",
      "metadata": {
        "id": "YymO5hDdaBlI",
        "colab_type": "text"
      },
      "source": [
        "# New Section"
      ]
    },
    {
      "cell_type": "markdown",
      "metadata": {
        "id": "TGQFkxhvaQO7",
        "colab_type": "text"
      },
      "source": [
        "# New Section"
      ]
    },
    {
      "cell_type": "markdown",
      "metadata": {
        "id": "YMzE7fKCae4H",
        "colab_type": "text"
      },
      "source": [
        "# New Section"
      ]
    },
    {
      "cell_type": "markdown",
      "metadata": {
        "id": "_c3zX2Qoathq",
        "colab_type": "text"
      },
      "source": [
        "# New Section"
      ]
    },
    {
      "cell_type": "markdown",
      "metadata": {
        "id": "p6IvMf99a8LG",
        "colab_type": "text"
      },
      "source": [
        "# New Section"
      ]
    },
    {
      "cell_type": "markdown",
      "metadata": {
        "id": "vHeIHUNibK0m",
        "colab_type": "text"
      },
      "source": [
        "# New Section"
      ]
    },
    {
      "cell_type": "markdown",
      "metadata": {
        "id": "CG_8hSlLbZeK",
        "colab_type": "text"
      },
      "source": [
        "# New Section"
      ]
    },
    {
      "cell_type": "markdown",
      "metadata": {
        "id": "_GzI5bc3boHp",
        "colab_type": "text"
      },
      "source": [
        "# New Section"
      ]
    },
    {
      "cell_type": "markdown",
      "metadata": {
        "id": "icxi0BeYb2xI",
        "colab_type": "text"
      },
      "source": [
        "# New Section"
      ]
    },
    {
      "cell_type": "markdown",
      "metadata": {
        "id": "hhRpB_KHcFam",
        "colab_type": "text"
      },
      "source": [
        "# New Section"
      ]
    },
    {
      "cell_type": "markdown",
      "metadata": {
        "id": "sCRy0gIccUEK",
        "colab_type": "text"
      },
      "source": [
        "# New Section"
      ]
    },
    {
      "cell_type": "markdown",
      "metadata": {
        "id": "tMmOE-0Kcito",
        "colab_type": "text"
      },
      "source": [
        "# New Section"
      ]
    },
    {
      "cell_type": "markdown",
      "metadata": {
        "id": "jLgJ2UzncxXJ",
        "colab_type": "text"
      },
      "source": [
        "# New Section"
      ]
    },
    {
      "cell_type": "markdown",
      "metadata": {
        "id": "VZezLOcfdAAn",
        "colab_type": "text"
      },
      "source": [
        "# New Section"
      ]
    },
    {
      "cell_type": "markdown",
      "metadata": {
        "id": "mKUlOP3FdOqI",
        "colab_type": "text"
      },
      "source": [
        "# New Section"
      ]
    },
    {
      "cell_type": "markdown",
      "metadata": {
        "id": "t48caAtWddUC",
        "colab_type": "text"
      },
      "source": [
        "# New Section"
      ]
    },
    {
      "cell_type": "markdown",
      "metadata": {
        "id": "Bc44T_89dr9L",
        "colab_type": "text"
      },
      "source": [
        "# New Section"
      ]
    },
    {
      "cell_type": "markdown",
      "metadata": {
        "id": "9U5htMPed6mn",
        "colab_type": "text"
      },
      "source": [
        "# New Section"
      ]
    },
    {
      "cell_type": "markdown",
      "metadata": {
        "id": "uXUTz46weJQH",
        "colab_type": "text"
      },
      "source": [
        "# New Section"
      ]
    },
    {
      "cell_type": "markdown",
      "metadata": {
        "id": "JMAsxqQheX5n",
        "colab_type": "text"
      },
      "source": [
        "# New Section"
      ]
    },
    {
      "cell_type": "markdown",
      "metadata": {
        "id": "zugLPj3OemjH",
        "colab_type": "text"
      },
      "source": [
        "# New Section"
      ]
    },
    {
      "cell_type": "markdown",
      "metadata": {
        "id": "CPlK1w-Ce1Mq",
        "colab_type": "text"
      },
      "source": [
        "# New Section"
      ]
    },
    {
      "cell_type": "markdown",
      "metadata": {
        "id": "6sCGL5R-fD2I",
        "colab_type": "text"
      },
      "source": [
        "# New Section"
      ]
    },
    {
      "cell_type": "markdown",
      "metadata": {
        "id": "kUQ1hpyIfSfs",
        "colab_type": "text"
      },
      "source": [
        "# New Section"
      ]
    },
    {
      "cell_type": "markdown",
      "metadata": {
        "id": "conSuI2mfhJJ",
        "colab_type": "text"
      },
      "source": [
        "# New Section"
      ]
    },
    {
      "cell_type": "markdown",
      "metadata": {
        "id": "xkeCGjuFfvzQ",
        "colab_type": "text"
      },
      "source": [
        "# New Section"
      ]
    },
    {
      "cell_type": "markdown",
      "metadata": {
        "id": "posnNgUuf-cK",
        "colab_type": "text"
      },
      "source": [
        "# New Section"
      ]
    },
    {
      "cell_type": "markdown",
      "metadata": {
        "id": "3ED7ELW7gNFp",
        "colab_type": "text"
      },
      "source": [
        "# New Section"
      ]
    },
    {
      "cell_type": "markdown",
      "metadata": {
        "id": "D2pNWoRQgbvL",
        "colab_type": "text"
      },
      "source": [
        "# New Section"
      ]
    },
    {
      "cell_type": "markdown",
      "metadata": {
        "id": "vOAip__WgqYp",
        "colab_type": "text"
      },
      "source": [
        "# New Section"
      ]
    },
    {
      "cell_type": "markdown",
      "metadata": {
        "id": "K63YXnr5g5Cc",
        "colab_type": "text"
      },
      "source": [
        "# New Section"
      ]
    },
    {
      "cell_type": "markdown",
      "metadata": {
        "id": "pme1kAfKhHrq",
        "colab_type": "text"
      },
      "source": [
        "# New Section"
      ]
    },
    {
      "cell_type": "markdown",
      "metadata": {
        "id": "YpNaMBmjhWVN",
        "colab_type": "text"
      },
      "source": [
        "# New Section"
      ]
    },
    {
      "cell_type": "markdown",
      "metadata": {
        "id": "SxG4TWCIhk-s",
        "colab_type": "text"
      },
      "source": [
        "# New Section"
      ]
    },
    {
      "cell_type": "markdown",
      "metadata": {
        "id": "TuATsO8LhzoI",
        "colab_type": "text"
      },
      "source": [
        "# New Section"
      ]
    },
    {
      "cell_type": "markdown",
      "metadata": {
        "id": "PzYmoVjgiCSP",
        "colab_type": "text"
      },
      "source": [
        "# New Section"
      ]
    },
    {
      "cell_type": "markdown",
      "metadata": {
        "id": "MIcMKYNWiQ7J",
        "colab_type": "text"
      },
      "source": [
        "# New Section"
      ]
    },
    {
      "cell_type": "markdown",
      "metadata": {
        "id": "9wFDsaNpifkq",
        "colab_type": "text"
      },
      "source": [
        "# New Section"
      ]
    },
    {
      "cell_type": "markdown",
      "metadata": {
        "id": "XVk1tsV2iuOK",
        "colab_type": "text"
      },
      "source": [
        "# New Section"
      ]
    },
    {
      "cell_type": "markdown",
      "metadata": {
        "id": "E9Ie6JJli83s",
        "colab_type": "text"
      },
      "source": [
        "# New Section"
      ]
    },
    {
      "cell_type": "markdown",
      "metadata": {
        "id": "ptoruQf1jLhK",
        "colab_type": "text"
      },
      "source": [
        "# New Section"
      ]
    },
    {
      "cell_type": "markdown",
      "metadata": {
        "id": "rEtBqgjijaKr",
        "colab_type": "text"
      },
      "source": [
        "# New Section"
      ]
    },
    {
      "cell_type": "markdown",
      "metadata": {
        "id": "rOh01y0Njo0K",
        "colab_type": "text"
      },
      "source": [
        "# New Section"
      ]
    },
    {
      "cell_type": "markdown",
      "metadata": {
        "id": "kzstaiAWj3dq",
        "colab_type": "text"
      },
      "source": [
        "# New Section"
      ]
    },
    {
      "cell_type": "markdown",
      "metadata": {
        "id": "5JKXWfRykGHK",
        "colab_type": "text"
      },
      "source": [
        "# New Section"
      ]
    },
    {
      "cell_type": "markdown",
      "metadata": {
        "id": "0LJA9hOYkUwq",
        "colab_type": "text"
      },
      "source": [
        "# New Section"
      ]
    },
    {
      "cell_type": "markdown",
      "metadata": {
        "id": "ta_Cq2UVkjaL",
        "colab_type": "text"
      },
      "source": [
        "# New Section"
      ]
    },
    {
      "cell_type": "markdown",
      "metadata": {
        "id": "AW8fR2stkyDq",
        "colab_type": "text"
      },
      "source": [
        "# New Section"
      ]
    },
    {
      "cell_type": "markdown",
      "metadata": {
        "id": "SvLXjHv1lAtL",
        "colab_type": "text"
      },
      "source": [
        "# New Section"
      ]
    },
    {
      "cell_type": "markdown",
      "metadata": {
        "id": "x0EOfEJ3lPWr",
        "colab_type": "text"
      },
      "source": [
        "# New Section"
      ]
    },
    {
      "cell_type": "markdown",
      "metadata": {
        "id": "UsC4fUMRleAO",
        "colab_type": "text"
      },
      "source": [
        "# New Section"
      ]
    },
    {
      "cell_type": "markdown",
      "metadata": {
        "id": "9zzBjzkNlspr",
        "colab_type": "text"
      },
      "source": [
        "# New Section"
      ]
    },
    {
      "cell_type": "markdown",
      "metadata": {
        "id": "5IFwWeLDl7TM",
        "colab_type": "text"
      },
      "source": [
        "# New Section"
      ]
    },
    {
      "cell_type": "markdown",
      "metadata": {
        "id": "-HRmN-yHmJ8r",
        "colab_type": "text"
      },
      "source": [
        "# New Section"
      ]
    },
    {
      "cell_type": "markdown",
      "metadata": {
        "id": "nlcn98hEmYmO",
        "colab_type": "text"
      },
      "source": [
        "# New Section"
      ]
    },
    {
      "cell_type": "markdown",
      "metadata": {
        "id": "dAMS1xhomnPz",
        "colab_type": "text"
      },
      "source": [
        "# New Section"
      ]
    },
    {
      "cell_type": "markdown",
      "metadata": {
        "id": "0bN6Fj4ym15L",
        "colab_type": "text"
      },
      "source": [
        "# New Section"
      ]
    },
    {
      "cell_type": "markdown",
      "metadata": {
        "id": "SZvCeZB9nEis",
        "colab_type": "text"
      },
      "source": [
        "# New Section"
      ]
    },
    {
      "cell_type": "markdown",
      "metadata": {
        "id": "dCetqAD0nTMw",
        "colab_type": "text"
      },
      "source": [
        "# New Section"
      ]
    },
    {
      "cell_type": "markdown",
      "metadata": {
        "id": "HGdQufyTnh1s",
        "colab_type": "text"
      },
      "source": [
        "# New Section"
      ]
    },
    {
      "cell_type": "markdown",
      "metadata": {
        "id": "Q4y8JUNwnwfO",
        "colab_type": "text"
      },
      "source": [
        "# New Section"
      ]
    },
    {
      "cell_type": "markdown",
      "metadata": {
        "id": "bO72BCdwn_Ir",
        "colab_type": "text"
      },
      "source": [
        "# New Section"
      ]
    },
    {
      "cell_type": "markdown",
      "metadata": {
        "id": "steX2aihoNyM",
        "colab_type": "text"
      },
      "source": [
        "# New Section"
      ]
    },
    {
      "cell_type": "markdown",
      "metadata": {
        "id": "VmY5r9zjocbt",
        "colab_type": "text"
      },
      "source": [
        "# New Section"
      ]
    },
    {
      "cell_type": "markdown",
      "metadata": {
        "id": "SbK-gkL6orFM",
        "colab_type": "text"
      },
      "source": [
        "# New Section"
      ]
    },
    {
      "cell_type": "markdown",
      "metadata": {
        "id": "32DyHz1ho5uv",
        "colab_type": "text"
      },
      "source": [
        "# New Section"
      ]
    },
    {
      "cell_type": "markdown",
      "metadata": {
        "id": "Wg9TWYrLpIYM",
        "colab_type": "text"
      },
      "source": [
        "# New Section"
      ]
    },
    {
      "cell_type": "markdown",
      "metadata": {
        "id": "syYLETkvpXBs",
        "colab_type": "text"
      },
      "source": [
        "# New Section"
      ]
    },
    {
      "cell_type": "markdown",
      "metadata": {
        "id": "zT1i_q8SplrM",
        "colab_type": "text"
      },
      "source": [
        "# New Section"
      ]
    },
    {
      "cell_type": "markdown",
      "metadata": {
        "id": "jC-pH-0kp0Uu",
        "colab_type": "text"
      },
      "source": [
        "# New Section"
      ]
    },
    {
      "cell_type": "markdown",
      "metadata": {
        "id": "1PGRjetqqC-N",
        "colab_type": "text"
      },
      "source": [
        "# New Section"
      ]
    },
    {
      "cell_type": "markdown",
      "metadata": {
        "id": "0GW4kkaqqRnt",
        "colab_type": "text"
      },
      "source": [
        "# New Section"
      ]
    },
    {
      "cell_type": "markdown",
      "metadata": {
        "id": "HdH5J3-dqgRQ",
        "colab_type": "text"
      },
      "source": [
        "# New Section"
      ]
    },
    {
      "cell_type": "markdown",
      "metadata": {
        "id": "Ml5jqcnrqu6t",
        "colab_type": "text"
      },
      "source": [
        "# New Section"
      ]
    },
    {
      "cell_type": "markdown",
      "metadata": {
        "id": "E1_KtZm1q9kN",
        "colab_type": "text"
      },
      "source": [
        "# New Section"
      ]
    },
    {
      "cell_type": "markdown",
      "metadata": {
        "id": "wNevMS0SrMN2",
        "colab_type": "text"
      },
      "source": [
        "# New Section"
      ]
    },
    {
      "cell_type": "markdown",
      "metadata": {
        "id": "JHExCGw6ra3S",
        "colab_type": "text"
      },
      "source": [
        "# New Section"
      ]
    },
    {
      "cell_type": "markdown",
      "metadata": {
        "id": "J7atNQGcrpgv",
        "colab_type": "text"
      },
      "source": [
        "# New Section"
      ]
    },
    {
      "cell_type": "markdown",
      "metadata": {
        "id": "kuAiLoU1r4KN",
        "colab_type": "text"
      },
      "source": [
        "# New Section"
      ]
    },
    {
      "cell_type": "markdown",
      "metadata": {
        "id": "OI5l-KGnsGzq",
        "colab_type": "text"
      },
      "source": [
        "# New Section"
      ]
    },
    {
      "cell_type": "markdown",
      "metadata": {
        "id": "aQbvyryKsVdu",
        "colab_type": "text"
      },
      "source": [
        "# New Section"
      ]
    },
    {
      "cell_type": "markdown",
      "metadata": {
        "id": "s2_QANR7skGx",
        "colab_type": "text"
      },
      "source": [
        "# New Section"
      ]
    },
    {
      "cell_type": "markdown",
      "metadata": {
        "id": "4yP9DEcVsywQ",
        "colab_type": "text"
      },
      "source": [
        "# New Section"
      ]
    },
    {
      "cell_type": "markdown",
      "metadata": {
        "id": "N1fsS7KxtBZt",
        "colab_type": "text"
      },
      "source": [
        "# New Section"
      ]
    },
    {
      "cell_type": "markdown",
      "metadata": {
        "id": "Jn4ZBF1xtQDN",
        "colab_type": "text"
      },
      "source": [
        "# New Section"
      ]
    },
    {
      "cell_type": "markdown",
      "metadata": {
        "id": "mX5I7udJtesv",
        "colab_type": "text"
      },
      "source": [
        "# New Section"
      ]
    },
    {
      "cell_type": "markdown",
      "metadata": {
        "id": "raN-vAnTttWQ",
        "colab_type": "text"
      },
      "source": [
        "# New Section"
      ]
    },
    {
      "cell_type": "markdown",
      "metadata": {
        "id": "qYBMOOE1t7_t",
        "colab_type": "text"
      },
      "source": [
        "# New Section"
      ]
    },
    {
      "cell_type": "markdown",
      "metadata": {
        "id": "Yn8S1uZJuKpN",
        "colab_type": "text"
      },
      "source": [
        "# New Section"
      ]
    },
    {
      "cell_type": "markdown",
      "metadata": {
        "id": "kBb-uNZpuZSy",
        "colab_type": "text"
      },
      "source": [
        "# New Section"
      ]
    },
    {
      "cell_type": "markdown",
      "metadata": {
        "id": "geGsX1i2un8N",
        "colab_type": "text"
      },
      "source": [
        "# New Section"
      ]
    },
    {
      "cell_type": "markdown",
      "metadata": {
        "id": "CArUru81u2lu",
        "colab_type": "text"
      },
      "source": [
        "# New Section"
      ]
    },
    {
      "cell_type": "markdown",
      "metadata": {
        "id": "35CHWffXvFPO",
        "colab_type": "text"
      },
      "source": [
        "# New Section"
      ]
    },
    {
      "cell_type": "markdown",
      "metadata": {
        "id": "adrf-p5jvT4y",
        "colab_type": "text"
      },
      "source": [
        "# New Section"
      ]
    },
    {
      "cell_type": "markdown",
      "metadata": {
        "id": "gCjKDISeviiR",
        "colab_type": "text"
      },
      "source": [
        "# New Section"
      ]
    },
    {
      "cell_type": "markdown",
      "metadata": {
        "id": "azcmpRs4vxLu",
        "colab_type": "text"
      },
      "source": [
        "# New Section"
      ]
    },
    {
      "cell_type": "markdown",
      "metadata": {
        "id": "mjEkB4akv_1P",
        "colab_type": "text"
      },
      "source": [
        "# New Section"
      ]
    },
    {
      "cell_type": "markdown",
      "metadata": {
        "id": "h62c4cRHwOey",
        "colab_type": "text"
      },
      "source": [
        "# New Section"
      ]
    },
    {
      "cell_type": "markdown",
      "metadata": {
        "id": "yBjBx5s9wdIP",
        "colab_type": "text"
      },
      "source": [
        "# New Section"
      ]
    },
    {
      "cell_type": "markdown",
      "metadata": {
        "id": "jljHhqfbwryf",
        "colab_type": "text"
      },
      "source": [
        "# New Section"
      ]
    },
    {
      "cell_type": "markdown",
      "metadata": {
        "id": "ibXzOcCgw6bQ",
        "colab_type": "text"
      },
      "source": [
        "# New Section"
      ]
    },
    {
      "cell_type": "markdown",
      "metadata": {
        "id": "TDg3Lpr6xJEx",
        "colab_type": "text"
      },
      "source": [
        "# New Section"
      ]
    },
    {
      "cell_type": "markdown",
      "metadata": {
        "id": "65EXPZmExXuP",
        "colab_type": "text"
      },
      "source": [
        "# New Section"
      ]
    },
    {
      "cell_type": "markdown",
      "metadata": {
        "id": "Xcp7hrcoxmXw",
        "colab_type": "text"
      },
      "source": [
        "# New Section"
      ]
    },
    {
      "cell_type": "markdown",
      "metadata": {
        "id": "ZVw1BHAVx1BP",
        "colab_type": "text"
      },
      "source": [
        "# New Section"
      ]
    },
    {
      "cell_type": "markdown",
      "metadata": {
        "id": "3-U9tMJgyDqy",
        "colab_type": "text"
      },
      "source": [
        "# New Section"
      ]
    },
    {
      "cell_type": "markdown",
      "metadata": {
        "id": "wPeLlkkKySUP",
        "colab_type": "text"
      },
      "source": [
        "# New Section"
      ]
    },
    {
      "cell_type": "markdown",
      "metadata": {
        "id": "h_VIDvlHyg9w",
        "colab_type": "text"
      },
      "source": [
        "# New Section"
      ]
    },
    {
      "cell_type": "markdown",
      "metadata": {
        "id": "L7r9yuMdyvnS",
        "colab_type": "text"
      },
      "source": [
        "# New Section"
      ]
    },
    {
      "cell_type": "markdown",
      "metadata": {
        "id": "K14W0v60y-Qy",
        "colab_type": "text"
      },
      "source": [
        "# New Section"
      ]
    },
    {
      "cell_type": "markdown",
      "metadata": {
        "id": "0IZRvxh9zM6T",
        "colab_type": "text"
      },
      "source": [
        "# New Section"
      ]
    },
    {
      "cell_type": "markdown",
      "metadata": {
        "id": "Q9iNgbGXzbju",
        "colab_type": "text"
      },
      "source": [
        "# New Section"
      ]
    },
    {
      "cell_type": "markdown",
      "metadata": {
        "id": "M-GHgQTBzqNQ",
        "colab_type": "text"
      },
      "source": [
        "# New Section"
      ]
    },
    {
      "cell_type": "markdown",
      "metadata": {
        "id": "c8c-VcvCz42w",
        "colab_type": "text"
      },
      "source": [
        "# New Section"
      ]
    },
    {
      "cell_type": "markdown",
      "metadata": {
        "id": "1KB0fdgb0HgS",
        "colab_type": "text"
      },
      "source": [
        "# New Section"
      ]
    },
    {
      "cell_type": "markdown",
      "metadata": {
        "id": "cb11NRDF0WJw",
        "colab_type": "text"
      },
      "source": [
        "# New Section"
      ]
    },
    {
      "cell_type": "markdown",
      "metadata": {
        "id": "ZrpWYDrd0kzU",
        "colab_type": "text"
      },
      "source": [
        "# New Section"
      ]
    },
    {
      "cell_type": "markdown",
      "metadata": {
        "id": "qgJPNBtK0zcw",
        "colab_type": "text"
      },
      "source": [
        "# New Section"
      ]
    },
    {
      "cell_type": "markdown",
      "metadata": {
        "id": "6VP5NW_g1CGp",
        "colab_type": "text"
      },
      "source": [
        "# New Section"
      ]
    },
    {
      "cell_type": "markdown",
      "metadata": {
        "id": "Zj4qC28M1Qvw",
        "colab_type": "text"
      },
      "source": [
        "# New Section"
      ]
    },
    {
      "cell_type": "markdown",
      "metadata": {
        "id": "8E_7UkGE1fZQ",
        "colab_type": "text"
      },
      "source": [
        "# New Section"
      ]
    },
    {
      "cell_type": "markdown",
      "metadata": {
        "id": "gi-Hvd0V1uDH",
        "colab_type": "text"
      },
      "source": [
        "# New Section"
      ]
    },
    {
      "cell_type": "markdown",
      "metadata": {
        "id": "ewPYkNGF18sR",
        "colab_type": "text"
      },
      "source": [
        "# New Section"
      ]
    },
    {
      "cell_type": "markdown",
      "metadata": {
        "id": "admePyhk2LVx",
        "colab_type": "text"
      },
      "source": [
        "# New Section"
      ]
    },
    {
      "cell_type": "markdown",
      "metadata": {
        "id": "Y8UyuBdZ2Z_Q",
        "colab_type": "text"
      },
      "source": [
        "# New Section"
      ]
    },
    {
      "cell_type": "markdown",
      "metadata": {
        "id": "EX2Qfscu2oo1",
        "colab_type": "text"
      },
      "source": [
        "# New Section"
      ]
    },
    {
      "cell_type": "markdown",
      "metadata": {
        "id": "VJghNuLS23SR",
        "colab_type": "text"
      },
      "source": [
        "# New Section"
      ]
    },
    {
      "cell_type": "markdown",
      "metadata": {
        "id": "WM8Ke96y3F7x",
        "colab_type": "text"
      },
      "source": [
        "# New Section"
      ]
    },
    {
      "cell_type": "markdown",
      "metadata": {
        "id": "ViP9NXYk3UlR",
        "colab_type": "text"
      },
      "source": [
        "# New Section"
      ]
    },
    {
      "cell_type": "markdown",
      "metadata": {
        "id": "B-h34GN-3jOx",
        "colab_type": "text"
      },
      "source": [
        "# New Section"
      ]
    },
    {
      "cell_type": "markdown",
      "metadata": {
        "id": "qf1i01UI3x4V",
        "colab_type": "text"
      },
      "source": [
        "# New Section"
      ]
    },
    {
      "cell_type": "markdown",
      "metadata": {
        "id": "XHQVPwbu4Ahy",
        "colab_type": "text"
      },
      "source": [
        "# New Section"
      ]
    },
    {
      "cell_type": "markdown",
      "metadata": {
        "id": "WyuvYBNv4PLR",
        "colab_type": "text"
      },
      "source": [
        "# New Section"
      ]
    },
    {
      "cell_type": "markdown",
      "metadata": {
        "id": "lF7JUiIU4d0y",
        "colab_type": "text"
      },
      "source": [
        "# New Section"
      ]
    },
    {
      "cell_type": "markdown",
      "metadata": {
        "id": "7PWP6nCj4seW",
        "colab_type": "text"
      },
      "source": [
        "# New Section"
      ]
    },
    {
      "cell_type": "markdown",
      "metadata": {
        "id": "PfL868N447Hz",
        "colab_type": "text"
      },
      "source": [
        "# New Section"
      ]
    },
    {
      "cell_type": "markdown",
      "metadata": {
        "id": "eT12dm2r5JxV",
        "colab_type": "text"
      },
      "source": [
        "# New Section"
      ]
    },
    {
      "cell_type": "markdown",
      "metadata": {
        "id": "RrWYEZhr5Ya0",
        "colab_type": "text"
      },
      "source": [
        "# New Section"
      ]
    },
    {
      "cell_type": "markdown",
      "metadata": {
        "id": "LB1Tr2ZP5nER",
        "colab_type": "text"
      },
      "source": [
        "# New Section"
      ]
    },
    {
      "cell_type": "markdown",
      "metadata": {
        "id": "yxwQ1igW51t1",
        "colab_type": "text"
      },
      "source": [
        "# New Section"
      ]
    },
    {
      "cell_type": "markdown",
      "metadata": {
        "id": "V0HkD6s16EXR",
        "colab_type": "text"
      },
      "source": [
        "# New Section"
      ]
    },
    {
      "cell_type": "markdown",
      "metadata": {
        "id": "XsCmmlN-6TBK",
        "colab_type": "text"
      },
      "source": [
        "# New Section"
      ]
    },
    {
      "cell_type": "markdown",
      "metadata": {
        "id": "Z62LuGuI6hqU",
        "colab_type": "text"
      },
      "source": [
        "# New Section"
      ]
    },
    {
      "cell_type": "markdown",
      "metadata": {
        "id": "PBoRlw5d6wT1",
        "colab_type": "text"
      },
      "source": [
        "# New Section"
      ]
    },
    {
      "cell_type": "markdown",
      "metadata": {
        "id": "UbkrIwCj6-9S",
        "colab_type": "text"
      },
      "source": [
        "# New Section"
      ]
    },
    {
      "cell_type": "markdown",
      "metadata": {
        "id": "cVjXp8Ih7NnA",
        "colab_type": "text"
      },
      "source": [
        "# New Section"
      ]
    },
    {
      "cell_type": "markdown",
      "metadata": {
        "id": "DVFhJLcd7cQU",
        "colab_type": "text"
      },
      "source": [
        "# New Section"
      ]
    },
    {
      "cell_type": "markdown",
      "metadata": {
        "id": "eHnFUtyx7q5z",
        "colab_type": "text"
      },
      "source": [
        "# New Section"
      ]
    },
    {
      "cell_type": "markdown",
      "metadata": {
        "id": "QjsHYNHi75jV",
        "colab_type": "text"
      },
      "source": [
        "# New Section"
      ]
    },
    {
      "cell_type": "markdown",
      "metadata": {
        "id": "rP30u9fw8IM0",
        "colab_type": "text"
      },
      "source": [
        "# New Section"
      ]
    },
    {
      "cell_type": "markdown",
      "metadata": {
        "id": "Twot6PDv8W24",
        "colab_type": "text"
      },
      "source": [
        "# New Section"
      ]
    },
    {
      "cell_type": "markdown",
      "metadata": {
        "id": "BJnUqKm-8lf4",
        "colab_type": "text"
      },
      "source": [
        "# New Section"
      ]
    },
    {
      "cell_type": "markdown",
      "metadata": {
        "id": "VGuYwFbt80JW",
        "colab_type": "text"
      },
      "source": [
        "# New Section"
      ]
    },
    {
      "cell_type": "markdown",
      "metadata": {
        "id": "K0wnpEgK9Cy1",
        "colab_type": "text"
      },
      "source": [
        "# New Section"
      ]
    },
    {
      "cell_type": "markdown",
      "metadata": {
        "id": "xr5QqA7K9RcW",
        "colab_type": "text"
      },
      "source": [
        "# New Section"
      ]
    },
    {
      "cell_type": "markdown",
      "metadata": {
        "id": "eiPPwG_h9gFz",
        "colab_type": "text"
      },
      "source": [
        "# New Section"
      ]
    },
    {
      "cell_type": "markdown",
      "metadata": {
        "id": "rCy9I9YP9uvT",
        "colab_type": "text"
      },
      "source": [
        "# New Section"
      ]
    },
    {
      "cell_type": "markdown",
      "metadata": {
        "id": "i3jiJ7Kd99Y3",
        "colab_type": "text"
      },
      "source": [
        "# New Section"
      ]
    },
    {
      "cell_type": "markdown",
      "metadata": {
        "id": "S7J7cmaJ-MCT",
        "colab_type": "text"
      },
      "source": [
        "# New Section"
      ]
    },
    {
      "cell_type": "markdown",
      "metadata": {
        "id": "lTv1tepQ-ar1",
        "colab_type": "text"
      },
      "source": [
        "# New Section"
      ]
    },
    {
      "cell_type": "markdown",
      "metadata": {
        "id": "ysWTjdct-pVT",
        "colab_type": "text"
      },
      "source": [
        "# New Section"
      ]
    },
    {
      "cell_type": "markdown",
      "metadata": {
        "id": "142BbiAg-3-3",
        "colab_type": "text"
      },
      "source": [
        "# New Section"
      ]
    },
    {
      "cell_type": "markdown",
      "metadata": {
        "id": "MaXIaYtp_GoW",
        "colab_type": "text"
      },
      "source": [
        "# New Section"
      ]
    },
    {
      "cell_type": "markdown",
      "metadata": {
        "id": "SArelMzM_VRz",
        "colab_type": "text"
      },
      "source": [
        "# New Section"
      ]
    },
    {
      "cell_type": "markdown",
      "metadata": {
        "id": "jkie8Tok_j7U",
        "colab_type": "text"
      },
      "source": [
        "# New Section"
      ]
    },
    {
      "cell_type": "markdown",
      "metadata": {
        "id": "SxS2Uhwn_yk4",
        "colab_type": "text"
      },
      "source": [
        "# New Section"
      ]
    },
    {
      "cell_type": "markdown",
      "metadata": {
        "id": "VxD5buJRABOU",
        "colab_type": "text"
      },
      "source": [
        "# New Section"
      ]
    },
    {
      "cell_type": "markdown",
      "metadata": {
        "id": "gWHb8DceAP30",
        "colab_type": "text"
      },
      "source": [
        "# New Section"
      ]
    },
    {
      "cell_type": "markdown",
      "metadata": {
        "id": "GRt8bNMbAehT",
        "colab_type": "text"
      },
      "source": [
        "# New Section"
      ]
    },
    {
      "cell_type": "markdown",
      "metadata": {
        "id": "v7mHnW0xAtK0",
        "colab_type": "text"
      },
      "source": [
        "# New Section"
      ]
    },
    {
      "cell_type": "markdown",
      "metadata": {
        "id": "fMy_G55wA70V",
        "colab_type": "text"
      },
      "source": [
        "# New Section"
      ]
    },
    {
      "cell_type": "markdown",
      "metadata": {
        "id": "h7HLtxQiBKd0",
        "colab_type": "text"
      },
      "source": [
        "# New Section"
      ]
    },
    {
      "cell_type": "markdown",
      "metadata": {
        "id": "ZOezDvRzBZHU",
        "colab_type": "text"
      },
      "source": [
        "# New Section"
      ]
    },
    {
      "cell_type": "markdown",
      "metadata": {
        "id": "SCCXmAK7Bnw1",
        "colab_type": "text"
      },
      "source": [
        "# New Section"
      ]
    },
    {
      "cell_type": "markdown",
      "metadata": {
        "id": "tm4YyWZyB2aZ",
        "colab_type": "text"
      },
      "source": [
        "# New Section"
      ]
    },
    {
      "cell_type": "markdown",
      "metadata": {
        "id": "jouevq5ICFD3",
        "colab_type": "text"
      },
      "source": [
        "# New Section"
      ]
    },
    {
      "cell_type": "markdown",
      "metadata": {
        "id": "eqMawrcSCTtW",
        "colab_type": "text"
      },
      "source": [
        "# New Section"
      ]
    },
    {
      "cell_type": "markdown",
      "metadata": {
        "id": "j3-ocA5xCiW1",
        "colab_type": "text"
      },
      "source": [
        "# New Section"
      ]
    },
    {
      "cell_type": "markdown",
      "metadata": {
        "id": "L8K_Bu1MCxAZ",
        "colab_type": "text"
      },
      "source": [
        "# New Section"
      ]
    },
    {
      "cell_type": "markdown",
      "metadata": {
        "id": "iWQECy-0C_p2",
        "colab_type": "text"
      },
      "source": [
        "# New Section"
      ]
    },
    {
      "cell_type": "markdown",
      "metadata": {
        "id": "5ugpLe-6DOTV",
        "colab_type": "text"
      },
      "source": [
        "# New Section"
      ]
    },
    {
      "cell_type": "markdown",
      "metadata": {
        "id": "7Z0N5b-kDc81",
        "colab_type": "text"
      },
      "source": [
        "# New Section"
      ]
    },
    {
      "cell_type": "markdown",
      "metadata": {
        "id": "IfnFVnxhDrmV",
        "colab_type": "text"
      },
      "source": [
        "# New Section"
      ]
    },
    {
      "cell_type": "markdown",
      "metadata": {
        "id": "XCaRkayjD6P1",
        "colab_type": "text"
      },
      "source": [
        "# New Section"
      ]
    },
    {
      "cell_type": "markdown",
      "metadata": {
        "id": "G4JMM66dEI5U",
        "colab_type": "text"
      },
      "source": [
        "# New Section"
      ]
    },
    {
      "cell_type": "markdown",
      "metadata": {
        "id": "FjpMPCbTEXi1",
        "colab_type": "text"
      },
      "source": [
        "# New Section"
      ]
    },
    {
      "cell_type": "markdown",
      "metadata": {
        "id": "eVzHxuTSEmMZ",
        "colab_type": "text"
      },
      "source": [
        "# New Section"
      ]
    },
    {
      "cell_type": "markdown",
      "metadata": {
        "id": "0oDQf9oiE014",
        "colab_type": "text"
      },
      "source": [
        "# New Section"
      ]
    },
    {
      "cell_type": "markdown",
      "metadata": {
        "id": "48e1byPKFDfY",
        "colab_type": "text"
      },
      "source": [
        "# New Section"
      ]
    },
    {
      "cell_type": "markdown",
      "metadata": {
        "id": "CKvkgyUCFSI1",
        "colab_type": "text"
      },
      "source": [
        "# New Section"
      ]
    },
    {
      "cell_type": "markdown",
      "metadata": {
        "id": "PNOU480UFgyV",
        "colab_type": "text"
      },
      "source": [
        "# New Section"
      ]
    },
    {
      "cell_type": "markdown",
      "metadata": {
        "id": "QsfGvd8iFvcE",
        "colab_type": "text"
      },
      "source": [
        "# New Section"
      ]
    },
    {
      "cell_type": "markdown",
      "metadata": {
        "id": "zuAfkW-lF-FV",
        "colab_type": "text"
      },
      "source": [
        "# New Section"
      ]
    },
    {
      "cell_type": "markdown",
      "metadata": {
        "id": "wXggjrOBGMu2",
        "colab_type": "text"
      },
      "source": [
        "# New Section"
      ]
    },
    {
      "cell_type": "markdown",
      "metadata": {
        "id": "F4Gqrz2AGbYV",
        "colab_type": "text"
      },
      "source": [
        "# New Section"
      ]
    },
    {
      "cell_type": "markdown",
      "metadata": {
        "id": "Vp3VipFzGqB4",
        "colab_type": "text"
      },
      "source": [
        "# New Section"
      ]
    },
    {
      "cell_type": "markdown",
      "metadata": {
        "id": "7w_z5KBoG4rW",
        "colab_type": "text"
      },
      "source": [
        "# New Section"
      ]
    },
    {
      "cell_type": "markdown",
      "metadata": {
        "id": "-yP0huf1HHU2",
        "colab_type": "text"
      },
      "source": [
        "# New Section"
      ]
    },
    {
      "cell_type": "markdown",
      "metadata": {
        "id": "rZ4UqyvbHV-Y",
        "colab_type": "text"
      },
      "source": [
        "# New Section"
      ]
    },
    {
      "cell_type": "markdown",
      "metadata": {
        "id": "YeLtZQ4JHkn1",
        "colab_type": "text"
      },
      "source": [
        "# New Section"
      ]
    },
    {
      "cell_type": "markdown",
      "metadata": {
        "id": "Ae8pkQb5HzRU",
        "colab_type": "text"
      },
      "source": [
        "# New Section"
      ]
    },
    {
      "cell_type": "markdown",
      "metadata": {
        "id": "G_ur6GIrIB63",
        "colab_type": "text"
      },
      "source": [
        "# New Section"
      ]
    },
    {
      "cell_type": "markdown",
      "metadata": {
        "id": "C4aqjjmpIQkW",
        "colab_type": "text"
      },
      "source": [
        "# New Section"
      ]
    },
    {
      "cell_type": "markdown",
      "metadata": {
        "id": "NLHJEPR3IfN5",
        "colab_type": "text"
      },
      "source": [
        "# New Section"
      ]
    },
    {
      "cell_type": "markdown",
      "metadata": {
        "id": "e81Xv93jIt3V",
        "colab_type": "text"
      },
      "source": [
        "# New Section"
      ]
    },
    {
      "cell_type": "markdown",
      "metadata": {
        "id": "ywKpM59EI8g2",
        "colab_type": "text"
      },
      "source": [
        "# New Section"
      ]
    },
    {
      "cell_type": "markdown",
      "metadata": {
        "id": "brOX6M8OJLKW",
        "colab_type": "text"
      },
      "source": [
        "# New Section"
      ]
    },
    {
      "cell_type": "markdown",
      "metadata": {
        "id": "nofP9r7xJZz4",
        "colab_type": "text"
      },
      "source": [
        "# New Section"
      ]
    },
    {
      "cell_type": "markdown",
      "metadata": {
        "id": "wGtwgGzAJodU",
        "colab_type": "text"
      },
      "source": [
        "# New Section"
      ]
    },
    {
      "cell_type": "markdown",
      "metadata": {
        "id": "2ElTzLDjJ3G1",
        "colab_type": "text"
      },
      "source": [
        "# New Section"
      ]
    },
    {
      "cell_type": "markdown",
      "metadata": {
        "id": "uW_WRDp2KFwY",
        "colab_type": "text"
      },
      "source": [
        "# New Section"
      ]
    },
    {
      "cell_type": "markdown",
      "metadata": {
        "id": "y6KRMVthKUZ2",
        "colab_type": "text"
      },
      "source": [
        "# New Section"
      ]
    },
    {
      "cell_type": "markdown",
      "metadata": {
        "id": "wAqL95xAKjDW",
        "colab_type": "text"
      },
      "source": [
        "# New Section"
      ]
    },
    {
      "cell_type": "markdown",
      "metadata": {
        "id": "N012BvJPKxs4",
        "colab_type": "text"
      },
      "source": [
        "# New Section"
      ]
    },
    {
      "cell_type": "markdown",
      "metadata": {
        "id": "QVfxJNf1LAWY",
        "colab_type": "text"
      },
      "source": [
        "# New Section"
      ]
    },
    {
      "cell_type": "markdown",
      "metadata": {
        "id": "p0cOpT9iLO_1",
        "colab_type": "text"
      },
      "source": [
        "# New Section"
      ]
    },
    {
      "cell_type": "markdown",
      "metadata": {
        "id": "EAb4s69eLdpX",
        "colab_type": "text"
      },
      "source": [
        "# New Section"
      ]
    },
    {
      "cell_type": "markdown",
      "metadata": {
        "id": "Limd6WM2LsS1",
        "colab_type": "text"
      },
      "source": [
        "# New Section"
      ]
    },
    {
      "cell_type": "markdown",
      "metadata": {
        "id": "x-Y_m_iQL68Y",
        "colab_type": "text"
      },
      "source": [
        "# New Section"
      ]
    },
    {
      "cell_type": "markdown",
      "metadata": {
        "id": "Q2CVYu-pMJl5",
        "colab_type": "text"
      },
      "source": [
        "# New Section"
      ]
    },
    {
      "cell_type": "markdown",
      "metadata": {
        "id": "IY69ymiFMYPV",
        "colab_type": "text"
      },
      "source": [
        "# New Section"
      ]
    },
    {
      "cell_type": "markdown",
      "metadata": {
        "id": "HXTGz506Mm46",
        "colab_type": "text"
      },
      "source": [
        "# New Section"
      ]
    },
    {
      "cell_type": "markdown",
      "metadata": {
        "id": "DBSD36PrM1iV",
        "colab_type": "text"
      },
      "source": [
        "# New Section"
      ]
    },
    {
      "cell_type": "markdown",
      "metadata": {
        "id": "zta_iGWoNEL4",
        "colab_type": "text"
      },
      "source": [
        "# New Section"
      ]
    },
    {
      "cell_type": "markdown",
      "metadata": {
        "id": "gd0MfJomNS1X",
        "colab_type": "text"
      },
      "source": [
        "# New Section"
      ]
    },
    {
      "cell_type": "markdown",
      "metadata": {
        "id": "Ct7k0V1cNhe5",
        "colab_type": "text"
      },
      "source": [
        "# New Section"
      ]
    },
    {
      "cell_type": "markdown",
      "metadata": {
        "id": "saUrWxMMNwIX",
        "colab_type": "text"
      },
      "source": [
        "# New Section"
      ]
    },
    {
      "cell_type": "markdown",
      "metadata": {
        "id": "fo_d0_4lN-x1",
        "colab_type": "text"
      },
      "source": [
        "# New Section"
      ]
    },
    {
      "cell_type": "markdown",
      "metadata": {
        "id": "g7VlFHbEONbW",
        "colab_type": "text"
      },
      "source": [
        "# New Section"
      ]
    },
    {
      "cell_type": "markdown",
      "metadata": {
        "id": "9_6_DAKdOcE2",
        "colab_type": "text"
      },
      "source": [
        "# New Section"
      ]
    },
    {
      "cell_type": "markdown",
      "metadata": {
        "id": "D2l4Pm4iOquZ",
        "colab_type": "text"
      },
      "source": [
        "# New Section"
      ]
    },
    {
      "cell_type": "markdown",
      "metadata": {
        "id": "O56auOHcO5X3",
        "colab_type": "text"
      },
      "source": [
        "# New Section"
      ]
    },
    {
      "cell_type": "markdown",
      "metadata": {
        "id": "7G2aKK94PIBY",
        "colab_type": "text"
      },
      "source": [
        "# New Section"
      ]
    },
    {
      "cell_type": "markdown",
      "metadata": {
        "id": "4AQR00gNPWq4",
        "colab_type": "text"
      },
      "source": [
        "# New Section"
      ]
    },
    {
      "cell_type": "markdown",
      "metadata": {
        "id": "dvRl39OBPlUX",
        "colab_type": "text"
      },
      "source": [
        "# New Section"
      ]
    },
    {
      "cell_type": "markdown",
      "metadata": {
        "id": "djyy6puBPz92",
        "colab_type": "text"
      },
      "source": [
        "# New Section"
      ]
    },
    {
      "cell_type": "markdown",
      "metadata": {
        "id": "u6qbVbQMQCnZ",
        "colab_type": "text"
      },
      "source": [
        "# New Section"
      ]
    },
    {
      "cell_type": "markdown",
      "metadata": {
        "id": "im90y0OaQRQ9",
        "colab_type": "text"
      },
      "source": [
        "# New Section"
      ]
    },
    {
      "cell_type": "markdown",
      "metadata": {
        "id": "KKhwaQlxQf6b",
        "colab_type": "text"
      },
      "source": [
        "# New Section"
      ]
    },
    {
      "cell_type": "markdown",
      "metadata": {
        "id": "1wqtNbtfQuj1",
        "colab_type": "text"
      },
      "source": [
        "# New Section"
      ]
    },
    {
      "cell_type": "markdown",
      "metadata": {
        "id": "dNb3TOB2Q9NU",
        "colab_type": "text"
      },
      "source": [
        "# New Section"
      ]
    },
    {
      "cell_type": "markdown",
      "metadata": {
        "id": "7CS9C86dMNGc",
        "colab_type": "text"
      },
      "source": [
        "# New Section"
      ]
    },
    {
      "cell_type": "markdown",
      "metadata": {
        "id": "QQQSWkfkL-c-",
        "colab_type": "text"
      },
      "source": [
        "# New Section"
      ]
    },
    {
      "cell_type": "markdown",
      "metadata": {
        "id": "1yJ7symELvzv",
        "colab_type": "text"
      },
      "source": [
        "# New Section"
      ]
    },
    {
      "cell_type": "markdown",
      "metadata": {
        "id": "TOOeSh6wmY8-",
        "colab_type": "text"
      },
      "source": [
        "# New Section"
      ]
    },
    {
      "cell_type": "markdown",
      "metadata": {
        "id": "h9aCokJzmnme",
        "colab_type": "text"
      },
      "source": [
        "# New Section"
      ]
    },
    {
      "cell_type": "markdown",
      "metadata": {
        "id": "kNEfj0iim2P-",
        "colab_type": "text"
      },
      "source": [
        "# New Section"
      ]
    },
    {
      "cell_type": "markdown",
      "metadata": {
        "id": "pTcVnG8LnE5e",
        "colab_type": "text"
      },
      "source": [
        "# New Section"
      ]
    },
    {
      "cell_type": "markdown",
      "metadata": {
        "id": "60_iqHVdnTjA",
        "colab_type": "text"
      },
      "source": [
        "# New Section"
      ]
    },
    {
      "cell_type": "markdown",
      "metadata": {
        "id": "jVEXLWcRniMf",
        "colab_type": "text"
      },
      "source": [
        "# New Section"
      ]
    },
    {
      "cell_type": "markdown",
      "metadata": {
        "id": "pb7qolSBnw2Z",
        "colab_type": "text"
      },
      "source": [
        "# New Section"
      ]
    },
    {
      "cell_type": "markdown",
      "metadata": {
        "id": "k61jIM__n_fh",
        "colab_type": "text"
      },
      "source": [
        "# New Section"
      ]
    },
    {
      "cell_type": "markdown",
      "metadata": {
        "id": "THlcXDFsoOJC",
        "colab_type": "text"
      },
      "source": [
        "# New Section"
      ]
    },
    {
      "cell_type": "markdown",
      "metadata": {
        "id": "5nfv0P4Docyl",
        "colab_type": "text"
      },
      "source": [
        "# New Section"
      ]
    },
    {
      "cell_type": "markdown",
      "metadata": {
        "id": "HgM4InnJorcH",
        "colab_type": "text"
      },
      "source": [
        "# New Section"
      ]
    },
    {
      "cell_type": "markdown",
      "metadata": {
        "id": "bHYEb9C2o6Fj",
        "colab_type": "text"
      },
      "source": [
        "# New Section"
      ]
    },
    {
      "cell_type": "markdown",
      "metadata": {
        "id": "vWlxwlLJpIvD",
        "colab_type": "text"
      },
      "source": [
        "# New Section"
      ]
    },
    {
      "cell_type": "markdown",
      "metadata": {
        "id": "tBbz_O0MpXYk",
        "colab_type": "text"
      },
      "source": [
        "# New Section"
      ]
    },
    {
      "cell_type": "markdown",
      "metadata": {
        "id": "br6IcmCIpmCE",
        "colab_type": "text"
      },
      "source": [
        "# New Section"
      ]
    },
    {
      "cell_type": "markdown",
      "metadata": {
        "id": "C7mD7Knqp0rk",
        "colab_type": "text"
      },
      "source": [
        "# New Section"
      ]
    },
    {
      "cell_type": "markdown",
      "metadata": {
        "id": "1Gr7gMaoqDVI",
        "colab_type": "text"
      },
      "source": [
        "# New Section"
      ]
    },
    {
      "cell_type": "markdown",
      "metadata": {
        "id": "G6chM2KOqR-p",
        "colab_type": "text"
      },
      "source": [
        "# New Section"
      ]
    },
    {
      "cell_type": "markdown",
      "metadata": {
        "id": "gZD85zv9qgoG",
        "colab_type": "text"
      },
      "source": [
        "# New Section"
      ]
    },
    {
      "cell_type": "markdown",
      "metadata": {
        "id": "8faqfdmnqvRn",
        "colab_type": "text"
      },
      "source": [
        "# New Section"
      ]
    },
    {
      "cell_type": "markdown",
      "metadata": {
        "id": "_OJQazBoq97N",
        "colab_type": "text"
      },
      "source": [
        "# New Section"
      ]
    },
    {
      "cell_type": "markdown",
      "metadata": {
        "id": "u9Y0g2o3rMko",
        "colab_type": "text"
      },
      "source": [
        "# New Section"
      ]
    },
    {
      "cell_type": "markdown",
      "metadata": {
        "id": "STnymnqprbOI",
        "colab_type": "text"
      },
      "source": [
        "# New Section"
      ]
    },
    {
      "cell_type": "markdown",
      "metadata": {
        "id": "sr3d3KFarp3n",
        "colab_type": "text"
      },
      "source": [
        "# New Section"
      ]
    },
    {
      "cell_type": "markdown",
      "metadata": {
        "id": "y6PdpVQrr4hI",
        "colab_type": "text"
      },
      "source": [
        "# New Section"
      ]
    },
    {
      "cell_type": "markdown",
      "metadata": {
        "id": "snVNFzd4sHKp",
        "colab_type": "text"
      },
      "source": [
        "# New Section"
      ]
    },
    {
      "cell_type": "markdown",
      "metadata": {
        "id": "P26FpWpxsV03",
        "colab_type": "text"
      },
      "source": [
        "# New Section"
      ]
    },
    {
      "cell_type": "markdown",
      "metadata": {
        "id": "Sh483YNmskdu",
        "colab_type": "text"
      },
      "source": [
        "# New Section"
      ]
    },
    {
      "cell_type": "markdown",
      "metadata": {
        "id": "_t88PbLfszHL",
        "colab_type": "text"
      },
      "source": [
        "# New Section"
      ]
    },
    {
      "cell_type": "markdown",
      "metadata": {
        "id": "_cv_KL18tBws",
        "colab_type": "text"
      },
      "source": [
        "# New Section"
      ]
    },
    {
      "cell_type": "markdown",
      "metadata": {
        "id": "PuqA8R21tQaM",
        "colab_type": "text"
      },
      "source": [
        "# New Section"
      ]
    },
    {
      "cell_type": "markdown",
      "metadata": {
        "id": "DXwgo3FBtfDt",
        "colab_type": "text"
      },
      "source": [
        "# New Section"
      ]
    },
    {
      "cell_type": "markdown",
      "metadata": {
        "id": "pYRxvfgrtttO",
        "colab_type": "text"
      },
      "source": [
        "# New Section"
      ]
    },
    {
      "cell_type": "markdown",
      "metadata": {
        "id": "kGbapUvbt8Wt",
        "colab_type": "text"
      },
      "source": [
        "# New Section"
      ]
    },
    {
      "cell_type": "markdown",
      "metadata": {
        "id": "3Ckn7VGGuLAO",
        "colab_type": "text"
      },
      "source": [
        "# New Section"
      ]
    },
    {
      "cell_type": "markdown",
      "metadata": {
        "id": "XpUy92NnuZpv",
        "colab_type": "text"
      },
      "source": [
        "# New Section"
      ]
    },
    {
      "cell_type": "markdown",
      "metadata": {
        "id": "c2lab2jBuoTP",
        "colab_type": "text"
      },
      "source": [
        "# New Section"
      ]
    },
    {
      "cell_type": "markdown",
      "metadata": {
        "id": "3eXzCO4Hu28v",
        "colab_type": "text"
      },
      "source": [
        "# New Section"
      ]
    },
    {
      "cell_type": "markdown",
      "metadata": {
        "id": "dUzBaTj7vFmP",
        "colab_type": "text"
      },
      "source": [
        "# New Section"
      ]
    },
    {
      "cell_type": "markdown",
      "metadata": {
        "id": "A_p1ifpnvUPw",
        "colab_type": "text"
      },
      "source": [
        "# New Section"
      ]
    },
    {
      "cell_type": "markdown",
      "metadata": {
        "id": "Qi1D2NWsvi5R",
        "colab_type": "text"
      },
      "source": [
        "# New Section"
      ]
    },
    {
      "cell_type": "markdown",
      "metadata": {
        "id": "b3H7ozzqvxix",
        "colab_type": "text"
      },
      "source": [
        "# New Section"
      ]
    },
    {
      "cell_type": "markdown",
      "metadata": {
        "id": "EzbsUGeZwAMS",
        "colab_type": "text"
      },
      "source": [
        "# New Section"
      ]
    },
    {
      "cell_type": "markdown",
      "metadata": {
        "id": "d2_IjjQDwO11",
        "colab_type": "text"
      },
      "source": [
        "# New Section"
      ]
    },
    {
      "cell_type": "markdown",
      "metadata": {
        "id": "Z5VJTwZSwdfS",
        "colab_type": "text"
      },
      "source": [
        "# New Section"
      ]
    },
    {
      "cell_type": "markdown",
      "metadata": {
        "id": "ycg9-fBTwsIy",
        "colab_type": "text"
      },
      "source": [
        "# New Section"
      ]
    },
    {
      "cell_type": "markdown",
      "metadata": {
        "id": "MiSZl4diw6yT",
        "colab_type": "text"
      },
      "source": [
        "# New Section"
      ]
    },
    {
      "cell_type": "markdown",
      "metadata": {
        "id": "wCydTKmdxJbz",
        "colab_type": "text"
      },
      "source": [
        "# New Section"
      ]
    },
    {
      "cell_type": "markdown",
      "metadata": {
        "id": "3lDOBtSfxYFY",
        "colab_type": "text"
      },
      "source": [
        "# New Section"
      ]
    },
    {
      "cell_type": "markdown",
      "metadata": {
        "id": "oophwbUQxmu1",
        "colab_type": "text"
      },
      "source": [
        "# New Section"
      ]
    },
    {
      "cell_type": "markdown",
      "metadata": {
        "id": "dE_UJuODx1YV",
        "colab_type": "text"
      },
      "source": [
        "# New Section"
      ]
    },
    {
      "cell_type": "markdown",
      "metadata": {
        "id": "iVSAxR-cyEB2",
        "colab_type": "text"
      },
      "source": [
        "# New Section"
      ]
    },
    {
      "cell_type": "markdown",
      "metadata": {
        "id": "8eXNnNFmySrY",
        "colab_type": "text"
      },
      "source": [
        "# New Section"
      ]
    },
    {
      "cell_type": "markdown",
      "metadata": {
        "id": "unNVAXY_yhU2",
        "colab_type": "text"
      },
      "source": [
        "# New Section"
      ]
    },
    {
      "cell_type": "markdown",
      "metadata": {
        "id": "jbX4jBrryv-X",
        "colab_type": "text"
      },
      "source": [
        "# New Section"
      ]
    },
    {
      "cell_type": "markdown",
      "metadata": {
        "id": "CP4DhLf7y-n4",
        "colab_type": "text"
      },
      "source": [
        "# New Section"
      ]
    },
    {
      "cell_type": "markdown",
      "metadata": {
        "id": "RA5RYXgTzNRw",
        "colab_type": "text"
      },
      "source": [
        "# New Section"
      ]
    },
    {
      "cell_type": "markdown",
      "metadata": {
        "id": "NbIUzOBxzb65",
        "colab_type": "text"
      },
      "source": [
        "# New Section"
      ]
    },
    {
      "cell_type": "markdown",
      "metadata": {
        "id": "HCV3owdnzqkZ",
        "colab_type": "text"
      },
      "source": [
        "# New Section"
      ]
    },
    {
      "cell_type": "markdown",
      "metadata": {
        "id": "kcwEawl1z5N6",
        "colab_type": "text"
      },
      "source": [
        "# New Section"
      ]
    },
    {
      "cell_type": "markdown",
      "metadata": {
        "id": "c1aZA-7P0H3Z",
        "colab_type": "text"
      },
      "source": [
        "# New Section"
      ]
    },
    {
      "cell_type": "markdown",
      "metadata": {
        "id": "7BEj4s6G0Wg5",
        "colab_type": "text"
      },
      "source": [
        "# New Section"
      ]
    },
    {
      "cell_type": "markdown",
      "metadata": {
        "id": "O7sTaWv30lKb",
        "colab_type": "text"
      },
      "source": [
        "# New Section"
      ]
    },
    {
      "cell_type": "markdown",
      "metadata": {
        "id": "XUodLCHu0zz7",
        "colab_type": "text"
      },
      "source": [
        "# New Section"
      ]
    },
    {
      "cell_type": "markdown",
      "metadata": {
        "id": "eePqgZ_31Cdf",
        "colab_type": "text"
      },
      "source": [
        "# New Section"
      ]
    },
    {
      "cell_type": "markdown",
      "metadata": {
        "id": "MQTPla4I1RG9",
        "colab_type": "text"
      },
      "source": [
        "# New Section"
      ]
    },
    {
      "cell_type": "markdown",
      "metadata": {
        "id": "w7Di9OU01fwd",
        "colab_type": "text"
      },
      "source": [
        "# New Section"
      ]
    },
    {
      "cell_type": "markdown",
      "metadata": {
        "id": "ibz45_O31uZ9",
        "colab_type": "text"
      },
      "source": [
        "# New Section"
      ]
    },
    {
      "cell_type": "markdown",
      "metadata": {
        "id": "PwUXLb-l19Db",
        "colab_type": "text"
      },
      "source": [
        "# New Section"
      ]
    },
    {
      "cell_type": "markdown",
      "metadata": {
        "id": "spOgZjDp2Ls-",
        "colab_type": "text"
      },
      "source": [
        "# New Section"
      ]
    },
    {
      "cell_type": "markdown",
      "metadata": {
        "id": "nzuG8IU-2aWf",
        "colab_type": "text"
      },
      "source": [
        "# New Section"
      ]
    },
    {
      "cell_type": "markdown",
      "metadata": {
        "id": "7KMbHc042o__",
        "colab_type": "text"
      },
      "source": [
        "# New Section"
      ]
    },
    {
      "cell_type": "markdown",
      "metadata": {
        "id": "J8lcGuro23pj",
        "colab_type": "text"
      },
      "source": [
        "# New Section"
      ]
    },
    {
      "cell_type": "markdown",
      "metadata": {
        "id": "28VTB7353GTA",
        "colab_type": "text"
      },
      "source": [
        "# New Section"
      ]
    },
    {
      "cell_type": "markdown",
      "metadata": {
        "id": "V7iQ7ACE3U8h",
        "colab_type": "text"
      },
      "source": [
        "# New Section"
      ]
    },
    {
      "cell_type": "markdown",
      "metadata": {
        "id": "jzMWmaah3jmB",
        "colab_type": "text"
      },
      "source": [
        "# New Section"
      ]
    },
    {
      "cell_type": "markdown",
      "metadata": {
        "id": "6q9ZwO3G3yPg",
        "colab_type": "text"
      },
      "source": [
        "# New Section"
      ]
    },
    {
      "cell_type": "markdown",
      "metadata": {
        "id": "f4QUUgiY4A5B",
        "colab_type": "text"
      },
      "source": [
        "# New Section"
      ]
    },
    {
      "cell_type": "markdown",
      "metadata": {
        "id": "swMDUQad4Pii",
        "colab_type": "text"
      },
      "source": [
        "# New Section"
      ]
    },
    {
      "cell_type": "markdown",
      "metadata": {
        "id": "XP-Nfycn4eMC",
        "colab_type": "text"
      },
      "source": [
        "# New Section"
      ]
    },
    {
      "cell_type": "markdown",
      "metadata": {
        "id": "Og5ejD5m4s1n",
        "colab_type": "text"
      },
      "source": [
        "# New Section"
      ]
    },
    {
      "cell_type": "markdown",
      "metadata": {
        "id": "ktNpYbYY47fF",
        "colab_type": "text"
      },
      "source": [
        "# New Section"
      ]
    },
    {
      "cell_type": "markdown",
      "metadata": {
        "id": "7mZYK7Pm5KIl",
        "colab_type": "text"
      },
      "source": [
        "# New Section"
      ]
    },
    {
      "cell_type": "markdown",
      "metadata": {
        "id": "tYPzXWBW5YyF",
        "colab_type": "text"
      },
      "source": [
        "# New Section"
      ]
    },
    {
      "cell_type": "markdown",
      "metadata": {
        "id": "4RZfsOI45nbq",
        "colab_type": "text"
      },
      "source": [
        "# New Section"
      ]
    },
    {
      "cell_type": "markdown",
      "metadata": {
        "id": "JAAvv9Nb52FH",
        "colab_type": "text"
      },
      "source": [
        "# New Section"
      ]
    },
    {
      "cell_type": "markdown",
      "metadata": {
        "id": "areh5hdU6EvH",
        "colab_type": "text"
      },
      "source": [
        "# New Section"
      ]
    },
    {
      "cell_type": "markdown",
      "metadata": {
        "id": "umqxZebK6TYH",
        "colab_type": "text"
      },
      "source": [
        "# New Section"
      ]
    },
    {
      "cell_type": "markdown",
      "metadata": {
        "id": "ugZd_yKL6iBo",
        "colab_type": "text"
      },
      "source": [
        "# New Section"
      ]
    },
    {
      "cell_type": "markdown",
      "metadata": {
        "id": "hP4PY3ZK6wrI",
        "colab_type": "text"
      },
      "source": [
        "# New Section"
      ]
    },
    {
      "cell_type": "markdown",
      "metadata": {
        "id": "FmZULBC36_Uo",
        "colab_type": "text"
      },
      "source": [
        "# New Section"
      ]
    },
    {
      "cell_type": "markdown",
      "metadata": {
        "id": "1-rIjbo87N-I",
        "colab_type": "text"
      },
      "source": [
        "# New Section"
      ]
    },
    {
      "cell_type": "markdown",
      "metadata": {
        "id": "Xk5aCrbD7cno",
        "colab_type": "text"
      },
      "source": [
        "# New Section"
      ]
    },
    {
      "cell_type": "markdown",
      "metadata": {
        "id": "t4HS23Hu7rRJ",
        "colab_type": "text"
      },
      "source": [
        "# New Section"
      ]
    },
    {
      "cell_type": "markdown",
      "metadata": {
        "id": "8LQmB8-g756q",
        "colab_type": "text"
      },
      "source": [
        "# New Section"
      ]
    },
    {
      "cell_type": "markdown",
      "metadata": {
        "id": "HpU-dvMD8IkL",
        "colab_type": "text"
      },
      "source": [
        "# New Section"
      ]
    },
    {
      "cell_type": "markdown",
      "metadata": {
        "id": "kmCgfSb18XNt",
        "colab_type": "text"
      },
      "source": [
        "# New Section"
      ]
    },
    {
      "cell_type": "markdown",
      "metadata": {
        "id": "U8Xj9v0Z8l3L",
        "colab_type": "text"
      },
      "source": [
        "# New Section"
      ]
    },
    {
      "cell_type": "markdown",
      "metadata": {
        "id": "kQfbUh3G80gs",
        "colab_type": "text"
      },
      "source": [
        "# New Section"
      ]
    },
    {
      "cell_type": "markdown",
      "metadata": {
        "id": "kBKseHGZ9DKM",
        "colab_type": "text"
      },
      "source": [
        "# New Section"
      ]
    },
    {
      "cell_type": "markdown",
      "metadata": {
        "id": "5M13A60H9Rzw",
        "colab_type": "text"
      },
      "source": [
        "# New Section"
      ]
    },
    {
      "cell_type": "markdown",
      "metadata": {
        "id": "HDW8EvMh9gdN",
        "colab_type": "text"
      },
      "source": [
        "# New Section"
      ]
    },
    {
      "cell_type": "markdown",
      "metadata": {
        "id": "5-Xjbhdx9vGu",
        "colab_type": "text"
      },
      "source": [
        "# New Section"
      ]
    },
    {
      "cell_type": "markdown",
      "metadata": {
        "id": "SIxpMFza99wO",
        "colab_type": "text"
      },
      "source": [
        "# New Section"
      ]
    },
    {
      "cell_type": "markdown",
      "metadata": {
        "id": "PTnIoSkh-MZu",
        "colab_type": "text"
      },
      "source": [
        "# New Section"
      ]
    },
    {
      "cell_type": "markdown",
      "metadata": {
        "id": "V9BreFb2-bDP",
        "colab_type": "text"
      },
      "source": [
        "# New Section"
      ]
    },
    {
      "cell_type": "markdown",
      "metadata": {
        "id": "fRqNLTPy-psw",
        "colab_type": "text"
      },
      "source": [
        "# New Section"
      ]
    },
    {
      "cell_type": "markdown",
      "metadata": {
        "id": "j-tY1flW-4WQ",
        "colab_type": "text"
      },
      "source": [
        "# New Section"
      ]
    },
    {
      "cell_type": "markdown",
      "metadata": {
        "id": "sOjLY3-4_G_1",
        "colab_type": "text"
      },
      "source": [
        "# New Section"
      ]
    },
    {
      "cell_type": "markdown",
      "metadata": {
        "id": "fllKdmZ3_VpR",
        "colab_type": "text"
      },
      "source": [
        "# New Section"
      ]
    },
    {
      "cell_type": "markdown",
      "metadata": {
        "id": "n6DvCWMg_kTB",
        "colab_type": "text"
      },
      "source": [
        "# New Section"
      ]
    },
    {
      "cell_type": "markdown",
      "metadata": {
        "id": "YCctGCNU_y8S",
        "colab_type": "text"
      },
      "source": [
        "# New Section"
      ]
    },
    {
      "cell_type": "markdown",
      "metadata": {
        "id": "BR4Y4QlhABmL",
        "colab_type": "text"
      },
      "source": [
        "# New Section"
      ]
    },
    {
      "cell_type": "markdown",
      "metadata": {
        "id": "LtIeJAzcAQPU",
        "colab_type": "text"
      },
      "source": [
        "# New Section"
      ]
    },
    {
      "cell_type": "markdown",
      "metadata": {
        "id": "FaAmUnpPAe45",
        "colab_type": "text"
      },
      "source": [
        "# New Section"
      ]
    },
    {
      "cell_type": "markdown",
      "metadata": {
        "id": "iM7KCGa1AtiT",
        "colab_type": "text"
      },
      "source": [
        "# New Section"
      ]
    },
    {
      "cell_type": "markdown",
      "metadata": {
        "id": "Hca8EhckA8L2",
        "colab_type": "text"
      },
      "source": [
        "# New Section"
      ]
    },
    {
      "cell_type": "markdown",
      "metadata": {
        "id": "FmS54osqBK1V",
        "colab_type": "text"
      },
      "source": [
        "# New Section"
      ]
    },
    {
      "cell_type": "markdown",
      "metadata": {
        "id": "wop0_lQ_BZe2",
        "colab_type": "text"
      },
      "source": [
        "# New Section"
      ]
    },
    {
      "cell_type": "markdown",
      "metadata": {
        "id": "Aeomwo2LBoIW",
        "colab_type": "text"
      },
      "source": [
        "# New Section"
      ]
    },
    {
      "cell_type": "markdown",
      "metadata": {
        "id": "nD8Sc36bB2x6",
        "colab_type": "text"
      },
      "source": [
        "# New Section"
      ]
    },
    {
      "cell_type": "markdown",
      "metadata": {
        "id": "-QnUpd0VCFbX",
        "colab_type": "text"
      },
      "source": [
        "# New Section"
      ]
    },
    {
      "cell_type": "markdown",
      "metadata": {
        "id": "9IRpIYwQCUE3",
        "colab_type": "text"
      },
      "source": [
        "# New Section"
      ]
    },
    {
      "cell_type": "markdown",
      "metadata": {
        "id": "BsmSQHgYCiuY",
        "colab_type": "text"
      },
      "source": [
        "# New Section"
      ]
    },
    {
      "cell_type": "markdown",
      "metadata": {
        "id": "wFQp93vZCxX4",
        "colab_type": "text"
      },
      "source": [
        "# New Section"
      ]
    },
    {
      "cell_type": "markdown",
      "metadata": {
        "id": "qfL8f5qhDABY",
        "colab_type": "text"
      },
      "source": [
        "# New Section"
      ]
    },
    {
      "cell_type": "markdown",
      "metadata": {
        "id": "74V-Qga9DOq_",
        "colab_type": "text"
      },
      "source": [
        "# New Section"
      ]
    },
    {
      "cell_type": "markdown",
      "metadata": {
        "id": "lHfezi9pDdUZ",
        "colab_type": "text"
      },
      "source": [
        "# New Section"
      ]
    },
    {
      "cell_type": "markdown",
      "metadata": {
        "id": "ZkgHGeYODr96",
        "colab_type": "text"
      },
      "source": [
        "# New Section"
      ]
    },
    {
      "cell_type": "markdown",
      "metadata": {
        "id": "FzmlWBplD6na",
        "colab_type": "text"
      },
      "source": [
        "# New Section"
      ]
    },
    {
      "cell_type": "markdown",
      "metadata": {
        "id": "3Na9VYsXEJQ6",
        "colab_type": "text"
      },
      "source": [
        "# New Section"
      ]
    },
    {
      "cell_type": "markdown",
      "metadata": {
        "id": "xqmC4mONEX6b",
        "colab_type": "text"
      },
      "source": [
        "# New Section"
      ]
    },
    {
      "cell_type": "markdown",
      "metadata": {
        "id": "wz0l67-8Emj8",
        "colab_type": "text"
      },
      "source": [
        "# New Section"
      ]
    },
    {
      "cell_type": "markdown",
      "metadata": {
        "id": "bblNRJTfE1bv",
        "colab_type": "text"
      },
      "source": [
        "# New Section"
      ]
    },
    {
      "cell_type": "markdown",
      "metadata": {
        "id": "Hc4YIMbxFD29",
        "colab_type": "text"
      },
      "source": [
        "# New Section"
      ]
    },
    {
      "cell_type": "markdown",
      "metadata": {
        "id": "F_7PJiOVFSgm",
        "colab_type": "text"
      },
      "source": [
        "# New Section"
      ]
    },
    {
      "cell_type": "markdown",
      "metadata": {
        "id": "6YoHv6tzFhKD",
        "colab_type": "text"
      },
      "source": [
        "# New Section"
      ]
    },
    {
      "cell_type": "markdown",
      "metadata": {
        "id": "p1ZuI6OiFvze",
        "colab_type": "text"
      },
      "source": [
        "# New Section"
      ]
    },
    {
      "cell_type": "markdown",
      "metadata": {
        "id": "YQMAb6WuF-c_",
        "colab_type": "text"
      },
      "source": [
        "# New Section"
      ]
    },
    {
      "cell_type": "markdown",
      "metadata": {
        "id": "0AQvbRQxGNGe",
        "colab_type": "text"
      },
      "source": [
        "# New Section"
      ]
    },
    {
      "cell_type": "markdown",
      "metadata": {
        "id": "PhEN5eOsGbwq",
        "colab_type": "text"
      },
      "source": [
        "# New Section"
      ]
    },
    {
      "cell_type": "markdown",
      "metadata": {
        "id": "sCe56SN6GqZi",
        "colab_type": "text"
      },
      "source": [
        "# New Section"
      ]
    },
    {
      "cell_type": "markdown",
      "metadata": {
        "id": "BP6st2bzG5DA",
        "colab_type": "text"
      },
      "source": [
        "# New Section"
      ]
    },
    {
      "cell_type": "markdown",
      "metadata": {
        "id": "MstCqks2HHsi",
        "colab_type": "text"
      },
      "source": [
        "# New Section"
      ]
    },
    {
      "cell_type": "markdown",
      "metadata": {
        "id": "66uVP8yZHWWB",
        "colab_type": "text"
      },
      "source": [
        "# New Section"
      ]
    },
    {
      "cell_type": "markdown",
      "metadata": {
        "id": "NOKg6vVcHk_l",
        "colab_type": "text"
      },
      "source": [
        "# New Section"
      ]
    },
    {
      "cell_type": "markdown",
      "metadata": {
        "id": "zT1xLujoHzpw",
        "colab_type": "text"
      },
      "source": [
        "# New Section"
      ]
    },
    {
      "cell_type": "markdown",
      "metadata": {
        "id": "ykY8LxFuICSl",
        "colab_type": "text"
      },
      "source": [
        "# New Section"
      ]
    },
    {
      "cell_type": "markdown",
      "metadata": {
        "id": "TvlWotf3IQ8E",
        "colab_type": "text"
      },
      "source": [
        "# New Section"
      ]
    },
    {
      "cell_type": "markdown",
      "metadata": {
        "id": "Ja0fIdUFIflk",
        "colab_type": "text"
      },
      "source": [
        "# New Section"
      ]
    },
    {
      "cell_type": "markdown",
      "metadata": {
        "id": "N1wm8hqmIuPE",
        "colab_type": "text"
      },
      "source": [
        "# New Section"
      ]
    },
    {
      "cell_type": "markdown",
      "metadata": {
        "id": "NONVs0eKI9G2",
        "colab_type": "text"
      },
      "source": [
        "# New Section"
      ]
    },
    {
      "cell_type": "markdown",
      "metadata": {
        "id": "OksDyAiXJLkW",
        "colab_type": "text"
      },
      "source": [
        "# New Section"
      ]
    },
    {
      "cell_type": "markdown",
      "metadata": {
        "id": "XTUFymm3JaY9",
        "colab_type": "text"
      },
      "source": [
        "# New Section"
      ]
    },
    {
      "cell_type": "markdown",
      "metadata": {
        "id": "oelCCUv2JpDe",
        "colab_type": "text"
      },
      "source": [
        "# New Section"
      ]
    },
    {
      "cell_type": "markdown",
      "metadata": {
        "id": "a7ibvGUVJ3s6",
        "colab_type": "text"
      },
      "source": [
        "# New Section"
      ]
    },
    {
      "cell_type": "markdown",
      "metadata": {
        "id": "mdcx9NeEKGWb",
        "colab_type": "text"
      },
      "source": [
        "# New Section"
      ]
    },
    {
      "cell_type": "markdown",
      "metadata": {
        "id": "K9oMRlvzKUyJ",
        "colab_type": "text"
      },
      "source": [
        "# New Section"
      ]
    },
    {
      "cell_type": "markdown",
      "metadata": {
        "id": "xaTy5Nu9Kjbd",
        "colab_type": "text"
      },
      "source": [
        "# New Section"
      ]
    },
    {
      "cell_type": "markdown",
      "metadata": {
        "id": "TBHc5GAuKyEp",
        "colab_type": "text"
      },
      "source": [
        "# New Section"
      ]
    },
    {
      "cell_type": "markdown",
      "metadata": {
        "id": "dcozPoJfLAuK",
        "colab_type": "text"
      },
      "source": [
        "# New Section"
      ]
    },
    {
      "cell_type": "markdown",
      "metadata": {
        "id": "_kJ8aI3TLPXq",
        "colab_type": "text"
      },
      "source": [
        "# New Section"
      ]
    },
    {
      "cell_type": "markdown",
      "metadata": {
        "id": "_tlt0CiaLeBL",
        "colab_type": "text"
      },
      "source": [
        "# New Section"
      ]
    },
    {
      "cell_type": "markdown",
      "metadata": {
        "id": "fp-k8wjKLsqr",
        "colab_type": "text"
      },
      "source": [
        "# New Section"
      ]
    },
    {
      "cell_type": "markdown",
      "metadata": {
        "id": "gJUvKynrL7UM",
        "colab_type": "text"
      },
      "source": [
        "# New Section"
      ]
    },
    {
      "cell_type": "markdown",
      "metadata": {
        "id": "z9jJ8ZOjMJ9q",
        "colab_type": "text"
      },
      "source": [
        "# New Section"
      ]
    },
    {
      "cell_type": "markdown",
      "metadata": {
        "id": "SBK_XShgMYnP",
        "colab_type": "text"
      },
      "source": [
        "# New Section"
      ]
    },
    {
      "cell_type": "markdown",
      "metadata": {
        "id": "DIe3nA-rMnQt",
        "colab_type": "text"
      },
      "source": [
        "# New Section"
      ]
    },
    {
      "cell_type": "markdown",
      "metadata": {
        "id": "OXPt6BaKM16N",
        "colab_type": "text"
      },
      "source": [
        "# New Section"
      ]
    },
    {
      "cell_type": "markdown",
      "metadata": {
        "id": "umhQ_eLaNEj2",
        "colab_type": "text"
      },
      "source": [
        "# New Section"
      ]
    },
    {
      "cell_type": "markdown",
      "metadata": {
        "id": "v49tHX9TNTNN",
        "colab_type": "text"
      },
      "source": [
        "# New Section"
      ]
    },
    {
      "cell_type": "markdown",
      "metadata": {
        "id": "MhXgP_rGNh2v",
        "colab_type": "text"
      },
      "source": [
        "# New Section"
      ]
    },
    {
      "cell_type": "markdown",
      "metadata": {
        "id": "OXCoFlugNwgS",
        "colab_type": "text"
      },
      "source": [
        "# New Section"
      ]
    },
    {
      "cell_type": "markdown",
      "metadata": {
        "id": "_he-U2s4N_Jv",
        "colab_type": "text"
      },
      "source": [
        "# New Section"
      ]
    },
    {
      "cell_type": "markdown",
      "metadata": {
        "id": "FnFa753HONzP",
        "colab_type": "text"
      },
      "source": [
        "# New Section"
      ]
    },
    {
      "cell_type": "markdown",
      "metadata": {
        "id": "wxDT7l2IOccv",
        "colab_type": "text"
      },
      "source": [
        "# New Section"
      ]
    },
    {
      "cell_type": "markdown",
      "metadata": {
        "id": "rb-8eY2DOrGQ",
        "colab_type": "text"
      },
      "source": [
        "# New Section"
      ]
    },
    {
      "cell_type": "markdown",
      "metadata": {
        "id": "WA245tM0O5vx",
        "colab_type": "text"
      },
      "source": [
        "# New Section"
      ]
    },
    {
      "cell_type": "markdown",
      "metadata": {
        "id": "dkVODAhIPIZR",
        "colab_type": "text"
      },
      "source": [
        "# New Section"
      ]
    },
    {
      "cell_type": "markdown",
      "metadata": {
        "id": "ybEzEj9YPXCy",
        "colab_type": "text"
      },
      "source": [
        "# New Section"
      ]
    },
    {
      "cell_type": "markdown",
      "metadata": {
        "id": "mFO6i0CnPlsT",
        "colab_type": "text"
      },
      "source": [
        "# New Section"
      ]
    },
    {
      "cell_type": "markdown",
      "metadata": {
        "id": "g9B9Bw4cP0Vz",
        "colab_type": "text"
      },
      "source": [
        "# New Section"
      ]
    },
    {
      "cell_type": "markdown",
      "metadata": {
        "id": "1TZmze74QC_U",
        "colab_type": "text"
      },
      "source": [
        "# New Section"
      ]
    },
    {
      "cell_type": "markdown",
      "metadata": {
        "id": "oBHCZyBeQRo1",
        "colab_type": "text"
      },
      "source": [
        "# New Section"
      ]
    },
    {
      "cell_type": "markdown",
      "metadata": {
        "id": "Ro-LHhHCQgSV",
        "colab_type": "text"
      },
      "source": [
        "# New Section"
      ]
    },
    {
      "cell_type": "markdown",
      "metadata": {
        "id": "9NCUTPF1Qu72",
        "colab_type": "text"
      },
      "source": [
        "# New Section"
      ]
    },
    {
      "cell_type": "markdown",
      "metadata": {
        "id": "Ir14j-wpQ9lW",
        "colab_type": "text"
      },
      "source": [
        "# New Section"
      ]
    },
    {
      "cell_type": "markdown",
      "metadata": {
        "id": "mMAXGKjcRMO3",
        "colab_type": "text"
      },
      "source": [
        "# New Section"
      ]
    },
    {
      "cell_type": "markdown",
      "metadata": {
        "id": "aWClGFnJRa4X",
        "colab_type": "text"
      },
      "source": [
        "# New Section"
      ]
    },
    {
      "cell_type": "markdown",
      "metadata": {
        "id": "e25f-IVoRph4",
        "colab_type": "text"
      },
      "source": [
        "# New Section"
      ]
    },
    {
      "cell_type": "markdown",
      "metadata": {
        "id": "l_Io5HKwR4LY",
        "colab_type": "text"
      },
      "source": [
        "# New Section"
      ]
    },
    {
      "cell_type": "markdown",
      "metadata": {
        "id": "krb3_KORSG04",
        "colab_type": "text"
      },
      "source": [
        "# New Section"
      ]
    },
    {
      "cell_type": "markdown",
      "metadata": {
        "id": "-OHyry8ASVeZ",
        "colab_type": "text"
      },
      "source": [
        "# New Section"
      ]
    },
    {
      "cell_type": "markdown",
      "metadata": {
        "id": "pgIMdX7XSkH5",
        "colab_type": "text"
      },
      "source": [
        "# New Section"
      ]
    },
    {
      "cell_type": "markdown",
      "metadata": {
        "id": "3-v-RLS8Syxa",
        "colab_type": "text"
      },
      "source": [
        "# New Section"
      ]
    },
    {
      "cell_type": "markdown",
      "metadata": {
        "id": "EAX0G0D2TBa3",
        "colab_type": "text"
      },
      "source": [
        "# New Section"
      ]
    },
    {
      "cell_type": "markdown",
      "metadata": {
        "id": "kymlgTjQTQEa",
        "colab_type": "text"
      },
      "source": [
        "# New Section"
      ]
    },
    {
      "cell_type": "markdown",
      "metadata": {
        "id": "lMwl2PzITet6",
        "colab_type": "text"
      },
      "source": [
        "# New Section"
      ]
    },
    {
      "cell_type": "markdown",
      "metadata": {
        "id": "iAhgmmmpTtXj",
        "colab_type": "text"
      },
      "source": [
        "# New Section"
      ]
    },
    {
      "cell_type": "markdown",
      "metadata": {
        "id": "DivF3AIBT8A7",
        "colab_type": "text"
      },
      "source": [
        "# New Section"
      ]
    },
    {
      "cell_type": "markdown",
      "metadata": {
        "id": "6qZ6yKWXUKqc",
        "colab_type": "text"
      },
      "source": [
        "# New Section"
      ]
    },
    {
      "cell_type": "markdown",
      "metadata": {
        "id": "wJSybHBLUZT8",
        "colab_type": "text"
      },
      "source": [
        "# New Section"
      ]
    },
    {
      "cell_type": "markdown",
      "metadata": {
        "id": "H6MsSCw4Un9d",
        "colab_type": "text"
      },
      "source": [
        "# New Section"
      ]
    },
    {
      "cell_type": "markdown",
      "metadata": {
        "id": "PY6F2D5JU2m-",
        "colab_type": "text"
      },
      "source": [
        "# New Section"
      ]
    },
    {
      "cell_type": "markdown",
      "metadata": {
        "id": "i80V3aDgVFQf",
        "colab_type": "text"
      },
      "source": [
        "# New Section"
      ]
    },
    {
      "cell_type": "markdown",
      "metadata": {
        "id": "CMPGa91tVT6C",
        "colab_type": "text"
      },
      "source": [
        "# New Section"
      ]
    },
    {
      "cell_type": "markdown",
      "metadata": {
        "id": "ezDsjo05Vijg",
        "colab_type": "text"
      },
      "source": [
        "# New Section"
      ]
    },
    {
      "cell_type": "markdown",
      "metadata": {
        "id": "5mivfpwfVxM_",
        "colab_type": "text"
      },
      "source": [
        "# New Section"
      ]
    },
    {
      "cell_type": "markdown",
      "metadata": {
        "id": "_HJjYMcXV_2h",
        "colab_type": "text"
      },
      "source": [
        "# New Section"
      ]
    },
    {
      "cell_type": "markdown",
      "metadata": {
        "id": "aPEErEwGWOgA",
        "colab_type": "text"
      },
      "source": [
        "# New Section"
      ]
    },
    {
      "cell_type": "markdown",
      "metadata": {
        "id": "8siCBsg0WdJi",
        "colab_type": "text"
      },
      "source": [
        "# New Section"
      ]
    },
    {
      "cell_type": "markdown",
      "metadata": {
        "id": "fhaUwAKEWrzC",
        "colab_type": "text"
      },
      "source": [
        "# New Section"
      ]
    },
    {
      "cell_type": "markdown",
      "metadata": {
        "id": "bUIgdfFEW6ch",
        "colab_type": "text"
      },
      "source": [
        "# New Section"
      ]
    },
    {
      "cell_type": "markdown",
      "metadata": {
        "id": "Mk62iPY9XJGD",
        "colab_type": "text"
      },
      "source": [
        "# New Section"
      ]
    },
    {
      "cell_type": "markdown",
      "metadata": {
        "id": "dEbE8DW8XXvj",
        "colab_type": "text"
      },
      "source": [
        "# New Section"
      ]
    },
    {
      "cell_type": "markdown",
      "metadata": {
        "id": "UQ2rv48VXmZD",
        "colab_type": "text"
      },
      "source": [
        "# New Section"
      ]
    },
    {
      "cell_type": "markdown",
      "metadata": {
        "id": "sl0-0tH3X1Cj",
        "colab_type": "text"
      },
      "source": [
        "# New Section"
      ]
    },
    {
      "cell_type": "markdown",
      "metadata": {
        "id": "uPUu89ojYDsE",
        "colab_type": "text"
      },
      "source": [
        "# New Section"
      ]
    },
    {
      "cell_type": "markdown",
      "metadata": {
        "id": "nhCHrfIqYSVk",
        "colab_type": "text"
      },
      "source": [
        "# New Section"
      ]
    },
    {
      "cell_type": "markdown",
      "metadata": {
        "id": "rUwo09m0Yg_J",
        "colab_type": "text"
      },
      "source": [
        "# New Section"
      ]
    },
    {
      "cell_type": "markdown",
      "metadata": {
        "id": "Jt7nyGy0Yvom",
        "colab_type": "text"
      },
      "source": [
        "# New Section"
      ]
    },
    {
      "cell_type": "markdown",
      "metadata": {
        "id": "LCP6aSNmY-SF",
        "colab_type": "text"
      },
      "source": [
        "# New Section"
      ]
    },
    {
      "cell_type": "markdown",
      "metadata": {
        "id": "e1DU2TSMZM7n",
        "colab_type": "text"
      },
      "source": [
        "# New Section"
      ]
    },
    {
      "cell_type": "markdown",
      "metadata": {
        "id": "V2g0K0_zZblH",
        "colab_type": "text"
      },
      "source": [
        "# New Section"
      ]
    },
    {
      "cell_type": "markdown",
      "metadata": {
        "id": "a2nYDaRyZqOl",
        "colab_type": "text"
      },
      "source": [
        "# New Section"
      ]
    },
    {
      "cell_type": "markdown",
      "metadata": {
        "id": "LAmwnh6-Z44I",
        "colab_type": "text"
      },
      "source": [
        "# New Section"
      ]
    },
    {
      "cell_type": "markdown",
      "metadata": {
        "id": "7z5Lad49aHiA",
        "colab_type": "text"
      },
      "source": [
        "# New Section"
      ]
    },
    {
      "cell_type": "markdown",
      "metadata": {
        "id": "7loRKhRSaWLJ",
        "colab_type": "text"
      },
      "source": [
        "# New Section"
      ]
    },
    {
      "cell_type": "markdown",
      "metadata": {
        "id": "oj8l8ONlak0p",
        "colab_type": "text"
      },
      "source": [
        "# New Section"
      ]
    },
    {
      "cell_type": "markdown",
      "metadata": {
        "id": "2odQHz9XazeN",
        "colab_type": "text"
      },
      "source": [
        "# New Section"
      ]
    },
    {
      "cell_type": "markdown",
      "metadata": {
        "id": "Pry99xUdbCHr",
        "colab_type": "text"
      },
      "source": [
        "# New Section"
      ]
    },
    {
      "cell_type": "markdown",
      "metadata": {
        "id": "X77whAQ1bQxL",
        "colab_type": "text"
      },
      "source": [
        "# New Section"
      ]
    },
    {
      "cell_type": "markdown",
      "metadata": {
        "id": "vKa_xXS7bfas",
        "colab_type": "text"
      },
      "source": [
        "# New Section"
      ]
    },
    {
      "cell_type": "markdown",
      "metadata": {
        "id": "CrVulTYfbuEP",
        "colab_type": "text"
      },
      "source": [
        "# New Section"
      ]
    },
    {
      "cell_type": "markdown",
      "metadata": {
        "id": "PEVgTD5Ab8uU",
        "colab_type": "text"
      },
      "source": [
        "# New Section"
      ]
    },
    {
      "cell_type": "markdown",
      "metadata": {
        "id": "ZsYz7K0VcLXN",
        "colab_type": "text"
      },
      "source": [
        "# New Section"
      ]
    },
    {
      "cell_type": "markdown",
      "metadata": {
        "id": "higBkq5DcaAx",
        "colab_type": "text"
      },
      "source": [
        "# New Section"
      ]
    },
    {
      "cell_type": "markdown",
      "metadata": {
        "id": "2NSlAO0RcoqO",
        "colab_type": "text"
      },
      "source": [
        "# New Section"
      ]
    },
    {
      "cell_type": "markdown",
      "metadata": {
        "id": "uD57sq8Rc3Tt",
        "colab_type": "text"
      },
      "source": [
        "# New Section"
      ]
    },
    {
      "cell_type": "markdown",
      "metadata": {
        "id": "zIFBNcbUdF9R",
        "colab_type": "text"
      },
      "source": [
        "# New Section"
      ]
    },
    {
      "cell_type": "markdown",
      "metadata": {
        "id": "GkO9nxBudUmv",
        "colab_type": "text"
      },
      "source": [
        "# New Section"
      ]
    },
    {
      "cell_type": "markdown",
      "metadata": {
        "id": "uNgInxNwdjQO",
        "colab_type": "text"
      },
      "source": [
        "# New Section"
      ]
    },
    {
      "cell_type": "markdown",
      "metadata": {
        "id": "TetH7BLsdx5w",
        "colab_type": "text"
      },
      "source": [
        "# New Section"
      ]
    },
    {
      "cell_type": "markdown",
      "metadata": {
        "id": "5bieVYAzeAjR",
        "colab_type": "text"
      },
      "source": [
        "# New Section"
      ]
    },
    {
      "cell_type": "markdown",
      "metadata": {
        "id": "ZlgjEMCAePMx",
        "colab_type": "text"
      },
      "source": [
        "# New Section"
      ]
    },
    {
      "cell_type": "markdown",
      "metadata": {
        "id": "Ox9ILE-ked2V",
        "colab_type": "text"
      },
      "source": [
        "# New Section"
      ]
    },
    {
      "cell_type": "markdown",
      "metadata": {
        "id": "geSuu_TTesfw",
        "colab_type": "text"
      },
      "source": [
        "# New Section"
      ]
    },
    {
      "cell_type": "markdown",
      "metadata": {
        "id": "3f-2AU71e7JS",
        "colab_type": "text"
      },
      "source": [
        "# New Section"
      ]
    },
    {
      "cell_type": "markdown",
      "metadata": {
        "id": "o088jMfHfJy0",
        "colab_type": "text"
      },
      "source": [
        "# New Section"
      ]
    },
    {
      "cell_type": "markdown",
      "metadata": {
        "id": "6WCpiSnzfYcR",
        "colab_type": "text"
      },
      "source": [
        "# New Section"
      ]
    },
    {
      "cell_type": "markdown",
      "metadata": {
        "id": "ECz_f7QKfnF0",
        "colab_type": "text"
      },
      "source": [
        "# New Section"
      ]
    },
    {
      "cell_type": "markdown",
      "metadata": {
        "id": "nOtHnr-Af1vU",
        "colab_type": "text"
      },
      "source": [
        "# New Section"
      ]
    },
    {
      "cell_type": "markdown",
      "metadata": {
        "id": "fwp5CLSTgEY0",
        "colab_type": "text"
      },
      "source": [
        "# New Section"
      ]
    },
    {
      "cell_type": "markdown",
      "metadata": {
        "id": "IMO4AcT5gTCY",
        "colab_type": "text"
      },
      "source": [
        "# New Section"
      ]
    },
    {
      "cell_type": "markdown",
      "metadata": {
        "id": "_jAiwqp4ghr0",
        "colab_type": "text"
      },
      "source": [
        "# New Section"
      ]
    },
    {
      "cell_type": "markdown",
      "metadata": {
        "id": "6HHm9fj2gwVU",
        "colab_type": "text"
      },
      "source": [
        "# New Section"
      ]
    },
    {
      "cell_type": "markdown",
      "metadata": {
        "id": "ADQwm7x6g--4",
        "colab_type": "text"
      },
      "source": [
        "# New Section"
      ]
    },
    {
      "cell_type": "markdown",
      "metadata": {
        "id": "mwa_4aLIhNoZ",
        "colab_type": "text"
      },
      "source": [
        "# New Section"
      ]
    },
    {
      "cell_type": "markdown",
      "metadata": {
        "id": "csJQ7_MIhcR4",
        "colab_type": "text"
      },
      "source": [
        "# New Section"
      ]
    },
    {
      "cell_type": "markdown",
      "metadata": {
        "id": "QqQrXt_ehq7X",
        "colab_type": "text"
      },
      "source": [
        "# New Section"
      ]
    },
    {
      "cell_type": "markdown",
      "metadata": {
        "id": "97bT3v55h5k3",
        "colab_type": "text"
      },
      "source": [
        "# New Section"
      ]
    },
    {
      "cell_type": "markdown",
      "metadata": {
        "id": "dah4_KHSiIOX",
        "colab_type": "text"
      },
      "source": [
        "# New Section"
      ]
    },
    {
      "cell_type": "markdown",
      "metadata": {
        "id": "05fJfsH-iW36",
        "colab_type": "text"
      },
      "source": [
        "# New Section"
      ]
    },
    {
      "cell_type": "markdown",
      "metadata": {
        "id": "6KVt-L5milhb",
        "colab_type": "text"
      },
      "source": [
        "# New Section"
      ]
    },
    {
      "cell_type": "markdown",
      "metadata": {
        "id": "sXcQhKCti0K5",
        "colab_type": "text"
      },
      "source": [
        "# New Section"
      ]
    },
    {
      "cell_type": "markdown",
      "metadata": {
        "id": "xxEY7_gBjC0b",
        "colab_type": "text"
      },
      "source": [
        "# New Section"
      ]
    },
    {
      "cell_type": "markdown",
      "metadata": {
        "id": "MLnZncELjRd8",
        "colab_type": "text"
      },
      "source": [
        "# New Section"
      ]
    },
    {
      "cell_type": "markdown",
      "metadata": {
        "id": "lDn9xr7sjgHc",
        "colab_type": "text"
      },
      "source": [
        "# New Section"
      ]
    },
    {
      "cell_type": "markdown",
      "metadata": {
        "id": "1-HsFd8Mjuw8",
        "colab_type": "text"
      },
      "source": [
        "# New Section"
      ]
    },
    {
      "cell_type": "markdown",
      "metadata": {
        "id": "C8Ini2bFj9af",
        "colab_type": "text"
      },
      "source": [
        "# New Section"
      ]
    },
    {
      "cell_type": "markdown",
      "metadata": {
        "id": "owjOiNt-kMD8",
        "colab_type": "text"
      },
      "source": [
        "# New Section"
      ]
    },
    {
      "cell_type": "markdown",
      "metadata": {
        "id": "jkv-AOoVkate",
        "colab_type": "text"
      },
      "source": [
        "# New Section"
      ]
    },
    {
      "cell_type": "markdown",
      "metadata": {
        "id": "e0H1lk1tkpW-",
        "colab_type": "text"
      },
      "source": [
        "# New Section"
      ]
    },
    {
      "cell_type": "markdown",
      "metadata": {
        "id": "kOH_eiNuk4Ah",
        "colab_type": "text"
      },
      "source": [
        "# New Section"
      ]
    },
    {
      "cell_type": "markdown",
      "metadata": {
        "id": "nRLmJcuzlGp_",
        "colab_type": "text"
      },
      "source": [
        "# New Section"
      ]
    },
    {
      "cell_type": "markdown",
      "metadata": {
        "id": "YUHw2dJXlVTn",
        "colab_type": "text"
      },
      "source": [
        "# New Section"
      ]
    },
    {
      "cell_type": "markdown",
      "metadata": {
        "id": "PYR-JTqqlj8-",
        "colab_type": "text"
      },
      "source": [
        "# New Section"
      ]
    },
    {
      "cell_type": "markdown",
      "metadata": {
        "id": "iBxRGKHJlymj",
        "colab_type": "text"
      },
      "source": [
        "# New Section"
      ]
    },
    {
      "cell_type": "markdown",
      "metadata": {
        "id": "5J8eTq7emBQX",
        "colab_type": "text"
      },
      "source": [
        "# New Section"
      ]
    },
    {
      "cell_type": "markdown",
      "metadata": {
        "id": "4fud7W9emP5h",
        "colab_type": "text"
      },
      "source": [
        "# New Section"
      ]
    },
    {
      "cell_type": "markdown",
      "metadata": {
        "id": "9xDRAtmMmejD",
        "colab_type": "text"
      },
      "source": [
        "# New Section"
      ]
    },
    {
      "cell_type": "markdown",
      "metadata": {
        "id": "bREhQG7nmtMi",
        "colab_type": "text"
      },
      "source": [
        "# New Section"
      ]
    },
    {
      "cell_type": "markdown",
      "metadata": {
        "id": "SLGQ0aJVm72D",
        "colab_type": "text"
      },
      "source": [
        "# New Section"
      ]
    },
    {
      "cell_type": "markdown",
      "metadata": {
        "id": "CFkAJToWnKfy",
        "colab_type": "text"
      },
      "source": [
        "# New Section"
      ]
    },
    {
      "cell_type": "markdown",
      "metadata": {
        "id": "J2l4e-4xnZJF",
        "colab_type": "text"
      },
      "source": [
        "# New Section"
      ]
    },
    {
      "cell_type": "markdown",
      "metadata": {
        "id": "z9ZHMNx-nnyo",
        "colab_type": "text"
      },
      "source": [
        "# New Section"
      ]
    },
    {
      "cell_type": "markdown",
      "metadata": {
        "id": "5-1HfxK3n2cD",
        "colab_type": "text"
      },
      "source": [
        "# New Section"
      ]
    },
    {
      "cell_type": "markdown",
      "metadata": {
        "id": "DrBT__i2oFGB",
        "colab_type": "text"
      },
      "source": [
        "# New Section"
      ]
    },
    {
      "cell_type": "markdown",
      "metadata": {
        "id": "oTD3Ov1RoTvJ",
        "colab_type": "text"
      },
      "source": [
        "# New Section"
      ]
    },
    {
      "cell_type": "markdown",
      "metadata": {
        "id": "v5fIUTH6oiYq",
        "colab_type": "text"
      },
      "source": [
        "# New Section"
      ]
    },
    {
      "cell_type": "markdown",
      "metadata": {
        "id": "8TuKs75koxCH",
        "colab_type": "text"
      },
      "source": [
        "# New Section"
      ]
    },
    {
      "cell_type": "markdown",
      "metadata": {
        "id": "B1lHLTaYo_rl",
        "colab_type": "text"
      },
      "source": [
        "# New Section"
      ]
    },
    {
      "cell_type": "markdown",
      "metadata": {
        "id": "dPmMOFWWpOVI",
        "colab_type": "text"
      },
      "source": [
        "# New Section"
      ]
    },
    {
      "cell_type": "markdown",
      "metadata": {
        "id": "OkboUgtrpc-m",
        "colab_type": "text"
      },
      "source": [
        "# New Section"
      ]
    },
    {
      "cell_type": "markdown",
      "metadata": {
        "id": "ruCabZmiproI",
        "colab_type": "text"
      },
      "source": [
        "# New Section"
      ]
    },
    {
      "cell_type": "markdown",
      "metadata": {
        "id": "rw1vzaHip6Ro",
        "colab_type": "text"
      },
      "source": [
        "# New Section"
      ]
    },
    {
      "cell_type": "markdown",
      "metadata": {
        "id": "Pi6Lg-HZqI7H",
        "colab_type": "text"
      },
      "source": [
        "# New Section"
      ]
    },
    {
      "cell_type": "markdown",
      "metadata": {
        "id": "aJkVWafuqXko",
        "colab_type": "text"
      },
      "source": [
        "# New Section"
      ]
    },
    {
      "cell_type": "markdown",
      "metadata": {
        "id": "mIp2FYASqmOf",
        "colab_type": "text"
      },
      "source": [
        "# New Section"
      ]
    },
    {
      "cell_type": "markdown",
      "metadata": {
        "id": "d7Qcarf8q03s",
        "colab_type": "text"
      },
      "source": [
        "# New Section"
      ]
    },
    {
      "cell_type": "markdown",
      "metadata": {
        "id": "c2ngbDzzrDhK",
        "colab_type": "text"
      },
      "source": [
        "# New Section"
      ]
    },
    {
      "cell_type": "markdown",
      "metadata": {
        "id": "mjzlM8_VrSKr",
        "colab_type": "text"
      },
      "source": [
        "# New Section"
      ]
    },
    {
      "cell_type": "markdown",
      "metadata": {
        "id": "peSXrd-Trg0L",
        "colab_type": "text"
      },
      "source": [
        "# New Section"
      ]
    },
    {
      "cell_type": "markdown",
      "metadata": {
        "id": "O0RmL9Uqrvds",
        "colab_type": "text"
      },
      "source": [
        "# New Section"
      ]
    },
    {
      "cell_type": "markdown",
      "metadata": {
        "id": "pQpIxJPJr-HO",
        "colab_type": "text"
      },
      "source": [
        "# New Section"
      ]
    },
    {
      "cell_type": "markdown",
      "metadata": {
        "id": "-zS8nzILsMww",
        "colab_type": "text"
      },
      "source": [
        "# New Section"
      ]
    },
    {
      "cell_type": "markdown",
      "metadata": {
        "id": "riqKOuQzsbae",
        "colab_type": "text"
      },
      "source": [
        "# New Section"
      ]
    },
    {
      "cell_type": "markdown",
      "metadata": {
        "id": "6yK7o7nZsqEF",
        "colab_type": "text"
      },
      "source": [
        "# New Section"
      ]
    },
    {
      "cell_type": "markdown",
      "metadata": {
        "id": "HhOFGm65s4tY",
        "colab_type": "text"
      },
      "source": [
        "# New Section"
      ]
    },
    {
      "cell_type": "markdown",
      "metadata": {
        "id": "pMvinx60tHWu",
        "colab_type": "text"
      },
      "source": [
        "# New Section"
      ]
    },
    {
      "cell_type": "markdown",
      "metadata": {
        "id": "iRxxFZyrtWAO",
        "colab_type": "text"
      },
      "source": [
        "# New Section"
      ]
    },
    {
      "cell_type": "markdown",
      "metadata": {
        "id": "XsHP-Mq_tkpz",
        "colab_type": "text"
      },
      "source": [
        "# New Section"
      ]
    },
    {
      "cell_type": "markdown",
      "metadata": {
        "id": "s6Y2YsPItzTd",
        "colab_type": "text"
      },
      "source": [
        "# New Section"
      ]
    },
    {
      "cell_type": "markdown",
      "metadata": {
        "id": "kQ3lq1gxuB81",
        "colab_type": "text"
      },
      "source": [
        "# New Section"
      ]
    },
    {
      "cell_type": "markdown",
      "metadata": {
        "id": "mBhcUO4ruQmi",
        "colab_type": "text"
      },
      "source": [
        "# New Section"
      ]
    },
    {
      "cell_type": "markdown",
      "metadata": {
        "id": "iuB6SWcWufP3",
        "colab_type": "text"
      },
      "source": [
        "# New Section"
      ]
    },
    {
      "cell_type": "markdown",
      "metadata": {
        "id": "q64-duXAut5y",
        "colab_type": "text"
      },
      "source": [
        "# New Section"
      ]
    },
    {
      "cell_type": "markdown",
      "metadata": {
        "id": "PzKyFWMBu8i5",
        "colab_type": "text"
      },
      "source": [
        "# New Section"
      ]
    },
    {
      "cell_type": "markdown",
      "metadata": {
        "id": "6y5yjqqevLMW",
        "colab_type": "text"
      },
      "source": [
        "# New Section"
      ]
    },
    {
      "cell_type": "markdown",
      "metadata": {
        "id": "5p0oYQ0zvZ10",
        "colab_type": "text"
      },
      "source": [
        "# New Section"
      ]
    },
    {
      "cell_type": "markdown",
      "metadata": {
        "id": "ki0RWsQPvofU",
        "colab_type": "text"
      },
      "source": [
        "# New Section"
      ]
    },
    {
      "cell_type": "markdown",
      "metadata": {
        "id": "uuuK_DYtv3I0",
        "colab_type": "text"
      },
      "source": [
        "# New Section"
      ]
    },
    {
      "cell_type": "markdown",
      "metadata": {
        "id": "D3WdZ9JfwFyU",
        "colab_type": "text"
      },
      "source": [
        "# New Section"
      ]
    },
    {
      "cell_type": "markdown",
      "metadata": {
        "id": "rSy_QSYIwUb1",
        "colab_type": "text"
      },
      "source": [
        "# New Section"
      ]
    },
    {
      "cell_type": "markdown",
      "metadata": {
        "id": "CqCvgo8MwjFf",
        "colab_type": "text"
      },
      "source": [
        "# New Section"
      ]
    },
    {
      "cell_type": "markdown",
      "metadata": {
        "id": "XWqUsh-Ewxu7",
        "colab_type": "text"
      },
      "source": [
        "# New Section"
      ]
    },
    {
      "cell_type": "markdown",
      "metadata": {
        "id": "V47PEOc9xAYi",
        "colab_type": "text"
      },
      "source": [
        "# New Section"
      ]
    },
    {
      "cell_type": "markdown",
      "metadata": {
        "id": "CAl9TBt5xPCW",
        "colab_type": "text"
      },
      "source": [
        "# New Section"
      ]
    },
    {
      "cell_type": "markdown",
      "metadata": {
        "id": "KTVz5tEuxdrh",
        "colab_type": "text"
      },
      "source": [
        "# New Section"
      ]
    },
    {
      "cell_type": "markdown",
      "metadata": {
        "id": "bHbtP6EKxsVM",
        "colab_type": "text"
      },
      "source": [
        "# New Section"
      ]
    },
    {
      "cell_type": "markdown",
      "metadata": {
        "id": "2D7Poh90x6-a",
        "colab_type": "text"
      },
      "source": [
        "# New Section"
      ]
    },
    {
      "cell_type": "markdown",
      "metadata": {
        "id": "VAS0vXuWyJoA",
        "colab_type": "text"
      },
      "source": [
        "# New Section"
      ]
    },
    {
      "cell_type": "markdown",
      "metadata": {
        "id": "sOObgIWsyYRk",
        "colab_type": "text"
      },
      "source": [
        "# New Section"
      ]
    },
    {
      "cell_type": "markdown",
      "metadata": {
        "id": "xj1s9vnQym64",
        "colab_type": "text"
      },
      "source": [
        "# New Section"
      ]
    },
    {
      "cell_type": "markdown",
      "metadata": {
        "id": "WCxMpEI0y1ka",
        "colab_type": "text"
      },
      "source": [
        "# New Section"
      ]
    },
    {
      "cell_type": "markdown",
      "metadata": {
        "id": "SIl1HHVFzEOK",
        "colab_type": "text"
      },
      "source": [
        "# New Section"
      ]
    },
    {
      "cell_type": "markdown",
      "metadata": {
        "id": "3wmWael_zS3i",
        "colab_type": "text"
      },
      "source": [
        "# New Section"
      ]
    },
    {
      "cell_type": "markdown",
      "metadata": {
        "id": "36jHwNsvzhg-",
        "colab_type": "text"
      },
      "source": [
        "# New Section"
      ]
    },
    {
      "cell_type": "markdown",
      "metadata": {
        "id": "H-qcEU8EzwKu",
        "colab_type": "text"
      },
      "source": [
        "# New Section"
      ]
    },
    {
      "cell_type": "markdown",
      "metadata": {
        "id": "xNrwVDjMz-0B",
        "colab_type": "text"
      },
      "source": [
        "# New Section"
      ]
    },
    {
      "cell_type": "markdown",
      "metadata": {
        "id": "4dYPp3b40Nd5",
        "colab_type": "text"
      },
      "source": [
        "# New Section"
      ]
    },
    {
      "cell_type": "markdown",
      "metadata": {
        "id": "4e9SDxOE0cG-",
        "colab_type": "text"
      },
      "source": [
        "# New Section"
      ]
    },
    {
      "cell_type": "markdown",
      "metadata": {
        "id": "Ha5URxIv0qw0",
        "colab_type": "text"
      },
      "source": [
        "# New Section"
      ]
    },
    {
      "cell_type": "markdown",
      "metadata": {
        "id": "DHmkjqN805aH",
        "colab_type": "text"
      },
      "source": [
        "# New Section"
      ]
    },
    {
      "cell_type": "markdown",
      "metadata": {
        "id": "5PEeslfo1IDg",
        "colab_type": "text"
      },
      "source": [
        "# New Section"
      ]
    },
    {
      "cell_type": "markdown",
      "metadata": {
        "id": "YyYyV21X1WtX",
        "colab_type": "text"
      },
      "source": [
        "# New Section"
      ]
    },
    {
      "cell_type": "markdown",
      "metadata": {
        "id": "Lv513pgt1lWi",
        "colab_type": "text"
      },
      "source": [
        "# New Section"
      ]
    },
    {
      "cell_type": "markdown",
      "metadata": {
        "id": "BYulguXA10AD",
        "colab_type": "text"
      },
      "source": [
        "# New Section"
      ]
    },
    {
      "cell_type": "markdown",
      "metadata": {
        "id": "Hl1TkbdN2CqA",
        "colab_type": "text"
      },
      "source": [
        "# New Section"
      ]
    },
    {
      "cell_type": "markdown",
      "metadata": {
        "id": "JgcYFsT52RTD",
        "colab_type": "text"
      },
      "source": [
        "# New Section"
      ]
    },
    {
      "cell_type": "markdown",
      "metadata": {
        "id": "M-NIX6rO2f9C",
        "colab_type": "text"
      },
      "source": [
        "# New Section"
      ]
    },
    {
      "cell_type": "markdown",
      "metadata": {
        "id": "zq5d3wxL2umG",
        "colab_type": "text"
      },
      "source": [
        "# New Section"
      ]
    },
    {
      "cell_type": "markdown",
      "metadata": {
        "id": "cZY_mPa-29Pn",
        "colab_type": "text"
      },
      "source": [
        "# New Section"
      ]
    },
    {
      "cell_type": "markdown",
      "metadata": {
        "id": "qXxp8or03L5J",
        "colab_type": "text"
      },
      "source": [
        "# New Section"
      ]
    },
    {
      "cell_type": "markdown",
      "metadata": {
        "id": "_7bRC92y3aim",
        "colab_type": "text"
      },
      "source": [
        "# New Section"
      ]
    },
    {
      "cell_type": "markdown",
      "metadata": {
        "id": "iZRRYaF-3pMF",
        "colab_type": "text"
      },
      "source": [
        "# New Section"
      ]
    },
    {
      "cell_type": "markdown",
      "metadata": {
        "id": "fstn6pNH331z",
        "colab_type": "text"
      },
      "source": [
        "# New Section"
      ]
    },
    {
      "cell_type": "markdown",
      "metadata": {
        "id": "QVioLjZZ4Gff",
        "colab_type": "text"
      },
      "source": [
        "# New Section"
      ]
    },
    {
      "cell_type": "markdown",
      "metadata": {
        "id": "61-TFckM4VIo",
        "colab_type": "text"
      },
      "source": [
        "# New Section"
      ]
    },
    {
      "cell_type": "markdown",
      "metadata": {
        "id": "OLZZyu7F4jyG",
        "colab_type": "text"
      },
      "source": [
        "# New Section"
      ]
    },
    {
      "cell_type": "markdown",
      "metadata": {
        "id": "unyC9VcP4ybr",
        "colab_type": "text"
      },
      "source": [
        "# New Section"
      ]
    },
    {
      "cell_type": "markdown",
      "metadata": {
        "id": "did5HG935BFM",
        "colab_type": "text"
      },
      "source": [
        "# New Section"
      ]
    },
    {
      "cell_type": "markdown",
      "metadata": {
        "id": "BNHXopYi5Pu_",
        "colab_type": "text"
      },
      "source": [
        "# New Section"
      ]
    },
    {
      "cell_type": "markdown",
      "metadata": {
        "id": "CylqZ2IJ5eYL",
        "colab_type": "text"
      },
      "source": [
        "# New Section"
      ]
    },
    {
      "cell_type": "markdown",
      "metadata": {
        "id": "yvwcSl8y5tBq",
        "colab_type": "text"
      },
      "source": [
        "# New Section"
      ]
    },
    {
      "cell_type": "markdown",
      "metadata": {
        "id": "qEk_QaC357rK",
        "colab_type": "text"
      },
      "source": [
        "# New Section"
      ]
    },
    {
      "cell_type": "markdown",
      "metadata": {
        "id": "TsbZ-ghh6KUq",
        "colab_type": "text"
      },
      "source": [
        "# New Section"
      ]
    },
    {
      "cell_type": "markdown",
      "metadata": {
        "id": "DNA8i9Kt6Y-L",
        "colab_type": "text"
      },
      "source": [
        "# New Section"
      ]
    },
    {
      "cell_type": "markdown",
      "metadata": {
        "id": "5evnEP8d6nnr",
        "colab_type": "text"
      },
      "source": [
        "# New Section"
      ]
    },
    {
      "cell_type": "markdown",
      "metadata": {
        "id": "tMxGZoCd62RN",
        "colab_type": "text"
      },
      "source": [
        "# New Section"
      ]
    },
    {
      "cell_type": "markdown",
      "metadata": {
        "id": "bpIAX6wc7E6v",
        "colab_type": "text"
      },
      "source": [
        "# New Section"
      ]
    },
    {
      "cell_type": "markdown",
      "metadata": {
        "id": "OFIzBbGm7TkO",
        "colab_type": "text"
      },
      "source": [
        "# New Section"
      ]
    },
    {
      "cell_type": "markdown",
      "metadata": {
        "id": "7gvSv9ll7iNy",
        "colab_type": "text"
      },
      "source": [
        "# New Section"
      ]
    },
    {
      "cell_type": "markdown",
      "metadata": {
        "id": "O5pnOzkv7w3P",
        "colab_type": "text"
      },
      "source": [
        "# New Section"
      ]
    },
    {
      "cell_type": "markdown",
      "metadata": {
        "id": "p0mXVPkK7_gw",
        "colab_type": "text"
      },
      "source": [
        "# New Section"
      ]
    },
    {
      "cell_type": "markdown",
      "metadata": {
        "id": "AHg73SQP8OKO",
        "colab_type": "text"
      },
      "source": [
        "# New Section"
      ]
    },
    {
      "cell_type": "markdown",
      "metadata": {
        "id": "mWcM_xzW8czy",
        "colab_type": "text"
      },
      "source": [
        "# New Section"
      ]
    },
    {
      "cell_type": "markdown",
      "metadata": {
        "id": "iMGxTNwS8rdV",
        "colab_type": "text"
      },
      "source": [
        "# New Section"
      ]
    },
    {
      "cell_type": "markdown",
      "metadata": {
        "id": "XEd0dEzZ86Gz",
        "colab_type": "text"
      },
      "source": [
        "# New Section"
      ]
    },
    {
      "cell_type": "markdown",
      "metadata": {
        "id": "Oq8dNDWa9IwT",
        "colab_type": "text"
      },
      "source": [
        "# New Section"
      ]
    },
    {
      "cell_type": "markdown",
      "metadata": {
        "id": "EbIYYL0t9XZx",
        "colab_type": "text"
      },
      "source": [
        "# New Section"
      ]
    },
    {
      "cell_type": "markdown",
      "metadata": {
        "id": "dYk9jW8v9mDU",
        "colab_type": "text"
      },
      "source": [
        "# New Section"
      ]
    },
    {
      "cell_type": "markdown",
      "metadata": {
        "id": "ibv4mZ4890s2",
        "colab_type": "text"
      },
      "source": [
        "# New Section"
      ]
    },
    {
      "cell_type": "markdown",
      "metadata": {
        "id": "gPR7rQDV-DW2",
        "colab_type": "text"
      },
      "source": [
        "# New Section"
      ]
    },
    {
      "cell_type": "markdown",
      "metadata": {
        "id": "kM9hXyBE-R_2",
        "colab_type": "text"
      },
      "source": [
        "# New Section"
      ]
    },
    {
      "cell_type": "markdown",
      "metadata": {
        "id": "hTB2_DGJ-gpT",
        "colab_type": "text"
      },
      "source": [
        "# New Section"
      ]
    },
    {
      "cell_type": "markdown",
      "metadata": {
        "id": "1ukk4X_e-vSy",
        "colab_type": "text"
      },
      "source": [
        "# New Section"
      ]
    },
    {
      "cell_type": "markdown",
      "metadata": {
        "id": "MjfTeECo-982",
        "colab_type": "text"
      },
      "source": [
        "# New Section"
      ]
    },
    {
      "cell_type": "markdown",
      "metadata": {
        "id": "e6D7YCd1_Ml0",
        "colab_type": "text"
      },
      "source": [
        "# New Section"
      ]
    },
    {
      "cell_type": "markdown",
      "metadata": {
        "id": "PHiEmC5x_bPZ",
        "colab_type": "text"
      },
      "source": [
        "# New Section"
      ]
    },
    {
      "cell_type": "markdown",
      "metadata": {
        "id": "SwowKZ03_p44",
        "colab_type": "text"
      },
      "source": [
        "# New Section"
      ]
    },
    {
      "cell_type": "markdown",
      "metadata": {
        "id": "jfwy3wz6_4iV",
        "colab_type": "text"
      },
      "source": [
        "# New Section"
      ]
    },
    {
      "cell_type": "markdown",
      "metadata": {
        "id": "xp0PObztAHL4",
        "colab_type": "text"
      },
      "source": [
        "# New Section"
      ]
    },
    {
      "cell_type": "markdown",
      "metadata": {
        "id": "B5iWOXCFAV1b",
        "colab_type": "text"
      },
      "source": [
        "# New Section"
      ]
    },
    {
      "cell_type": "markdown",
      "metadata": {
        "id": "mtsFOvwsAke5",
        "colab_type": "text"
      },
      "source": [
        "# New Section"
      ]
    },
    {
      "cell_type": "markdown",
      "metadata": {
        "id": "pN2V-_uSAzIZ",
        "colab_type": "text"
      },
      "source": [
        "# New Section"
      ]
    },
    {
      "cell_type": "markdown",
      "metadata": {
        "id": "f2ZaODCJBBx5",
        "colab_type": "text"
      },
      "source": [
        "# New Section"
      ]
    },
    {
      "cell_type": "markdown",
      "metadata": {
        "id": "P_oO9-Z_BQba",
        "colab_type": "text"
      },
      "source": [
        "# New Section"
      ]
    },
    {
      "cell_type": "markdown",
      "metadata": {
        "id": "xB0Nf6YEBfE9",
        "colab_type": "text"
      },
      "source": [
        "# New Section"
      ]
    },
    {
      "cell_type": "markdown",
      "metadata": {
        "id": "StrFfCTrBtud",
        "colab_type": "text"
      },
      "source": [
        "# New Section"
      ]
    },
    {
      "cell_type": "markdown",
      "metadata": {
        "id": "gPhyxFSvB8X-",
        "colab_type": "text"
      },
      "source": [
        "# New Section"
      ]
    },
    {
      "cell_type": "markdown",
      "metadata": {
        "id": "-EaUslh3CLBg",
        "colab_type": "text"
      },
      "source": [
        "# New Section"
      ]
    },
    {
      "cell_type": "markdown",
      "metadata": {
        "id": "j7SmKsQ9CZq_",
        "colab_type": "text"
      },
      "source": [
        "# New Section"
      ]
    },
    {
      "cell_type": "markdown",
      "metadata": {
        "id": "csckkEgnCoUd",
        "colab_type": "text"
      },
      "source": [
        "# New Section"
      ]
    },
    {
      "cell_type": "markdown",
      "metadata": {
        "id": "4jal1kg7C298",
        "colab_type": "text"
      },
      "source": [
        "# New Section"
      ]
    },
    {
      "cell_type": "markdown",
      "metadata": {
        "id": "UkEwDP3IDFnf",
        "colab_type": "text"
      },
      "source": [
        "# New Section"
      ]
    },
    {
      "cell_type": "markdown",
      "metadata": {
        "id": "eT1S3Vv8DURA",
        "colab_type": "text"
      },
      "source": [
        "# New Section"
      ]
    },
    {
      "cell_type": "markdown",
      "metadata": {
        "id": "EwRM-hbnDi6e",
        "colab_type": "text"
      },
      "source": [
        "# New Section"
      ]
    },
    {
      "cell_type": "markdown",
      "metadata": {
        "id": "i_VOkcmfDxkB",
        "colab_type": "text"
      },
      "source": [
        "# New Section"
      ]
    },
    {
      "cell_type": "markdown",
      "metadata": {
        "id": "wadWHOwfEANf",
        "colab_type": "text"
      },
      "source": [
        "# New Section"
      ]
    },
    {
      "cell_type": "markdown",
      "metadata": {
        "id": "SMvZMtynEO3C",
        "colab_type": "text"
      },
      "source": [
        "# New Section"
      ]
    },
    {
      "cell_type": "markdown",
      "metadata": {
        "id": "XD9Wtt47Edgh",
        "colab_type": "text"
      },
      "source": [
        "# New Section"
      ]
    },
    {
      "cell_type": "markdown",
      "metadata": {
        "id": "5aOq_cIhEsKB",
        "colab_type": "text"
      },
      "source": [
        "# New Section"
      ]
    },
    {
      "cell_type": "markdown",
      "metadata": {
        "id": "0icyjG9ZE6z5",
        "colab_type": "text"
      },
      "source": [
        "# New Section"
      ]
    },
    {
      "cell_type": "markdown",
      "metadata": {
        "id": "uXvSzObyFJdE",
        "colab_type": "text"
      },
      "source": [
        "# New Section"
      ]
    },
    {
      "cell_type": "markdown",
      "metadata": {
        "id": "WwvtS2tSFYGj",
        "colab_type": "text"
      },
      "source": [
        "# New Section"
      ]
    },
    {
      "cell_type": "markdown",
      "metadata": {
        "id": "VuUGMjqiFmwD",
        "colab_type": "text"
      },
      "source": [
        "# New Section"
      ]
    },
    {
      "cell_type": "markdown",
      "metadata": {
        "id": "ZW6lRFESF1Zk",
        "colab_type": "text"
      },
      "source": [
        "# New Section"
      ]
    },
    {
      "cell_type": "markdown",
      "metadata": {
        "id": "6oN9VaC-GEDH",
        "colab_type": "text"
      },
      "source": [
        "# New Section"
      ]
    },
    {
      "cell_type": "markdown",
      "metadata": {
        "id": "5UbI6-sCGSsl",
        "colab_type": "text"
      },
      "source": [
        "# New Section"
      ]
    },
    {
      "cell_type": "markdown",
      "metadata": {
        "id": "MVn85g5MGhWF",
        "colab_type": "text"
      },
      "source": [
        "# New Section"
      ]
    },
    {
      "cell_type": "markdown",
      "metadata": {
        "id": "N7_YyldNGv_l",
        "colab_type": "text"
      },
      "source": [
        "# New Section"
      ]
    },
    {
      "cell_type": "markdown",
      "metadata": {
        "id": "NWgYBHGNG-pG",
        "colab_type": "text"
      },
      "source": [
        "# New Section"
      ]
    },
    {
      "cell_type": "markdown",
      "metadata": {
        "id": "0PHDuOuOHNSp",
        "colab_type": "text"
      },
      "source": [
        "# New Section"
      ]
    },
    {
      "cell_type": "markdown",
      "metadata": {
        "id": "os5DdE08Hb8I",
        "colab_type": "text"
      },
      "source": [
        "# New Section"
      ]
    },
    {
      "cell_type": "markdown",
      "metadata": {
        "id": "YFs9u_7ZHqlr",
        "colab_type": "text"
      },
      "source": [
        "# New Section"
      ]
    },
    {
      "cell_type": "markdown",
      "metadata": {
        "id": "rW0DdChYH5PI",
        "colab_type": "text"
      },
      "source": [
        "# New Section"
      ]
    },
    {
      "cell_type": "markdown",
      "metadata": {
        "id": "Ly4XSGfAIH4o",
        "colab_type": "text"
      },
      "source": [
        "# New Section"
      ]
    },
    {
      "cell_type": "markdown",
      "metadata": {
        "id": "FqqNpw3AIWiI",
        "colab_type": "text"
      },
      "source": [
        "# New Section"
      ]
    },
    {
      "cell_type": "markdown",
      "metadata": {
        "id": "I6uQO6HVIlLs",
        "colab_type": "text"
      },
      "source": [
        "# New Section"
      ]
    },
    {
      "cell_type": "markdown",
      "metadata": {
        "id": "8krnLmzSIz1J",
        "colab_type": "text"
      },
      "source": [
        "# New Section"
      ]
    },
    {
      "cell_type": "markdown",
      "metadata": {
        "id": "NUsJ9J_fJCeu",
        "colab_type": "text"
      },
      "source": [
        "# New Section"
      ]
    },
    {
      "cell_type": "markdown",
      "metadata": {
        "id": "YGGXE4N8JRIK",
        "colab_type": "text"
      },
      "source": [
        "# New Section"
      ]
    },
    {
      "cell_type": "markdown",
      "metadata": {
        "id": "Rgq0gdcnJfxw",
        "colab_type": "text"
      },
      "source": [
        "# New Section"
      ]
    },
    {
      "cell_type": "markdown",
      "metadata": {
        "id": "VuTnU2cHJubO",
        "colab_type": "text"
      },
      "source": [
        "# New Section"
      ]
    },
    {
      "cell_type": "markdown",
      "metadata": {
        "id": "Bre1ap9NJ9Es",
        "colab_type": "text"
      },
      "source": [
        "# New Section"
      ]
    },
    {
      "cell_type": "markdown",
      "metadata": {
        "id": "dNn02tytKLuL",
        "colab_type": "text"
      },
      "source": [
        "# New Section"
      ]
    },
    {
      "cell_type": "markdown",
      "metadata": {
        "id": "v2XqS0cpKaXt",
        "colab_type": "text"
      },
      "source": [
        "# New Section"
      ]
    },
    {
      "cell_type": "markdown",
      "metadata": {
        "id": "v15ElJKfKpBQ",
        "colab_type": "text"
      },
      "source": [
        "# New Section"
      ]
    },
    {
      "cell_type": "markdown",
      "metadata": {
        "id": "3Vygq9nTK3qu",
        "colab_type": "text"
      },
      "source": [
        "# New Section"
      ]
    },
    {
      "cell_type": "markdown",
      "metadata": {
        "id": "DEbq4CTvLGUQ",
        "colab_type": "text"
      },
      "source": [
        "# New Section"
      ]
    },
    {
      "cell_type": "markdown",
      "metadata": {
        "id": "jQNpGyJVLU9y",
        "colab_type": "text"
      },
      "source": [
        "# New Section"
      ]
    },
    {
      "cell_type": "markdown",
      "metadata": {
        "id": "HN_cs6NvLjnS",
        "colab_type": "text"
      },
      "source": [
        "# New Section"
      ]
    },
    {
      "cell_type": "markdown",
      "metadata": {
        "id": "P3Nf85F5LyQz",
        "colab_type": "text"
      },
      "source": [
        "# New Section"
      ]
    },
    {
      "cell_type": "markdown",
      "metadata": {
        "id": "uksZTvMOMA6Q",
        "colab_type": "text"
      },
      "source": [
        "# New Section"
      ]
    },
    {
      "cell_type": "markdown",
      "metadata": {
        "id": "gFHsubs4MPjx",
        "colab_type": "text"
      },
      "source": [
        "# New Section"
      ]
    },
    {
      "cell_type": "markdown",
      "metadata": {
        "id": "pCxoP8RpMeNq",
        "colab_type": "text"
      },
      "source": [
        "# New Section"
      ]
    },
    {
      "cell_type": "markdown",
      "metadata": {
        "id": "CSJlmvJfMs2x",
        "colab_type": "text"
      },
      "source": [
        "# New Section"
      ]
    },
    {
      "cell_type": "markdown",
      "metadata": {
        "id": "Fgv3MfDkM7gP",
        "colab_type": "text"
      },
      "source": [
        "# New Section"
      ]
    },
    {
      "cell_type": "markdown",
      "metadata": {
        "id": "Vvbl-1LrNKJy",
        "colab_type": "text"
      },
      "source": [
        "# New Section"
      ]
    },
    {
      "cell_type": "markdown",
      "metadata": {
        "id": "Pn4GY2ZCNYzS",
        "colab_type": "text"
      },
      "source": [
        "# New Section"
      ]
    },
    {
      "cell_type": "markdown",
      "metadata": {
        "id": "41ZZy120Nncz",
        "colab_type": "text"
      },
      "source": [
        "# New Section"
      ]
    },
    {
      "cell_type": "markdown",
      "metadata": {
        "id": "xiHY2L2VN2GS",
        "colab_type": "text"
      },
      "source": [
        "# New Section"
      ]
    },
    {
      "cell_type": "markdown",
      "metadata": {
        "id": "PwjwJ9DoOEv0",
        "colab_type": "text"
      },
      "source": [
        "# New Section"
      ]
    },
    {
      "cell_type": "markdown",
      "metadata": {
        "id": "9CCEArZrOTZX",
        "colab_type": "text"
      },
      "source": [
        "# New Section"
      ]
    },
    {
      "cell_type": "markdown",
      "metadata": {
        "id": "i2IW4GZ2OiC2",
        "colab_type": "text"
      },
      "source": [
        "# New Section"
      ]
    },
    {
      "cell_type": "markdown",
      "metadata": {
        "id": "phY_dwfZOwsy",
        "colab_type": "text"
      },
      "source": [
        "# New Section"
      ]
    },
    {
      "cell_type": "markdown",
      "metadata": {
        "id": "oCpGg6kkO_V3",
        "colab_type": "text"
      },
      "source": [
        "# New Section"
      ]
    },
    {
      "cell_type": "markdown",
      "metadata": {
        "id": "qCjcRRPtPN_b",
        "colab_type": "text"
      },
      "source": [
        "# New Section"
      ]
    },
    {
      "cell_type": "markdown",
      "metadata": {
        "id": "QRy8DWo_Pco6",
        "colab_type": "text"
      },
      "source": [
        "# New Section"
      ]
    },
    {
      "cell_type": "markdown",
      "metadata": {
        "id": "AVg_FWTmPrSY",
        "colab_type": "text"
      },
      "source": [
        "# New Section"
      ]
    },
    {
      "cell_type": "markdown",
      "metadata": {
        "id": "2vywnPY3P578",
        "colab_type": "text"
      },
      "source": [
        "# New Section"
      ]
    },
    {
      "cell_type": "markdown",
      "metadata": {
        "id": "yGnDTYPuQIlc",
        "colab_type": "text"
      },
      "source": [
        "# New Section"
      ]
    },
    {
      "cell_type": "markdown",
      "metadata": {
        "id": "fusOhAtGQXO6",
        "colab_type": "text"
      },
      "source": [
        "# New Section"
      ]
    },
    {
      "cell_type": "markdown",
      "metadata": {
        "id": "YjVNc-T2Ql4Z",
        "colab_type": "text"
      },
      "source": [
        "# New Section"
      ]
    },
    {
      "cell_type": "markdown",
      "metadata": {
        "id": "o6-aofSdQ0h7",
        "colab_type": "text"
      },
      "source": [
        "# New Section"
      ]
    },
    {
      "cell_type": "markdown",
      "metadata": {
        "id": "Il0WY2pARDLc",
        "colab_type": "text"
      },
      "source": [
        "# New Section"
      ]
    },
    {
      "cell_type": "markdown",
      "metadata": {
        "id": "XzMwMf-iRR07",
        "colab_type": "text"
      },
      "source": [
        "# New Section"
      ]
    },
    {
      "cell_type": "markdown",
      "metadata": {
        "id": "MBqoY5j6Rgec",
        "colab_type": "text"
      },
      "source": [
        "# New Section"
      ]
    },
    {
      "cell_type": "markdown",
      "metadata": {
        "id": "rL7e076kRvH8",
        "colab_type": "text"
      },
      "source": [
        "# New Section"
      ]
    },
    {
      "cell_type": "markdown",
      "metadata": {
        "id": "M5TG96dfR9xi",
        "colab_type": "text"
      },
      "source": [
        "# New Section"
      ]
    },
    {
      "cell_type": "markdown",
      "metadata": {
        "id": "m8wGD64xSMa_",
        "colab_type": "text"
      },
      "source": [
        "# New Section"
      ]
    },
    {
      "cell_type": "markdown",
      "metadata": {
        "id": "HcgfvH0ySbEe",
        "colab_type": "text"
      },
      "source": [
        "# New Section"
      ]
    },
    {
      "cell_type": "markdown",
      "metadata": {
        "id": "bx6zh8LJSpt-",
        "colab_type": "text"
      },
      "source": [
        "# New Section"
      ]
    },
    {
      "cell_type": "markdown",
      "metadata": {
        "id": "4zBmi-64S4Xi",
        "colab_type": "text"
      },
      "source": [
        "# New Section"
      ]
    },
    {
      "cell_type": "markdown",
      "metadata": {
        "id": "slAzg84VTHA_",
        "colab_type": "text"
      },
      "source": [
        "# New Section"
      ]
    },
    {
      "cell_type": "markdown",
      "metadata": {
        "id": "IX8MGroSTVqi",
        "colab_type": "text"
      },
      "source": [
        "# New Section"
      ]
    },
    {
      "cell_type": "markdown",
      "metadata": {
        "id": "9Cu7VVMoTkUB",
        "colab_type": "text"
      },
      "source": [
        "# New Section"
      ]
    },
    {
      "cell_type": "markdown",
      "metadata": {
        "id": "W4DIJAu1Ty9i",
        "colab_type": "text"
      },
      "source": [
        "# New Section"
      ]
    },
    {
      "cell_type": "markdown",
      "metadata": {
        "id": "Y-4Z-wYYUBnE",
        "colab_type": "text"
      },
      "source": [
        "# New Section"
      ]
    },
    {
      "cell_type": "markdown",
      "metadata": {
        "id": "wso9eo6PUQQi",
        "colab_type": "text"
      },
      "source": [
        "# New Section"
      ]
    },
    {
      "cell_type": "markdown",
      "metadata": {
        "id": "EVbQuenjUe6C",
        "colab_type": "text"
      },
      "source": [
        "# New Section"
      ]
    },
    {
      "cell_type": "markdown",
      "metadata": {
        "id": "NNpDWZ3RUtjm",
        "colab_type": "text"
      },
      "source": [
        "# New Section"
      ]
    },
    {
      "cell_type": "markdown",
      "metadata": {
        "id": "aaexY8bqU8NE",
        "colab_type": "text"
      },
      "source": [
        "# New Section"
      ]
    },
    {
      "cell_type": "markdown",
      "metadata": {
        "id": "CZGTactvVK2m",
        "colab_type": "text"
      },
      "source": [
        "# New Section"
      ]
    },
    {
      "cell_type": "markdown",
      "metadata": {
        "id": "Tm9nEn1bVZgE",
        "colab_type": "text"
      },
      "source": [
        "# New Section"
      ]
    },
    {
      "cell_type": "markdown",
      "metadata": {
        "id": "oqejpZJgVoJn",
        "colab_type": "text"
      },
      "source": [
        "# New Section"
      ]
    },
    {
      "cell_type": "markdown",
      "metadata": {
        "id": "dq8EoJxCV2zH",
        "colab_type": "text"
      },
      "source": [
        "# New Section"
      ]
    },
    {
      "cell_type": "markdown",
      "metadata": {
        "id": "ZMEVkYz2WFco",
        "colab_type": "text"
      },
      "source": [
        "# New Section"
      ]
    },
    {
      "cell_type": "markdown",
      "metadata": {
        "id": "cctO_YQyWUGG",
        "colab_type": "text"
      },
      "source": [
        "# New Section"
      ]
    },
    {
      "cell_type": "markdown",
      "metadata": {
        "id": "4t_wH6sQWivp",
        "colab_type": "text"
      },
      "source": [
        "# New Section"
      ]
    },
    {
      "cell_type": "markdown",
      "metadata": {
        "id": "QuoZpiREWxZH",
        "colab_type": "text"
      },
      "source": [
        "# New Section"
      ]
    },
    {
      "cell_type": "markdown",
      "metadata": {
        "id": "kYEbdjvcXACq",
        "colab_type": "text"
      },
      "source": [
        "# New Section"
      ]
    },
    {
      "cell_type": "markdown",
      "metadata": {
        "id": "_2S-HbRKXOsR",
        "colab_type": "text"
      },
      "source": [
        "# New Section"
      ]
    },
    {
      "cell_type": "markdown",
      "metadata": {
        "id": "BeZy8W3pXdVr",
        "colab_type": "text"
      },
      "source": [
        "# New Section"
      ]
    },
    {
      "cell_type": "markdown",
      "metadata": {
        "id": "oXyAasIJXr_J",
        "colab_type": "text"
      },
      "source": [
        "# New Section"
      ]
    },
    {
      "cell_type": "markdown",
      "metadata": {
        "id": "hsKPf3_NX6oq",
        "colab_type": "text"
      },
      "source": [
        "# New Section"
      ]
    },
    {
      "cell_type": "markdown",
      "metadata": {
        "id": "rmRfcFBnYJSK",
        "colab_type": "text"
      },
      "source": [
        "# New Section"
      ]
    },
    {
      "cell_type": "markdown",
      "metadata": {
        "id": "9ilsYezqYX7v",
        "colab_type": "text"
      },
      "source": [
        "# New Section"
      ]
    },
    {
      "cell_type": "markdown",
      "metadata": {
        "id": "0nuktJqnYmlL",
        "colab_type": "text"
      },
      "source": [
        "# New Section"
      ]
    },
    {
      "cell_type": "markdown",
      "metadata": {
        "id": "yvTo-aecY1Ov",
        "colab_type": "text"
      },
      "source": [
        "# New Section"
      ]
    },
    {
      "cell_type": "markdown",
      "metadata": {
        "id": "C6QI2Cf1ZD4Q",
        "colab_type": "text"
      },
      "source": [
        "# New Section"
      ]
    },
    {
      "cell_type": "markdown",
      "metadata": {
        "id": "r2_ygxWEZShs",
        "colab_type": "text"
      },
      "source": [
        "# New Section"
      ]
    },
    {
      "cell_type": "markdown",
      "metadata": {
        "id": "AID22nojZhLN",
        "colab_type": "text"
      },
      "source": [
        "# New Section"
      ]
    },
    {
      "cell_type": "markdown",
      "metadata": {
        "id": "i9FGuCEhZv0w",
        "colab_type": "text"
      },
      "source": [
        "# New Section"
      ]
    },
    {
      "cell_type": "markdown",
      "metadata": {
        "id": "qrNO_J_6Z-eP",
        "colab_type": "text"
      },
      "source": [
        "# New Section"
      ]
    },
    {
      "cell_type": "markdown",
      "metadata": {
        "id": "qXp3a3iCaNHx",
        "colab_type": "text"
      },
      "source": [
        "# New Section"
      ]
    },
    {
      "cell_type": "markdown",
      "metadata": {
        "id": "7niM8h4ZabxR",
        "colab_type": "text"
      },
      "source": [
        "# New Section"
      ]
    },
    {
      "cell_type": "markdown",
      "metadata": {
        "id": "7xxvtQAPaqay",
        "colab_type": "text"
      },
      "source": [
        "# New Section"
      ]
    },
    {
      "cell_type": "markdown",
      "metadata": {
        "id": "NHneL0_5a5EP",
        "colab_type": "text"
      },
      "source": [
        "# New Section"
      ]
    },
    {
      "cell_type": "markdown",
      "metadata": {
        "id": "Hs2fFVmmbHtz",
        "colab_type": "text"
      },
      "source": [
        "# New Section"
      ]
    },
    {
      "cell_type": "markdown",
      "metadata": {
        "id": "N9XGYJU8bWXR",
        "colab_type": "text"
      },
      "source": [
        "# New Section"
      ]
    },
    {
      "cell_type": "markdown",
      "metadata": {
        "id": "187KaZKsblAx",
        "colab_type": "text"
      },
      "source": [
        "# New Section"
      ]
    },
    {
      "cell_type": "markdown",
      "metadata": {
        "id": "SkU2PqbHbzqS",
        "colab_type": "text"
      },
      "source": [
        "# New Section"
      ]
    },
    {
      "cell_type": "markdown",
      "metadata": {
        "id": "TihLFlh-cCTy",
        "colab_type": "text"
      },
      "source": [
        "# New Section"
      ]
    },
    {
      "cell_type": "markdown",
      "metadata": {
        "id": "_jjTuc9scQ9V",
        "colab_type": "text"
      },
      "source": [
        "# New Section"
      ]
    },
    {
      "cell_type": "markdown",
      "metadata": {
        "id": "dMSrUfklcfm1",
        "colab_type": "text"
      },
      "source": [
        "# New Section"
      ]
    },
    {
      "cell_type": "markdown",
      "metadata": {
        "id": "6CNhjodecuQW",
        "colab_type": "text"
      },
      "source": [
        "# New Section"
      ]
    },
    {
      "cell_type": "markdown",
      "metadata": {
        "id": "4bQV-vzqc85w",
        "colab_type": "text"
      },
      "source": [
        "# New Section"
      ]
    },
    {
      "cell_type": "markdown",
      "metadata": {
        "id": "4G_GfFovdLjV",
        "colab_type": "text"
      },
      "source": [
        "# New Section"
      ]
    },
    {
      "cell_type": "markdown",
      "metadata": {
        "id": "j6SLW30KdaM1",
        "colab_type": "text"
      },
      "source": [
        "# New Section"
      ]
    },
    {
      "cell_type": "markdown",
      "metadata": {
        "id": "Jji0gCEWdo2V",
        "colab_type": "text"
      },
      "source": [
        "# New Section"
      ]
    },
    {
      "cell_type": "markdown",
      "metadata": {
        "id": "tqnLKVTdd3f3",
        "colab_type": "text"
      },
      "source": [
        "# New Section"
      ]
    },
    {
      "cell_type": "markdown",
      "metadata": {
        "id": "m9NPXkeFeGJa",
        "colab_type": "text"
      },
      "source": [
        "# New Section"
      ]
    },
    {
      "cell_type": "markdown",
      "metadata": {
        "id": "zcThQ8wPeUy6",
        "colab_type": "text"
      },
      "source": [
        "# New Section"
      ]
    },
    {
      "cell_type": "markdown",
      "metadata": {
        "id": "PrlVYAxYejcc",
        "colab_type": "text"
      },
      "source": [
        "# New Section"
      ]
    },
    {
      "cell_type": "markdown",
      "metadata": {
        "id": "RfkHqLy3eyF4",
        "colab_type": "text"
      },
      "source": [
        "# New Section"
      ]
    },
    {
      "cell_type": "markdown",
      "metadata": {
        "id": "S8aXd6iffAve",
        "colab_type": "text"
      },
      "source": [
        "# New Section"
      ]
    },
    {
      "cell_type": "markdown",
      "metadata": {
        "id": "gnYreW_PfPY5",
        "colab_type": "text"
      },
      "source": [
        "# New Section"
      ]
    },
    {
      "cell_type": "markdown",
      "metadata": {
        "id": "DnmZFgXQfeCX",
        "colab_type": "text"
      },
      "source": [
        "# New Section"
      ]
    },
    {
      "cell_type": "markdown",
      "metadata": {
        "id": "ZVE1hJPefsr6",
        "colab_type": "text"
      },
      "source": [
        "# New Section"
      ]
    },
    {
      "cell_type": "markdown",
      "metadata": {
        "id": "_GUPzusDf7Vd",
        "colab_type": "text"
      },
      "source": [
        "# New Section"
      ]
    },
    {
      "cell_type": "markdown",
      "metadata": {
        "id": "vm1JnmixgJ-8",
        "colab_type": "text"
      },
      "source": [
        "# New Section"
      ]
    },
    {
      "cell_type": "markdown",
      "metadata": {
        "id": "BmsVyPK1gYoj",
        "colab_type": "text"
      },
      "source": [
        "# New Section"
      ]
    },
    {
      "cell_type": "markdown",
      "metadata": {
        "id": "7OoyvrdAgnR-",
        "colab_type": "text"
      },
      "source": [
        "# New Section"
      ]
    },
    {
      "cell_type": "markdown",
      "metadata": {
        "id": "6drxaq-1g17h",
        "colab_type": "text"
      },
      "source": [
        "# New Section"
      ]
    },
    {
      "cell_type": "markdown",
      "metadata": {
        "id": "GC1HXCqDhEk8",
        "colab_type": "text"
      },
      "source": [
        "# New Section"
      ]
    },
    {
      "cell_type": "markdown",
      "metadata": {
        "id": "5oLxAeSHhTOc",
        "colab_type": "text"
      },
      "source": [
        "# New Section"
      ]
    },
    {
      "cell_type": "markdown",
      "metadata": {
        "id": "EQvxHw16hh4A",
        "colab_type": "text"
      },
      "source": [
        "# New Section"
      ]
    },
    {
      "cell_type": "markdown",
      "metadata": {
        "id": "HEZx8twdhwhb",
        "colab_type": "text"
      },
      "source": [
        "# New Section"
      ]
    },
    {
      "cell_type": "markdown",
      "metadata": {
        "id": "7VD_lOXvh_K_",
        "colab_type": "text"
      },
      "source": [
        "# New Section"
      ]
    },
    {
      "cell_type": "markdown",
      "metadata": {
        "id": "FUEjbXU4iN0i",
        "colab_type": "text"
      },
      "source": [
        "# New Section"
      ]
    },
    {
      "cell_type": "markdown",
      "metadata": {
        "id": "5qjMY5RriceA",
        "colab_type": "text"
      },
      "source": [
        "# New Section"
      ]
    },
    {
      "cell_type": "markdown",
      "metadata": {
        "id": "_J7jI8IyirHf",
        "colab_type": "text"
      },
      "source": [
        "# New Section"
      ]
    },
    {
      "cell_type": "markdown",
      "metadata": {
        "id": "Qg6Vryyoi5xC",
        "colab_type": "text"
      },
      "source": [
        "# New Section"
      ]
    },
    {
      "cell_type": "markdown",
      "metadata": {
        "id": "H8Vdg6O_jIan",
        "colab_type": "text"
      },
      "source": [
        "# New Section"
      ]
    },
    {
      "cell_type": "markdown",
      "metadata": {
        "id": "59_sw2EDjXED",
        "colab_type": "text"
      },
      "source": [
        "# New Section"
      ]
    },
    {
      "cell_type": "markdown",
      "metadata": {
        "id": "mC9HBtOajlti",
        "colab_type": "text"
      },
      "source": [
        "# New Section"
      ]
    },
    {
      "cell_type": "markdown",
      "metadata": {
        "id": "0IYduhjQj0lU",
        "colab_type": "text"
      },
      "source": [
        "# New Section"
      ]
    },
    {
      "cell_type": "markdown",
      "metadata": {
        "id": "KR82dd3NkDO1",
        "colab_type": "text"
      },
      "source": [
        "# New Section"
      ]
    },
    {
      "cell_type": "markdown",
      "metadata": {
        "id": "-BtIRaegkR4b",
        "colab_type": "text"
      },
      "source": [
        "# New Section"
      ]
    }
  ]
}